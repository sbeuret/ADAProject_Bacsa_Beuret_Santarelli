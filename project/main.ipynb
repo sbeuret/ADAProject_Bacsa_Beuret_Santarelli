{
 "cells": [
  {
   "cell_type": "code",
   "execution_count": 2,
   "metadata": {
    "collapsed": true
   },
   "outputs": [],
   "source": [
    "import numpy as np\n",
    "import matplotlib.pyplot as plt\n",
    "import pandas as pd\n",
    "import os\n",
    "import re\n",
    "%matplotlib inline\n",
    "#np.set_printoptions(threshold=np.nan)"
   ]
  },
  {
   "cell_type": "code",
   "execution_count": 66,
   "metadata": {
    "collapsed": true
   },
   "outputs": [],
   "source": [
    "# crete_random_data(N=number of parties,M=number of communes)\n",
    "# for each commune, create a random percentage distribution for the list of parties\n",
    "\n",
    "def create_random_data(N,M):\n",
    "    ptab = 2 * np.random.rand(N)\n",
    "    tab = ptab[:,np.newaxis] + np.random.normal(0.0,0.5,(N,M))\n",
    "    #tab = 1 * np.random.rand(N, M)\n",
    "    tab = np.exp(tab)\n",
    "    stab = np.sum(tab, 0)\n",
    "    tab = tab / stab[None, :]\n",
    "    return tab\n",
    "\n",
    "#create_random_pop(M=number of communes)\n",
    "#for each commune create a random population\n",
    "\n",
    "def create_random_pop(M):\n",
    "    #pop = np.random.randint(1000,size=M)\n",
    "    pop = np.floor((np.random.pareto(1, size=M))*500)\n",
    "    return pop\n",
    "\n",
    "#vote(data=table with the percentage of each party for each canton,Nrepr=number of represent to elec for each canton)\n",
    "#compute the vote to get the number of representants per cantons (check the highest percentage give it a representant,\n",
    "#substract 1/Nrepr and repeat).\n",
    "\n",
    "def vote(data,Nrepr):\n",
    "    repr=np.zeros(data.shape)\n",
    "    for i in range(Nrepr):\n",
    "        maxi=np.argmax(data,0)\n",
    "\n",
    "        k = (maxi[:,None]==np.arange(data.shape[0])).transpose()\n",
    "        repr = repr + k.astype(int)\n",
    "        data[k]=data[k]-(1/Nrepr)\n",
    "\n",
    "    nan_tab = np.isnan(data)\n",
    "    repr[nan_tab]=0\n",
    "\n",
    "    return repr\n",
    "\n",
    "#compute_tab_K(tab=percentage of vote by parties and commune,pop=population of each commune,K_index=canton of each commune)\n",
    "#aggregate the vote per cantons\n",
    "\n",
    "def compute_tab_K(tab,pop,K_index,K):\n",
    "    K_full = (K_index[:, None] == np.arange(K))\n",
    "    tab_mult_by_pop = pop * tab\n",
    "    tab_sum = np.matmul(tab_mult_by_pop, K_full.astype(float))\n",
    "    K_sum = (pop * K_full.transpose()).sum(1)\n",
    "\n",
    "    final_tab = tab_sum/K_sum\n",
    "    #nan_tab = np.isnan(final_tab)\n",
    "    #final_tab[nan_tab]=0\n",
    "\n",
    "    return final_tab\n",
    "\n",
    "#reproduce(K_index1=canton for each commune (one repartition),K_index1=canton for each commune (another repartition))\n",
    "#create a new repartition given two (select randomly one element in each repartition)\n",
    "\n",
    "def reproduce_K(K_index1,K_index2):\n",
    "    choice=np.random.randint(2,size=K_index1.shape)\n",
    "    K_tot=np.stack([K_index1,K_index2],axis=1)\n",
    "    return(K_tot[choice[:,None]==np.arange(2)])\n",
    "\n",
    "#mute(K_index=canton per commune (one repartition),prob=probability to mute)\n",
    "#change to a commune to a random canton with probability prob\n",
    "\n",
    "def mute_K(K_index,K,prob):\n",
    "    choice=np.random.randint(K,size=K_index.shape)\n",
    "    change=(np.random.rand(K_index.shape[0])<prob).astype(int)\n",
    "    K_tot = np.stack([K_index, choice], axis=1);\n",
    "    return (K_tot[change[:,None]==np.arange(2)])\n",
    "\n",
    "\n",
    "\n",
    "def get_new_generation(K_index_list,N_parents,N_child_per_couple,prob,K):\n",
    "\n",
    "    child_list=[]\n",
    "\n",
    "    for i in range(N_parents):\n",
    "        for j in range(i+1,N_parents):\n",
    "            for k in range(N_child_per_couple):\n",
    "                child=reproduce_K(K_index_list[i],K_index_list[j])\n",
    "                child=mute_K(child,K,prob)\n",
    "                child_list.append(child)\n",
    "    return child_list\n",
    "\n",
    "\n",
    "def compute_loss(child_list,tab,pop,N_repr):\n",
    "    loss=[]\n",
    "    rloss=[]\n",
    "    for child in child_list:\n",
    "        repr=vote(compute_tab_K(tab,pop,child,K),N_repr)\n",
    "        repr_percent=(repr/(repr.sum().sum())).sum(1)\n",
    "        rloss.append(np.square(repr_percent-ground_truth).sum())\n",
    "        loss.append(np.square(repr_percent-ground_truth).sum() + 0.01 * np.linalg.norm((child[:, None] == np.arange(K)).sum(0)-(child[:, None] == np.arange(K)).sum(0).mean()))\n",
    "    return loss, rloss\n"
   ]
  },
  {
   "cell_type": "code",
   "execution_count": 3,
   "metadata": {
    "collapsed": true
   },
   "outputs": [],
   "source": [
    "#=============== variable generation parameters ===============\n",
    "N=15 #number of categories (parties)\n",
    "M=2200 #number of item (communes)\n",
    "#==============================================================\n",
    "\n",
    "#=============== model parameters =============================\n",
    "K=26 #number of cantons\n",
    "N_repr=2 #number of representant per canton\n",
    "#==============================================================\n",
    "\n",
    "#=============== optimization parameters =============\n",
    "N_parents=10\n",
    "N_iter=1000\n",
    "child_per_couple=2\n",
    "mute_probability=0.04\n",
    "#====================================================="
   ]
  },
  {
   "cell_type": "code",
   "execution_count": null,
   "metadata": {
    "collapsed": true
   },
   "outputs": [],
   "source": [
    "main_tab = create_random_data(N,M)\n",
    "main_pop = create_random_pop(M)\n",
    "ground_truth = (main_pop * main_tab).sum(1)/main_pop.sum()\n",
    "\n",
    "print(main_pop.sum())\n",
    "print(main_tab.sum().sum())\n",
    "print(ground_truth)\n",
    "\n",
    "\n",
    "parent_list = []\n",
    "for i in range(N_parents):\n",
    "    parent_list.append(np.random.randint(K,size=M))\n",
    "\n",
    "minloss=[]\n",
    "avgloss=[]\n",
    "\n",
    "for iter in range(N_iter):\n",
    "    child_list = get_new_generation(parent_list,N_parents,child_per_couple,mute_probability,K)\n",
    "\n",
    "    loss=np.array(compute_loss(child_list,main_tab,main_pop,N_repr))\n",
    "    minloss.append(loss.min())\n",
    "    avgloss.append(loss.mean())\n",
    "    idx = loss.argsort()[:N_parents]\n",
    "    parent_list=[child_list[i] for i in idx]\n",
    "\n",
    "\n",
    "print(minloss[-1])"
   ]
  },
  {
   "cell_type": "code",
   "execution_count": null,
   "metadata": {
    "collapsed": true
   },
   "outputs": [],
   "source": [
    "\n",
    "plt.plot(np.arange(0,N_iter,1),np.array(minloss))\n",
    "plt.plot(np.arange(0,N_iter,1),np.array(avgloss))\n",
    "plt.show()\n",
    "plt.hist(main_pop,bins=50)\n",
    "plt.show()"
   ]
  },
  {
   "cell_type": "code",
   "execution_count": 4,
   "metadata": {
    "collapsed": true
   },
   "outputs": [],
   "source": [
    "def load_party_data(path):\n",
    "    data=pd.read_excel(path)\n",
    "    data.drop([data.columns[0],data.columns[2],data.columns[3],data.columns[4]],1,inplace=True)\n",
    "    data.drop([0,1],0,inplace=True)\n",
    "    data.columns=['commune','party','percentage']\n",
    "    data=data.ffill()\n",
    "    data=data.groupby(['commune','party']).sum().unstack('party')\n",
    "    data2=data.reset_index()['percentage']\n",
    "    data2['commune']=data.reset_index()['commune']\n",
    "    return data2\n",
    "\n"
   ]
  },
  {
   "cell_type": "code",
   "execution_count": 5,
   "metadata": {},
   "outputs": [],
   "source": [
    "#load data\n",
    "data=load_party_data('data/partis_12prem_vote_2015.xlsx')\n",
    "data2=load_party_data('data/partis_12der_vote_2015.xlsx')\n",
    "#take only commune\n",
    "data=data[data['commune'].str.startswith('......')]\n",
    "data2=data2[data2['commune'].str.startswith('......')]\n",
    "data['commune']=data['commune'].str[7:]\n",
    "data2['commune']=data2['commune'].str[7:]\n",
    "#merge datasets\n",
    "data=pd.merge(data,data2,on='commune')\n",
    "#replace non-available parties with 0\n",
    "data.loc[:, data.columns != 'commune']=data.loc[:, data.columns != 'commune'].replace('...','0')\n",
    "#remove data from comming from correspondancies\n",
    "data=data[(data['commune'].str[:2]==(data['commune'].str.upper()).str[:2]) & (data['commune'].str[2]=='-') ==False]\n",
    "data.loc[:, data.columns != 'commune']=data.loc[:, data.columns != 'commune']\n",
    "data=data.set_index('commune')\n",
    "data.index=data.index.str.replace(re.escape(' (Urne commune)'),'')\n",
    "data=data.astype(float)\n",
    "data=data.sort_index()"
   ]
  },
  {
   "cell_type": "code",
   "execution_count": 6,
   "metadata": {
    "collapsed": true
   },
   "outputs": [],
   "source": [
    "data_tot=data.as_matrix()\n",
    "#data_tot=data_tot/data_tot.sum(1)[:,None]\n",
    "data_tot\n",
    "data.index.to_series()[data_tot.sum(1)==0]\n",
    "\n",
    "commune_with_no_vote=(data_tot.sum(1)==0)\n",
    "\n",
    "data_tot[commune_with_no_vote==False]=np.divide(data_tot[commune_with_no_vote==False],data_tot[commune_with_no_vote==False].sum(1)[:,None])\n",
    "\n",
    "data_tab=data_tot[commune_with_no_vote==False]\n"
   ]
  },
  {
   "cell_type": "code",
   "execution_count": 7,
   "metadata": {
    "collapsed": true
   },
   "outputs": [],
   "source": [
    "general=pd.read_excel('data/general_2015.xlsx')\n",
    "general=general[['Unnamed: 1','Unnamed: 9']]\n",
    "general.drop([0,1],0,inplace=True)\n",
    "general.columns=['commune','voters']\n",
    "#general=general[general['commune'].str.startswith('......')]\n",
    "general=general[general['commune'].str.startswith('......',na=False)]\n",
    "general['commune']=general['commune'].str[7:]\n",
    "general=general[(general['commune'].str[:2]==(general['commune'].str.upper()).str[:2]) & (general['commune'].str[2]=='-') ==False]\n",
    "general['voters']=general['voters'].replace('...','0')\n",
    "general['voters']=general['voters'].astype(int)\n",
    "general=general.set_index('commune')\n",
    "general=general.sort_index()\n"
   ]
  },
  {
   "cell_type": "code",
   "execution_count": 8,
   "metadata": {
    "collapsed": true
   },
   "outputs": [],
   "source": [
    "pop_tot=np.squeeze(general.as_matrix())\n",
    "pop_tab=pop_tot[commune_with_no_vote==False]\n",
    "#plt.hist(pop_tab,bins=50)"
   ]
  },
  {
   "cell_type": "code",
   "execution_count": 67,
   "metadata": {
    "collapsed": true
   },
   "outputs": [],
   "source": [
    "#=============== model parameters =============================\n",
    "K=26 #number of cantons\n",
    "N_repr=2 #number of representant per canton\n",
    "#==============================================================\n",
    "\n",
    "#=============== optimization parameters =============\n",
    "N_parents=15\n",
    "N_iter=100\n",
    "child_per_couple=1\n",
    "mute_probability=0.01\n",
    "#=====================================================\n",
    "\n",
    "ground_truth = (pop_tab * np.transpose(data_tab)).sum(1)/pop_tab.sum()\n",
    "\n",
    "parent_list = []\n",
    "for i in range(N_parents):\n",
    "    parent_list.append(np.random.randint(K,size=pop_tab.shape[0]))\n",
    "\n",
    "\n",
    "minloss=[]\n",
    "avgloss=[]\n",
    "\n",
    "\n",
    "minrloss=[]\n",
    "avgrloss=[]\n",
    "\n",
    "for iter in range(N_iter):\n",
    "    child_list = get_new_generation(parent_list,N_parents,child_per_couple,mute_probability,K)\n",
    "    \n",
    "    loss,rloss = compute_loss(child_list,np.transpose(data_tab),pop_tab,N_repr)\n",
    "    loss=np.array(loss)\n",
    "    rloss=np.array(rloss)\n",
    "    minloss.append(loss.min())\n",
    "    avgloss.append(loss.mean())\n",
    "    minrloss.append(rloss.min())\n",
    "    avgrloss.append(rloss.mean())\n",
    "    \n",
    "    idx = loss.argsort()[:N_parents]\n",
    "    parent_list=[child_list[i] for i in idx]"
   ]
  },
  {
   "cell_type": "code",
   "execution_count": 68,
   "metadata": {},
   "outputs": [
    {
     "data": {
      "text/plain": [
       "[<matplotlib.lines.Line2D at 0x7fc035f05710>]"
      ]
     },
     "execution_count": 68,
     "metadata": {},
     "output_type": "execute_result"
    },
    {
     "data": {
      "image/png": "[encoded data removed]",
      "text/plain": [
       "<matplotlib.figure.Figure at 0x7fc035f05748>"
      ]
     },
     "metadata": {},
     "output_type": "display_data"
    }
   ],
   "source": [
    "\n",
    "plt.plot(np.arange(0,N_iter,1),np.array(minrloss))\n",
    "plt.plot(np.arange(0,N_iter,1),np.array(avgrloss))"
   ]
  },
  {
   "cell_type": "code",
   "execution_count": 41,
   "metadata": {
    "collapsed": true
   },
   "outputs": [],
   "source": [
    "parent_list[0]\n",
    "lol=parent_list[0]"
   ]
  },
  {
   "cell_type": "code",
   "execution_count": 51,
   "metadata": {},
   "outputs": [
    {
     "data": {
      "text/plain": [
       "43.931765272977593"
      ]
     },
     "execution_count": 51,
     "metadata": {},
     "output_type": "execute_result"
    }
   ],
   "source": [
    "np.linalg.norm((lol[:, None] == np.arange(K)).sum(0)-(lol[:, None] == np.arange(K)).sum(0).mean())"
   ]
  },
  {
   "cell_type": "code",
   "execution_count": 63,
   "metadata": {},
   "outputs": [],
   "source": [
    "graph_data=pd.read_csv('graph_commune.csv')\n",
    "graph_data['municipality']\n",
    "#graph_data.set_index('municipality',drop=True,inplace=True)\n",
    "graph_data.columns=['index','neighbors indexes','municipality','neighbors']"
   ]
  },
  {
   "cell_type": "code",
   "execution_count": 64,
   "metadata": {},
   "outputs": [
    {
     "data": {
      "text/plain": [
       "0              Petit-Val\n",
       "1      Plateau de Diesse\n",
       "2            Ilanz/Glion\n",
       "3                  Sauge\n",
       "4         Péry-La Heutte\n",
       "5                Calanca\n",
       "6             Bettmeralp\n",
       "7               Valbirse\n",
       "8         Val-de-Charmey\n",
       "9        Arzier-Le Muids\n",
       "10            Schinznach\n",
       "11    Terre di Pedemonte\n",
       "12               Buchegg\n",
       "13             Domleschg\n",
       "14          Albula/Alvra\n",
       "15         Stocken-Höfen\n",
       "16              Bussigny\n",
       "dtype: object"
      ]
     },
     "execution_count": 64,
     "metadata": {},
     "output_type": "execute_result"
    }
   ],
   "source": [
    "common=pd.Series(list(set(data.index).intersection(set(graph_data['municipality']))))\n",
    "diff1=pd.Series(list(set(data.index)-set(common)))\n",
    "diff2=pd.Series(list(set(graph_data['municipality'])-set(common)))\n",
    "diff1"
   ]
  },
  {
   "cell_type": "code",
   "execution_count": 65,
   "metadata": {},
   "outputs": [
    {
     "name": "stdout",
     "output_type": "stream",
     "text": [
      "0                             Lac de Morat (VD)\n",
      "1                                Lac Léman (VD)\n",
      "2                                   Sternenberg\n",
      "3                                       Paspels\n",
      "4                                         Duvin\n",
      "5                                       Besazio\n",
      "6                                   Hessigkofen\n",
      "7                                    Cavigliano\n",
      "8                                      Scheunen\n",
      "9                               Staatswald Galm\n",
      "10                                     Sornetan\n",
      "11                                     Cimadera\n",
      "12                                       Arzier\n",
      "13                                   Alvaschein\n",
      "14                                   Tscheppach\n",
      "15                                      Pratval\n",
      "16                        Lac de Neuchâtel (FR)\n",
      "17                                   Martisberg\n",
      "18                                     Ruschein\n",
      "19                                        Luven\n",
      "20                        Lac de Neuchâtel (NE)\n",
      "21                        Hermetschwil-Staffeln\n",
      "22                                 Tiefencastel\n",
      "23                                       Diesse\n",
      "24                                     Malleray\n",
      "25                    Bleiken bei Oberdiessbach\n",
      "26                                       Souboz\n",
      "27                                        Bogno\n",
      "28                                        Selma\n",
      "29                                        Cauco\n",
      "30                                 Cerniat (FR)\n",
      "31                                Lago Maggiore\n",
      "32                                       Guarda\n",
      "33                                        Höfen\n",
      "34                                     Bévilard\n",
      "35                                   Aetigkofen\n",
      "36                                    La Heutte\n",
      "37              Comunanza Cadenazzo/Monteceneri\n",
      "38                                        Ladir\n",
      "39                                      Sonvico\n",
      "40                                     Aetingen\n",
      "41                                      Monible\n",
      "42                               Bielersee (BE)\n",
      "43                               Lago di Lugano\n",
      "44                                  Münchringen\n",
      "45                                       Mülchi\n",
      "46                        Lac de Neuchâtel (VD)\n",
      "47                                  Bertschikon\n",
      "48                                      Pitasch\n",
      "49                                        Rueun\n",
      "50                                  Bibern (SO)\n",
      "51                                         Siat\n",
      "52                                Unterendingen\n",
      "53                                        Ardez\n",
      "54                                    Vauffelin\n",
      "55                                       Pigniu\n",
      "56                               Mühledorf (SO)\n",
      "57                                  Kienersrüti\n",
      "58                                Bodensee (TG)\n",
      "59                                  Küttigkofen\n",
      "60                                  Oberstocken\n",
      "61                                      Limpach\n",
      "62                                Bodensee (SG)\n",
      "63                                       Meride\n",
      "64                                       Tomils\n",
      "65                                     Lamboing\n",
      "66                                    Gossliwil\n",
      "67                             Brienz/Brinzauls\n",
      "68                                     Pontenet\n",
      "69                       Bussigny-près-Lausanne\n",
      "70                                         Ftan\n",
      "71                                     Châtelat\n",
      "72                                       Surava\n",
      "73                                        Tegna\n",
      "74                              Schinznach-Dorf\n",
      "75                                       Arvigo\n",
      "76                                   Ligornetto\n",
      "77                                       Gadmen\n",
      "78                                       Betten\n",
      "79                                        Cadro\n",
      "80                                       Rodels\n",
      "81                               Lac Léman (VS)\n",
      "82                                Niederstocken\n",
      "83                                    Thunersee\n",
      "84                                        Riein\n",
      "85                                   Etzelkofen\n",
      "86                                        Lavin\n",
      "87                                        Susch\n",
      "88                                      Sevgein\n",
      "89                                    Schalunen\n",
      "90                                       Carona\n",
      "91                                       Prêles\n",
      "92                                      Alvaneu\n",
      "93                                  Brienzersee\n",
      "94                                     Valcolla\n",
      "95                                      Verscio\n",
      "96                                   St. Martin\n",
      "97                               Kyburg-Buchegg\n",
      "98                                        Ilanz\n",
      "99                                       Almens\n",
      "100                                 Zauggenried\n",
      "101    Kommunanz Reckingen-Gluringen/Grafschaft\n",
      "102                                         Mon\n",
      "103                                        Sent\n",
      "104                                      Tarasp\n",
      "105                              Bielersee (NE)\n",
      "106                                  Oberflachs\n",
      "107                                      Plagne\n",
      "108                                  Grafenried\n",
      "109                               Büren zum Hof\n",
      "110                                     Schnaus\n",
      "111                                     Certara\n",
      "112                                   Castrisch\n",
      "113                                    Brügglen\n",
      "114                                     Charmey\n",
      "115                                        Péry\n",
      "116                                     Stierva\n",
      "117                                     Braggio\n",
      "dtype: object\n"
     ]
    }
   ],
   "source": [
    "with pd.option_context('display.max_rows', None, 'display.max_columns', 3):\n",
    "    print(diff2)"
   ]
  },
  {
   "cell_type": "code",
   "execution_count": 71,
   "metadata": {},
   "outputs": [],
   "source": [
    "fusion=[['Valbirse','Malleray','Bévilard','Pontenet'],\n",
    "        ['Terre di Pedemonte','Cavigliano','Tegna','Verscio'],\n",
    "        ['Val-de-Charmey','Charmey','Cerniat (FR)'],\n",
    "        ['Sauge','Frinvillier','Plagne','Vauffelin'],\n",
    "        ['Buchegg','Aetigkofen','Aetingen','Bibern (SO)','Brügglen','Gossliwil','Hessigkofen','Küttigkofen','Kyburg-Buchegg','Mühledorf (SO)','Tscheppach'],\n",
    "        ['Domleschg','Almens','Paspels','Pratval','Rodels','Tomils'],\n",
    "        ['Petit-Val','Châtelat','Monible','Sornetan','Souboz'],\n",
    "        ['Ilanz/Glion','Castrisch','Ilanz','Ladir','Luven','Pitasch','Riein','Ruschein','Schnaus','Sevgein','Duvin','Pigniu','Rueun','Siat'],\n",
    "        ['Péry-La Heutte','Péry','La Heutte'],\n",
    "        ['Calanca','Arvigo','Braggio','Cauco','Selma'],\n",
    "        ['Bettmeralp','Betten','Martisberg'],\n",
    "        ['Arzier-Le Muids','Arzier'],\n",
    "        ['Schinznach','Schinznach-Dorf','Oberflachs'],\n",
    "        ['Albula/Alvra','Alvaschein','Mon','Stierva','Tiefencastel','Alvaneu','Brienz/Brinzauls','Surava'],\n",
    "        ['Bussigny','Bussigny-près-Lausanne'],\n",
    "        ['Stocken-Höfen','Niederstocken','Oberstocken','Höfen'],\n",
    "        ['Plateau de Diesse','Diesse','Lamboing','Prêles'],\n",
    "        ['Mendrisio','Besazio','Ligornetto','Meride'],\n",
    "        ['Lugano','Bogno','Cadro','Carona','Certara','Cimadera','Sonvico','Valcolla'],\n",
    "        ['Bauma','Sternenberg'],\n",
    "        ['Scuol','Guarda','Ardez','Tarasp','Ftan','Sent'],\n",
    "        ['Jegenstorf','Scheunen','Münchringen'],\n",
    "        ['Fraubrunnen','Büren zum Hof','Etzelkofen','Grafenried','Limpach','Mülchi','Schalunen','Zauggenried'],\n",
    "        ['Murten','Staatswald Galm'],\n",
    "        ['Grafschaft','Kommunanz Reckingen-Gluringen/Grafschaft'],\n",
    "        ['Cadenazzo','Comunanza Cadenazzo/Monteceneri'],\n",
    "        ['Wiesendangen','Bertschikon'],\n",
    "        ['Innertkirchen','Gadmen'],\n",
    "        ['Endingen','Unterendingen'],\n",
    "        ['Uttigen','Kienersrüti'],\n",
    "        ['Bremgarten (AG)','Bremgarten','Hermetschwil-Staffeln'],\n",
    "        ['Zernez','Lavin','Susch'],\n",
    "        ['Oberdiessbach','Bleiken bei Oberdiessbach'],\n",
    "        ['Vals','St. Martin']\n",
    "]\n"
   ]
  },
  {
   "cell_type": "code",
   "execution_count": 72,
   "metadata": {},
   "outputs": [
    {
     "name": "stderr",
     "output_type": "stream",
     "text": [
      "/home/samuel/anaconda3/lib/python3.6/site-packages/ipykernel_launcher.py:4: SettingWithCopyWarning: \n",
      "A value is trying to be set on a copy of a slice from a DataFrame\n",
      "\n",
      "See the caveats in the documentation: http://pandas.pydata.org/pandas-docs/stable/indexing.html#indexing-view-versus-copy\n",
      "  after removing the cwd from sys.path.\n"
     ]
    }
   ],
   "source": [
    "graph_data2=graph_data\n",
    "\n",
    "for elem in fusion:\n",
    "    graph_data2['municipality'][graph_data['municipality'].isin(elem[1:])]=elem[0]"
   ]
  },
  {
   "cell_type": "code",
   "execution_count": 68,
   "metadata": {},
   "outputs": [
    {
     "data": {
      "text/plain": [
       "Series([], dtype: float64)"
      ]
     },
     "execution_count": 68,
     "metadata": {},
     "output_type": "execute_result"
    }
   ],
   "source": [
    "#print(graph_data2['municipality'])\n",
    "\n",
    "common=pd.Series(list(set(data.index).intersection(set(graph_data2['municipality']))))\n",
    "diff1=pd.Series(list(set(data.index)-set(common)))\n",
    "diff2=pd.Series(list(set(graph_data2['municipality'])-set(common)))\n",
    "diff1"
   ]
  },
  {
   "cell_type": "code",
   "execution_count": 70,
   "metadata": {},
   "outputs": [
    {
     "name": "stdout",
     "output_type": "stream",
     "text": [
      "0     Lac de Neuchâtel (NE)\n",
      "1            Bielersee (NE)\n",
      "2            Lago di Lugano\n",
      "3         Lac de Morat (VD)\n",
      "4            Lac Léman (VD)\n",
      "5             Bodensee (TG)\n",
      "6            Bielersee (BE)\n",
      "7                 Thunersee\n",
      "8     Lac de Neuchâtel (VD)\n",
      "9               Brienzersee\n",
      "10            Lago Maggiore\n",
      "11    Lac de Neuchâtel (FR)\n",
      "12               St. Martin\n",
      "13           Lac Léman (VS)\n",
      "14            Bodensee (SG)\n",
      "dtype: object\n"
     ]
    }
   ],
   "source": [
    "with pd.option_context('display.max_rows', None, 'display.max_columns', 3):\n",
    "    print(diff2)"
   ]
  }
 ],
 "metadata": {
  "kernelspec": {
   "display_name": "Python 3",
   "language": "python",
   "name": "python3"
  },
  "language_info": {
   "codemirror_mode": {
    "name": "ipython",
    "version": 3
   },
   "file_extension": ".py",
   "mimetype": "text/x-python",
   "name": "python",
   "nbconvert_exporter": "python",
   "pygments_lexer": "ipython3",
   "version": "3.6.1"
  }
 },
 "nbformat": 4,
 "nbformat_minor": 2
}
