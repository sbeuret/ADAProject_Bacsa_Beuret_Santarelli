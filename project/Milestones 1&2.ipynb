{
 "cells": [
  {
   "cell_type": "markdown",
   "metadata": {},
   "source": [
    "# Milestone 1\n",
    "\n",
    "## Title\n",
    "Improving electoral fairness in Switzerland\n",
    "\n",
    "## Abstract\n",
    "The cantonal borders in Switzerland have mostly stayed fixed since the 19th century, and in some cases, even the Middle-Ages. Therefore, they sometimes \n",
    "do not take into account the evolutions of the Swiss society that occured in the last 150 years. Furthermore, since the number of seats the parlement is \n",
    "limited, some parties will never get enough votes to be representated, therefore part of the Swiss population is de facto excluded from parlementary debates.\n",
    "In this study, we intend to explore the Swiss OpenData dataset's electoral and economical data. We would then like to clusters the different 'Communes' into \n",
    "new Cantons. These new Cantons would then exibit the best political representation of Switzerland. We would like to study the influence of the political \n",
    "partitioning on the parlement's composition. To this effect, we will tweak the different parameters of our model to study its effect. We can also verify \n",
    "the quality of the current partition.\n",
    "\n",
    "## Research questions\n",
    "- Can we construct an optimal partition for the Council of States ?\n",
    "- Can we construct an optimal partition for the National Council ?\n",
    "- Is it possible to optmize both at the same time ?\n",
    "- Can geography be taken into account in order to keep coherent borders ?\n",
    "- Can social factors be taken into account ?\n",
    "- Can the current representation be rated as fair ?\n",
    "- Can we do the opposite and find the least fair partitioning ?\n",
    "\n",
    "## Dataset\n",
    "Swiss open dataset (opendata.swiss) :\n",
    "- Election au Conseil National (suffrages des partis et forces des partis depuis 1975 : districts et communes)\n",
    "- Votations populaires (rÃ©sultats au niveau des communes depuis 1981)\n",
    "- Population rÃ©sidente permanente et non permanente selon les niveaux gÃ©ographiques institutionnels, le sexe, la nationalitÃ© (catÃ©gorie), le lieu de naissance et la classe d'Ã¢ge\n",
    "- swissBoundaries 3D\n",
    "\n",
    "## A list of internal milestones up until project milestone 2\n",
    "- Download datasets\n",
    "- Clean (if needed)\n",
    "- Map data to Swiss map\n",
    "- Build model for both elections\n",
    "- Find an optimization algorithm\n",
    "- Sweep hyperparameters\n",
    "\t\n",
    "## Questions for TAs\n",
    "- What kind of problems can we expect ?\n",
    "- Do you happen to know any algorithms for geographical clustering ?"
   ]
  },
  {
   "cell_type": "markdown",
   "metadata": {},
   "source": [
    "# Milestone 2\n",
    "\n",
    "## Description of the data used\n",
    "<!--- - intimately acquaint yourself with the data,\n",
    "- That you can handle the data in its size.\n",
    "- That you understand what’s into the data (formats, distributions, missing values, correlations, etc.).\n",
    "- That you considered ways to enrich, filter, transform the data according to your needs.\n",
    "-->\n",
    "For the first dataset mentionned above, the  opendata.swiss  website redirected us to this [link](https://www.pxweb.bfs.admin.ch/pxweb/fr/px-x-1702020000_105/-/px-x-1702020000_105.px) to download the dataset. But since the provided tool has a bounded number of downloadable cells, the dataset was downloaded into two Excel documents.\n",
    "\n",
    "These Excel files were loaded and merged in a single dataframe. We recovered the results of the 2015 Swiss National Council election (Election au Conseil National) for each municipality (commune).  \n",
    "<!--- bout de code avec print des parti  \n",
    "24 parties are listed:  print -->\n",
    "\n",
    "Since the milestone 1, we added a dataset named \"Elections au Conseil national (électeurs inscrits, électeurs et types de bulletins de vote depuis 1975)\" which includes complementary data linked to the first dataset such as:\n",
    "\n",
    "<!-- topojson à afficher : où on l'a trouvé, 2e topjson pour retrouver les communes adjacentes -->\n",
    "\n",
    "## Cleaning process, preprocess\n",
    "<!--- - preprocess it \n",
    "- That you considered ways to enrich, filter, transform the data according to your needs.\n",
    "- parti socialiste autonomiste qui n'existe que dans le Jura Bernois\n",
    "- topojson of communes from 2013, cission et fusion of 150 municipalities. --->\n",
    "\n",
    "## Clustering\n",
    "<!--- - complete all the necessary descriptive statistics tasks\n",
    "- That you have updated your plan in a reasonable way, reflecting your improved knowledge after data acquaintance. In particular, discuss how your data suits your project needs and discuss the methods you’re going to use, giving their essential mathematical details in the notebook.--->\n",
    "\n",
    "## Pipepline\n",
    "<!--- - have a pipeline in place, fully documented in a notebook, and \n",
    "- show us that you’ve advanced with your understanding of the project goals by updating its README description.\n",
    "- That your plan for analysis and communication is now reasonable and sound, potentially discussing alternatives to your choices that you considered but dropped.\n",
    "When describing the data, in particular, you should show (non-exhaustive list):--->\n",
    "\n",
    "\n",
    "\n",
    "\n"
   ]
  },
  {
   "cell_type": "code",
   "execution_count": null,
   "metadata": {
    "collapsed": true
   },
   "outputs": [],
   "source": []
  }
 ],
 "metadata": {
  "kernelspec": {
   "display_name": "Python [conda env:ada]",
   "language": "python",
   "name": "conda-env-ada-py"
  },
  "language_info": {
   "codemirror_mode": {
    "name": "ipython",
    "version": 3
   },
   "file_extension": ".py",
   "mimetype": "text/x-python",
   "name": "python",
   "nbconvert_exporter": "python",
   "pygments_lexer": "ipython3",
   "version": "3.5.4"
  }
 },
 "nbformat": 4,
 "nbformat_minor": 2
}
