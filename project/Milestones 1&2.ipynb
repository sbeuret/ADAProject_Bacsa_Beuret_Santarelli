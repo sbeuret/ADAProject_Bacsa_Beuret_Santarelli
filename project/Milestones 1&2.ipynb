{
 "cells": [
  {
   "cell_type": "code",
   "execution_count": 4,
   "metadata": {
    "collapsed": true
   },
   "outputs": [],
   "source": [
    "import pandas as pd\n",
    "import numpy as np\n",
    "import matplotlib.pyplot as plt\n",
    "import pandas as pd\n",
    "import os\n",
    "import re\n",
    "%matplotlib inline\n",
    "#np.set_printoptions(threshold=np.nan)"
   ]
  },
  {
   "cell_type": "markdown",
   "metadata": {},
   "source": [
    "# Milestone 1\n",
    "\n",
    "## Title\n",
    "Improving electoral fairness in Switzerland\n",
    "\n",
    "## Abstract\n",
    "The cantonal borders in Switzerland have mostly stayed fixed since the 19th century, and in some cases, even the Middle-Ages. Therefore, they sometimes \n",
    "do not take into account the evolutions of the Swiss society that occured in the last 150 years. Furthermore, since the number of seats the parlement is \n",
    "limited, some parties will never get enough votes to be representated, therefore part of the Swiss population is de facto excluded from parlementary debates.\n",
    "In this study, we intend to explore the Swiss OpenData dataset's electoral and economical data. We would then like to clusters the different 'Communes' into \n",
    "new Cantons. These new Cantons would then exibit the best political representation of Switzerland. We would like to study the influence of the political \n",
    "partitioning on the parlement's composition. To this effect, we will tweak the different parameters of our model to study its effect. We can also verify \n",
    "the quality of the current partition.\n",
    "\n",
    "## Research questions\n",
    "- Can we construct an optimal partition for the Council of States ?\n",
    "- Can we construct an optimal partition for the National Council ?\n",
    "- Is it possible to optmize both at the same time ?\n",
    "- Can geography be taken into account in order to keep coherent borders ?\n",
    "- Can social factors be taken into account ?\n",
    "- Can the current representation be rated as fair ?\n",
    "- Can we do the opposite and find the least fair partitioning ?\n",
    "\n",
    "## Dataset\n",
    "Swiss open dataset (opendata.swiss) :\n",
    "- Election au Conseil National (suffrages des partis et forces des partis depuis 1975 : districts et communes)\n",
    "- Votations populaires (résultats au niveau des communes depuis 1981)\n",
    "- Population résidente permanente et non permanente selon les niveaux géographiques institutionnels, le sexe, la nationalité (catégorie), le lieu de naissance et la classe d'âge\n",
    "- swissBoundaries 3D\n",
    "\n",
    "## A list of internal milestones up until project milestone 2\n",
    "- Download datasets\n",
    "- Clean (if needed)\n",
    "- Map data to Swiss map\n",
    "- Build model for both elections\n",
    "- Find an optimization algorithm\n",
    "- Sweep hyperparameters\n",
    "\t\n",
    "## Questions for TAs\n",
    "- What kind of problems can we expect ?\n",
    "- Do you happen to know any algorithms for geographical clustering ?"
   ]
  },
  {
   "cell_type": "markdown",
   "metadata": {},
   "source": [
    "# Milestone 2\n",
    "\n",
    "## Description of the data used\n",
    "<!--- - intimately acquaint yourself with the data,\n",
    "- That you can handle the data in its size.\n",
    "- That you understand what’s into the data (formats, distributions).\n",
    "- That you considered ways to enrich, filter, transform the data according to your needs.\n",
    "-->\n",
    "For the first dataset mentionned above, the  opendata.swiss  website redirected us to this [link](https://www.pxweb.bfs.admin.ch/pxweb/fr/px-x-1702020000_105/-/px-x-1702020000_105.px) to download the dataset. But since the tool provided has a bounded number of downloadable cells, the dataset was downloaded into two Excel documents.\n",
    "These Excel files were loaded and merged in a single dataframe. We recovered the results of the 2015 Swiss National Council election (Election au Conseil National) for each municipality (commune):\n",
    "* the percentage of votes (#votes registered in the municipalities for the party/#votes registered in the municipalities) <!--- à vérifier, #votes or #voters???--->\n",
    "* the corresponding party\n",
    "* the corresponding municipalities\n",
    "\n",
    "<!--- bout de code avec print des partis, peut etre un index avec le nom et l'acronyme correspondant des parties -->\n",
    "Since the milestone 1, we added a dataset named \"Elections au Conseil national (électeurs inscrits, électeurs et types de bulletins de vote depuis 1975)\" [[link](https://www.pxweb.bfs.admin.ch/pxweb/fr/px-x-1702020000_101/-/px-x-1702020000_101.px)] which includes complementary data linked to the first dataset, such as the number of registered <!--- vrai ?---> voters per municipality.<!--- pourquoi on a besoin de ces données en plus, qu'est qui nous manque par rapport au premier dataset ?--->\n",
    "\n",
    "<!-- topojson à afficher : où on l'a trouvé, 2e topjson pour retrouver les communes adjacentes -->\n",
    "In order to display the first dataset and our future results, we downloaded the topographical borders of the Swiss municipalities in a TopoJson file from this [link](https://github.com/selinerdominik/swiss_zoom). Combined with the election data, we can display the election results for each party on a choropleth map (see map below).\n",
    "<!--- add map--->\n",
    "\n",
    "We also scrapped another [TopoJson file](http://bl.ocks.org/herrstucki/raw/4327678/aa6f466b7600651bd57838ca70b72ce07e79165d/ch.json) of the municipalities borders from this [link](http://bl.ocks.org/herrstucki/9204795) using Postman. Then, we recovered the adjacent municipalities using the function *neighbors* from the JavaScript module *topojson* [[documentation](https://github.com/topojson/topojson)] and saved the names of municipalities and their neighbors in a CSV file named *graph_communes.csv*. The dataframe of adjacent municipalities will be used later in our project to create cantons from connected municipalities. \n",
    "\n",
    "\n",
    "## Cleaning process, preprocess\n",
    "<!--- - preprocess it \n",
    "- That you understand what’s into the data ( missing values, correlations, etc.).\n",
    "- That you considered ways to enrich, filter, transform the data according to your needs.\n",
    "- parti socialiste autonomiste qui n'existe que dans le Jura Bernois\n",
    "- topojson of communes from 2013, cission et fusion of 150 municipalities. --->\n",
    "\n",
    "For the 2105 Swiss National Council election results (2015SNCER) dataframe, when the percentage of a party is unavailable it is marked as '...'. The missing data was replaced by 0%. The missing values are marked the same way for the 2105 Swiss National Council election voters (2015SNCEV) dataframe, and the missing values are dealt with by replacing the missing number of voters by 0. <!--- justification ?--->\n",
    "\n",
    "<!--- pas compris dans le code: #remove data from comming from correspondancies --->\n",
    "<!--- L'histoire des urnes communes--->\n",
    "We kept the same results for the municipalities that shared a ballot box.\n",
    "\n",
    "The parties also differ for particular municipalities/cantons, such as the socialist party which is splitted in two in the canton of Jura. Such parties referred as \"others\" in the dataset were not taken into account <!--- vrai ? on compte les visualiser  ou pas ?-->. \n",
    "\n",
    "We realized that the municipalities listed in the adjacent municipalities dataframe recovered from this [link](http://bl.ocks.org/herrstucki/9204795) which redirect us to this [link](https://github.com/interactivethings/swiss-maps) dated back to 2013. Between 2013 and 2015, many municipalities were merged. The  dataframe of the adjacent communes was updated as such (c'est pas la bonne expression).\n",
    "That explains why later on, we used another TopoJson to visualize the most recent municipalities. An other reason also was that the TopoJson didn't use Switzerland absolute coordinates and therefore it was not possible to use *folium* to implement a choropleth map of the municipalities.\n",
    "\n",
    "## Clustering\n",
    "<!--- - complete all the necessary descriptive statistics tasks\n",
    "- That you have updated your plan in a reasonable way, reflecting your improved knowledge after data acquaintance. In particular, discuss how your data suits your project needs and discuss the methods you’re going to use, giving their essential mathematical details in the notebook.--->\n",
    "\n",
    "Another idea that has not been tried out yet would be to use spectral clustering for feature extraction. Essentially, by mapping the municipalities to a similarity graph using a distance map, we could derive a set of features based on the eigenvectors of the Laplacian of said graph. This would enable us to reduce the dimentions of the Swiss political spectrum from 24 parties to a few abtract features. Combined with other features derived from other factors such as spoken-language, geography, etc..., we can use traditional machine learning techniques to cluster our municipalities into new cantons. \n",
    "\n",
    "## Pipepline\n",
    "<!--- - have a pipeline in place, fully documented in a notebook, and \n",
    "- show us that you’ve advanced with your understanding of the project goals by updating its README description.\n",
    "- That your plan for analysis and communication is now reasonable and sound, potentially discussing alternatives to your choices that you considered but dropped.\n",
    "When describing the data, in particular, you should show (non-exhaustive list):--->"
   ]
  },
  {
   "cell_type": "code",
   "execution_count": null,
   "metadata": {
    "collapsed": true
   },
   "outputs": [],
   "source": []
  }
 ],
 "metadata": {
  "kernelspec": {
   "display_name": "Python [default]",
   "language": "python",
   "name": "python3"
  },
  "language_info": {
   "codemirror_mode": {
    "name": "ipython",
    "version": 3
   },
   "file_extension": ".py",
   "mimetype": "text/x-python",
   "name": "python",
   "nbconvert_exporter": "python",
   "pygments_lexer": "ipython3",
   "version": "3.6.1"
  }
 },
 "nbformat": 4,
 "nbformat_minor": 2
}
