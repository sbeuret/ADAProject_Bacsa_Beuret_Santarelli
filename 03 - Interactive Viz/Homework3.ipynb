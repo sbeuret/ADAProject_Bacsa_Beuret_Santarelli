{
 "cells": [
  {
   "cell_type": "markdown",
   "metadata": {},
   "source": [
    "# 03 - Interactive Viz\n",
    "\n",
    "## Deadline\n",
    "\n",
    "Wednesday November 8th, 2017 at 11:59PM\n",
    "\n",
    "## Important Notes\n",
    "\n",
    "- Make sure you push on GitHub your Notebook with all the cells already evaluated\n",
    "- Note that maps do not render in a standard Github environment : you should export them to HTML and link them in your notebook.\n",
    "- Remember that `.csv` is not the only data format. Though they might require additional processing, some formats provide better encoding support.\n",
    "- Don't forget to add a textual description of your thought process, the assumptions you made, and the solution you plan to implement!\n",
    "- Please write all your comments in English, and use meaningful variable names in your code\n",
    "\n",
    "## Background\n",
    "\n",
    "In this homework we will be exploring interactive visualization, which is a key ingredient of many successful data visualizations (especially when it comes to infographics).\n",
    "\n",
    "Unemployment rates are major economic metrics and a matter of concern for governments around the world. Though its definition may seem straightforward at first glance (usually defined as the number of unemployed people divided by the active population), it can be tricky to define consistently. For example, one must define what exactly unemployed means : looking for a job ? Having declared their unemployment ? Currently without a job ? Should students or recent graduates be included ? We could also wonder what the active population is : everyone in an age category (e.g. `16-64`) ? Anyone interested by finding a job ? Though these questions may seem subtle, they can have a large impact on the interpretation of the results : `3%` unemployment doesn't mean much if we don't know who is included in this percentage. \n",
    "\n",
    "In this homework you will be dealing with two different datasets from the statistics offices of the European commission ([eurostat](http://ec.europa.eu/eurostat/data/database)) and the Swiss Confederation ([amstat](https://www.amstat.ch)). They provide a variety of datasets with plenty of information on many different statistics and demographics at their respective scales. Unfortunately, as is often the case is data analysis, these websites are not always straightforward to navigate. They may include a lot of obscure categories, not always be translated into your native language, have strange link structures, â€¦ Navigating this complexity is part of a data scientists' job : you will have to use a few tricks to get the right data for this homework.\n",
    "\n",
    "For the visualization part, install [Folium](https://github.com/python-visualization/folium) (*HINT*: it is not available in your standard Anaconda environment, therefore search on the Web how to install it easily!). Folium's `README` comes with very clear examples, and links to their own iPython Notebooks -- make good use of this information. For your own convenience, in this same directory you can already find two `.topojson` files, containing the geo-coordinates of \n",
    "\n",
    "- European countries (*liberal definition of EU*) (`topojson/europe.topojson.json`, [source](https://github.com/leakyMirror/map-of-europe))\n",
    "- Swiss cantons (`topojson/ch-cantons.topojson.json`) \n",
    "\n",
    "These will be used as an overlay on the Folium maps.\n",
    "\n",
    "## Assignment\n",
    "\n",
    "1. Go to the [eurostat](http://ec.europa.eu/eurostat/data/database) website and try to find a dataset that includes the european unemployment rates at a recent date.\n",
    "\n",
    "   Use this data to build a [Choropleth map](https://en.wikipedia.org/wiki/Choropleth_map) which shows the unemployment rate in Europe at a country level. Think about [the colors you use](https://carto.com/academy/courses/intermediate-design/choose-colors-1/), how you decided to [split the intervals into data classes](http://gisgeography.com/choropleth-maps-data-classification/) or which interactions you could add in order to make the visualization intuitive and expressive. Compare Switzerland's unemployment rate to that of the rest of Europe.\n",
    "\n",
    "2. Go to the [amstat](https://www.amstat.ch) website to find a dataset that includes the unemployment rates in Switzerland at a recent date.\n",
    "\n",
    "   > *HINT* Go to the `details` tab to find the raw data you need. If you do not speak French, German or Italian, think of using free translation services to navigate your way through. \n",
    "\n",
    "   Use this data to build another Choropleth map, this time showing the unemployment rate at the level of swiss cantons. Again, try to make the map as expressive as possible, and comment on the trends you observe.\n",
    "\n",
    "   The Swiss Confederation defines the rates you have just plotted as the number of people looking for a job divided by the size of the active population (scaled by 100). This is surely a valid choice, but as we discussed one could argue for a different categorization.\n",
    "\n",
    "   Copy the map you have just created, but this time don't count in your statistics people who already have a job and are looking for a new one. How do your observations change ? You can repeat this with different choices of categories to see how selecting different metrics can lead to different interpretations of the same data.\n",
    "\n",
    "3. Use the [amstat](https://www.amstat.ch) website again to find a dataset that includes the unemployment rates in Switzerland at recent date, this time making a distinction between *Swiss* and *foreign* workers.\n",
    "\n",
    "   The Economic Secretary (SECO) releases [a monthly report](https://www.seco.admin.ch/seco/fr/home/Arbeit/Arbeitslosenversicherung/arbeitslosenzahlen.html) on the state of the employment market. In the latest report (September 2017), it is noted that there is a discrepancy between the unemployment rates for *foreign* (`5.1%`) and *Swiss* (`2.2%`) workers. \n",
    "\n",
    "   Show the difference in unemployment rates between the two categories in each canton on a Choropleth map (*hint* The easy way is to show two separate maps, but can you think of something better ?). Where are the differences most visible ? Why do you think that is ?\n",
    "\n",
    "   Now let's refine the analysis by adding the differences between age groups. As you may have guessed it is nearly impossible to plot so many variables on a map. Make a bar plot, which is a better suited visualization tool for this type of multivariate data.\n",
    "\n",
    "4. *BONUS*: using the map you have just built, and the geographical information contained in it, could you give a *rough estimate* of the difference in unemployment rates between the areas divided by the [RÃ¶stigraben](https://en.wikipedia.org/wiki/R%C3%B6stigraben)?"
   ]
  },
  {
   "cell_type": "code",
   "execution_count": null,
   "metadata": {},
   "outputs": [],
   "source": [
    "import os\n",
    "import pandas as pd\n",
    "import json\n",
    "import folium\n",
    "import branca\n",
    "from branca.colormap import ColorMap\n",
    "import numpy as np\n",
    "from jenks import jenks\n",
    "print(folium.__version__ == '0.5.0')"
   ]
  },
  {
   "cell_type": "code",
   "execution_count": null,
   "metadata": {},
   "outputs": [],
   "source": [
    "DATA_FOLDER = './Data'\n",
    "EU_DATA_FOLDER=DATA_FOLDER + '/LFS-quaterly-TotalUnemployment'\n",
    "\n",
    "# LFS: Labour force survey\n",
    "#URGAN: unemployement rates by gender, age and nationality\n",
    "#separated sheet, use sheet= Data with the total (male + female)\n",
    "urgan_data = pd.read_excel(EU_DATA_FOLDER + '/lfsq_urgan-2.xls', sheetname='Data', header=11);\n",
    "\n",
    "#keep most recent unemployement rates i.e. from second quarter of 2017\n",
    "urgan = urgan_data[['GEO/TIME','2017Q2']]\n",
    "\n",
    "#drop  Europe stats + \":\"+\"nan\" + Sepcial values\n",
    "urgan= urgan.drop([0,1,2,3,4,5,41,39,40],axis=0)\n",
    "#change columns name\n",
    "urgan= urgan.rename(columns={'GEO/TIME': 'Country', '2017Q2': 'Unemployement (%)'})\n",
    "\n",
    "#change countries name to merge with the topojson data later\n",
    "urgan = urgan.set_value(10,'Country','Germany')\n",
    "urgan = urgan.set_value(37,'Country','The former Yugoslav Republic of Macedonia')\n",
    "\n",
    "#create data frame with countries id  and names from the topo\n",
    "topo= pd.read_json('./topojson/europe.topojson.json',typ= 'series')\n",
    "eu_topo= pd.DataFrame(topo['objects']['europe']['geometries'])\n",
    "#get ids and names\n",
    "countries_id=eu_topo['id']\n",
    "countries_name=pd.DataFrame(list(eu_topo['properties'].values))\n",
    "#create df with id and name\n",
    "eu_code=pd.DataFrame()\n",
    "eu_code['id']=countries_id\n",
    "eu_code['Country']=countries_name['NAME']\n",
    "eu_code =eu_code.sort_values('Country')\n",
    "eu_code.head(100)\n",
    "\n",
    "#merge ids and unemployement rates using the country's name\n",
    "urgan = pd.merge(eu_code,urgan, 'inner')\n",
    "urgan = urgan.set_index('id')\n",
    "urgan"
   ]
  },
  {
   "cell_type": "code",
   "execution_count": null,
   "metadata": {},
   "outputs": [],
   "source": [
    "m_eu = folium.Map([46, 6], tiles='Mapbox Bright', zoom_start=4)\n",
    "\n",
    "unemployed_series = urgan['Unemployement (%)']\n",
    "#sequential colormap\n",
    "colorscale = branca.colormap.linear.YlGnBu.scale(min(unemployed_series), max(unemployed_series))\n",
    "colorscale.caption= 'Unemployment Rate (%)'\n",
    "\n",
    "\n",
    "def style_function(feature):\n",
    "    unemployed = unemployed_series.get(feature['id'][-5:], None)\n",
    "    return {\n",
    "        'fillOpacity': 0.5,\n",
    "        'weight': 0,\n",
    "        'fillColor': '#black' if unemployed is None else colorscale(unemployed),\n",
    "        \n",
    "    }\n",
    "    \n",
    "folium.TopoJson(open('./topojson/europe.topojson.json'),\n",
    "                'objects.europe',style_function=style_function).add_to(m_eu)\n",
    "\n",
    "\n",
    "m_eu.add_child(colorscale)\n",
    "\n",
    "\n",
    "m_eu"
   ]
  },
  {
   "cell_type": "code",
   "execution_count": null,
   "metadata": {},
   "outputs": [],
   "source": [
    "m_eu2 = folium.Map([46, 6], tiles='Mapbox Bright', zoom_start=4)\n",
    "\n",
    "#Jens Natural breaks\n",
    "bins = jenks(list(urgan['Unemployement (%)'].values), 5)\n",
    "\n",
    "\n",
    "def highlight_fuction(feature):\n",
    "     return {\n",
    "        'weight': 2,\n",
    "        'fillOpacity': 1\n",
    "    }\n",
    "\n",
    "eu_geo = json.load(open(r'./topojson/europe.topojson.json'))\n",
    "\n",
    "m_eu2.choropleth(geo_data=eu_geo,topojson='objects.europe', data = unemployed_series,\n",
    "             columns=['Unemployement (%)'],\n",
    "             key_on='feature.id',\n",
    "             fill_color= 'YlGnBu',\n",
    "             fill_opacity=0.5, \n",
    "             line_opacity=0.2,\n",
    "             legend_name='Unemployment Rate (%)',\n",
    "             threshold_scale=bins,\n",
    "                highlight=True\n",
    "             )\n",
    "\n",
    "m_eu2"
   ]
  },
  {
   "cell_type": "code",
   "execution_count": null,
   "metadata": {},
   "outputs": [],
   "source": [
    "m_eu = folium.Map([46, 6], tiles='Mapbox Bright', zoom_start=4)\n",
    "\n",
    "unemployed_series = urgan['Unemployement (%)']\n",
    "swiss_ur= urgan.get_value('CH','Unemployement (%)')\n",
    "swiss_ur= urgan.get_value('CH','Unemployement (%)')\n",
    "\n",
    "def color(value,feature):\n",
    "    if value.get(feature['id'][-5:], None) is None:\n",
    "        return {       \n",
    "        'color' : 'black',\n",
    "        'weight' : 1,\n",
    "        'dashArray' : '5, 5'\n",
    " }\n",
    "    elif value.get(feature['id'][-5:], None) > swiss_ur :\n",
    "        return  {\n",
    "        'fillOpacity': 0.5,\n",
    "        'weight': 0.5,\n",
    "        'fillColor': 'red',\n",
    "        'color':'red'\n",
    " }\n",
    "    elif (value.get(feature['id'][-5:], None) == swiss_ur) & (feature['id'][-5:] != 'CH') :\n",
    "        return {\n",
    "        'fillOpacity': 0.5,\n",
    "        'weight': 0.5,\n",
    "        'lineOpacity':1,\n",
    "        'fillColor': None\n",
    " } \n",
    "    elif (value.get(feature['id'][-5:], None) == swiss_ur) & (feature['id'][-5:] == 'CH') :\n",
    "        return {\n",
    "        'lineOpacity':1,\n",
    "        'fillOpacity':0,\n",
    "        'fillColor' : None,\n",
    "        'weight' : 3\n",
    " } \n",
    "    else:\n",
    "        return  {\n",
    "        'fillOpacity': 0.5,\n",
    "        'weight': 0.5,\n",
    "        'fillColor': 'green',\n",
    "        'color':'green'\n",
    " }   \n",
    "    \n",
    "colors_colormap = ['red' ,'green', None,'black' ]\n",
    "\n",
    "#new_colormap = ColorMap(colors_colormap,\n",
    "                            #caption='Compare with Switzerland')\n",
    "#new_colormap.render(tick_labels = ['-','+','=','missing data'])\n",
    "        \n",
    "def style_function(feature):\n",
    "    unemployed = unemployed_series.get(feature['id'][-5:], None)\n",
    "    return color(unemployed_series, feature)\n",
    "\n",
    "folium.TopoJson(open('./topojson/europe.topojson.json'),'objects.europe',style_function=style_function).add_to(m_eu)\n",
    "#m_eu.add_child(new_colormap)\n",
    "\n",
    "m_eu\n"
   ]
  },
  {
   "cell_type": "markdown",
   "metadata": {},
   "source": [
    "We firtly load a dataset from the [amstat](https://www.amstat.ch) recovering the datas for September 2017. We took in account the unemployement rate, the number os registered unemployed people, the number of long term unemployed people (who do not have a job for more than two years), the number of job seekers and the employed job seekers. The data were available for each canton."
   ]
  },
  {
   "cell_type": "code",
   "execution_count": null,
   "metadata": {
    "collapsed": true
   },
   "outputs": [],
   "source": [
    "#load data\n",
    "swiss_unemployement = pd.read_csv('Data/swiss_unemployement.csv',header=1,quotechar='\"',encoding='utf-16le')\n",
    "\n",
    "#clean the data\n",
    "swiss_unemployement.drop(['Mois','Septembre 2017','Septembre 2017.1','Septembre 2017.2','Septembre 2017.3','Septembre 2017.4'],1,inplace=True)\n",
    "swiss_unemployement.columns = [swiss_unemployement.columns[0],\n",
    "                               swiss_unemployement['Total'][0],\n",
    "                               swiss_unemployement['Total.1'][0],\n",
    "                               swiss_unemployement['Total.2'][0],\n",
    "                               swiss_unemployement['Total.3'][0],\n",
    "                               swiss_unemployement['Total.4'][0]]\n",
    "\n",
    "swiss_unemployement.drop(0,0,inplace=True)\n",
    "swiss_unemployement.reset_index(drop=True,inplace=True)\n",
    "\n",
    "swiss_unemployement['Taux de chômage']=swiss_unemployement['Taux de chômage'].astype(float)\n",
    "swiss_unemployement['Chômeurs inscrits'] = swiss_unemployement['Chômeurs inscrits'].str.replace('\\'','').astype('int')\n",
    "swiss_unemployement['Chômeurs de longue durée'] = swiss_unemployement['Chômeurs de longue durée'].str.replace('\\'','').astype('int')\n",
    "swiss_unemployement['Demandeurs d\\'emploi'] = swiss_unemployement['Demandeurs d\\'emploi'].str.replace('\\'','').astype('int')\n",
    "swiss_unemployement['Demandeurs d\\'emploi non chômeurs'] = swiss_unemployement['Demandeurs d\\'emploi non chômeurs'].str.replace('\\'','').astype('int')"
   ]
  },
  {
   "cell_type": "markdown",
   "metadata": {},
   "source": [
    "In order to compute meaningful informations we needed the active population of each contons. Since it is not given on the website, we decided to compute an estimation by dividing the number of job seekers by the unemployement rate (as explain in the description). We decided to also compute the percentage of long-term unemployed people on the total of unemployed people, the registered enemployed people rate (lower than the unemployement rate) and the percentage of unemployed people among all the job seekers."
   ]
  },
  {
   "cell_type": "code",
   "execution_count": null,
   "metadata": {},
   "outputs": [],
   "source": [
    "#adding new columns\n",
    "\n",
    "swiss_unemployement['Population active (estimation)'] = (100 * swiss_unemployement['Demandeurs d\\'emploi'].astype(float)\n",
    "                                                         /swiss_unemployement['Taux de chômage']).astype(int)\n",
    "swiss_unemployement['Taux de chômeurs longue durée'] = 100*(swiss_unemployement['Chômeurs de longue durée'].astype(float)\n",
    "                                                         /(swiss_unemployement['Chômeurs de longue durée'] + swiss_unemployement['Chômeurs inscrits']))\n",
    "swiss_unemployement['Taux de chômeurs inscrits'] = 100*(swiss_unemployement['Chômeurs inscrits'].astype(float)\n",
    "                                                    /swiss_unemployement['Population active (estimation)'])\n",
    "swiss_unemployement['Taux de chômeurs dans les demandeurs d\\'emploi'] = 100*(swiss_unemployement['Chômeurs inscrits'].astype(float)\n",
    "                                                                         /swiss_unemployement['Demandeurs d\\'emploi'] )\n",
    "\n",
    "\n",
    "swiss_unemployement"
   ]
  },
  {
   "cell_type": "markdown",
   "metadata": {},
   "source": [
    "We can then load the map. In order to synchronize the map with the dataset, we need to have the same label on both. The name are in different language in the map and the dataset, but happily they are in the same order (the traditionnal swiss cantons order). We can simply add a column in the dataset for the cantons ID given in the json map."
   ]
  },
  {
   "cell_type": "code",
   "execution_count": null,
   "metadata": {
    "collapsed": true
   },
   "outputs": [],
   "source": [
    "#load map\n",
    "\n",
    "canton_topo_path = os.path.join('topojson','ch-cantons.topojson.json')\n",
    "topo_json_data = json.load(open(canton_topo_path))"
   ]
  },
  {
   "cell_type": "code",
   "execution_count": null,
   "metadata": {},
   "outputs": [],
   "source": [
    "#add id to synchronize the dataset and the map\n",
    "\n",
    "N_canton = len(topo_json_data['objects']['cantons']['geometries'])\n",
    "swiss_unemployement['id']=swiss_unemployement['Canton']\n",
    "\n",
    "for i in range(N_canton):\n",
    "    swiss_unemployement['id'].loc[i] = topo_json_data['objects']['cantons']['geometries'][i]['id']"
   ]
  },
  {
   "cell_type": "code",
   "execution_count": null,
   "metadata": {},
   "outputs": [],
   "source": [
    "#define the map\n",
    "\n",
    "center_coord = [46.8011111,8.2266667]\n",
    "\n",
    "swiss_map = folium.Map(location=center_coord,\n",
    "            tiles='cartodbpositron',           \n",
    "            zoom_start=7.5)\n",
    "\n",
    "\n",
    "def add_layer_to_map(dataset,input_map,path,column,name,scale_min,scale_max):\n",
    "    scale = jenks(list(dataset[column].values), 5)\n",
    "    serie = dataset.set_index('id')[column]\n",
    "    input_map.choropleth(geo_data=open(path), topojson='objects.cantons', data=serie,\n",
    "        columns=['id', column],\n",
    "        key_on='id',\n",
    "        threshold_scale=scale,\n",
    "        fill_color='YlOrRd', fill_opacity=0.7, line_opacity=0.2,\n",
    "        name=name,\n",
    "        legend_name=name,\n",
    "        highlight = True)\n",
    "\n",
    "    \n",
    "add_layer_to_map(swiss_unemployement,swiss_map,canton_topo_path,\n",
    "                 'Taux de chômage','Unemployment rate',0.,6.)\n",
    "add_layer_to_map(swiss_unemployement,swiss_map,canton_topo_path,\n",
    "                 'Taux de chômeurs longue durée','Percentage of long term unemployed people',5.,22.)\n",
    "add_layer_to_map(swiss_unemployement,swiss_map,canton_topo_path,\n",
    "                 'Taux de chômeurs inscrits','Percentage of registered unemployed people',0.,5.)\n",
    "add_layer_to_map(swiss_unemployement,swiss_map,canton_topo_path,\n",
    "                 'Taux de chômeurs dans les demandeurs d\\'emploi','Percentage of unemployed people in job seekers',40.,80.)\n",
    "\n",
    "folium.LayerControl().add_to(swiss_map)"
   ]
  },
  {
   "cell_type": "code",
   "execution_count": null,
   "metadata": {},
   "outputs": [],
   "source": [
    "swiss_map"
   ]
  },
  {
   "cell_type": "markdown",
   "metadata": {},
   "source": [
    "Firstly, we can see on this map the distribution of the unemployement rate in Switzerland's different cantons. With this map we can see two major trends, firtly the latin cantons (french or italian) seems to have a higher overall unemployement rate. We can see that the worst cantons (Geneva, Neuchâtel) are french ones and that latin cantons have in average a higher unemployement rate than the surrounding german cantons. Another major trend we can extract is that the urban cantons have in general a higher unemployement rate (like Zürich or Basel-Town) when the cantons where the purcentage of urban population is lower appears to be lower (like Uri or Schwytz)."
   ]
  },
  {
   "cell_type": "code",
   "execution_count": null,
   "metadata": {
    "collapsed": true
   },
   "outputs": [],
   "source": [
    "data_path = os.path.join(os.path.dirname(os.getcwd()),'Homework3','Data','data_3.csv') \n",
    "map_path = os.path.join(os.path.dirname(os.getcwd()),'Homework3','topojson','ch-cantons.topojson.json') "
   ]
  },
  {
   "cell_type": "markdown",
   "metadata": {},
   "source": [
    "Load and clean data"
   ]
  },
  {
   "cell_type": "code",
   "execution_count": null,
   "metadata": {
    "collapsed": true,
    "scrolled": true
   },
   "outputs": [],
   "source": [
    "df = pd.read_csv(data_path, skiprows=[0], encoding='utf-16le')\n",
    "df = df.drop(['Mois'], axis=1)\n",
    "\n",
    "new_column_names = df.values[0]\n",
    "old_column_names = df.columns.values\n",
    "\n",
    "for i in range(2,5):\n",
    "    df = df.rename(columns={old_column_names[i]: new_column_names[i]})\n",
    "\n",
    "df = df.drop([0], axis=0)\n",
    "df = df.drop(df.columns[[3,5]], axis=1)\n",
    "df = df.loc[:,~df.columns.duplicated()]"
   ]
  },
  {
   "cell_type": "code",
   "execution_count": null,
   "metadata": {
    "collapsed": true
   },
   "outputs": [],
   "source": [
    "topo_json_data = json.load(open(map_path))\n",
    "N_canton = len(topo_json_data['objects']['cantons']['geometries'])\n",
    "\n",
    "df['id'] = df['Canton']\n",
    "\n",
    "for i in range(N_canton):\n",
    "    for j in range(2):\n",
    "        df.set_value(2*i+j+1,'id',topo_json_data['objects']['cantons']['geometries'][i]['id'])\n"
   ]
  },
  {
   "cell_type": "code",
   "execution_count": null,
   "metadata": {
    "collapsed": true,
    "scrolled": true
   },
   "outputs": [],
   "source": [
    "suisses = df[df['Nationalité'] == 'Suisses']\n",
    "etrangers = df[df['Nationalité'] == 'Etrangers']"
   ]
  },
  {
   "cell_type": "code",
   "execution_count": null,
   "metadata": {},
   "outputs": [],
   "source": [
    "\n",
    "m = folium.Map([46.8011111,8.2266667], tiles='cartodbpositron', zoom_start=8)\n",
    "serie_suisses = suisses.set_index('id')['Taux de chômage'].astype(float)\n",
    "serie_etrangers = etrangers.set_index('id')['Taux de chômage'].astype(float)\n",
    "\n",
    "scale_suisses = list(np.linspace(0.,4.8,6))\n",
    "scale_etrangers = list(np.linspace(0.,9.,6))\n",
    "\n",
    "m.choropleth(geo_data=open(map_path), topojson='objects.cantons', data=serie_suisses,\n",
    "    columns=['id', 'Taux de chômage'],\n",
    "    key_on='id',\n",
    "    threshold_scale=scale_suisses,\n",
    "    fill_color='YlGn', fill_opacity=0.7, line_opacity=0.2,\n",
    "    name='Swiss',\n",
    "    legend_name='Unemployment Swiss',\n",
    "    highlight = True)\n",
    "\n",
    "m.choropleth(geo_data=open(map_path), topojson='objects.cantons', data=serie_etrangers,\n",
    "    columns=['id', 'Taux de chômage'],\n",
    "    key_on='id',\n",
    "    threshold_scale=scale_etrangers,\n",
    "    fill_color='YlGn', fill_opacity=0.7, line_opacity=0.2,\n",
    "    name='Foreign',\n",
    "    legend_name='Unemployement Foreigners',\n",
    "    highlight = True)\n",
    "\n",
    "folium.LayerControl().add_to(m)\n",
    "\n",
    "m"
   ]
  },
  {
   "cell_type": "markdown",
   "metadata": {},
   "source": [
    "Part with age differences"
   ]
  },
  {
   "cell_type": "code",
   "execution_count": null,
   "metadata": {},
   "outputs": [],
   "source": [
    "data_path = os.path.join(os.path.dirname(os.getcwd()),'Homework3','Data','data_4.csv') \n",
    "df = pd.read_csv(data_path, skiprows=[0], encoding='utf-16le')\n",
    "df = df.drop(['Mois'], axis=1)\n",
    "new_column_names = df.values[0]\n",
    "old_column_names = df.columns.values\n",
    "\n",
    "for i in range(2,5):\n",
    "    df = df.rename(columns={old_column_names[i]: new_column_names[i]})\n",
    "\n",
    "df = df.drop([0], axis=0)\n",
    "df = df.drop(df.columns[[1,4,5,6]], axis=1)\n",
    "\n",
    "df"
   ]
  }
 ],
 "metadata": {
  "kernelspec": {
   "display_name": "Python [default]",
   "language": "python",
   "name": "python3"
  },
  "language_info": {
   "codemirror_mode": {
    "name": "ipython",
    "version": 3
   },
   "file_extension": ".py",
   "mimetype": "text/x-python",
   "name": "python",
   "nbconvert_exporter": "python",
   "pygments_lexer": "ipython3",
   "version": "3.5.0"
  }
 },
 "nbformat": 4,
 "nbformat_minor": 2
}
