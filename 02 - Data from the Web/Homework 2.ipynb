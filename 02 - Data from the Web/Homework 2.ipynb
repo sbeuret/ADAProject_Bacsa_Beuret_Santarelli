{
 "cells": [
  {
   "cell_type": "markdown",
   "metadata": {},
   "source": [
    "# 02 - Data from the Web\n",
    "\n",
    "## Deadline\n",
    "Wednesday October 25, 2017 at 11:59PM\n",
    "\n",
    "## Important Notes\n",
    "* Make sure you push on GitHub your Notebook with all the cells already evaluated (i.e., you don't want your colleagues to generate unnecessary Web traffic during the peer review)\n",
    "* Don't forget to add a textual description of your thought process, the assumptions you made, and the solution you plan to implement!\n",
    "* Please write all your comments in English, and use meaningful variable names in your code.\n",
    "\n",
    "## Background\n",
    "In this homework we will extract interesting information from www.topuniversities.com and www.timeshighereducation.com, two platforms that maintain a global ranking of worldwide universities. This ranking is not offered as a downloadable dataset, so you will have to find a way to scrape the information we need!\n",
    "You are not allowed to download manually the entire ranking -- rather you have to understand how the server loads it in your browser. For this task, Postman with the Interceptor extension can help you greatly. We recommend that you watch this [brief tutorial](https://www.youtube.com/watch?v=jBjXVrS8nXs&list=PLM-7VG-sgbtD8qBnGeQM5nvlpqB_ktaLZ&autoplay=1) to understand quickly how to use it.\n",
    "\n",
    "## Assignment\n",
    "* Obtain the 200 top-ranking universities in www.topuniversities.com ([ranking 2018](https://www.topuniversities.com/university-rankings/world-university-rankings/2018)). In particular, extract the following fields for each university: name, rank, country and region, number of faculty members (international and total) and number of students (international and total). Some information is not available in the main list and you have to find them in the [details page](https://www.topuniversities.com/universities/ecole-polytechnique-fÃ©dÃ©rale-de-lausanne-epfl).Store the resulting dataset in a pandas DataFrame and answer the following questions:\n",
    "  * Which are the best universities in term of: (a) ratio between faculty members and students, (b) ratio of international students?\n",
    "\n",
    "  * Answer the previous question aggregating the data by (c) country and (d) region.\n",
    "\n",
    "  Plot your data using bar charts and describe briefly what you observed."
   ]
  },
  {
   "cell_type": "code",
   "execution_count": 1,
   "metadata": {
    "collapsed": true
   },
   "outputs": [],
   "source": [
    "# Import libraries\n",
    "import requests\n",
    "from bs4 import BeautifulSoup\n",
    "import pandas as pd \n",
    "import json \n",
    "\n",
    "import seaborn as sns\n",
    "\n",
    "# set the default color palette\n",
    "# try other options: 'Blues', sns.cubehelix_palette(8)\n",
    "sns.set_palette('Blues')\n",
    "\n",
    "# Seaborn can also use a context for different purpose\n",
    "# possible values are paper, notebook, talk, and poster\n",
    "sns.set_context(\"notebook\")\n",
    "\n",
    "\n",
    "import matplotlib.pyplot as plt\n",
    "%matplotlib inline\n",
    "\n",
    "import pickle"
   ]
  },
  {
   "cell_type": "code",
   "execution_count": 2,
   "metadata": {
    "collapsed": true
   },
   "outputs": [],
   "source": [
    "# get name, rank, country and region of the 200 first universities\n",
    "url='https://www.topuniversities.com/sites/default/files/qs-rankings-data/357051.txt?_=1508005996450'\n",
    "universities= requests.get(url).json()['data'][:200]\n",
    "df=pd.DataFrame(universities)\n",
    "df = df.drop(['cc','core_id','guide', 'logo','score','stars','nid'], axis=1)\n",
    "\n",
    "#list of urls to universities pages\n",
    "urls =list(df['url'])\n",
    "\n",
    "# function to get the rest of the needed information on each university page in a dictionnary\n",
    "def get_details(url):\n",
    "    university= requests.get('https://www.topuniversities.com' + url)\n",
    "    soup= BeautifulSoup(university.text,'html.parser')\n",
    "    data= soup.find_all('div', class_= 'faculty-main')\n",
    "    df.head()\n",
    "\n",
    "    # number of faculty members international\n",
    "    if(soup.find_all('div', class_ = 'inter faculty') != []):\n",
    "        inter_fac_mem = float(soup.find_all('div', class_ = 'inter faculty')[0].find_all('div', class_ = 'number')[0].string.replace(',',''))\n",
    "    else:\n",
    "        inter_fac_mem = float('nan')\n",
    "        \n",
    "    # number of faculty members total\n",
    "    if(soup.find_all('div', class_ = 'total faculty')!= []):\n",
    "        total_fac_mem = float(soup.find_all('div', class_ = 'total faculty')[0].find_all('div', class_ = 'number')[0].string.replace(',',''))\n",
    "    else:\n",
    "        total_fac_mem = float('nan')\n",
    "        \n",
    "    # number of students international\n",
    "    if(soup.find_all('div', class_ = 'total inter')!= []):\n",
    "        inter_student = float(soup.find_all('div', class_ = 'total inter')[0].find_all('div', class_ = 'number')[0].string.replace(',',''))\n",
    "    else:\n",
    "        inter_student = float('nan')\n",
    "        \n",
    "    # number of students total\n",
    "    if(soup.find_all('div', class_ = 'total student')!= []):\n",
    "        total_student = float(soup.find_all('div', class_ = 'total student')[0].find_all('div', class_ = 'number')[0].string.replace(',',''))\n",
    "    else:\n",
    "        total_student = float('nan')\n",
    "\n",
    "    details = {'url' : url, '#faculty members international (QS)' : inter_fac_mem,\n",
    "          '#faculty members total (QS)' : total_fac_mem,\n",
    "          '#students international (QS)': inter_student,\n",
    "          '#students total (QS)' : total_student}\n",
    "    return details\n",
    "\n",
    "#list of dictionnaries \n",
    "details = []    \n",
    "for url in urls:\n",
    "    details.append(get_details(url))\n",
    "#convert to pd.DataFrame\n",
    "df2 = pd.DataFrame(details)\n",
    "\n",
    "#merge the two dataframes with the url\n",
    "df_qs= pd.merge(df, df2, 'outer')\n",
    "df_qs.rename(columns={'rank_display': 'QS rank', 'title': 'name'}, inplace=True)\n",
    "df_qs = df_qs.drop('url', axis=1)"
   ]
  },
  {
   "cell_type": "code",
   "execution_count": 5,
   "metadata": {},
   "outputs": [
    {
     "data": {
      "text/html": [
       "<div>\n",
       "<style>\n",
       "    .dataframe thead tr:only-child th {\n",
       "        text-align: right;\n",
       "    }\n",
       "\n",
       "    .dataframe thead th {\n",
       "        text-align: left;\n",
       "    }\n",
       "\n",
       "    .dataframe tbody tr th {\n",
       "        vertical-align: top;\n",
       "    }\n",
       "</style>\n",
       "<table border=\"1\" class=\"dataframe\">\n",
       "  <thead>\n",
       "    <tr style=\"text-align: right;\">\n",
       "      <th></th>\n",
       "      <th>country</th>\n",
       "      <th>QS rank</th>\n",
       "      <th>region</th>\n",
       "      <th>name</th>\n",
       "      <th>#faculty members international (QS)</th>\n",
       "      <th>#faculty members total (QS)</th>\n",
       "      <th>#students international (QS)</th>\n",
       "      <th>#students total (QS)</th>\n",
       "    </tr>\n",
       "  </thead>\n",
       "  <tbody>\n",
       "    <tr>\n",
       "      <th>0</th>\n",
       "      <td>United States</td>\n",
       "      <td>1</td>\n",
       "      <td>North America</td>\n",
       "      <td>Massachusetts Institute of Technology (MIT)</td>\n",
       "      <td>1679.0</td>\n",
       "      <td>2982.0</td>\n",
       "      <td>3717.0</td>\n",
       "      <td>11067.0</td>\n",
       "    </tr>\n",
       "    <tr>\n",
       "      <th>1</th>\n",
       "      <td>United States</td>\n",
       "      <td>2</td>\n",
       "      <td>North America</td>\n",
       "      <td>Stanford University</td>\n",
       "      <td>2042.0</td>\n",
       "      <td>4285.0</td>\n",
       "      <td>3611.0</td>\n",
       "      <td>15878.0</td>\n",
       "    </tr>\n",
       "    <tr>\n",
       "      <th>2</th>\n",
       "      <td>United States</td>\n",
       "      <td>3</td>\n",
       "      <td>North America</td>\n",
       "      <td>Harvard University</td>\n",
       "      <td>1311.0</td>\n",
       "      <td>4350.0</td>\n",
       "      <td>5266.0</td>\n",
       "      <td>22429.0</td>\n",
       "    </tr>\n",
       "    <tr>\n",
       "      <th>3</th>\n",
       "      <td>United States</td>\n",
       "      <td>4</td>\n",
       "      <td>North America</td>\n",
       "      <td>California Institute of Technology (Caltech)</td>\n",
       "      <td>350.0</td>\n",
       "      <td>953.0</td>\n",
       "      <td>647.0</td>\n",
       "      <td>2255.0</td>\n",
       "    </tr>\n",
       "    <tr>\n",
       "      <th>4</th>\n",
       "      <td>United Kingdom</td>\n",
       "      <td>5</td>\n",
       "      <td>Europe</td>\n",
       "      <td>University of Cambridge</td>\n",
       "      <td>2278.0</td>\n",
       "      <td>5490.0</td>\n",
       "      <td>6699.0</td>\n",
       "      <td>18770.0</td>\n",
       "    </tr>\n",
       "    <tr>\n",
       "      <th>5</th>\n",
       "      <td>United Kingdom</td>\n",
       "      <td>6</td>\n",
       "      <td>Europe</td>\n",
       "      <td>University of Oxford</td>\n",
       "      <td>2964.0</td>\n",
       "      <td>6750.0</td>\n",
       "      <td>7353.0</td>\n",
       "      <td>19720.0</td>\n",
       "    </tr>\n",
       "    <tr>\n",
       "      <th>6</th>\n",
       "      <td>United Kingdom</td>\n",
       "      <td>7</td>\n",
       "      <td>Europe</td>\n",
       "      <td>UCL (University College London)</td>\n",
       "      <td>2554.0</td>\n",
       "      <td>6345.0</td>\n",
       "      <td>14854.0</td>\n",
       "      <td>31080.0</td>\n",
       "    </tr>\n",
       "    <tr>\n",
       "      <th>7</th>\n",
       "      <td>United Kingdom</td>\n",
       "      <td>8</td>\n",
       "      <td>Europe</td>\n",
       "      <td>Imperial College London</td>\n",
       "      <td>2071.0</td>\n",
       "      <td>3930.0</td>\n",
       "      <td>8746.0</td>\n",
       "      <td>16090.0</td>\n",
       "    </tr>\n",
       "    <tr>\n",
       "      <th>8</th>\n",
       "      <td>United States</td>\n",
       "      <td>9</td>\n",
       "      <td>North America</td>\n",
       "      <td>University of Chicago</td>\n",
       "      <td>635.0</td>\n",
       "      <td>2449.0</td>\n",
       "      <td>3379.0</td>\n",
       "      <td>13557.0</td>\n",
       "    </tr>\n",
       "    <tr>\n",
       "      <th>9</th>\n",
       "      <td>Switzerland</td>\n",
       "      <td>10</td>\n",
       "      <td>Europe</td>\n",
       "      <td>ETH Zurich - Swiss Federal Institute of Techno...</td>\n",
       "      <td>1886.0</td>\n",
       "      <td>2477.0</td>\n",
       "      <td>7563.0</td>\n",
       "      <td>19815.0</td>\n",
       "    </tr>\n",
       "    <tr>\n",
       "      <th>10</th>\n",
       "      <td>Singapore</td>\n",
       "      <td>11</td>\n",
       "      <td>Asia</td>\n",
       "      <td>Nanyang Technological University, Singapore (NTU)</td>\n",
       "      <td>2993.0</td>\n",
       "      <td>4338.0</td>\n",
       "      <td>7251.0</td>\n",
       "      <td>25738.0</td>\n",
       "    </tr>\n",
       "    <tr>\n",
       "      <th>11</th>\n",
       "      <td>Switzerland</td>\n",
       "      <td>12</td>\n",
       "      <td>Europe</td>\n",
       "      <td>Ecole Polytechnique Fédérale de Lausanne (EPFL)</td>\n",
       "      <td>1300.0</td>\n",
       "      <td>1695.0</td>\n",
       "      <td>5896.0</td>\n",
       "      <td>10343.0</td>\n",
       "    </tr>\n",
       "  </tbody>\n",
       "</table>\n",
       "</div>"
      ],
      "text/plain": [
       "           country QS rank         region  \\\n",
       "0    United States       1  North America   \n",
       "1    United States       2  North America   \n",
       "2    United States       3  North America   \n",
       "3    United States       4  North America   \n",
       "4   United Kingdom       5         Europe   \n",
       "5   United Kingdom       6         Europe   \n",
       "6   United Kingdom       7         Europe   \n",
       "7   United Kingdom       8         Europe   \n",
       "8    United States       9  North America   \n",
       "9      Switzerland      10         Europe   \n",
       "10       Singapore      11           Asia   \n",
       "11     Switzerland      12         Europe   \n",
       "\n",
       "                                                 name  \\\n",
       "0         Massachusetts Institute of Technology (MIT)   \n",
       "1                                 Stanford University   \n",
       "2                                  Harvard University   \n",
       "3        California Institute of Technology (Caltech)   \n",
       "4                             University of Cambridge   \n",
       "5                                University of Oxford   \n",
       "6                     UCL (University College London)   \n",
       "7                             Imperial College London   \n",
       "8                               University of Chicago   \n",
       "9   ETH Zurich - Swiss Federal Institute of Techno...   \n",
       "10  Nanyang Technological University, Singapore (NTU)   \n",
       "11    Ecole Polytechnique Fédérale de Lausanne (EPFL)   \n",
       "\n",
       "    #faculty members international (QS)  #faculty members total (QS)  \\\n",
       "0                                1679.0                       2982.0   \n",
       "1                                2042.0                       4285.0   \n",
       "2                                1311.0                       4350.0   \n",
       "3                                 350.0                        953.0   \n",
       "4                                2278.0                       5490.0   \n",
       "5                                2964.0                       6750.0   \n",
       "6                                2554.0                       6345.0   \n",
       "7                                2071.0                       3930.0   \n",
       "8                                 635.0                       2449.0   \n",
       "9                                1886.0                       2477.0   \n",
       "10                               2993.0                       4338.0   \n",
       "11                               1300.0                       1695.0   \n",
       "\n",
       "    #students international (QS)  #students total (QS)  \n",
       "0                         3717.0               11067.0  \n",
       "1                         3611.0               15878.0  \n",
       "2                         5266.0               22429.0  \n",
       "3                          647.0                2255.0  \n",
       "4                         6699.0               18770.0  \n",
       "5                         7353.0               19720.0  \n",
       "6                        14854.0               31080.0  \n",
       "7                         8746.0               16090.0  \n",
       "8                         3379.0               13557.0  \n",
       "9                         7563.0               19815.0  \n",
       "10                        7251.0               25738.0  \n",
       "11                        5896.0               10343.0  "
      ]
     },
     "execution_count": 5,
     "metadata": {},
     "output_type": "execute_result"
    }
   ],
   "source": [
    "df_qs.head(12)"
   ]
  },
  {
   "cell_type": "code",
   "execution_count": 6,
   "metadata": {},
   "outputs": [],
   "source": [
    "#USE PICKLE TO SAVE DF\n",
    "#filename=\"./data/QS_ranking\"\n",
    "#df_qs.to_pickle(filename)"
   ]
  },
  {
   "cell_type": "code",
   "execution_count": 7,
   "metadata": {
    "collapsed": true
   },
   "outputs": [],
   "source": [
    "#USE PICKLE TO LOAD DF\n",
    "#filename=\"./data/QS_ranking\"\n",
    "#df_qs =pd.read_pickle(filename)\n"
   ]
  },
  {
   "cell_type": "code",
   "execution_count": 8,
   "metadata": {
    "collapsed": true
   },
   "outputs": [],
   "source": [
    "df_qs['ratio between faculty members and students'] = df_qs['#faculty members total (QS)']/df_qs['#students total (QS)']\n",
    "df_qs['ratio of international students'] = df_qs['#students international (QS)']/df_qs['#students total (QS)']"
   ]
  },
  {
   "cell_type": "code",
   "execution_count": 11,
   "metadata": {},
   "outputs": [
    {
     "data": {
      "text/plain": [
       "<matplotlib.axes._subplots.AxesSubplot at 0x16c911cb6a0>"
      ]
     },
     "execution_count": 11,
     "metadata": {},
     "output_type": "execute_result"
    },
    {
     "data": {
      "image/png": "[encoded data removed]",
      "text/plain": [
       "<matplotlib.figure.Figure at 0x16c9155ca20>"
      ]
     },
     "metadata": {},
     "output_type": "display_data"
    }
   ],
   "source": [
    "df_ratio1 = df_qs.sort_values('ratio between faculty members and students', ascending =False)\n",
    "df_ratio1[['name', 'ratio between faculty members and students']].head()\n",
    "df_ratio1[0:5]['ratio between faculty members and students'].plot.bar()\n"
   ]
  },
  {
   "cell_type": "code",
   "execution_count": 12,
   "metadata": {},
   "outputs": [
    {
     "data": {
      "text/html": [
       "<div>\n",
       "<style>\n",
       "    .dataframe thead tr:only-child th {\n",
       "        text-align: right;\n",
       "    }\n",
       "\n",
       "    .dataframe thead th {\n",
       "        text-align: left;\n",
       "    }\n",
       "\n",
       "    .dataframe tbody tr th {\n",
       "        vertical-align: top;\n",
       "    }\n",
       "</style>\n",
       "<table border=\"1\" class=\"dataframe\">\n",
       "  <thead>\n",
       "    <tr style=\"text-align: right;\">\n",
       "      <th></th>\n",
       "      <th>name</th>\n",
       "      <th>ratio of international students</th>\n",
       "    </tr>\n",
       "  </thead>\n",
       "  <tbody>\n",
       "    <tr>\n",
       "      <th>34</th>\n",
       "      <td>London School of Economics and Political Scien...</td>\n",
       "      <td>0.691393</td>\n",
       "    </tr>\n",
       "    <tr>\n",
       "      <th>11</th>\n",
       "      <td>Ecole Polytechnique Fédérale de Lausanne (EPFL)</td>\n",
       "      <td>0.570047</td>\n",
       "    </tr>\n",
       "    <tr>\n",
       "      <th>7</th>\n",
       "      <td>Imperial College London</td>\n",
       "      <td>0.543567</td>\n",
       "    </tr>\n",
       "    <tr>\n",
       "      <th>198</th>\n",
       "      <td>Maastricht University</td>\n",
       "      <td>0.502533</td>\n",
       "    </tr>\n",
       "    <tr>\n",
       "      <th>47</th>\n",
       "      <td>Carnegie Mellon University</td>\n",
       "      <td>0.478062</td>\n",
       "    </tr>\n",
       "  </tbody>\n",
       "</table>\n",
       "</div>"
      ],
      "text/plain": [
       "                                                  name  \\\n",
       "34   London School of Economics and Political Scien...   \n",
       "11     Ecole Polytechnique Fédérale de Lausanne (EPFL)   \n",
       "7                              Imperial College London   \n",
       "198                              Maastricht University   \n",
       "47                          Carnegie Mellon University   \n",
       "\n",
       "     ratio of international students  \n",
       "34                          0.691393  \n",
       "11                          0.570047  \n",
       "7                           0.543567  \n",
       "198                         0.502533  \n",
       "47                          0.478062  "
      ]
     },
     "execution_count": 12,
     "metadata": {},
     "output_type": "execute_result"
    }
   ],
   "source": [
    "df_ratio2 = df_qs.sort_values('ratio of international students', ascending =False)\n",
    "df_ratio2[['name', 'ratio of international students']].head()"
   ]
  },
  {
   "cell_type": "code",
   "execution_count": 13,
   "metadata": {},
   "outputs": [
    {
     "name": "stdout",
     "output_type": "stream",
     "text": [
      "<pandas.core.groupby.DataFrameGroupBy object at 0x0000016C914CBE80>\n"
     ]
    }
   ],
   "source": [
    " print(df_qs.groupby('country'))\n"
   ]
  },
  {
   "cell_type": "markdown",
   "metadata": {},
   "source": [
    "* Obtain the 200 top-ranking universities in www.timeshighereducation.com ([ranking 2018](http://timeshighereducation.com/world-university-rankings/2018/world-ranking)). Repeat the analysis of the previous point and discuss briefly what you observed."
   ]
  },
  {
   "cell_type": "markdown",
   "metadata": {},
   "source": [
    "* Merge the two DataFrames created in questions 1 and 2 using university names. Match universities' names as well as you can, and explain your strategy. Keep track of the original position in both rankings."
   ]
  },
  {
   "cell_type": "markdown",
   "metadata": {},
   "source": [
    "* Find useful insights in the data by performing an exploratory analysis. Can you find a strong correlation between any pair of variables in the dataset you just created? Example: when a university is strong in its international dimension, can you observe a consistency both for students and faculty members?"
   ]
  },
  {
   "cell_type": "markdown",
   "metadata": {},
   "source": [
    "* Can you find the best university taking in consideration both rankings? Explain your approach."
   ]
  },
  {
   "cell_type": "markdown",
   "metadata": {},
   "source": [
    "Hints:\n",
    "- Keep your Notebook clean and don't print the verbose output of the requests if this does not add useful information for the reader.\n",
    "- In case of tie, use the order defined in the webpage."
   ]
  },
  {
   "cell_type": "code",
   "execution_count": null,
   "metadata": {},
   "outputs": [],
   "source": [
    "\n",
    "url='https://www.timeshighereducation.com/sites/default/files/the_data_rankings/world_university_rankings_2018_limit0_369a9045a203e176392b9fb8f8c1cb2a.json'\n",
    "\n",
    "json_dict= requests.get(url).json()\n",
    "raw_data = pd.DataFrame(json_dict['data'])\n",
    "raw_data.columns\n",
    "data=raw_data[['name','rank','location','stats_number_students','stats_pc_intl_students','stats_student_staff_ratio']]\n",
    "\n",
    "data['rank']=data['rank'].str.extract('(\\d+)').astype('int64')\n",
    "data = data.loc[data['rank']<201]\n",
    "data.rename(columns={'stats_number_students':'students','stats_pc_intl_students':'international students','stats_student_staff_ratio':'staff'},inplace=True)\n",
    "\n",
    "data['students'] = data['students'].str.replace(',','').astype('int64')\n",
    "\n",
    "data['international students'] = data['international students'].str.extract('(\\d+)').astype('float64')\n",
    "data['international students'] = (data['international students']/100)*data['students'].astype('float64')\n",
    "data['international students'] = data['international students'].astype('int64')\n",
    "\n",
    "data['staff'] = data['staff'].astype('float64')\n",
    "data['staff'] = data['students'].astype('float64')/data['staff']\n",
    "data['staff'] = data['staff'].astype('int64')\n"
   ]
  },
  {
   "cell_type": "code",
   "execution_count": null,
   "metadata": {},
   "outputs": [],
   "source": [
    "data.head(10)"
   ]
  }
 ],
 "metadata": {
  "kernelspec": {
   "display_name": "Python [default]",
   "language": "python",
   "name": "python3"
  },
  "language_info": {
   "codemirror_mode": {
    "name": "ipython",
    "version": 3
   },
   "file_extension": ".py",
   "mimetype": "text/x-python",
   "name": "python",
   "nbconvert_exporter": "python",
   "pygments_lexer": "ipython3",
   "version": "3.5.0"
  }
 },
 "nbformat": 4,
 "nbformat_minor": 2
}
