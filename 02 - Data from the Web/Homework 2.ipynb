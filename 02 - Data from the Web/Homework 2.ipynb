{
 "cells": [
  {
   "cell_type": "markdown",
   "metadata": {},
   "source": [
    "# 02 - Data from the Web \n",
    " By Kiran Bacsa, Samuel Beuret, and Valentine Santarelli\n"
   ]
  },
  {
   "cell_type": "code",
   "execution_count": 1,
   "metadata": {
    "collapsed": true
   },
   "outputs": [],
   "source": [
    "# Import libraries\n",
    "import requests\n",
    "from bs4 import BeautifulSoup\n",
    "import pandas as pd \n",
    "import numpy as np\n",
    "import json \n",
    "\n",
    "import seaborn as sns\n",
    "sns.set_palette('Blues')\n",
    "sns.set_context(\"notebook\")\n",
    "\n",
    "import matplotlib.pyplot as plt\n",
    "%matplotlib inline\n",
    "\n",
    "import re\n",
    "\n",
    "import warnings\n",
    "warnings.filterwarnings('ignore')\n",
    "from difflib import SequenceMatcher"
   ]
  },
  {
   "cell_type": "markdown",
   "metadata": {},
   "source": [
    "##  200 top-ranking universities in www.topuniversities.com ([ranking 2018](https://www.topuniversities.com/university-rankings/world-university-rankings/2018)). \n",
    "\n",
    "### Scrapping the web page \n",
    "Using Postman, part of the information needed was found  in a JSON file (name, rank, country, and region). The remaining information to scrap using Beautiful Soup was found on each university's page in the *div* of *class = faculty-main* . \n",
    "* number of faculty members international corresponds to the *div* of *class=inter faculty*\n",
    "* number of faculty members total corresponds to the *div* of *class=total faculty*\n",
    "* number of students international corresponds to the *div* of *class=total inter*\n",
    "* number of students total corresponds to the *div* of *class=total student*"
   ]
  },
  {
   "cell_type": "code",
   "execution_count": 3,
   "metadata": {},
   "outputs": [
    {
     "data": {
      "text/html": [
       "<div>\n",
       "<style>\n",
       "    .dataframe thead tr:only-child th {\n",
       "        text-align: right;\n",
       "    }\n",
       "\n",
       "    .dataframe thead th {\n",
       "        text-align: left;\n",
       "    }\n",
       "\n",
       "    .dataframe tbody tr th {\n",
       "        vertical-align: top;\n",
       "    }\n",
       "</style>\n",
       "<table border=\"1\" class=\"dataframe\">\n",
       "  <thead>\n",
       "    <tr style=\"text-align: right;\">\n",
       "      <th></th>\n",
       "      <th>country</th>\n",
       "      <th>(QS) rank</th>\n",
       "      <th>region</th>\n",
       "      <th>name</th>\n",
       "      <th>(QS) #faculty members international</th>\n",
       "      <th>(QS) #faculty members total</th>\n",
       "      <th>(QS) #students international</th>\n",
       "      <th>(QS) #students total</th>\n",
       "    </tr>\n",
       "  </thead>\n",
       "  <tbody>\n",
       "    <tr>\n",
       "      <th>0</th>\n",
       "      <td>United States</td>\n",
       "      <td>1</td>\n",
       "      <td>North America</td>\n",
       "      <td>Massachusetts Institute of Technology (MIT)</td>\n",
       "      <td>1679.0</td>\n",
       "      <td>2982.0</td>\n",
       "      <td>3717.0</td>\n",
       "      <td>11067.0</td>\n",
       "    </tr>\n",
       "    <tr>\n",
       "      <th>1</th>\n",
       "      <td>United States</td>\n",
       "      <td>2</td>\n",
       "      <td>North America</td>\n",
       "      <td>Stanford University</td>\n",
       "      <td>2042.0</td>\n",
       "      <td>4285.0</td>\n",
       "      <td>3611.0</td>\n",
       "      <td>15878.0</td>\n",
       "    </tr>\n",
       "    <tr>\n",
       "      <th>2</th>\n",
       "      <td>United States</td>\n",
       "      <td>3</td>\n",
       "      <td>North America</td>\n",
       "      <td>Harvard University</td>\n",
       "      <td>1311.0</td>\n",
       "      <td>4350.0</td>\n",
       "      <td>5266.0</td>\n",
       "      <td>22429.0</td>\n",
       "    </tr>\n",
       "    <tr>\n",
       "      <th>3</th>\n",
       "      <td>United States</td>\n",
       "      <td>4</td>\n",
       "      <td>North America</td>\n",
       "      <td>California Institute of Technology (Caltech)</td>\n",
       "      <td>350.0</td>\n",
       "      <td>953.0</td>\n",
       "      <td>647.0</td>\n",
       "      <td>2255.0</td>\n",
       "    </tr>\n",
       "    <tr>\n",
       "      <th>4</th>\n",
       "      <td>United Kingdom</td>\n",
       "      <td>5</td>\n",
       "      <td>Europe</td>\n",
       "      <td>University of Cambridge</td>\n",
       "      <td>2278.0</td>\n",
       "      <td>5490.0</td>\n",
       "      <td>6699.0</td>\n",
       "      <td>18770.0</td>\n",
       "    </tr>\n",
       "  </tbody>\n",
       "</table>\n",
       "</div>"
      ],
      "text/plain": [
       "          country (QS) rank         region  \\\n",
       "0   United States         1  North America   \n",
       "1   United States         2  North America   \n",
       "2   United States         3  North America   \n",
       "3   United States         4  North America   \n",
       "4  United Kingdom         5         Europe   \n",
       "\n",
       "                                           name  \\\n",
       "0   Massachusetts Institute of Technology (MIT)   \n",
       "1                           Stanford University   \n",
       "2                            Harvard University   \n",
       "3  California Institute of Technology (Caltech)   \n",
       "4                       University of Cambridge   \n",
       "\n",
       "   (QS) #faculty members international  (QS) #faculty members total  \\\n",
       "0                               1679.0                       2982.0   \n",
       "1                               2042.0                       4285.0   \n",
       "2                               1311.0                       4350.0   \n",
       "3                                350.0                        953.0   \n",
       "4                               2278.0                       5490.0   \n",
       "\n",
       "   (QS) #students international  (QS) #students total  \n",
       "0                        3717.0               11067.0  \n",
       "1                        3611.0               15878.0  \n",
       "2                        5266.0               22429.0  \n",
       "3                         647.0                2255.0  \n",
       "4                        6699.0               18770.0  "
      ]
     },
     "execution_count": 3,
     "metadata": {},
     "output_type": "execute_result"
    }
   ],
   "source": [
    "\n",
    "# get name, rank, country and region of the 200 first universities\n",
    "\n",
    "#url found using Postman\n",
    "url='https://www.topuniversities.com/sites/default/files/qs-rankings-data/357051.txt?_=1508005996450'\n",
    "universities= requests.get(url).json()['data'][0:200] #take the first 200 universities\n",
    "#first part of the dataframe for topuniversities.com\n",
    "df_qs1 = pd.DataFrame(universities)\n",
    "df_qs1 = df_qs1.drop(['cc','core_id','guide', 'logo','score','stars','nid'], axis=1) #don't need this information\n",
    "\n",
    "#list of urls to universities pages\n",
    "urls =list(df_qs1['url'])\n",
    "\n",
    "# function to get the rest of the needed information on each university page in a dictionnary\n",
    "def get_details(url):\n",
    "    university= requests.get('https://www.topuniversities.com' + url)\n",
    "    soup= BeautifulSoup(university.text,'html.parser')\n",
    "    data= soup.find_all('div', class_= 'faculty-main') \n",
    "\n",
    "    # number of faculty members international\n",
    "    if(soup.find_all('div', class_ = 'inter faculty') != []):\n",
    "        inter_fac_mem = float(soup.find_all('div', class_ = 'inter faculty')[0].find_all('div', class_ = 'number')[0].string.replace(',',''))\n",
    "    else:\n",
    "        inter_fac_mem = float('nan')\n",
    "        \n",
    "    # number of faculty members total\n",
    "    if(soup.find_all('div', class_ = 'total faculty')!= []):\n",
    "        total_fac_mem = float(soup.find_all('div', class_ = 'total faculty')[0].find_all('div', class_ = 'number')[0].string.replace(',',''))\n",
    "    else:\n",
    "        total_fac_mem = float('nan')\n",
    "        \n",
    "    # number of students international\n",
    "    if(soup.find_all('div', class_ = 'total inter')!= []):\n",
    "        inter_student = float(soup.find_all('div', class_ = 'total inter')[0].find_all('div', class_ = 'number')[0].string.replace(',',''))\n",
    "    else:\n",
    "        inter_student = float('nan')\n",
    "        \n",
    "    # number of students total\n",
    "    if(soup.find_all('div', class_ = 'total student')!= []):\n",
    "        total_student = float(soup.find_all('div', class_ = 'total student')[0].find_all('div', class_ = 'number')[0].string.replace(',',''))\n",
    "    else:\n",
    "        total_student = float('nan')\n",
    "\n",
    "    #output dictionnary (keep the url to merge later)\n",
    "    details = {'url' : url, '(QS) #faculty members international' : inter_fac_mem,\n",
    "          '(QS) #faculty members total' : total_fac_mem,\n",
    "          '(QS) #students international': inter_student,\n",
    "          '(QS) #students total' : total_student}\n",
    "    return details\n",
    "\n",
    "#list of dictionnaries \n",
    "details = []    \n",
    "for url in urls:\n",
    "    details.append(get_details(url))\n",
    "#convert to pd.DataFrame\n",
    "df_qs2 = pd.DataFrame(details)\n",
    "\n",
    "#merge the two dataframes using the url\n",
    "df_qs= pd.merge(df_qs1, df_qs2, 'outer')\n",
    "df_qs.rename(columns={'rank_display': '(QS) rank', 'title': 'name'}, inplace=True)\n",
    "df_qs = df_qs.drop('url', axis=1) #drop the url once the merge is done\n",
    "\n",
    "df_qs.head()\n"
   ]
  },
  {
   "cell_type": "markdown",
   "metadata": {},
   "source": [
    "In order to avoid scrapping the web pages every time we need the dataset *df_qs*, the later was exported in a file using the pandas fucntion *to_pickle()*, and imported with *from_pickle()*."
   ]
  },
  {
   "cell_type": "code",
   "execution_count": 4,
   "metadata": {
    "collapsed": true
   },
   "outputs": [],
   "source": [
    "#USE PICKLE TO SAVE DF\n",
    "filename=\"./data/QS_ranking\"\n",
    "df_qs.to_pickle(filename)"
   ]
  },
  {
   "cell_type": "code",
   "execution_count": 5,
   "metadata": {},
   "outputs": [
    {
     "data": {
      "text/html": [
       "<div>\n",
       "<style>\n",
       "    .dataframe thead tr:only-child th {\n",
       "        text-align: right;\n",
       "    }\n",
       "\n",
       "    .dataframe thead th {\n",
       "        text-align: left;\n",
       "    }\n",
       "\n",
       "    .dataframe tbody tr th {\n",
       "        vertical-align: top;\n",
       "    }\n",
       "</style>\n",
       "<table border=\"1\" class=\"dataframe\">\n",
       "  <thead>\n",
       "    <tr style=\"text-align: right;\">\n",
       "      <th></th>\n",
       "      <th>country</th>\n",
       "      <th>(QS) rank</th>\n",
       "      <th>region</th>\n",
       "      <th>name</th>\n",
       "      <th>(QS) #faculty members international</th>\n",
       "      <th>(QS) #faculty members total</th>\n",
       "      <th>(QS) #students international</th>\n",
       "      <th>(QS) #students total</th>\n",
       "    </tr>\n",
       "  </thead>\n",
       "  <tbody>\n",
       "    <tr>\n",
       "      <th>0</th>\n",
       "      <td>United States</td>\n",
       "      <td>1</td>\n",
       "      <td>North America</td>\n",
       "      <td>Massachusetts Institute of Technology (MIT)</td>\n",
       "      <td>1679.0</td>\n",
       "      <td>2982.0</td>\n",
       "      <td>3717.0</td>\n",
       "      <td>11067.0</td>\n",
       "    </tr>\n",
       "    <tr>\n",
       "      <th>1</th>\n",
       "      <td>United States</td>\n",
       "      <td>2</td>\n",
       "      <td>North America</td>\n",
       "      <td>Stanford University</td>\n",
       "      <td>2042.0</td>\n",
       "      <td>4285.0</td>\n",
       "      <td>3611.0</td>\n",
       "      <td>15878.0</td>\n",
       "    </tr>\n",
       "    <tr>\n",
       "      <th>2</th>\n",
       "      <td>United States</td>\n",
       "      <td>3</td>\n",
       "      <td>North America</td>\n",
       "      <td>Harvard University</td>\n",
       "      <td>1311.0</td>\n",
       "      <td>4350.0</td>\n",
       "      <td>5266.0</td>\n",
       "      <td>22429.0</td>\n",
       "    </tr>\n",
       "    <tr>\n",
       "      <th>3</th>\n",
       "      <td>United States</td>\n",
       "      <td>4</td>\n",
       "      <td>North America</td>\n",
       "      <td>California Institute of Technology (Caltech)</td>\n",
       "      <td>350.0</td>\n",
       "      <td>953.0</td>\n",
       "      <td>647.0</td>\n",
       "      <td>2255.0</td>\n",
       "    </tr>\n",
       "    <tr>\n",
       "      <th>4</th>\n",
       "      <td>United Kingdom</td>\n",
       "      <td>5</td>\n",
       "      <td>Europe</td>\n",
       "      <td>University of Cambridge</td>\n",
       "      <td>2278.0</td>\n",
       "      <td>5490.0</td>\n",
       "      <td>6699.0</td>\n",
       "      <td>18770.0</td>\n",
       "    </tr>\n",
       "  </tbody>\n",
       "</table>\n",
       "</div>"
      ],
      "text/plain": [
       "          country (QS) rank         region  \\\n",
       "0   United States         1  North America   \n",
       "1   United States         2  North America   \n",
       "2   United States         3  North America   \n",
       "3   United States         4  North America   \n",
       "4  United Kingdom         5         Europe   \n",
       "\n",
       "                                           name  \\\n",
       "0   Massachusetts Institute of Technology (MIT)   \n",
       "1                           Stanford University   \n",
       "2                            Harvard University   \n",
       "3  California Institute of Technology (Caltech)   \n",
       "4                       University of Cambridge   \n",
       "\n",
       "   (QS) #faculty members international  (QS) #faculty members total  \\\n",
       "0                               1679.0                       2982.0   \n",
       "1                               2042.0                       4285.0   \n",
       "2                               1311.0                       4350.0   \n",
       "3                                350.0                        953.0   \n",
       "4                               2278.0                       5490.0   \n",
       "\n",
       "   (QS) #students international  (QS) #students total  \n",
       "0                        3717.0               11067.0  \n",
       "1                        3611.0               15878.0  \n",
       "2                        5266.0               22429.0  \n",
       "3                         647.0                2255.0  \n",
       "4                        6699.0               18770.0  "
      ]
     },
     "execution_count": 5,
     "metadata": {},
     "output_type": "execute_result"
    }
   ],
   "source": [
    "#USE PICKLE TO LOAD DF\n",
    "filename=\"./data/QS_ranking\"\n",
    "df_qs =pd.read_pickle(filename)\n",
    "df_qs.head()"
   ]
  },
  {
   "cell_type": "markdown",
   "metadata": {},
   "source": [
    "We verify that there is no ties in the ranking and if so, we keep the order of display on the web page.\n",
    "We found the ties using the *duplicated()* pandas function. Each time a duplicate is found (i.e a tie) we increment all the ranks below by one.\n",
    "As expected the rank column is unique at the end."
   ]
  },
  {
   "cell_type": "code",
   "execution_count": 6,
   "metadata": {
    "scrolled": true
   },
   "outputs": [
    {
     "name": "stdout",
     "output_type": "stream",
     "text": [
      "True\n"
     ]
    }
   ],
   "source": [
    "df_qs['(QS) rank']=df_qs['(QS) rank'].str.extract('(\\d+)').astype('int64')\n",
    "bool_dup = df_qs['(QS) rank'].duplicated()\n",
    "ind_dup = bool_dup[bool_dup == True].index\n",
    "\n",
    "#until no more duplicates\n",
    "for ind in ind_dup :\n",
    "    #add +1 the all the ranks below this duplicate\n",
    "    df_qs['(QS) rank'][ind : len(df_qs['(QS) rank'])] = df_qs['(QS) rank'][ind : len(df_qs['(QS) rank']) ] + 1;\n",
    "\n",
    "#verify the rank column is unique i.e no ties   \n",
    "print(df_qs['(QS) rank'].is_unique)\n",
    "\n"
   ]
  },
  {
   "cell_type": "markdown",
   "metadata": {},
   "source": [
    "### Which are the best universities in term of: (a) ratio between faculty members and students, (b) ratio of international students?"
   ]
  },
  {
   "cell_type": "code",
   "execution_count": 7,
   "metadata": {},
   "outputs": [
    {
     "data": {
      "text/html": [
       "<div>\n",
       "<style>\n",
       "    .dataframe thead tr:only-child th {\n",
       "        text-align: right;\n",
       "    }\n",
       "\n",
       "    .dataframe thead th {\n",
       "        text-align: left;\n",
       "    }\n",
       "\n",
       "    .dataframe tbody tr th {\n",
       "        vertical-align: top;\n",
       "    }\n",
       "</style>\n",
       "<table border=\"1\" class=\"dataframe\">\n",
       "  <thead>\n",
       "    <tr style=\"text-align: right;\">\n",
       "      <th></th>\n",
       "      <th>country</th>\n",
       "      <th>(QS) rank</th>\n",
       "      <th>region</th>\n",
       "      <th>name</th>\n",
       "      <th>(QS) #faculty members international</th>\n",
       "      <th>(QS) #faculty members total</th>\n",
       "      <th>(QS) #students international</th>\n",
       "      <th>(QS) #students total</th>\n",
       "      <th>(QS) faculty members/students</th>\n",
       "      <th>(QS) international students/ total students</th>\n",
       "    </tr>\n",
       "  </thead>\n",
       "  <tbody>\n",
       "    <tr>\n",
       "      <th>0</th>\n",
       "      <td>United States</td>\n",
       "      <td>1</td>\n",
       "      <td>North America</td>\n",
       "      <td>Massachusetts Institute of Technology (MIT)</td>\n",
       "      <td>1679.0</td>\n",
       "      <td>2982.0</td>\n",
       "      <td>3717.0</td>\n",
       "      <td>11067.0</td>\n",
       "      <td>0.269450</td>\n",
       "      <td>0.335863</td>\n",
       "    </tr>\n",
       "    <tr>\n",
       "      <th>1</th>\n",
       "      <td>United States</td>\n",
       "      <td>2</td>\n",
       "      <td>North America</td>\n",
       "      <td>Stanford University</td>\n",
       "      <td>2042.0</td>\n",
       "      <td>4285.0</td>\n",
       "      <td>3611.0</td>\n",
       "      <td>15878.0</td>\n",
       "      <td>0.269870</td>\n",
       "      <td>0.227422</td>\n",
       "    </tr>\n",
       "    <tr>\n",
       "      <th>2</th>\n",
       "      <td>United States</td>\n",
       "      <td>3</td>\n",
       "      <td>North America</td>\n",
       "      <td>Harvard University</td>\n",
       "      <td>1311.0</td>\n",
       "      <td>4350.0</td>\n",
       "      <td>5266.0</td>\n",
       "      <td>22429.0</td>\n",
       "      <td>0.193945</td>\n",
       "      <td>0.234785</td>\n",
       "    </tr>\n",
       "    <tr>\n",
       "      <th>3</th>\n",
       "      <td>United States</td>\n",
       "      <td>4</td>\n",
       "      <td>North America</td>\n",
       "      <td>California Institute of Technology (Caltech)</td>\n",
       "      <td>350.0</td>\n",
       "      <td>953.0</td>\n",
       "      <td>647.0</td>\n",
       "      <td>2255.0</td>\n",
       "      <td>0.422616</td>\n",
       "      <td>0.286918</td>\n",
       "    </tr>\n",
       "    <tr>\n",
       "      <th>4</th>\n",
       "      <td>United Kingdom</td>\n",
       "      <td>5</td>\n",
       "      <td>Europe</td>\n",
       "      <td>University of Cambridge</td>\n",
       "      <td>2278.0</td>\n",
       "      <td>5490.0</td>\n",
       "      <td>6699.0</td>\n",
       "      <td>18770.0</td>\n",
       "      <td>0.292488</td>\n",
       "      <td>0.356899</td>\n",
       "    </tr>\n",
       "  </tbody>\n",
       "</table>\n",
       "</div>"
      ],
      "text/plain": [
       "          country  (QS) rank         region  \\\n",
       "0   United States          1  North America   \n",
       "1   United States          2  North America   \n",
       "2   United States          3  North America   \n",
       "3   United States          4  North America   \n",
       "4  United Kingdom          5         Europe   \n",
       "\n",
       "                                           name  \\\n",
       "0   Massachusetts Institute of Technology (MIT)   \n",
       "1                           Stanford University   \n",
       "2                            Harvard University   \n",
       "3  California Institute of Technology (Caltech)   \n",
       "4                       University of Cambridge   \n",
       "\n",
       "   (QS) #faculty members international  (QS) #faculty members total  \\\n",
       "0                               1679.0                       2982.0   \n",
       "1                               2042.0                       4285.0   \n",
       "2                               1311.0                       4350.0   \n",
       "3                                350.0                        953.0   \n",
       "4                               2278.0                       5490.0   \n",
       "\n",
       "   (QS) #students international  (QS) #students total  \\\n",
       "0                        3717.0               11067.0   \n",
       "1                        3611.0               15878.0   \n",
       "2                        5266.0               22429.0   \n",
       "3                         647.0                2255.0   \n",
       "4                        6699.0               18770.0   \n",
       "\n",
       "   (QS) faculty members/students  (QS) international students/ total students  \n",
       "0                       0.269450                                     0.335863  \n",
       "1                       0.269870                                     0.227422  \n",
       "2                       0.193945                                     0.234785  \n",
       "3                       0.422616                                     0.286918  \n",
       "4                       0.292488                                     0.356899  "
      ]
     },
     "execution_count": 7,
     "metadata": {},
     "output_type": "execute_result"
    }
   ],
   "source": [
    "# adding the ratios to the df_qs dataframe\n",
    "df_qs['(QS) faculty members/students'] = df_qs['(QS) #faculty members total']/df_qs['(QS) #students total']\n",
    "df_qs['(QS) international students/ total students'] = df_qs['(QS) #students international']/df_qs['(QS) #students total']\n",
    "df_qs.head()"
   ]
  },
  {
   "cell_type": "code",
   "execution_count": 8,
   "metadata": {},
   "outputs": [
    {
     "data": {
      "image/png": "[encoded data removed]",
      "text/plain": [
       "<matplotlib.figure.Figure at 0x7f0a73c98e10>"
      ]
     },
     "metadata": {},
     "output_type": "display_data"
    }
   ],
   "source": [
    "#Plotting the ratio faculty members/students for the 10 first universities\n",
    "df_ratio1 = df_qs.sort_values('(QS) faculty members/students', ascending =False) #sort by ratio\n",
    "df_ratio1.set_index(['name'],inplace=True) #set name of universities as index for the plot\n",
    "df_ratio1= df_ratio1['(QS) faculty members/students'] #extract only the column  needed\n",
    "\n",
    "ax = df_ratio1[0:10].plot.bar()\n",
    "ax.set_xlabel(\"Universities\", fontsize=12)\n",
    "plt.title(\"Ratio between faculty members and students\")\n",
    "plt.show()\n"
   ]
  },
  {
   "cell_type": "markdown",
   "metadata": {},
   "source": [
    "The best universities in term of ratio of faculty members and students are :\n",
    "* Caltech\n",
    "* Yale University\n",
    "* University of Oxford"
   ]
  },
  {
   "cell_type": "code",
   "execution_count": 9,
   "metadata": {},
   "outputs": [
    {
     "data": {
      "image/png": "[encoded data removed]",
      "text/plain": [
       "<matplotlib.figure.Figure at 0x7f0a73f5d5f8>"
      ]
     },
     "metadata": {},
     "output_type": "display_data"
    }
   ],
   "source": [
    "#Plotting the ratio of international students for the first 10 universities\n",
    "df_ratio2 = df_qs.sort_values('(QS) international students/ total students', ascending =False)#sort by ratio\n",
    "df_ratio2.set_index(['name'],inplace=True) #set name of universities as index for the plot\n",
    "df_ratio2= df_ratio2['(QS) international students/ total students']#extract only the column  needed\n",
    "\n",
    "ax = df_ratio2[0:10].plot.bar()\n",
    "ax.set_xlabel(\"Universities\", fontsize=12)\n",
    "plt.title(\"Ratio of international students\")\n",
    "plt.show()"
   ]
  },
  {
   "cell_type": "markdown",
   "metadata": {},
   "source": [
    "The best universities in term of ratio of international students are :\n",
    "* LSE\n",
    "* EPFL\n",
    "* Imperial College London\n",
    "\n"
   ]
  },
  {
   "cell_type": "markdown",
   "metadata": {},
   "source": [
    "### Which are the best country in term of: (a) ratio between faculty members and students, (b) ratio of international students?"
   ]
  },
  {
   "cell_type": "code",
   "execution_count": 10,
   "metadata": {},
   "outputs": [
    {
     "data": {
      "text/html": [
       "<div>\n",
       "<style>\n",
       "    .dataframe thead tr:only-child th {\n",
       "        text-align: right;\n",
       "    }\n",
       "\n",
       "    .dataframe thead th {\n",
       "        text-align: left;\n",
       "    }\n",
       "\n",
       "    .dataframe tbody tr th {\n",
       "        vertical-align: top;\n",
       "    }\n",
       "</style>\n",
       "<table border=\"1\" class=\"dataframe\">\n",
       "  <thead>\n",
       "    <tr style=\"text-align: right;\">\n",
       "      <th></th>\n",
       "      <th>(QS) rank</th>\n",
       "      <th>(QS) #faculty members international</th>\n",
       "      <th>(QS) #faculty members total</th>\n",
       "      <th>(QS) #students international</th>\n",
       "      <th>(QS) #students total</th>\n",
       "      <th>(QS) faculty members/students</th>\n",
       "      <th>(QS) international students/ total students</th>\n",
       "    </tr>\n",
       "    <tr>\n",
       "      <th>country</th>\n",
       "      <th></th>\n",
       "      <th></th>\n",
       "      <th></th>\n",
       "      <th></th>\n",
       "      <th></th>\n",
       "      <th></th>\n",
       "      <th></th>\n",
       "    </tr>\n",
       "  </thead>\n",
       "  <tbody>\n",
       "    <tr>\n",
       "      <th>Argentina</th>\n",
       "      <td>84.000000</td>\n",
       "      <td>3165.000000</td>\n",
       "      <td>16421.000000</td>\n",
       "      <td>27109.000000</td>\n",
       "      <td>122301.000000</td>\n",
       "      <td>0.134267</td>\n",
       "      <td>0.221658</td>\n",
       "    </tr>\n",
       "    <tr>\n",
       "      <th>Australia</th>\n",
       "      <td>82.555556</td>\n",
       "      <td>1264.666667</td>\n",
       "      <td>2448.222222</td>\n",
       "      <td>11817.666667</td>\n",
       "      <td>33554.888889</td>\n",
       "      <td>0.076407</td>\n",
       "      <td>0.346878</td>\n",
       "    </tr>\n",
       "    <tr>\n",
       "      <th>Austria</th>\n",
       "      <td>203.000000</td>\n",
       "      <td>786.000000</td>\n",
       "      <td>2058.500000</td>\n",
       "      <td>9833.500000</td>\n",
       "      <td>31723.000000</td>\n",
       "      <td>0.057298</td>\n",
       "      <td>0.306095</td>\n",
       "    </tr>\n",
       "    <tr>\n",
       "      <th>Belgium</th>\n",
       "      <td>157.500000</td>\n",
       "      <td>546.750000</td>\n",
       "      <td>2011.500000</td>\n",
       "      <td>4253.250000</td>\n",
       "      <td>28766.750000</td>\n",
       "      <td>0.092131</td>\n",
       "      <td>0.160108</td>\n",
       "    </tr>\n",
       "    <tr>\n",
       "      <th>Brazil</th>\n",
       "      <td>181.500000</td>\n",
       "      <td>194.000000</td>\n",
       "      <td>3775.000000</td>\n",
       "      <td>1526.000000</td>\n",
       "      <td>46141.500000</td>\n",
       "      <td>0.079505</td>\n",
       "      <td>0.034050</td>\n",
       "    </tr>\n",
       "  </tbody>\n",
       "</table>\n",
       "</div>"
      ],
      "text/plain": [
       "            (QS) rank  (QS) #faculty members international  \\\n",
       "country                                                      \n",
       "Argentina   84.000000                          3165.000000   \n",
       "Australia   82.555556                          1264.666667   \n",
       "Austria    203.000000                           786.000000   \n",
       "Belgium    157.500000                           546.750000   \n",
       "Brazil     181.500000                           194.000000   \n",
       "\n",
       "           (QS) #faculty members total  (QS) #students international  \\\n",
       "country                                                                \n",
       "Argentina                 16421.000000                  27109.000000   \n",
       "Australia                  2448.222222                  11817.666667   \n",
       "Austria                    2058.500000                   9833.500000   \n",
       "Belgium                    2011.500000                   4253.250000   \n",
       "Brazil                     3775.000000                   1526.000000   \n",
       "\n",
       "           (QS) #students total  (QS) faculty members/students  \\\n",
       "country                                                          \n",
       "Argentina         122301.000000                       0.134267   \n",
       "Australia          33554.888889                       0.076407   \n",
       "Austria            31723.000000                       0.057298   \n",
       "Belgium            28766.750000                       0.092131   \n",
       "Brazil             46141.500000                       0.079505   \n",
       "\n",
       "           (QS) international students/ total students  \n",
       "country                                                 \n",
       "Argentina                                     0.221658  \n",
       "Australia                                     0.346878  \n",
       "Austria                                       0.306095  \n",
       "Belgium                                       0.160108  \n",
       "Brazil                                        0.034050  "
      ]
     },
     "execution_count": 10,
     "metadata": {},
     "output_type": "execute_result"
    }
   ],
   "source": [
    "#Create a new dataframe by aggregating values by country.\n",
    "df_country = df_qs.groupby('country').mean()\n",
    "df_country.head()"
   ]
  },
  {
   "cell_type": "code",
   "execution_count": 11,
   "metadata": {
    "scrolled": true
   },
   "outputs": [
    {
     "data": {
      "image/png": "[encoded data removed]",
      "text/plain": [
       "<matplotlib.figure.Figure at 0x7f0a745ecba8>"
      ]
     },
     "metadata": {},
     "output_type": "display_data"
    }
   ],
   "source": [
    "#sort by ratio and extract the columns needed\n",
    "df_country_ratio1 = df_country.sort_values('(QS) faculty members/students', ascending =False)\n",
    "df_country_ratio1= df_country_ratio1['(QS) faculty members/students']\n",
    "\n",
    "#Plot the sorted countries\n",
    "ax = df_country_ratio1[0:10].plot.bar()\n",
    "ax.set_xlabel(\"Country\", fontsize=12)\n",
    "plt.title(\"Ratio between faculty members and students\")\n",
    "plt.show()"
   ]
  },
  {
   "cell_type": "markdown",
   "metadata": {},
   "source": [
    "The best countries in term of ratio of faculty members and students are :\n",
    "* Russia\n",
    "* Denmark\n",
    "* Saudi Arabia"
   ]
  },
  {
   "cell_type": "code",
   "execution_count": 12,
   "metadata": {},
   "outputs": [
    {
     "data": {
      "image/png": "[encoded data removed]",
      "text/plain": [
       "<matplotlib.figure.Figure at 0x7f0a73f48eb8>"
      ]
     },
     "metadata": {},
     "output_type": "display_data"
    }
   ],
   "source": [
    "#sort by ratio and extract the columns needed\n",
    "df_country_ratio2 = df_country.sort_values('(QS) international students/ total students', ascending =False)\n",
    "df_country_ratio2= df_country_ratio2['(QS) international students/ total students']\n",
    "\n",
    "#Plot the sorted countries\n",
    "ax = df_country_ratio2[0:10].plot.bar()\n",
    "ax.set_xlabel(\"Country\", fontsize=12)\n",
    "plt.title(\"Ratio of international students\")\n",
    "plt.show()"
   ]
  },
  {
   "cell_type": "markdown",
   "metadata": {},
   "source": [
    "The best countries in term of ratio of international students are :\n",
    "* UK\n",
    "* Australia\n",
    "* Switzerland"
   ]
  },
  {
   "cell_type": "markdown",
   "metadata": {},
   "source": [
    "### Which are the best region in term of: (a) ratio between faculty members and students, (b) ratio of international students?"
   ]
  },
  {
   "cell_type": "code",
   "execution_count": 13,
   "metadata": {},
   "outputs": [
    {
     "data": {
      "text/html": [
       "<div>\n",
       "<style>\n",
       "    .dataframe thead tr:only-child th {\n",
       "        text-align: right;\n",
       "    }\n",
       "\n",
       "    .dataframe thead th {\n",
       "        text-align: left;\n",
       "    }\n",
       "\n",
       "    .dataframe tbody tr th {\n",
       "        vertical-align: top;\n",
       "    }\n",
       "</style>\n",
       "<table border=\"1\" class=\"dataframe\">\n",
       "  <thead>\n",
       "    <tr style=\"text-align: right;\">\n",
       "      <th></th>\n",
       "      <th>(QS) rank</th>\n",
       "      <th>(QS) #faculty members international</th>\n",
       "      <th>(QS) #faculty members total</th>\n",
       "      <th>(QS) #students international</th>\n",
       "      <th>(QS) #students total</th>\n",
       "      <th>(QS) faculty members/students</th>\n",
       "      <th>(QS) international students/ total students</th>\n",
       "    </tr>\n",
       "    <tr>\n",
       "      <th>region</th>\n",
       "      <th></th>\n",
       "      <th></th>\n",
       "      <th></th>\n",
       "      <th></th>\n",
       "      <th></th>\n",
       "      <th></th>\n",
       "      <th></th>\n",
       "    </tr>\n",
       "  </thead>\n",
       "  <tbody>\n",
       "    <tr>\n",
       "      <th>Africa</th>\n",
       "      <td>232.000000</td>\n",
       "      <td>379.000000</td>\n",
       "      <td>1733.000000</td>\n",
       "      <td>3325.000000</td>\n",
       "      <td>19593.000000</td>\n",
       "      <td>0.088450</td>\n",
       "      <td>0.169703</td>\n",
       "    </tr>\n",
       "    <tr>\n",
       "      <th>Asia</th>\n",
       "      <td>103.684211</td>\n",
       "      <td>688.162162</td>\n",
       "      <td>2808.789474</td>\n",
       "      <td>2897.368421</td>\n",
       "      <td>21236.921053</td>\n",
       "      <td>0.134673</td>\n",
       "      <td>0.132394</td>\n",
       "    </tr>\n",
       "    <tr>\n",
       "      <th>Europe</th>\n",
       "      <td>135.719101</td>\n",
       "      <td>759.528090</td>\n",
       "      <td>2453.460674</td>\n",
       "      <td>5049.033708</td>\n",
       "      <td>21991.584270</td>\n",
       "      <td>0.120003</td>\n",
       "      <td>0.245932</td>\n",
       "    </tr>\n",
       "    <tr>\n",
       "      <th>Latin America</th>\n",
       "      <td>177.714286</td>\n",
       "      <td>806.857143</td>\n",
       "      <td>6483.142857</td>\n",
       "      <td>5267.285714</td>\n",
       "      <td>62250.000000</td>\n",
       "      <td>0.096779</td>\n",
       "      <td>0.071751</td>\n",
       "    </tr>\n",
       "    <tr>\n",
       "      <th>North America</th>\n",
       "      <td>95.000000</td>\n",
       "      <td>827.094340</td>\n",
       "      <td>3436.283019</td>\n",
       "      <td>5511.622642</td>\n",
       "      <td>29176.471698</td>\n",
       "      <td>0.144831</td>\n",
       "      <td>0.202437</td>\n",
       "    </tr>\n",
       "  </tbody>\n",
       "</table>\n",
       "</div>"
      ],
      "text/plain": [
       "                (QS) rank  (QS) #faculty members international  \\\n",
       "region                                                           \n",
       "Africa         232.000000                           379.000000   \n",
       "Asia           103.684211                           688.162162   \n",
       "Europe         135.719101                           759.528090   \n",
       "Latin America  177.714286                           806.857143   \n",
       "North America   95.000000                           827.094340   \n",
       "\n",
       "               (QS) #faculty members total  (QS) #students international  \\\n",
       "region                                                                     \n",
       "Africa                         1733.000000                   3325.000000   \n",
       "Asia                           2808.789474                   2897.368421   \n",
       "Europe                         2453.460674                   5049.033708   \n",
       "Latin America                  6483.142857                   5267.285714   \n",
       "North America                  3436.283019                   5511.622642   \n",
       "\n",
       "               (QS) #students total  (QS) faculty members/students  \\\n",
       "region                                                               \n",
       "Africa                 19593.000000                       0.088450   \n",
       "Asia                   21236.921053                       0.134673   \n",
       "Europe                 21991.584270                       0.120003   \n",
       "Latin America          62250.000000                       0.096779   \n",
       "North America          29176.471698                       0.144831   \n",
       "\n",
       "               (QS) international students/ total students  \n",
       "region                                                      \n",
       "Africa                                            0.169703  \n",
       "Asia                                              0.132394  \n",
       "Europe                                            0.245932  \n",
       "Latin America                                     0.071751  \n",
       "North America                                     0.202437  "
      ]
     },
     "execution_count": 13,
     "metadata": {},
     "output_type": "execute_result"
    }
   ],
   "source": [
    "#Create a new dataframe by aggregating values by region.\n",
    "df_region = df_qs.groupby('region').mean()\n",
    "df_region.head()"
   ]
  },
  {
   "cell_type": "code",
   "execution_count": 14,
   "metadata": {},
   "outputs": [
    {
     "data": {
      "image/png": "[encoded data removed]",
      "text/plain": [
       "<matplotlib.figure.Figure at 0x7f0a74c90438>"
      ]
     },
     "metadata": {},
     "output_type": "display_data"
    }
   ],
   "source": [
    "#Sort by ratio and extract the columns needed\n",
    "df_region_ratio1 = df_region.sort_values('(QS) faculty members/students', ascending =False)\n",
    "df_region_ratio1= df_region_ratio1['(QS) faculty members/students']\n",
    "\n",
    "#Plot the sorted regions\n",
    "ax = df_region_ratio1.plot.bar()\n",
    "ax.set_xlabel(\"Region\", fontsize=12)\n",
    "plt.title(\"Ratio between faculty members and students\")\n",
    "plt.show()"
   ]
  },
  {
   "cell_type": "markdown",
   "metadata": {},
   "source": [
    "The best regions in term of ratio of faculty members and students are :\n",
    "* North America\n",
    "* Asia\n",
    "* Europe"
   ]
  },
  {
   "cell_type": "code",
   "execution_count": 15,
   "metadata": {},
   "outputs": [
    {
     "data": {
      "image/png": "[encoded data removed]",
      "text/plain": [
       "<matplotlib.figure.Figure at 0x7f0a743dd5c0>"
      ]
     },
     "metadata": {},
     "output_type": "display_data"
    }
   ],
   "source": [
    "df_region_ratio2 = df_region.sort_values('(QS) international students/ total students', ascending =False)\n",
    "df_region_ratio2= df_region_ratio2['(QS) international students/ total students']\n",
    "\n",
    "ax = df_region_ratio2.plot.bar()\n",
    "ax.set_xlabel(\"Region\", fontsize=12)\n",
    "plt.title(\"Ratio of international students\")\n",
    "plt.show()"
   ]
  },
  {
   "cell_type": "markdown",
   "metadata": {},
   "source": [
    "The best regions in term of ratio of international students are :\n",
    "* Oceania\n",
    "* Europe\n",
    "* North America"
   ]
  },
  {
   "cell_type": "markdown",
   "metadata": {},
   "source": [
    "##  200 top-ranking universities in www.timeshighereducation.com ([ranking 2018](http://timeshighereducation.com/world-university-rankings/2018/world-ranking)).\n",
    "\n",
    "### Scrapping the web page "
   ]
  },
  {
   "cell_type": "markdown",
   "metadata": {},
   "source": [
    "On the page of the 2018 Times Higher Eduction ranking, we have found a direct link to a JSON page (given by the URL in the code below). This allowed us to directly load the JSON dataset with the tools provided by pandas, without using Requests or BeautifulSoup.\n",
    "\n",
    "We performed a preprocessing by selecting only the first 200 ranks of the dataset, removing the \"equal\" symbols in front of the rank numbers, renaming the columns and removing the commas in the numbers.\n",
    "\n",
    "Since international student and staff ratios are given, we need to multiply them with the overall number of students to get the total staff and international students count. The number of international staff is however not available in the dataset, nor the region of the university. \n",
    "\n",
    "We also added a command to save the dataset in a file to avoid loading the data from internet at every execution."
   ]
  },
  {
   "cell_type": "code",
   "execution_count": 16,
   "metadata": {},
   "outputs": [
    {
     "data": {
      "text/html": [
       "<div>\n",
       "<style>\n",
       "    .dataframe thead tr:only-child th {\n",
       "        text-align: right;\n",
       "    }\n",
       "\n",
       "    .dataframe thead th {\n",
       "        text-align: left;\n",
       "    }\n",
       "\n",
       "    .dataframe tbody tr th {\n",
       "        vertical-align: top;\n",
       "    }\n",
       "</style>\n",
       "<table border=\"1\" class=\"dataframe\">\n",
       "  <thead>\n",
       "    <tr style=\"text-align: right;\">\n",
       "      <th></th>\n",
       "      <th>name</th>\n",
       "      <th>(Times) rank</th>\n",
       "      <th>country</th>\n",
       "      <th>(Times) #students total</th>\n",
       "      <th>(Times) #students international</th>\n",
       "      <th>(Times) #faculty members total</th>\n",
       "    </tr>\n",
       "  </thead>\n",
       "  <tbody>\n",
       "    <tr>\n",
       "      <th>0</th>\n",
       "      <td>University of Oxford</td>\n",
       "      <td>1</td>\n",
       "      <td>United Kingdom</td>\n",
       "      <td>20409</td>\n",
       "      <td>7755</td>\n",
       "      <td>1822</td>\n",
       "    </tr>\n",
       "    <tr>\n",
       "      <th>1</th>\n",
       "      <td>University of Cambridge</td>\n",
       "      <td>2</td>\n",
       "      <td>United Kingdom</td>\n",
       "      <td>18389</td>\n",
       "      <td>6436</td>\n",
       "      <td>1687</td>\n",
       "    </tr>\n",
       "    <tr>\n",
       "      <th>2</th>\n",
       "      <td>California Institute of Technology</td>\n",
       "      <td>3</td>\n",
       "      <td>United States</td>\n",
       "      <td>2209</td>\n",
       "      <td>596</td>\n",
       "      <td>339</td>\n",
       "    </tr>\n",
       "    <tr>\n",
       "      <th>3</th>\n",
       "      <td>Stanford University</td>\n",
       "      <td>3</td>\n",
       "      <td>United States</td>\n",
       "      <td>15845</td>\n",
       "      <td>3485</td>\n",
       "      <td>2112</td>\n",
       "    </tr>\n",
       "    <tr>\n",
       "      <th>4</th>\n",
       "      <td>Massachusetts Institute of Technology</td>\n",
       "      <td>5</td>\n",
       "      <td>United States</td>\n",
       "      <td>11177</td>\n",
       "      <td>3800</td>\n",
       "      <td>1284</td>\n",
       "    </tr>\n",
       "  </tbody>\n",
       "</table>\n",
       "</div>"
      ],
      "text/plain": [
       "                                    name  (Times) rank         country  \\\n",
       "0                   University of Oxford             1  United Kingdom   \n",
       "1                University of Cambridge             2  United Kingdom   \n",
       "2     California Institute of Technology             3   United States   \n",
       "3                    Stanford University             3   United States   \n",
       "4  Massachusetts Institute of Technology             5   United States   \n",
       "\n",
       "   (Times) #students total  (Times) #students international  \\\n",
       "0                    20409                             7755   \n",
       "1                    18389                             6436   \n",
       "2                     2209                              596   \n",
       "3                    15845                             3485   \n",
       "4                    11177                             3800   \n",
       "\n",
       "   (Times) #faculty members total  \n",
       "0                            1822  \n",
       "1                            1687  \n",
       "2                             339  \n",
       "3                            2112  \n",
       "4                            1284  "
      ]
     },
     "execution_count": 16,
     "metadata": {},
     "output_type": "execute_result"
    }
   ],
   "source": [
    "\n",
    "url='https://www.timeshighereducation.com/sites/default/files/the_data_rankings/world_university_rankings_2018_limit0_369a9045a203e176392b9fb8f8c1cb2a.json'\n",
    "\n",
    "json_dict= requests.get(url).json()\n",
    "raw_data = pd.DataFrame(json_dict['data'])\n",
    "raw_data.columns\n",
    "df_times=raw_data[['name','rank','location','stats_number_students','stats_pc_intl_students','stats_student_staff_ratio']]\n",
    "\n",
    "df_times['rank']=df_times['rank'].str.extract('(\\d+)').astype('int64')\n",
    "df_times = df_times.loc[df_times['rank']<201]\n",
    "df_times.rename(columns={'location':'country','stats_number_students':'students','stats_pc_intl_students':'international students','stats_student_staff_ratio':'staff'},inplace=True)\n",
    "\n",
    "df_times['students'] = df_times['students'].str.replace(',','').astype('int64')\n",
    "\n",
    "df_times['international students'] = df_times['international students'].str.extract('(\\d+)').astype('float64')\n",
    "df_times['international students'] = (df_times['international students']/100)*df_times['students'].astype('float64')\n",
    "df_times['international students'] = df_times['international students'].astype('int64')\n",
    "\n",
    "df_times['staff'] = df_times['staff'].astype('float64')\n",
    "df_times['staff'] = df_times['students'].astype('float64')/df_times['staff']\n",
    "df_times['staff'] = df_times['staff'].astype('int64')\n",
    "\n",
    "df_times.rename(columns={'rank': '(Times) rank', 'title': 'name','staff':'(Times) #faculty members total', 'students':'(Times) #students total','international students':'(Times) #students international' }, inplace=True)\n",
    "df_times.head()"
   ]
  },
  {
   "cell_type": "code",
   "execution_count": 17,
   "metadata": {
    "collapsed": true
   },
   "outputs": [],
   "source": [
    "#USE PICKLE TO SAVE DF\n",
    "filename=\"./data/Times_ranking\"\n",
    "df_times.to_pickle(filename)"
   ]
  },
  {
   "cell_type": "code",
   "execution_count": 18,
   "metadata": {},
   "outputs": [
    {
     "data": {
      "text/html": [
       "<div>\n",
       "<style>\n",
       "    .dataframe thead tr:only-child th {\n",
       "        text-align: right;\n",
       "    }\n",
       "\n",
       "    .dataframe thead th {\n",
       "        text-align: left;\n",
       "    }\n",
       "\n",
       "    .dataframe tbody tr th {\n",
       "        vertical-align: top;\n",
       "    }\n",
       "</style>\n",
       "<table border=\"1\" class=\"dataframe\">\n",
       "  <thead>\n",
       "    <tr style=\"text-align: right;\">\n",
       "      <th></th>\n",
       "      <th>name</th>\n",
       "      <th>(Times) rank</th>\n",
       "      <th>country</th>\n",
       "      <th>(Times) #students total</th>\n",
       "      <th>(Times) #students international</th>\n",
       "      <th>(Times) #faculty members total</th>\n",
       "    </tr>\n",
       "  </thead>\n",
       "  <tbody>\n",
       "    <tr>\n",
       "      <th>0</th>\n",
       "      <td>University of Oxford</td>\n",
       "      <td>1</td>\n",
       "      <td>United Kingdom</td>\n",
       "      <td>20409</td>\n",
       "      <td>7755</td>\n",
       "      <td>1822</td>\n",
       "    </tr>\n",
       "    <tr>\n",
       "      <th>1</th>\n",
       "      <td>University of Cambridge</td>\n",
       "      <td>2</td>\n",
       "      <td>United Kingdom</td>\n",
       "      <td>18389</td>\n",
       "      <td>6436</td>\n",
       "      <td>1687</td>\n",
       "    </tr>\n",
       "    <tr>\n",
       "      <th>2</th>\n",
       "      <td>California Institute of Technology</td>\n",
       "      <td>3</td>\n",
       "      <td>United States</td>\n",
       "      <td>2209</td>\n",
       "      <td>596</td>\n",
       "      <td>339</td>\n",
       "    </tr>\n",
       "    <tr>\n",
       "      <th>3</th>\n",
       "      <td>Stanford University</td>\n",
       "      <td>3</td>\n",
       "      <td>United States</td>\n",
       "      <td>15845</td>\n",
       "      <td>3485</td>\n",
       "      <td>2112</td>\n",
       "    </tr>\n",
       "    <tr>\n",
       "      <th>4</th>\n",
       "      <td>Massachusetts Institute of Technology</td>\n",
       "      <td>5</td>\n",
       "      <td>United States</td>\n",
       "      <td>11177</td>\n",
       "      <td>3800</td>\n",
       "      <td>1284</td>\n",
       "    </tr>\n",
       "  </tbody>\n",
       "</table>\n",
       "</div>"
      ],
      "text/plain": [
       "                                    name  (Times) rank         country  \\\n",
       "0                   University of Oxford             1  United Kingdom   \n",
       "1                University of Cambridge             2  United Kingdom   \n",
       "2     California Institute of Technology             3   United States   \n",
       "3                    Stanford University             3   United States   \n",
       "4  Massachusetts Institute of Technology             5   United States   \n",
       "\n",
       "   (Times) #students total  (Times) #students international  \\\n",
       "0                    20409                             7755   \n",
       "1                    18389                             6436   \n",
       "2                     2209                              596   \n",
       "3                    15845                             3485   \n",
       "4                    11177                             3800   \n",
       "\n",
       "   (Times) #faculty members total  \n",
       "0                            1822  \n",
       "1                            1687  \n",
       "2                             339  \n",
       "3                            2112  \n",
       "4                            1284  "
      ]
     },
     "execution_count": 18,
     "metadata": {},
     "output_type": "execute_result"
    }
   ],
   "source": [
    "#USE PICKLE TO LOAD DF\n",
    "filename=\"./data/Times_ranking\"\n",
    "df_times =pd.read_pickle(filename)\n",
    "df_times.head()"
   ]
  },
  {
   "cell_type": "markdown",
   "metadata": {},
   "source": [
    "Similarly to the QS dataset, we removed the duplicated rank in the list, and verified that they are unique."
   ]
  },
  {
   "cell_type": "code",
   "execution_count": 20,
   "metadata": {},
   "outputs": [
    {
     "name": "stdout",
     "output_type": "stream",
     "text": [
      "True\n"
     ]
    }
   ],
   "source": [
    "bool_dup = df_times['(Times) rank'].duplicated()\n",
    "ind_dup = bool_dup[bool_dup == True].index\n",
    "\n",
    "#until no more duplicates\n",
    "for ind in ind_dup :\n",
    "    #add +1 the all the ranks below this duplicate\n",
    "    df_times['(Times) rank'][ind : len(df_times['(Times) rank'])] = df_times['(Times) rank'][ind : len(df_times['(Times) rank']) ] + 1;\n",
    "    \n",
    "print(df_times['(Times) rank'].is_unique)"
   ]
  },
  {
   "cell_type": "markdown",
   "metadata": {},
   "source": [
    "### Which are the best universities in term of: (a) ratio between faculty members and students, (b) ratio of international students?"
   ]
  },
  {
   "cell_type": "markdown",
   "metadata": {},
   "source": [
    "We displayed the ratios between the faculty members and students for the 10 first universities."
   ]
  },
  {
   "cell_type": "code",
   "execution_count": 22,
   "metadata": {
    "collapsed": true
   },
   "outputs": [],
   "source": [
    "df_times['(Times) faculty members/students']=df_times['(Times) #faculty members total'].astype('float64')/df_times['(Times) #students total']\n",
    "df_times['(Times) international students/ total students']=df_times['(Times) #students international'].astype('float64')/df_times['(Times) #students total']\n",
    "\n",
    "df_plot=df_times[['name','(Times) faculty members/students','(Times) international students/ total students']]\n",
    "df_plot.set_index(['name'],inplace=True) #set name of universities as index for the plot"
   ]
  },
  {
   "cell_type": "code",
   "execution_count": 23,
   "metadata": {},
   "outputs": [
    {
     "data": {
      "text/plain": [
       "<matplotlib.axes._subplots.AxesSubplot at 0x7f0a73dbb438>"
      ]
     },
     "execution_count": 23,
     "metadata": {},
     "output_type": "execute_result"
    },
    {
     "data": {
      "image/png": "[encoded data removed]",
      "text/plain": [
       "<matplotlib.figure.Figure at 0x7f0a745e7940>"
      ]
     },
     "metadata": {},
     "output_type": "display_data"
    }
   ],
   "source": [
    "df_plot.sort_values('(Times) faculty members/students',ascending=False)['(Times) faculty members/students'].head(10).plot(kind='bar', title='Ratio between faculty members and students')"
   ]
  },
  {
   "cell_type": "code",
   "execution_count": 24,
   "metadata": {},
   "outputs": [
    {
     "data": {
      "text/plain": [
       "<matplotlib.axes._subplots.AxesSubplot at 0x7f0a74a1f898>"
      ]
     },
     "execution_count": 24,
     "metadata": {},
     "output_type": "execute_result"
    },
    {
     "data": {
      "image/png": "[encoded data removed]",
      "text/plain": [
       "<matplotlib.figure.Figure at 0x7f0a73daea20>"
      ]
     },
     "metadata": {},
     "output_type": "display_data"
    }
   ],
   "source": [
    "df_plot.sort_values('(Times) international students/ total students',ascending=False)['(Times) international students/ total students'].head(10).plot(kind='bar', title='Ratio of international students')"
   ]
  },
  {
   "cell_type": "markdown",
   "metadata": {},
   "source": [
    "According to the Times ranking, we can see that the three best universities concerning the staff ratio :\n",
    "* Vanderbuilt University\n",
    "* University of Copenhagen\n",
    "* Johns Hopkins University\n",
    "\n",
    "Similarly, the best universities concerning the international students ratio are\n",
    "* London School of Economics and Polotical Science\n",
    "* University of Luxembourg\n",
    "* Imperial College London\n",
    "\n",
    "We can see that it is different from the universities obtained with the QS ranking."
   ]
  },
  {
   "cell_type": "markdown",
   "metadata": {},
   "source": [
    "### Which are the best country in term of: (a) ratio between faculty members and students, (b) ratio of international students?"
   ]
  },
  {
   "cell_type": "markdown",
   "metadata": {},
   "source": [
    "We averaged the staff and international students ratios for every country present in the Times ranking and display them in a plot."
   ]
  },
  {
   "cell_type": "code",
   "execution_count": 25,
   "metadata": {},
   "outputs": [
    {
     "data": {
      "text/plain": [
       "<matplotlib.axes._subplots.AxesSubplot at 0x7f0a74a01898>"
      ]
     },
     "execution_count": 25,
     "metadata": {},
     "output_type": "execute_result"
    },
    {
     "data": {
      "image/png": "[encoded data removed]",
      "text/plain": [
       "<matplotlib.figure.Figure at 0x7f0a73f3b898>"
      ]
     },
     "metadata": {},
     "output_type": "display_data"
    }
   ],
   "source": [
    "df_times.groupby(['country'])['(Times) faculty members/students'].mean().sort_values(ascending=False).plot(kind='bar',title='Average ratio between faculty members and students')"
   ]
  },
  {
   "cell_type": "code",
   "execution_count": 26,
   "metadata": {},
   "outputs": [
    {
     "data": {
      "text/plain": [
       "<matplotlib.axes._subplots.AxesSubplot at 0x7f0a7429e748>"
      ]
     },
     "execution_count": 26,
     "metadata": {},
     "output_type": "execute_result"
    },
    {
     "data": {
      "image/png": "[encoded data removed]",
      "text/plain": [
       "<matplotlib.figure.Figure at 0x7f0a742a0b00>"
      ]
     },
     "metadata": {},
     "output_type": "display_data"
    }
   ],
   "source": [
    "df_times.groupby(['country'])['(Times) international students/ total students'].mean().sort_values(ascending=False).plot(kind='bar',title='Average ratio of international students')"
   ]
  },
  {
   "cell_type": "markdown",
   "metadata": {},
   "source": [
    "The three coutries were the staff ratio is the highest are:\n",
    "* Denmark\n",
    "* Italy\n",
    "* Russian Federation\n",
    "\n",
    "The countries were the international students ratio is the highest are:\n",
    "* Luxemburg\n",
    "* United Kingdom\n",
    "* Hong Kong\n",
    "\n",
    "In the same way than with the universities, the results are not completely coherents with the QS ranking, even if more or less the same countries are on the top of both lists."
   ]
  },
  {
   "cell_type": "markdown",
   "metadata": {},
   "source": [
    "### Which are the best region in term of: (a) ratio between faculty members and students, (b) ratio of international students?"
   ]
  },
  {
   "cell_type": "markdown",
   "metadata": {},
   "source": [
    "Since the region of each university are not given in the original dataset, we needed to manually define them by sorting the different countries. We averaged the ratios and displayed them, and we also displayed the total number of universities per region, to have a comparisson basis."
   ]
  },
  {
   "cell_type": "code",
   "execution_count": 27,
   "metadata": {
    "collapsed": true
   },
   "outputs": [],
   "source": [
    "region = {'Asia':['China','Hong Kong','Japan','Singapore','South Korea','Taiwan']\n",
    "          ,'Europe':['Austria','Belgium','Denmark','Finland','France','Germany','Ireland','Italy','Luxembourg','Netherlands','Norway','Russian Federation','Spain','Sweden','Switzerland','United Kingdom']\n",
    "          ,'North America':['Canada','United States']\n",
    "          ,'Africa':['South Africa']\n",
    "          ,'Oceania':['Australia','New Zealand']}\n",
    "\n",
    "region = { f : i for i in region for f in region[i] }\n",
    "\n",
    "df_times['region'] = df_times['country'].map(region)"
   ]
  },
  {
   "cell_type": "code",
   "execution_count": 28,
   "metadata": {},
   "outputs": [
    {
     "data": {
      "text/plain": [
       "<matplotlib.axes._subplots.AxesSubplot at 0x7f0a74494b38>"
      ]
     },
     "execution_count": 28,
     "metadata": {},
     "output_type": "execute_result"
    },
    {
     "data": {
      "image/png": "[encoded data removed]",
      "text/plain": [
       "<matplotlib.figure.Figure at 0x7f0a7448a4a8>"
      ]
     },
     "metadata": {},
     "output_type": "display_data"
    }
   ],
   "source": [
    "df_times.groupby(['region'])['(Times) faculty members/students'].mean().sort_values(ascending=False).plot(kind='bar',title='Average ratio between faculty members and students')"
   ]
  },
  {
   "cell_type": "code",
   "execution_count": 29,
   "metadata": {},
   "outputs": [
    {
     "data": {
      "text/plain": [
       "<matplotlib.axes._subplots.AxesSubplot at 0x7f0a7446e390>"
      ]
     },
     "execution_count": 29,
     "metadata": {},
     "output_type": "execute_result"
    },
    {
     "data": {
      "image/png": "[encoded data removed]",
      "text/plain": [
       "<matplotlib.figure.Figure at 0x7f0a73ef96d8>"
      ]
     },
     "metadata": {},
     "output_type": "display_data"
    }
   ],
   "source": [
    "df_times.groupby(['region'])['(Times) international students/ total students'].mean().sort_values(ascending=False).plot(kind='bar',title='Average ratio of international students')"
   ]
  },
  {
   "cell_type": "code",
   "execution_count": 30,
   "metadata": {},
   "outputs": [
    {
     "data": {
      "text/plain": [
       "<matplotlib.axes._subplots.AxesSubplot at 0x7f0a749bb2e8>"
      ]
     },
     "execution_count": 30,
     "metadata": {},
     "output_type": "execute_result"
    },
    {
     "data": {
      "image/png": "[encoded data removed]",
      "text/plain": [
       "<matplotlib.figure.Figure at 0x7f0a749ae5f8>"
      ]
     },
     "metadata": {},
     "output_type": "display_data"
    }
   ],
   "source": [
    "df_times.groupby(['region'])['(Times) rank'].count().sort_values(ascending=False).plot(kind='bar',title='Number of university per region')"
   ]
  },
  {
   "cell_type": "markdown",
   "metadata": {},
   "source": [
    "The three regions where the staff ratios are the highest are:\n",
    "* North America\n",
    "* Africa\n",
    "* Asia\n",
    "\n",
    "The three regions where the international student ratios are the highest are:\n",
    "* Oceania\n",
    "* Europe\n",
    "* North America\n",
    "\n",
    "We can see that the results are coherent with the ones given by the QS ranking. One important difference is the Africa's average staff ratio, but it can be due to the uncertainty due to the only one relevant university in Africa.\n"
   ]
  },
  {
   "cell_type": "markdown",
   "metadata": {},
   "source": [
    "## Merging of the two DataFrames using university names. \n",
    "Match universities' names as well as you can, and explain your strategy. Keep track of the original position in both rankings."
   ]
  },
  {
   "cell_type": "markdown",
   "metadata": {},
   "source": [
    "One of the main problems that was observed was the fact that the Times ranking uses the universties' names expressed in their native language unlike the Qs-Ranking which uses the English name. The first step was therefore to clean our data by translating certain key words and caracters to their English equivalents. A specific translation was made for LMU Munich because its name in the QS-ranking was too distinct from its Times counterpart to be matched. Furthermore, redundant stop words that do not carry any relevant information such as 'The' and 'Of' were removed in order to make the university names more distinct."
   ]
  },
  {
   "cell_type": "code",
   "execution_count": 31,
   "metadata": {
    "collapsed": true
   },
   "outputs": [],
   "source": [
    "replace_target = [\"É\",\"é\",\"&\",\"Ludwig-Maximilians-Universität\",\"-\",\"Universite\",\"Universität\",\"Universitaet\",\"Universitat\",\"Technische\",\"Autònoma\",\"München\"]\n",
    "replace_with = [\"E\",\"e\",\"and\",\"LMU\",\" \",\"University\",\"University\",\"University\",\"University\",\"Technical\",\"Autonomous\",\"Munich\"]\n",
    "remove = [\"The \",\"the \",\"Of \",\"of \"]\n",
    "\n",
    "for i in range(len(replace_target)):\n",
    "    df_qs['name'] = df_qs['name'].str.replace(replace_target[i], replace_with[i])\n",
    "    df_times['name'] = df_times['name'].str.replace(replace_target[i], replace_with[i])\n",
    "\n",
    "for word in remove:\n",
    "    df_qs['name'] = df_qs['name'].str.replace(word, \"\")\n",
    "    df_times['name'] = df_times['name'].str.replace(word, \"\")\n"
   ]
  },
  {
   "cell_type": "markdown",
   "metadata": {},
   "source": [
    "We can then define the functions that will be used to match the university names between each other. The first step in each function groups the universities by country. This operation considerably reduces the number of possible false positives during the matching phase. During this matching phase, for each country, we compare the similarity of the universities between themselves. If this similarity is above a predefined threshold, both universities are considered to be a match and their indexes are paired together. These universities are then removed from the symmetric difference datasets. The first function uses the SequenceMatcher similarity. This similarity is defined as 2.0\\*M/T, where T is the total number of elements in both sequences, and M is the number of matches. The second function defines the similarity as the sum of the ratios of the number of common words versus the length of the universities' names (this function was mainly defined in order to compare similar names with different word orders). Both these functions return the dataframes containing the universities that haven't been paired up as well as the list of the paired up indexes."
   ]
  },
  {
   "cell_type": "code",
   "execution_count": 32,
   "metadata": {
    "collapsed": true
   },
   "outputs": [],
   "source": [
    "# match universities according to name similarity\n",
    "def find_common_unmerged(df_qs_out, df_times_out, threshold):\n",
    "    n_duplicates = 0\n",
    "    matched_top = []\n",
    "    matched_time = []\n",
    "    \n",
    "    top_grouped = df_qs_out.groupby('country')\n",
    "    time_grouped = df_times_out.groupby('country')\n",
    "\n",
    "    countries = pd.Series(list(set(df_qs_out['country']).intersection(set(df_times_out['country']))))\n",
    "    \n",
    "    for country in countries:        \n",
    "        unis_top = top_grouped.get_group(name=country)\n",
    "        unis_time = time_grouped.get_group(name=country)     \n",
    "        for name in unis_top['name']:\n",
    "            for compare in unis_time['name']:\n",
    "                score = SequenceMatcher(None, name, compare).ratio()\n",
    "                if score > threshold:\n",
    "                    n_duplicates = n_duplicates + 1\n",
    "                    print('Matched ', name, ' with ', compare, ' with score ',score)\n",
    "                    matched_top.extend(df_qs_out.index[df_qs_out['name'] == name])\n",
    "                    matched_time.extend(df_times_out.index[df_times_out['name'] == compare])\n",
    "                    \n",
    "    print('Number of duplicates found : ', n_duplicates, 'out of ', len(df_qs_out['name']), ' unmerged universities.')\n",
    "    df_qs_out = df_qs_out.drop(matched_top, axis=0)\n",
    "    df_times_out = df_times_out.drop(matched_time, axis=0)\n",
    "    return df_qs_out, df_times_out, matched_top, matched_time"
   ]
  },
  {
   "cell_type": "code",
   "execution_count": 33,
   "metadata": {
    "collapsed": true
   },
   "outputs": [],
   "source": [
    "# match universities according to common substring\n",
    "def find_common_unmerged_by_substrings(df_qs_out, df_times_out, threshold):\n",
    "    n_duplicates = 0\n",
    "    matched_top = []\n",
    "    matched_time = []\n",
    "    \n",
    "    top_grouped = df_qs_out.groupby('country')\n",
    "    time_grouped = df_times_out.groupby('country')\n",
    "\n",
    "    countries = pd.Series(list(set(df_qs_out['country']).intersection(set(df_times_out['country']))))\n",
    "    \n",
    "    for country in countries:        \n",
    "        unis_top = top_grouped.get_group(name=country)\n",
    "        unis_time = time_grouped.get_group(name=country)     \n",
    "        for name in unis_top['name']:\n",
    "            for compare in unis_time['name']:\n",
    "                top_name_words = name.split()\n",
    "                time_name_words = compare.split()\n",
    "                common = set(top_name_words).intersection( set(time_name_words) )\n",
    "                score = len(common)/len(top_name_words) + len(common)/len(time_name_words)\n",
    "                if score > threshold:\n",
    "                    n_duplicates = n_duplicates + 1\n",
    "                    print('Matched ', name, ' with ', compare, ' with score ',score)\n",
    "                    matched_top.extend(df_qs_out.index[df_qs_out['name'] == name])\n",
    "                    matched_time.extend(df_times_out.index[df_times_out['name'] == compare])\n",
    "                    \n",
    "    print('Number of duplicates found : ', n_duplicates, 'out of ', len(df_qs_out['name']), ' unmerged universities.')\n",
    "    df_qs_out = df_qs_out.drop(matched_top, axis=0)\n",
    "    df_times_out = df_times_out.drop(matched_time, axis=0)\n",
    "    return df_qs_out, df_times_out, matched_top, matched_time\n"
   ]
  },
  {
   "cell_type": "markdown",
   "metadata": {},
   "source": [
    "We can now run these functions with different thresholds on the subdataframes that contain the symmetric differences of both datasets with respect to names."
   ]
  },
  {
   "cell_type": "code",
   "execution_count": 34,
   "metadata": {},
   "outputs": [
    {
     "name": "stdout",
     "output_type": "stream",
     "text": [
      "Matched  KIT, Karlsruhe Institute Technology  with  Karlsruhe Institute Technology  with score  0.9230769230769231\n",
      "Matched  Humboldt University zu Berlin  with  Humboldt University Berlin  with score  0.9454545454545454\n",
      "Matched  Freie University Berlin  with  Free University Berlin  with score  0.9777777777777777\n",
      "Matched  Nanyang Technological University, Singapore (NTU)  with  Nanyang Technological University, Singapore  with score  0.9347826086956522\n",
      "Matched  National University Singapore (NUS)  with  National University Singapore  with score  0.90625\n",
      "Matched  ETH Zurich   Swiss Federal Institute Technology  with  ETH Zurich – Swiss Federal Institute Technology Zurich  with score  0.9108910891089109\n",
      "Matched  Ecole Polytechnique Federale de Lausanne (EPFL)  with  Ecole Polytechnique Federale de Lausanne  with score  0.9195402298850575\n",
      "Matched  Massachusetts Institute Technology (MIT)  with  Massachusetts Institute Technology  with score  0.918918918918919\n",
      "Matched  University California, Berkeley (UCB)  with  University California, Berkeley  with score  0.9117647058823529\n",
      "Matched  University California, Los Angeles (UCLA)  with  University California, Los Angeles  with score  0.9066666666666666\n",
      "Matched  University California, San Diego (UCSD)  with  University California, San Diego  with score  0.9014084507042254\n",
      "Matched  University North Carolina, Chapel Hill  with  University North Carolina at Chapel Hill  with score  0.9487179487179487\n",
      "Matched  Washington University in St. Louis  with  Washington University in St Louis  with score  0.9850746268656716\n",
      "Matched  University California, Santa Barbara (UCSB)  with  University California, Santa Barbara  with score  0.9113924050632911\n",
      "Matched  King's College London  with  King’s College London  with score  0.9523809523809523\n",
      "Matched  London School Economics and Political Science (LSE)  with  London School Economics and Political Science  with score  0.9375\n",
      "Matched  University de Montreal  with  University Montreal  with score  0.926829268292683\n",
      "Number of duplicates found :  17 out of  75  unmerged universities.\n",
      "Matched  KAIST   Korea Advanced Institute Science and Technology  with  Korea Advanced Institute Science and Technology (KAIST)  with score  0.8545454545454545\n",
      "Matched  Pohang University Science And Technology (POSTECH)  with  Pohang University Science and Technology  with score  0.8666666666666667\n",
      "Matched  National Taiwan University (NTU)  with  National Taiwan University  with score  0.896551724137931\n",
      "Matched  University catholique de Louvain (UCL)  with  University Catholique de Louvain  with score  0.8857142857142857\n",
      "Matched  California Institute Technology (Caltech)  with  California Institute Technology  with score  0.8611111111111112\n",
      "Matched  New York University (NYU)  with  New York University  with score  0.8636363636363636\n",
      "Matched  UCL (University College London)  with  University College London  with score  0.8928571428571429\n",
      "Matched  Chinese University Hong Kong (CUHK)  with  Chinese University Hong Kong  with score  0.8888888888888888\n",
      "Number of duplicates found :  8 out of  58  unmerged universities.\n",
      "Matched  Ruprecht Karls University Heidelberg  with  Heidelberg University  with score  1.5\n",
      "Matched  Technical University Berlin (TU Berlin)  with  Technical University Berlin  with score  1.6\n",
      "Matched  Eberhard Karls University Tübingen  with  University Tübingen  with score  1.5\n",
      "Matched  Albert Ludwigs University Freiburg  with  University Freiburg  with score  1.5\n",
      "Matched  Trinity College Dublin, University Dublin  with  Trinity College Dublin  with score  1.6\n",
      "Matched  University New South Wales (UNSW Sydney)  with  University New South Wales  with score  1.6666666666666665\n",
      "Matched  Wageningen University  with  Wageningen University and Research  with score  1.5\n",
      "Matched  University Autonomous de Barcelona  with  Autonomous University Barcelona  with score  1.75\n",
      "Matched  University Pierre et Marie Curie (UPMC)  with  Pierre and Marie Curie University  with score  1.4666666666666668\n",
      "Number of duplicates found :  9 out of  50  unmerged universities.\n"
     ]
    }
   ],
   "source": [
    "# get universities that weren't merged\n",
    "df_qs_out = df_qs[~df_qs['name'].isin(df_times['name'])]\n",
    "df_times_out = df_times[~df_times['name'].isin(df_qs['name'])]\n",
    "\n",
    "total_matched_top = []\n",
    "total_matched_time = []\n",
    "m_top = []\n",
    "m_time = []\n",
    "\n",
    "# threshold : 0.9\n",
    "df_qs_out, df_times_out, m_top, m_time = find_common_unmerged(df_qs_out, df_times_out, 0.9)\n",
    "total_matched_top.extend(m_top)\n",
    "total_matched_time.extend(m_time)\n",
    "del m_top[:]\n",
    "del m_time[:]\n",
    "\n",
    "# threshold : 0.85\n",
    "df_qs_out, df_times_out, m_top, m_time = find_common_unmerged(df_qs_out, df_times_out, 0.85)\n",
    "total_matched_top.extend(m_top)\n",
    "total_matched_time.extend(m_time)\n",
    "del m_top[:]\n",
    "del m_time[:]\n",
    "\n",
    "# by substrings\n",
    "df_qs_out, df_times_out, m_top, m_time = find_common_unmerged_by_substrings(df_qs_out, df_times_out, 1.4)\n",
    "total_matched_top.extend(m_top)\n",
    "total_matched_time.extend(m_time)\n",
    "del m_top[:]\n",
    "del m_time[:]\n"
   ]
  },
  {
   "cell_type": "markdown",
   "metadata": {},
   "source": [
    "Now that we have detected the university pairs, we can change the Times ranking names to their QS ranking equivalents and merge both datasets."
   ]
  },
  {
   "cell_type": "code",
   "execution_count": 35,
   "metadata": {
    "collapsed": true
   },
   "outputs": [],
   "source": [
    "# replace time names with their top equivalent : \n",
    "for i in range(len(total_matched_time)):\n",
    "    df_times.loc[total_matched_time[i],'name'] = df_qs.loc[total_matched_top[i],'name']\n"
   ]
  },
  {
   "cell_type": "code",
   "execution_count": 36,
   "metadata": {},
   "outputs": [
    {
     "data": {
      "text/html": [
       "<div>\n",
       "<style>\n",
       "    .dataframe thead tr:only-child th {\n",
       "        text-align: right;\n",
       "    }\n",
       "\n",
       "    .dataframe thead th {\n",
       "        text-align: left;\n",
       "    }\n",
       "\n",
       "    .dataframe tbody tr th {\n",
       "        vertical-align: top;\n",
       "    }\n",
       "</style>\n",
       "<table border=\"1\" class=\"dataframe\">\n",
       "  <thead>\n",
       "    <tr style=\"text-align: right;\">\n",
       "      <th></th>\n",
       "      <th>country</th>\n",
       "      <th>(QS) rank</th>\n",
       "      <th>region</th>\n",
       "      <th>name</th>\n",
       "      <th>(QS) #faculty members international</th>\n",
       "      <th>(QS) #faculty members total</th>\n",
       "      <th>(QS) #students international</th>\n",
       "      <th>(QS) #students total</th>\n",
       "      <th>(QS) faculty members/students</th>\n",
       "      <th>(QS) international students/ total students</th>\n",
       "      <th>(Times) rank</th>\n",
       "      <th>(Times) #students total</th>\n",
       "      <th>(Times) #students international</th>\n",
       "      <th>(Times) #faculty members total</th>\n",
       "      <th>(Times) faculty members/students</th>\n",
       "      <th>(Times) international students/ total students</th>\n",
       "    </tr>\n",
       "  </thead>\n",
       "  <tbody>\n",
       "    <tr>\n",
       "      <th>0</th>\n",
       "      <td>United States</td>\n",
       "      <td>1.0</td>\n",
       "      <td>North America</td>\n",
       "      <td>Massachusetts Institute Technology (MIT)</td>\n",
       "      <td>1679.0</td>\n",
       "      <td>2982.0</td>\n",
       "      <td>3717.0</td>\n",
       "      <td>11067.0</td>\n",
       "      <td>0.269450</td>\n",
       "      <td>0.335863</td>\n",
       "      <td>6.0</td>\n",
       "      <td>11177.0</td>\n",
       "      <td>3800.0</td>\n",
       "      <td>1284.0</td>\n",
       "      <td>0.114879</td>\n",
       "      <td>0.339984</td>\n",
       "    </tr>\n",
       "    <tr>\n",
       "      <th>1</th>\n",
       "      <td>United States</td>\n",
       "      <td>2.0</td>\n",
       "      <td>North America</td>\n",
       "      <td>Stanford University</td>\n",
       "      <td>2042.0</td>\n",
       "      <td>4285.0</td>\n",
       "      <td>3611.0</td>\n",
       "      <td>15878.0</td>\n",
       "      <td>0.269870</td>\n",
       "      <td>0.227422</td>\n",
       "      <td>4.0</td>\n",
       "      <td>15845.0</td>\n",
       "      <td>3485.0</td>\n",
       "      <td>2112.0</td>\n",
       "      <td>0.133291</td>\n",
       "      <td>0.219943</td>\n",
       "    </tr>\n",
       "    <tr>\n",
       "      <th>2</th>\n",
       "      <td>United States</td>\n",
       "      <td>3.0</td>\n",
       "      <td>North America</td>\n",
       "      <td>Harvard University</td>\n",
       "      <td>1311.0</td>\n",
       "      <td>4350.0</td>\n",
       "      <td>5266.0</td>\n",
       "      <td>22429.0</td>\n",
       "      <td>0.193945</td>\n",
       "      <td>0.234785</td>\n",
       "      <td>7.0</td>\n",
       "      <td>20326.0</td>\n",
       "      <td>5284.0</td>\n",
       "      <td>2283.0</td>\n",
       "      <td>0.112319</td>\n",
       "      <td>0.259963</td>\n",
       "    </tr>\n",
       "    <tr>\n",
       "      <th>3</th>\n",
       "      <td>United States</td>\n",
       "      <td>4.0</td>\n",
       "      <td>North America</td>\n",
       "      <td>California Institute Technology (Caltech)</td>\n",
       "      <td>350.0</td>\n",
       "      <td>953.0</td>\n",
       "      <td>647.0</td>\n",
       "      <td>2255.0</td>\n",
       "      <td>0.422616</td>\n",
       "      <td>0.286918</td>\n",
       "      <td>3.0</td>\n",
       "      <td>2209.0</td>\n",
       "      <td>596.0</td>\n",
       "      <td>339.0</td>\n",
       "      <td>0.153463</td>\n",
       "      <td>0.269805</td>\n",
       "    </tr>\n",
       "    <tr>\n",
       "      <th>4</th>\n",
       "      <td>United Kingdom</td>\n",
       "      <td>5.0</td>\n",
       "      <td>Europe</td>\n",
       "      <td>University Cambridge</td>\n",
       "      <td>2278.0</td>\n",
       "      <td>5490.0</td>\n",
       "      <td>6699.0</td>\n",
       "      <td>18770.0</td>\n",
       "      <td>0.292488</td>\n",
       "      <td>0.356899</td>\n",
       "      <td>2.0</td>\n",
       "      <td>18389.0</td>\n",
       "      <td>6436.0</td>\n",
       "      <td>1687.0</td>\n",
       "      <td>0.091740</td>\n",
       "      <td>0.349992</td>\n",
       "    </tr>\n",
       "  </tbody>\n",
       "</table>\n",
       "</div>"
      ],
      "text/plain": [
       "          country  (QS) rank         region  \\\n",
       "0   United States        1.0  North America   \n",
       "1   United States        2.0  North America   \n",
       "2   United States        3.0  North America   \n",
       "3   United States        4.0  North America   \n",
       "4  United Kingdom        5.0         Europe   \n",
       "\n",
       "                                        name  \\\n",
       "0   Massachusetts Institute Technology (MIT)   \n",
       "1                        Stanford University   \n",
       "2                         Harvard University   \n",
       "3  California Institute Technology (Caltech)   \n",
       "4                       University Cambridge   \n",
       "\n",
       "   (QS) #faculty members international  (QS) #faculty members total  \\\n",
       "0                               1679.0                       2982.0   \n",
       "1                               2042.0                       4285.0   \n",
       "2                               1311.0                       4350.0   \n",
       "3                                350.0                        953.0   \n",
       "4                               2278.0                       5490.0   \n",
       "\n",
       "   (QS) #students international  (QS) #students total  \\\n",
       "0                        3717.0               11067.0   \n",
       "1                        3611.0               15878.0   \n",
       "2                        5266.0               22429.0   \n",
       "3                         647.0                2255.0   \n",
       "4                        6699.0               18770.0   \n",
       "\n",
       "   (QS) faculty members/students  (QS) international students/ total students  \\\n",
       "0                       0.269450                                     0.335863   \n",
       "1                       0.269870                                     0.227422   \n",
       "2                       0.193945                                     0.234785   \n",
       "3                       0.422616                                     0.286918   \n",
       "4                       0.292488                                     0.356899   \n",
       "\n",
       "   (Times) rank  (Times) #students total  (Times) #students international  \\\n",
       "0           6.0                  11177.0                           3800.0   \n",
       "1           4.0                  15845.0                           3485.0   \n",
       "2           7.0                  20326.0                           5284.0   \n",
       "3           3.0                   2209.0                            596.0   \n",
       "4           2.0                  18389.0                           6436.0   \n",
       "\n",
       "   (Times) #faculty members total  (Times) faculty members/students  \\\n",
       "0                          1284.0                          0.114879   \n",
       "1                          2112.0                          0.133291   \n",
       "2                          2283.0                          0.112319   \n",
       "3                           339.0                          0.153463   \n",
       "4                          1687.0                          0.091740   \n",
       "\n",
       "   (Times) international students/ total students  \n",
       "0                                        0.339984  \n",
       "1                                        0.219943  \n",
       "2                                        0.259963  \n",
       "3                                        0.269805  \n",
       "4                                        0.349992  "
      ]
     },
     "execution_count": 36,
     "metadata": {},
     "output_type": "execute_result"
    }
   ],
   "source": [
    "df_merged = pd.merge(df_qs, df_times, how='outer')\n",
    "df_merged.head()"
   ]
  },
  {
   "cell_type": "markdown",
   "metadata": {},
   "source": [
    "## Exploratory analysis\n",
    "* Find useful insights in the data by performing an exploratory analysis. \n",
    "\n"
   ]
  },
  {
   "cell_type": "code",
   "execution_count": 37,
   "metadata": {
    "scrolled": true
   },
   "outputs": [
    {
     "data": {
      "text/plain": [
       "<matplotlib.axes._subplots.AxesSubplot at 0x7f0a74619320>"
      ]
     },
     "execution_count": 37,
     "metadata": {},
     "output_type": "execute_result"
    },
    {
     "data": {
      "image/png": "[encoded data removed]",
      "text/plain": [
       "<matplotlib.figure.Figure at 0x7f0a73d5ebe0>"
      ]
     },
     "metadata": {},
     "output_type": "display_data"
    }
   ],
   "source": [
    "import seaborn as sns\n",
    "df_merged = pd.merge(df_qs, df_times, how='outer')\n",
    "\n",
    "corr_spearman= df_merged.corr(method='spearman')\n",
    "sns.heatmap(corr_spearman)"
   ]
  },
  {
   "cell_type": "markdown",
   "metadata": {},
   "source": [
    "As shown above we started by plotting the correlation matrix using the Spearman method which is more appropriate for ranking variables not knowing if it's a linear dependence between the variables. Also, using the Spearman method we do not need to make any assumptions on the distribution of the data (cf.([Statistics solutions](http://www.statisticssolutions.com/correlation-pearson-kendall-spearman/)).\n",
    "Let's look at specific parts of this matrix:"
   ]
  },
  {
   "cell_type": "code",
   "execution_count": 38,
   "metadata": {},
   "outputs": [
    {
     "data": {
      "text/plain": [
       "<matplotlib.axes._subplots.AxesSubplot at 0x7f0a73f831d0>"
      ]
     },
     "execution_count": 38,
     "metadata": {},
     "output_type": "execute_result"
    },
    {
     "data": {
      "image/png": "[encoded data removed]",
      "text/plain": [
       "<matplotlib.figure.Figure at 0x7f0a74bffe48>"
      ]
     },
     "metadata": {},
     "output_type": "display_data"
    }
   ],
   "source": [
    "corr_spearman.index\n",
    "corr_qs_qs=corr_spearman[['(QS) rank', '(QS) #faculty members international',\n",
    "       '(QS) #faculty members total', '(QS) #students international',\n",
    "       '(QS) #students total', '(QS) faculty members/students',\n",
    "       '(QS) international students/ total students']].loc[\n",
    "        :'(QS) international students/ total students'];\n",
    "sns.heatmap(corr_qs_qs)"
   ]
  },
  {
   "cell_type": "markdown",
   "metadata": {},
   "source": [
    "The matrix shown above is the correlation matrix of the variables imported or implemented from the [QS ranking 2018](https://www.topuniversities.com/university-rankings/world-university-rankings/2018). Passing the fact that the variables are correlated with themselves, several other expected strong correlations are noticed between:\n",
    "* the number of **total faculty** members and **total students**: this can be explained as the number of professors grows with the number of students;\n",
    "* the number of **international students** and the ratio **international students/students** (as one is used to compute the other);\n",
    "* the number of **international faculty** members and the number of **international students**: this correlation is interesting. We can suppose that the international dimension of a university attracts both international students and professors.\n",
    "* the number of **total students** members and the number of **international students** (as one is part of the other);\n",
    "* the number of **international faculty** members and **total faculty** members (as one is part of the other) and\n",
    "* the number of **international faculty** members and the ratio **international students/students**. \n"
   ]
  },
  {
   "cell_type": "code",
   "execution_count": 39,
   "metadata": {},
   "outputs": [
    {
     "data": {
      "text/plain": [
       "<matplotlib.axes._subplots.AxesSubplot at 0x7f0a74abf358>"
      ]
     },
     "execution_count": 39,
     "metadata": {},
     "output_type": "execute_result"
    },
    {
     "data": {
      "image/png": "[encoded data removed]",
      "text/plain": [
       "<matplotlib.figure.Figure at 0x7f0a74acf320>"
      ]
     },
     "metadata": {},
     "output_type": "display_data"
    }
   ],
   "source": [
    "corr_times_times=corr_spearman[['(Times) rank','(Times) #students total', '(Times) #students international',\n",
    "       '(Times) #faculty members total', '(Times) faculty members/students',\n",
    "       '(Times) international students/ total students']].loc['(Times) rank':];\n",
    "sns.heatmap(corr_times_times)"
   ]
  },
  {
   "cell_type": "markdown",
   "metadata": {},
   "source": [
    "The matrix shown above is the correlation matrix of the variables imported or implemented from the [Times ranking 2018](http://timeshighereducation.com/world-university-rankings/2018/world-ranking). Passing the fact that the variables are correlated with themselves, several other expected strong correlation  are noticed between:\n",
    "* the number of **total students** members and the number of **international students** (as one is part of the other);\n",
    "* the number of **total faculty** members and **total students**(explainde before);\n",
    "* the number of **international students** and the ratio **international students/students** (as one is used to compute the other)\n",
    "\n",
    "Compare to the QS ranking, we found a stronger correlation between:\n",
    "* the number of  **total faculty** members and and the ratio **faculty members/students** (as one is used to compute the other)\n"
   ]
  },
  {
   "cell_type": "code",
   "execution_count": 40,
   "metadata": {},
   "outputs": [
    {
     "data": {
      "text/plain": [
       "<matplotlib.axes._subplots.AxesSubplot at 0x7f0a746dbb00>"
      ]
     },
     "execution_count": 40,
     "metadata": {},
     "output_type": "execute_result"
    },
    {
     "data": {
      "image/png": "[encoded data removed]",
      "text/plain": [
       "<matplotlib.figure.Figure at 0x7f0a74be6080>"
      ]
     },
     "metadata": {},
     "output_type": "display_data"
    }
   ],
   "source": [
    "corr_qs_times=corr_spearman[['(QS) rank','(QS) #students total','(QS) #students international',\n",
    "                              '(QS) #faculty members total',\n",
    "                            '(QS) faculty members/students',\n",
    "                               '(QS) international students/ total students']].loc['(Times) rank':];\n",
    "sns.heatmap(corr_qs_times)"
   ]
  },
  {
   "cell_type": "markdown",
   "metadata": {},
   "source": [
    "The matrix shown above is the correlation matrix of the variables imported or implemented from both the QS and Times ranking 2018 web pages. \n",
    "\n",
    "First, we can noticed that corresponding variables in both web sites are not perfectly correlated. This is expected for the rank, as the QS and Times migth not use the same algorithm. Althougth for other variables, a difference between two values is interesting. We can notice that the following variables have different values in both ranking:\n",
    "* the total number of students : correlation between QS and Times = 0.9897;\n",
    "* the number of international students: correlation = 0.9549;\n",
    "* the total number of faculty members: surprisingly low correlation = 0.7437;\n",
    "\n",
    "Both web sites don't have the same data which they're basing their ranking on. The notion of faculty members migth be differently interpreted in both rankings which could explain the low correlation.\n",
    "\n",
    "The matrix shows some \"quasi-diagonality\" and so several other expected strong correlation are noticed between:\n",
    "* the number of **total students** members and the number of **international students** (as one is part of the other);\n",
    "* the number of **total faculty** members and **total students**:(explained before);\n",
    "* the number of **international students** and the ratio **international students/students** (as one is used to compute the other);\n"
   ]
  },
  {
   "cell_type": "markdown",
   "metadata": {},
   "source": [
    "# Defining the best university"
   ]
  },
  {
   "cell_type": "markdown",
   "metadata": {},
   "source": [
    "* Can you find the best university taking in consideration both rankings? Explain your approach."
   ]
  },
  {
   "cell_type": "markdown",
   "metadata": {},
   "source": [
    "To determine the best university, we decided to use a Condorcet method (for futher informations: https://en.wikipedia.org/wiki/Condorcet_method) since it has interesting properties. Its basic principle is to elect a winner that beats every other concurrent (here, the universities) in a referundum at the majority of the voters (here, the rankings).\n",
    "\n",
    "We group the univeristies two by two and we perform a vote (each university has a vote from one of the ranking if its score is higher than the other one). The overall score of the university is the number of vote it wins.\n",
    "\n",
    "It has a drawback since many of the univerities are tied in ranking. So we tried to counter this effect by also considering the Shanghai ranking. Both results are shown below, firstly without the Shanghai ranking, and secondly with it."
   ]
  },
  {
   "cell_type": "code",
   "execution_count": 41,
   "metadata": {},
   "outputs": [
    {
     "data": {
      "text/html": [
       "<div>\n",
       "<style>\n",
       "    .dataframe thead tr:only-child th {\n",
       "        text-align: right;\n",
       "    }\n",
       "\n",
       "    .dataframe thead th {\n",
       "        text-align: left;\n",
       "    }\n",
       "\n",
       "    .dataframe tbody tr th {\n",
       "        vertical-align: top;\n",
       "    }\n",
       "</style>\n",
       "<table border=\"1\" class=\"dataframe\">\n",
       "  <thead>\n",
       "    <tr style=\"text-align: right;\">\n",
       "      <th></th>\n",
       "      <th>country</th>\n",
       "      <th>name</th>\n",
       "      <th>rank Shanghai</th>\n",
       "      <th>region</th>\n",
       "    </tr>\n",
       "  </thead>\n",
       "  <tbody>\n",
       "    <tr>\n",
       "      <th>0</th>\n",
       "      <td>USA</td>\n",
       "      <td>Harvard University</td>\n",
       "      <td>1</td>\n",
       "      <td>Northern America</td>\n",
       "    </tr>\n",
       "    <tr>\n",
       "      <th>50</th>\n",
       "      <td>USA</td>\n",
       "      <td>Stanford University</td>\n",
       "      <td>2</td>\n",
       "      <td>Northern America</td>\n",
       "    </tr>\n",
       "    <tr>\n",
       "      <th>1</th>\n",
       "      <td>UK</td>\n",
       "      <td>University of Cambridge</td>\n",
       "      <td>3</td>\n",
       "      <td>Northern Europe</td>\n",
       "    </tr>\n",
       "    <tr>\n",
       "      <th>51</th>\n",
       "      <td>USA</td>\n",
       "      <td>Massachusetts Institute of Technology (MIT)</td>\n",
       "      <td>4</td>\n",
       "      <td>Northern America</td>\n",
       "    </tr>\n",
       "    <tr>\n",
       "      <th>2</th>\n",
       "      <td>USA</td>\n",
       "      <td>University of California, Berkeley</td>\n",
       "      <td>5</td>\n",
       "      <td>Northern America</td>\n",
       "    </tr>\n",
       "  </tbody>\n",
       "</table>\n",
       "</div>"
      ],
      "text/plain": [
       "   country                                         name  rank Shanghai  \\\n",
       "0      USA                           Harvard University              1   \n",
       "50     USA                          Stanford University              2   \n",
       "1       UK                      University of Cambridge              3   \n",
       "51     USA  Massachusetts Institute of Technology (MIT)              4   \n",
       "2      USA           University of California, Berkeley              5   \n",
       "\n",
       "              region  \n",
       "0   Northern America  \n",
       "50  Northern America  \n",
       "1    Northern Europe  \n",
       "51  Northern America  \n",
       "2   Northern America  "
      ]
     },
     "execution_count": 41,
     "metadata": {},
     "output_type": "execute_result"
    }
   ],
   "source": [
    "#Parsing the dataset of the Shanghai ranking\n",
    "\n",
    "#basic url\n",
    "universities= requests.get('http://www.shanghairanking.com/ARWU2017.html')\n",
    "soup= BeautifulSoup(universities.text,'html.parser')\n",
    "\n",
    "#find table encapsulatin the wanted information\n",
    "html_shanghai= soup.find_all('table', id=\"UniversityRanking\")\n",
    "#recover the interesting rows (twice for even and odd rows)\n",
    "rank_shanghai_even= html_shanghai[0].find_all('tr', class_=\"bgfd\")\n",
    "rank_shanghai_odd= html_shanghai[0].find_all('tr', class_=\"bgf5\")\n",
    "\n",
    "#list of dictionnaries, one per university\n",
    "uni_list=[]\n",
    "\n",
    "# for each even rows \n",
    "for uni in rank_shanghai_even[0:50]:\n",
    "    #recover: rank, name and url to uni'spage\n",
    "    uni_rank=int(uni.find('td').text);\n",
    "    uni_name=uni.find('a').text\n",
    "    uni_url='http://www.shanghairanking.com/' + uni.find('a')['href']; \n",
    "    #from ulr recover country and region\n",
    "    uni_request= requests.get(uni_url)\n",
    "    uni_soup= BeautifulSoup(uni_request.text,'html.parser')\n",
    "    uni_country= uni_soup.find('div', class_=\"tab_content\").find_all('td')[5].text\n",
    "    uni_region= uni_soup.find('div', class_=\"tab_content\").find_all('td')[3].text\n",
    "    #append as dictionnary in the list\n",
    "    uni_list.append({'name' : uni_name, 'rank Shanghai' : uni_rank,\n",
    "          'country' : uni_country,\n",
    "          'region': uni_region})\n",
    "\n",
    "#same for odd rows   \n",
    "for uni in rank_shanghai_odd[0:50]:\n",
    "    uni_rank=int(uni.find('td').text);\n",
    "    uni_name=uni.find('a').text\n",
    "    uni_url='http://www.shanghairanking.com/' + uni.find('a')['href']; \n",
    "    uni_request= requests.get(uni_url)\n",
    "    uni_soup= BeautifulSoup(uni_request.text,'html.parser')\n",
    "    uni_country= uni_soup.find('div', class_=\"tab_content\").find_all('td')[5].text\n",
    "    uni_region= uni_soup.find('div', class_=\"tab_content\").find_all('td')[3].text\n",
    "    uni_list.append({'name' : uni_name, 'rank Shanghai' : uni_rank,\n",
    "          'country' : uni_country,\n",
    "          'region': uni_region})\n",
    "    \n",
    "#convert list of dictionnary as dataframe\n",
    "df_shanghai=pd.DataFrame(uni_list)\n",
    "#sort rank as we had to do  for even and odd rows separatly\n",
    "df_shanghai=df_shanghai.sort_values('rank Shanghai', ascending=True)\n",
    "\n",
    "df_shanghai.set_index('rank Shanghai')\n",
    "\n",
    "df_shanghai.head()"
   ]
  },
  {
   "cell_type": "code",
   "execution_count": 42,
   "metadata": {},
   "outputs": [
    {
     "name": "stdout",
     "output_type": "stream",
     "text": [
      "True\n"
     ]
    }
   ],
   "source": [
    "print(df_shanghai.index.is_unique)"
   ]
  },
  {
   "cell_type": "code",
   "execution_count": 43,
   "metadata": {
    "collapsed": true
   },
   "outputs": [],
   "source": [
    "#USE PICKLE TO SAVE DF (explained before)\n",
    "filename=\"./data/Shanghai_ranking\"\n",
    "df_shanghai.to_pickle(filename)"
   ]
  },
  {
   "cell_type": "code",
   "execution_count": 44,
   "metadata": {},
   "outputs": [
    {
     "data": {
      "text/html": [
       "<div>\n",
       "<style>\n",
       "    .dataframe thead tr:only-child th {\n",
       "        text-align: right;\n",
       "    }\n",
       "\n",
       "    .dataframe thead th {\n",
       "        text-align: left;\n",
       "    }\n",
       "\n",
       "    .dataframe tbody tr th {\n",
       "        vertical-align: top;\n",
       "    }\n",
       "</style>\n",
       "<table border=\"1\" class=\"dataframe\">\n",
       "  <thead>\n",
       "    <tr style=\"text-align: right;\">\n",
       "      <th></th>\n",
       "      <th>country</th>\n",
       "      <th>name</th>\n",
       "      <th>rank Shanghai</th>\n",
       "      <th>region</th>\n",
       "    </tr>\n",
       "  </thead>\n",
       "  <tbody>\n",
       "    <tr>\n",
       "      <th>0</th>\n",
       "      <td>USA</td>\n",
       "      <td>Harvard University</td>\n",
       "      <td>1</td>\n",
       "      <td>Northern America</td>\n",
       "    </tr>\n",
       "    <tr>\n",
       "      <th>50</th>\n",
       "      <td>USA</td>\n",
       "      <td>Stanford University</td>\n",
       "      <td>2</td>\n",
       "      <td>Northern America</td>\n",
       "    </tr>\n",
       "    <tr>\n",
       "      <th>1</th>\n",
       "      <td>UK</td>\n",
       "      <td>University of Cambridge</td>\n",
       "      <td>3</td>\n",
       "      <td>Northern Europe</td>\n",
       "    </tr>\n",
       "    <tr>\n",
       "      <th>51</th>\n",
       "      <td>USA</td>\n",
       "      <td>Massachusetts Institute of Technology (MIT)</td>\n",
       "      <td>4</td>\n",
       "      <td>Northern America</td>\n",
       "    </tr>\n",
       "    <tr>\n",
       "      <th>2</th>\n",
       "      <td>USA</td>\n",
       "      <td>University of California, Berkeley</td>\n",
       "      <td>5</td>\n",
       "      <td>Northern America</td>\n",
       "    </tr>\n",
       "  </tbody>\n",
       "</table>\n",
       "</div>"
      ],
      "text/plain": [
       "   country                                         name  rank Shanghai  \\\n",
       "0      USA                           Harvard University              1   \n",
       "50     USA                          Stanford University              2   \n",
       "1       UK                      University of Cambridge              3   \n",
       "51     USA  Massachusetts Institute of Technology (MIT)              4   \n",
       "2      USA           University of California, Berkeley              5   \n",
       "\n",
       "              region  \n",
       "0   Northern America  \n",
       "50  Northern America  \n",
       "1    Northern Europe  \n",
       "51  Northern America  \n",
       "2   Northern America  "
      ]
     },
     "execution_count": 44,
     "metadata": {},
     "output_type": "execute_result"
    }
   ],
   "source": [
    "#USE PICKLE TO LOAD DF (explained before)\n",
    "filename=\"./data/Shanghai_ranking\"\n",
    "df_shanghai =pd.read_pickle(filename)\n",
    "df_shanghai.head()"
   ]
  },
  {
   "cell_type": "markdown",
   "metadata": {},
   "source": [
    "Here we merge the Shanghai dataset with the overall dataset obtained above. It is exactly the same principle with firstly removing and replacing some specific words, then finding common words and strings with also considering the country. There is however an additional step since we need to replace some country name with the one given in the merged dataset."
   ]
  },
  {
   "cell_type": "code",
   "execution_count": 45,
   "metadata": {},
   "outputs": [
    {
     "name": "stdout",
     "output_type": "stream",
     "text": [
      "Matched  University Göttingen  with  University Goettingen  with score  0.926829268292683\n",
      "Matched  National University Singapore (NUS)  with  National University Singapore  with score  0.90625\n",
      "Matched  University California, Berkeley (UCB)  with  University California, Berkeley  with score  0.9117647058823529\n",
      "Matched  University California, Los Angeles (UCLA)  with  University California, Los Angeles  with score  0.9066666666666666\n",
      "Matched  University California, San Diego (UCSD)  with  University California, San Diego  with score  0.9014084507042254\n",
      "Matched  University Wisconsin Madison  with  University Wisconsin   Madison  with score  0.9655172413793104\n",
      "Matched  University North Carolina, Chapel Hill  with  University North Carolina at Chapel Hill  with score  0.9487179487179487\n",
      "Matched  University California, Santa Barbara (UCSB)  with  University California, Santa Barbara  with score  0.9113924050632911\n",
      "Matched  University Colorado Boulder  with  University Colorado at Boulder  with score  0.9473684210526315\n",
      "Number of duplicates found :  9 out of  175  unmerged universities.\n",
      "Matched  California Institute Technology (Caltech)  with  California Institute Technology  with score  0.8611111111111112\n",
      "Matched  New York University (NYU)  with  New York University  with score  0.8636363636363636\n",
      "Matched  UCL (University College London)  with  University College London  with score  0.8928571428571429\n",
      "Matched  Ecole normale superieure, Paris  with  Ecole Normale Superieure   Paris  with score  0.8888888888888888\n",
      "Number of duplicates found :  4 out of  166  unmerged universities.\n",
      "Matched  Ruprecht Karls University Heidelberg  with  Heidelberg University  with score  1.5\n",
      "Matched  Lomonosov Moscow State University  with  Moscow State University  with score  1.75\n",
      "Matched  ETH Zurich   Swiss Federal Institute Technology  with  Swiss Federal Institute Technology Zurich  with score  1.8333333333333335\n",
      "Matched  University Michigan  with  University Michigan Ann Arbor  with score  1.5\n",
      "Matched  Ohio State University  with  Ohio State University   Columbus  with score  1.75\n",
      "Matched  Pennsylvania State University  with  Pennsylvania State University   University Park  with score  1.6\n",
      "Matched  Purdue University  with  Purdue University   West Lafayette  with score  1.5\n",
      "Matched  University Pittsburgh  with  University Pittsburgh, Pittsburgh Campus  with score  1.5\n",
      "Matched  Rutgers, State University New Jersey  with  Rutgers, State University New Jersey   New Brunswick  with score  1.7142857142857144\n",
      "Matched  Erasmus University Rotterdam  with  Erasmus University  with score  1.6666666666666665\n",
      "Matched  Paris Sud University  with  University Paris Sud (Paris 11)  with score  1.6\n",
      "Number of duplicates found :  11 out of  162  unmerged universities.\n"
     ]
    }
   ],
   "source": [
    "\n",
    "\n",
    "\n",
    "country_target=['USA','UK']\n",
    "country_with=['United States','United Kingdom']\n",
    "\n",
    "for i in range(len(country_target)):\n",
    "    df_shanghai['country'] = df_shanghai['country'].str.replace(country_target[i], country_with[i])\n",
    "\n",
    "for i in range(len(replace_target)):\n",
    "    df_shanghai['name'] = df_shanghai['name'].str.replace(replace_target[i], replace_with[i])\n",
    "\n",
    "for word in remove:\n",
    "    df_shanghai['name'] = df_shanghai['name'].str.replace(word, \"\")\n",
    "    \n",
    "df_shanghai_out = df_shanghai[~df_shanghai['name'].isin(df_merged['name'])]\n",
    "df_merged_out = df_merged[~df_merged['name'].isin(df_shanghai['name'])]\n",
    "\n",
    "total_matched_merged = []\n",
    "total_matched_shanghai = []\n",
    "m_merged = []\n",
    "m_shanghai = []\n",
    "\n",
    "# threshold : 0.9\n",
    "df_merged_out, df_shanghai_out, m_merged, m_shanghai = find_common_unmerged(df_merged_out, df_shanghai_out, 0.9)\n",
    "total_matched_merged.extend(m_merged)\n",
    "total_matched_shanghai.extend(m_shanghai)\n",
    "del m_merged[:]\n",
    "del m_shanghai[:]\n",
    "\n",
    "# threshold : 0.85\n",
    "df_merged_out, df_shanghai_out, m_merged, m_shanghai = find_common_unmerged(df_merged_out, df_shanghai_out, 0.85)\n",
    "total_matched_merged.extend(m_merged)\n",
    "total_matched_shanghai.extend(m_shanghai)\n",
    "del m_merged[:]\n",
    "del m_time[:]\n",
    "\n",
    "# by substrings\n",
    "df_merged_out, df_shanghai_out, m_merged, m_shanghai = find_common_unmerged_by_substrings(df_merged_out, df_shanghai_out, 1.49)\n",
    "total_matched_merged.extend(m_merged)\n",
    "total_matched_shanghai.extend(m_shanghai)\n",
    "del m_merged[:]\n",
    "del m_shanghai[:]\n",
    "\n",
    "for i in range(len(total_matched_shanghai)):\n",
    "    df_shanghai.loc[total_matched_shanghai[i],'name'] = df_merged.loc[total_matched_merged[i],'name']\n",
    "\n",
    "df_shanghai=df_shanghai[['name','rank Shanghai']]\n",
    "    \n",
    "df_rank = pd.merge(df_merged, df_shanghai, how='outer')\n",
    "df_rank=df_rank[['name','(Times) rank','(QS) rank','rank Shanghai']]\n",
    "df_rank.columns=['name','TI rank','QS rank','SH rank']"
   ]
  },
  {
   "cell_type": "markdown",
   "metadata": {},
   "source": [
    "Here we create a function to compare the rank of each pair of university, outputing 1 if the first is higher, or 0."
   ]
  },
  {
   "cell_type": "code",
   "execution_count": 46,
   "metadata": {
    "collapsed": true
   },
   "outputs": [],
   "source": [
    "\n",
    "def compute_vote(rank_serie):\n",
    "    rank_array = np.array(rank_serie)\n",
    "    rank_array[np.isnan(rank_array)]=201\n",
    "    rank_mat=np.tile(rank_array,(len(rank_array),1))\n",
    "    rank_cmp=np.less_equal(rank_mat,np.transpose(rank_mat)).astype(int)\n",
    "    return rank_cmp"
   ]
  },
  {
   "cell_type": "code",
   "execution_count": 47,
   "metadata": {
    "collapsed": true
   },
   "outputs": [],
   "source": [
    "TI_cmp=compute_vote(df_rank['TI rank'])\n",
    "SH_cmp=compute_vote(df_rank['SH rank'])\n",
    "QS_cmp=compute_vote(df_rank['QS rank'])"
   ]
  },
  {
   "cell_type": "markdown",
   "metadata": {},
   "source": [
    "The vote is then performed."
   ]
  },
  {
   "cell_type": "code",
   "execution_count": 48,
   "metadata": {},
   "outputs": [
    {
     "data": {
      "text/html": [
       "<div>\n",
       "<style>\n",
       "    .dataframe thead tr:only-child th {\n",
       "        text-align: right;\n",
       "    }\n",
       "\n",
       "    .dataframe thead th {\n",
       "        text-align: left;\n",
       "    }\n",
       "\n",
       "    .dataframe tbody tr th {\n",
       "        vertical-align: top;\n",
       "    }\n",
       "</style>\n",
       "<table border=\"1\" class=\"dataframe\">\n",
       "  <thead>\n",
       "    <tr style=\"text-align: right;\">\n",
       "      <th></th>\n",
       "      <th>name</th>\n",
       "      <th>TI rank</th>\n",
       "      <th>QS rank</th>\n",
       "      <th>SH rank</th>\n",
       "      <th>cond_score</th>\n",
       "    </tr>\n",
       "  </thead>\n",
       "  <tbody>\n",
       "    <tr>\n",
       "      <th>0</th>\n",
       "      <td>Massachusetts Institute Technology (MIT)</td>\n",
       "      <td>6.0</td>\n",
       "      <td>1.0</td>\n",
       "      <td>4.0</td>\n",
       "      <td>249</td>\n",
       "    </tr>\n",
       "    <tr>\n",
       "      <th>1</th>\n",
       "      <td>Stanford University</td>\n",
       "      <td>4.0</td>\n",
       "      <td>2.0</td>\n",
       "      <td>2.0</td>\n",
       "      <td>249</td>\n",
       "    </tr>\n",
       "    <tr>\n",
       "      <th>2</th>\n",
       "      <td>Harvard University</td>\n",
       "      <td>7.0</td>\n",
       "      <td>3.0</td>\n",
       "      <td>1.0</td>\n",
       "      <td>248</td>\n",
       "    </tr>\n",
       "    <tr>\n",
       "      <th>4</th>\n",
       "      <td>University Cambridge</td>\n",
       "      <td>2.0</td>\n",
       "      <td>5.0</td>\n",
       "      <td>3.0</td>\n",
       "      <td>248</td>\n",
       "    </tr>\n",
       "    <tr>\n",
       "      <th>5</th>\n",
       "      <td>University Oxford</td>\n",
       "      <td>1.0</td>\n",
       "      <td>6.0</td>\n",
       "      <td>7.0</td>\n",
       "      <td>248</td>\n",
       "    </tr>\n",
       "    <tr>\n",
       "      <th>3</th>\n",
       "      <td>California Institute Technology (Caltech)</td>\n",
       "      <td>3.0</td>\n",
       "      <td>4.0</td>\n",
       "      <td>9.0</td>\n",
       "      <td>248</td>\n",
       "    </tr>\n",
       "    <tr>\n",
       "      <th>7</th>\n",
       "      <td>Imperial College London</td>\n",
       "      <td>9.0</td>\n",
       "      <td>8.0</td>\n",
       "      <td>27.0</td>\n",
       "      <td>245</td>\n",
       "    </tr>\n",
       "    <tr>\n",
       "      <th>8</th>\n",
       "      <td>University Chicago</td>\n",
       "      <td>10.0</td>\n",
       "      <td>9.0</td>\n",
       "      <td>10.0</td>\n",
       "      <td>244</td>\n",
       "    </tr>\n",
       "    <tr>\n",
       "      <th>9</th>\n",
       "      <td>ETH Zurich   Swiss Federal Institute Technology</td>\n",
       "      <td>11.0</td>\n",
       "      <td>10.0</td>\n",
       "      <td>24.0</td>\n",
       "      <td>243</td>\n",
       "    </tr>\n",
       "    <tr>\n",
       "      <th>12</th>\n",
       "      <td>Princeton University</td>\n",
       "      <td>8.0</td>\n",
       "      <td>13.0</td>\n",
       "      <td>6.0</td>\n",
       "      <td>241</td>\n",
       "    </tr>\n",
       "  </tbody>\n",
       "</table>\n",
       "</div>"
      ],
      "text/plain": [
       "                                               name  TI rank  QS rank  \\\n",
       "0          Massachusetts Institute Technology (MIT)      6.0      1.0   \n",
       "1                               Stanford University      4.0      2.0   \n",
       "2                                Harvard University      7.0      3.0   \n",
       "4                              University Cambridge      2.0      5.0   \n",
       "5                                 University Oxford      1.0      6.0   \n",
       "3         California Institute Technology (Caltech)      3.0      4.0   \n",
       "7                           Imperial College London      9.0      8.0   \n",
       "8                                University Chicago     10.0      9.0   \n",
       "9   ETH Zurich   Swiss Federal Institute Technology     11.0     10.0   \n",
       "12                             Princeton University      8.0     13.0   \n",
       "\n",
       "    SH rank  cond_score  \n",
       "0       4.0         249  \n",
       "1       2.0         249  \n",
       "2       1.0         248  \n",
       "4       3.0         248  \n",
       "5       7.0         248  \n",
       "3       9.0         248  \n",
       "7      27.0         245  \n",
       "8      10.0         244  \n",
       "9      24.0         243  \n",
       "12      6.0         241  "
      ]
     },
     "execution_count": 48,
     "metadata": {},
     "output_type": "execute_result"
    }
   ],
   "source": [
    "tot_mat=np.greater(QS_cmp+TI_cmp,1).astype(int)\n",
    "df_rank['cond_score']= tot_mat.sum(axis=0)\n",
    "df_rank.sort_values(['cond_score'],ascending=False).head(10)"
   ]
  },
  {
   "cell_type": "markdown",
   "metadata": {},
   "source": [
    "We can see here the results of the Condorcet method considering only the Times and QS rankings. We can see that we didn't get a unique best university (Stanford and MIT). We can also notice that the four next have the exact same score, and they can't be differentiated. We can also see that the total ranking is very similar to the QS one, and much less than the Times's one."
   ]
  },
  {
   "cell_type": "code",
   "execution_count": 49,
   "metadata": {},
   "outputs": [
    {
     "data": {
      "text/html": [
       "<div>\n",
       "<style>\n",
       "    .dataframe thead tr:only-child th {\n",
       "        text-align: right;\n",
       "    }\n",
       "\n",
       "    .dataframe thead th {\n",
       "        text-align: left;\n",
       "    }\n",
       "\n",
       "    .dataframe tbody tr th {\n",
       "        vertical-align: top;\n",
       "    }\n",
       "</style>\n",
       "<table border=\"1\" class=\"dataframe\">\n",
       "  <thead>\n",
       "    <tr style=\"text-align: right;\">\n",
       "      <th></th>\n",
       "      <th>name</th>\n",
       "      <th>TI rank</th>\n",
       "      <th>QS rank</th>\n",
       "      <th>SH rank</th>\n",
       "      <th>cond_score</th>\n",
       "    </tr>\n",
       "  </thead>\n",
       "  <tbody>\n",
       "    <tr>\n",
       "      <th>1</th>\n",
       "      <td>Stanford University</td>\n",
       "      <td>4.0</td>\n",
       "      <td>2.0</td>\n",
       "      <td>2.0</td>\n",
       "      <td>253</td>\n",
       "    </tr>\n",
       "    <tr>\n",
       "      <th>4</th>\n",
       "      <td>University Cambridge</td>\n",
       "      <td>2.0</td>\n",
       "      <td>5.0</td>\n",
       "      <td>3.0</td>\n",
       "      <td>251</td>\n",
       "    </tr>\n",
       "    <tr>\n",
       "      <th>0</th>\n",
       "      <td>Massachusetts Institute Technology (MIT)</td>\n",
       "      <td>6.0</td>\n",
       "      <td>1.0</td>\n",
       "      <td>4.0</td>\n",
       "      <td>251</td>\n",
       "    </tr>\n",
       "    <tr>\n",
       "      <th>2</th>\n",
       "      <td>Harvard University</td>\n",
       "      <td>7.0</td>\n",
       "      <td>3.0</td>\n",
       "      <td>1.0</td>\n",
       "      <td>251</td>\n",
       "    </tr>\n",
       "    <tr>\n",
       "      <th>5</th>\n",
       "      <td>University Oxford</td>\n",
       "      <td>1.0</td>\n",
       "      <td>6.0</td>\n",
       "      <td>7.0</td>\n",
       "      <td>249</td>\n",
       "    </tr>\n",
       "    <tr>\n",
       "      <th>3</th>\n",
       "      <td>California Institute Technology (Caltech)</td>\n",
       "      <td>3.0</td>\n",
       "      <td>4.0</td>\n",
       "      <td>9.0</td>\n",
       "      <td>248</td>\n",
       "    </tr>\n",
       "    <tr>\n",
       "      <th>12</th>\n",
       "      <td>Princeton University</td>\n",
       "      <td>8.0</td>\n",
       "      <td>13.0</td>\n",
       "      <td>6.0</td>\n",
       "      <td>247</td>\n",
       "    </tr>\n",
       "    <tr>\n",
       "      <th>7</th>\n",
       "      <td>Imperial College London</td>\n",
       "      <td>9.0</td>\n",
       "      <td>8.0</td>\n",
       "      <td>27.0</td>\n",
       "      <td>245</td>\n",
       "    </tr>\n",
       "    <tr>\n",
       "      <th>8</th>\n",
       "      <td>University Chicago</td>\n",
       "      <td>10.0</td>\n",
       "      <td>9.0</td>\n",
       "      <td>10.0</td>\n",
       "      <td>245</td>\n",
       "    </tr>\n",
       "    <tr>\n",
       "      <th>15</th>\n",
       "      <td>Yale University</td>\n",
       "      <td>14.0</td>\n",
       "      <td>16.0</td>\n",
       "      <td>11.0</td>\n",
       "      <td>243</td>\n",
       "    </tr>\n",
       "  </tbody>\n",
       "</table>\n",
       "</div>"
      ],
      "text/plain": [
       "                                         name  TI rank  QS rank  SH rank  \\\n",
       "1                         Stanford University      4.0      2.0      2.0   \n",
       "4                        University Cambridge      2.0      5.0      3.0   \n",
       "0    Massachusetts Institute Technology (MIT)      6.0      1.0      4.0   \n",
       "2                          Harvard University      7.0      3.0      1.0   \n",
       "5                           University Oxford      1.0      6.0      7.0   \n",
       "3   California Institute Technology (Caltech)      3.0      4.0      9.0   \n",
       "12                       Princeton University      8.0     13.0      6.0   \n",
       "7                     Imperial College London      9.0      8.0     27.0   \n",
       "8                          University Chicago     10.0      9.0     10.0   \n",
       "15                            Yale University     14.0     16.0     11.0   \n",
       "\n",
       "    cond_score  \n",
       "1          253  \n",
       "4          251  \n",
       "0          251  \n",
       "2          251  \n",
       "5          249  \n",
       "3          248  \n",
       "12         247  \n",
       "7          245  \n",
       "8          245  \n",
       "15         243  "
      ]
     },
     "execution_count": 49,
     "metadata": {},
     "output_type": "execute_result"
    }
   ],
   "source": [
    "tot_mat=np.greater(QS_cmp+TI_cmp+SH_cmp,1.5).astype(int)\n",
    "df_rank['cond_score']= tot_mat.sum(axis=0)\n",
    "df_rank.sort_values(['cond_score'],ascending=False).head(10)"
   ]
  },
  {
   "cell_type": "markdown",
   "metadata": {},
   "source": [
    "We can see that adding the Shanghai ranking does not change one of the best university (Stanford) but there are now three universities that share the second rank. We can also see that there is another conflict between the eigth and ninth university, so there is a slightly significant improvement in terms of conflicts. Adding the Shanghai ranking also lowered the ranked of some universities (such as ETH or Imperial College) which have a poor rank in the Shanghai ranking.\n",
    "\n",
    "We can however say that the world best university according to the three rankings is Stanford."
   ]
  }
 ],
 "metadata": {
  "kernelspec": {
   "display_name": "Python 3",
   "language": "python",
   "name": "python3"
  },
  "language_info": {
   "codemirror_mode": {
    "name": "ipython",
    "version": 3
   },
   "file_extension": ".py",
   "mimetype": "text/x-python",
   "name": "python",
   "nbconvert_exporter": "python",
   "pygments_lexer": "ipython3",
   "version": "3.6.1"
  }
 },
 "nbformat": 4,
 "nbformat_minor": 2
}
