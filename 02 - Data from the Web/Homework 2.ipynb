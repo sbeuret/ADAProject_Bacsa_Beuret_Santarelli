{
 "cells": [
  {
   "cell_type": "markdown",
   "metadata": {},
   "source": [
    "# 02 - Data from the Web \n",
    "Kiran Bacsa, Samuel Beuret, and Valentine Santarelli\n",
    "\n",
    "## Important Notes\n",
    "* Make sure you push on GitHub your Notebook with all the cells already evaluated (i.e., you don't want your colleagues to generate unnecessary Web traffic during the peer review)\n",
    "* Don't forget to add a textual description of your thought process, the assumptions you made, and the solution you plan to implement!\n",
    "* Please write all your comments in English, and use meaningful variable names in your code.\n",
    "* You are not allowed to download manually the entire ranking -- rather you have to understand how the server loads it in your browser. \n",
    "\n",
    "\n",
    "Hints:\n",
    "- Keep your Notebook clean and don't print the verbose output of the requests if this does not add useful information for the reader.\n",
    "- In case of tie, use the order defined in the webpage."
   ]
  },
  {
   "cell_type": "code",
   "execution_count": 3,
   "metadata": {
    "collapsed": true
   },
   "outputs": [],
   "source": [
    "# Import libraries\n",
    "import requests\n",
    "from bs4 import BeautifulSoup\n",
    "import pandas as pd \n",
    "import numpy as np\n",
    "import json \n",
    "\n",
    "import seaborn as sns\n",
    "\n",
    "# set the default color palette\n",
    "# try other options: 'Blues', sns.cubehelix_palette(8)\n",
    "sns.set_palette('Blues')\n",
    "\n",
    "# Seaborn can also use a context for different purpose\n",
    "# possible values are paper, notebook, talk, and poster\n",
    "sns.set_context(\"notebook\")\n",
    "\n",
    "\n",
    "import matplotlib.pyplot as plt\n",
    "%matplotlib inline\n",
    "\n",
    "import pickle\n",
    "import re\n",
    "\n",
    "import warnings\n",
    "warnings.filterwarnings('ignore')\n",
    "from difflib import SequenceMatcher"
   ]
  },
  {
   "cell_type": "markdown",
   "metadata": {},
   "source": [
    "##  200 top-ranking universities in www.topuniversities.com ([ranking 2018](https://www.topuniversities.com/university-rankings/world-university-rankings/2018)). \n",
    "\n",
    "### Scrapping the web page \n",
    "Using Postman, part of the information needed was found  in a JSON file (name, rank, country, and region). The remaining information to scrap ranking was found using Beautiful Soup on each university page.By inspecting the web page, we found that the information to scrap was in the *div* of *class = faculty-main*. \n",
    "* number of faculty members international corresponds to the *div* of *class=inter faculty*\n",
    "* number of faculty members total corresponds to the *div* of *class=total faculty*\n",
    "* number of students international corresponds to the *div* of *class=total inter*\n",
    "* number of students total corresponds to the *div* of *class=total student*"
   ]
  },
  {
   "cell_type": "code",
   "execution_count": null,
   "metadata": {
    "collapsed": true
   },
   "outputs": [],
   "source": [
    "\n",
    "# get name, rank, country and region of the 200 first universities\n",
    "\n",
    "#url found using Postman\n",
    "url='https://www.topuniversities.com/sites/default/files/qs-rankings-data/357051.txt?_=1508005996450'\n",
    "universities= requests.get(url).json()['data'][0:200] #take the first 200 universities\n",
    "#first part of the dataframe for topuniversities.com\n",
    "df_top1 = pd.DataFrame(universities)\n",
    "df_top1 = df_top1.drop(['cc','core_id','guide', 'logo','score','stars','nid'], axis=1) #don't need this information\n",
    "\n",
    "#list of urls to universities pages\n",
    "urls =list(df_top1['url'])\n",
    "\n",
    "# function to get the rest of the needed information on each university page in a dictionnary\n",
    "def get_details(url):\n",
    "    university= requests.get('https://www.topuniversities.com' + url)\n",
    "    soup= BeautifulSoup(university.text,'html.parser')\n",
    "    data= soup.find_all('div', class_= 'faculty-main') \n",
    "\n",
    "    # number of faculty members international\n",
    "    if(soup.find_all('div', class_ = 'inter faculty') != []):\n",
    "        inter_fac_mem = float(soup.find_all('div', class_ = 'inter faculty')[0].find_all('div', class_ = 'number')[0].string.replace(',',''))\n",
    "    else:\n",
    "        inter_fac_mem = float('nan')\n",
    "        \n",
    "    # number of faculty members total\n",
    "    if(soup.find_all('div', class_ = 'total faculty')!= []):\n",
    "        total_fac_mem = float(soup.find_all('div', class_ = 'total faculty')[0].find_all('div', class_ = 'number')[0].string.replace(',',''))\n",
    "    else:\n",
    "        total_fac_mem = float('nan')\n",
    "        \n",
    "    # number of students international\n",
    "    if(soup.find_all('div', class_ = 'total inter')!= []):\n",
    "        inter_student = float(soup.find_all('div', class_ = 'total inter')[0].find_all('div', class_ = 'number')[0].string.replace(',',''))\n",
    "    else:\n",
    "        inter_student = float('nan')\n",
    "        \n",
    "    # number of students total\n",
    "    if(soup.find_all('div', class_ = 'total student')!= []):\n",
    "        total_student = float(soup.find_all('div', class_ = 'total student')[0].find_all('div', class_ = 'number')[0].string.replace(',',''))\n",
    "    else:\n",
    "        total_student = float('nan')\n",
    "\n",
    "    #output dictionnary (keep the url to merge later)\n",
    "    details = {'url' : url, '(QS) #faculty members international' : inter_fac_mem,\n",
    "          '(QS) #faculty members total' : total_fac_mem,\n",
    "          '(QS) #students international': inter_student,\n",
    "          '(QS) #students total' : total_student}\n",
    "    return details\n",
    "\n",
    "#list of dictionnaries \n",
    "details = []    \n",
    "for url in urls:\n",
    "    details.append(get_details(url))\n",
    "#convert to pd.DataFrame\n",
    "df_top2 = pd.DataFrame(details)\n",
    "\n",
    "#merge the two dataframes using the url\n",
    "df_top= pd.merge(df_top1, df_top2, 'outer')\n",
    "df_top.rename(columns={'rank_display': '(QS) rank', 'title': 'name'}, inplace=True)\n",
    "df_top = df_top.drop('url', axis=1) #drop the url once the merge is done\n",
    "\n",
    "df_top.head()\n"
   ]
  },
  {
   "cell_type": "markdown",
   "metadata": {},
   "source": [
    "In order to avoid scrapping the page every time we need the dataset *df_top*, the later was exported in a file using the pandas fucntion *to_pickle()*, and imported with *from_pickle()*."
   ]
  },
  {
   "cell_type": "code",
   "execution_count": null,
   "metadata": {
    "collapsed": true
   },
   "outputs": [],
   "source": [
    "#USE PICKLE TO SAVE DF\n",
    "filename=\"./data/QS_ranking\"\n",
    "df_top.to_pickle(filename)"
   ]
  },
  {
   "cell_type": "code",
   "execution_count": 2,
   "metadata": {},
   "outputs": [
    {
     "data": {
      "text/html": [
       "<div>\n",
       "<style>\n",
       "    .dataframe thead tr:only-child th {\n",
       "        text-align: right;\n",
       "    }\n",
       "\n",
       "    .dataframe thead th {\n",
       "        text-align: left;\n",
       "    }\n",
       "\n",
       "    .dataframe tbody tr th {\n",
       "        vertical-align: top;\n",
       "    }\n",
       "</style>\n",
       "<table border=\"1\" class=\"dataframe\">\n",
       "  <thead>\n",
       "    <tr style=\"text-align: right;\">\n",
       "      <th></th>\n",
       "      <th>country</th>\n",
       "      <th>(QS) rank</th>\n",
       "      <th>region</th>\n",
       "      <th>name</th>\n",
       "      <th>(QS) #faculty members international</th>\n",
       "      <th>(QS) #faculty members total</th>\n",
       "      <th>(QS) #students international</th>\n",
       "      <th>(QS) #students total</th>\n",
       "    </tr>\n",
       "  </thead>\n",
       "  <tbody>\n",
       "    <tr>\n",
       "      <th>0</th>\n",
       "      <td>United States</td>\n",
       "      <td>1</td>\n",
       "      <td>North America</td>\n",
       "      <td>Massachusetts Institute of Technology (MIT)</td>\n",
       "      <td>1679.0</td>\n",
       "      <td>2982.0</td>\n",
       "      <td>3717.0</td>\n",
       "      <td>11067.0</td>\n",
       "    </tr>\n",
       "    <tr>\n",
       "      <th>1</th>\n",
       "      <td>United States</td>\n",
       "      <td>2</td>\n",
       "      <td>North America</td>\n",
       "      <td>Stanford University</td>\n",
       "      <td>2042.0</td>\n",
       "      <td>4285.0</td>\n",
       "      <td>3611.0</td>\n",
       "      <td>15878.0</td>\n",
       "    </tr>\n",
       "    <tr>\n",
       "      <th>2</th>\n",
       "      <td>United States</td>\n",
       "      <td>3</td>\n",
       "      <td>North America</td>\n",
       "      <td>Harvard University</td>\n",
       "      <td>1311.0</td>\n",
       "      <td>4350.0</td>\n",
       "      <td>5266.0</td>\n",
       "      <td>22429.0</td>\n",
       "    </tr>\n",
       "    <tr>\n",
       "      <th>3</th>\n",
       "      <td>United States</td>\n",
       "      <td>4</td>\n",
       "      <td>North America</td>\n",
       "      <td>California Institute of Technology (Caltech)</td>\n",
       "      <td>350.0</td>\n",
       "      <td>953.0</td>\n",
       "      <td>647.0</td>\n",
       "      <td>2255.0</td>\n",
       "    </tr>\n",
       "    <tr>\n",
       "      <th>4</th>\n",
       "      <td>United Kingdom</td>\n",
       "      <td>5</td>\n",
       "      <td>Europe</td>\n",
       "      <td>University of Cambridge</td>\n",
       "      <td>2278.0</td>\n",
       "      <td>5490.0</td>\n",
       "      <td>6699.0</td>\n",
       "      <td>18770.0</td>\n",
       "    </tr>\n",
       "  </tbody>\n",
       "</table>\n",
       "</div>"
      ],
      "text/plain": [
       "          country (QS) rank         region  \\\n",
       "0   United States         1  North America   \n",
       "1   United States         2  North America   \n",
       "2   United States         3  North America   \n",
       "3   United States         4  North America   \n",
       "4  United Kingdom         5         Europe   \n",
       "\n",
       "                                           name  \\\n",
       "0   Massachusetts Institute of Technology (MIT)   \n",
       "1                           Stanford University   \n",
       "2                            Harvard University   \n",
       "3  California Institute of Technology (Caltech)   \n",
       "4                       University of Cambridge   \n",
       "\n",
       "   (QS) #faculty members international  (QS) #faculty members total  \\\n",
       "0                               1679.0                       2982.0   \n",
       "1                               2042.0                       4285.0   \n",
       "2                               1311.0                       4350.0   \n",
       "3                                350.0                        953.0   \n",
       "4                               2278.0                       5490.0   \n",
       "\n",
       "   (QS) #students international  (QS) #students total  \n",
       "0                        3717.0               11067.0  \n",
       "1                        3611.0               15878.0  \n",
       "2                        5266.0               22429.0  \n",
       "3                         647.0                2255.0  \n",
       "4                        6699.0               18770.0  "
      ]
     },
     "execution_count": 2,
     "metadata": {},
     "output_type": "execute_result"
    }
   ],
   "source": [
    "#USE PICKLE TO LOAD DF\n",
    "filename=\"./data/QS_ranking\"\n",
    "df_top =pd.read_pickle(filename)\n",
    "df_top.head()"
   ]
  },
  {
   "cell_type": "markdown",
   "metadata": {},
   "source": [
    "We verify that there is no tie in the ranking and if so we keep the order of display on the web page.\n",
    "We found the ties using the *duplicated()* pandas function. Each time a duplicate is found (i.e a tie) we increment all the ranks below by one.\n",
    "As expected the rank column is unique at the end."
   ]
  },
  {
   "cell_type": "code",
   "execution_count": 3,
   "metadata": {
    "scrolled": true
   },
   "outputs": [
    {
     "name": "stdout",
     "output_type": "stream",
     "text": [
      "True\n"
     ]
    }
   ],
   "source": [
    "df_top['(QS) rank']=df_top['(QS) rank'].str.extract('(\\d+)').astype('int64')\n",
    "bool_dup = df_top['(QS) rank'].duplicated()\n",
    "ind_dup = bool_dup[bool_dup == True].index\n",
    "\n",
    "#until no more duplicates\n",
    "for ind in ind_dup :\n",
    "    #add +1 the all the ranks below this duplicate\n",
    "    df_top['(QS) rank'][ind : len(df_top['(QS) rank'])] = df_top['(QS) rank'][ind : len(df_top['(QS) rank']) ] + 1;\n",
    "    \n",
    "print(df_top['(QS) rank'].is_unique)\n",
    "\n"
   ]
  },
  {
   "cell_type": "markdown",
   "metadata": {},
   "source": [
    "### Which are the best universities in term of: (a) ratio between faculty members and students, (b) ratio of international students?"
   ]
  },
  {
   "cell_type": "code",
   "execution_count": null,
   "metadata": {
    "collapsed": true
   },
   "outputs": [],
   "source": [
    "# adding the ratios to the df_top dataframe\n",
    "df_top['(QS) faculty members/students'] = df_top['(QS) #faculty members total']/df_top['(QS) #students total']\n",
    "df_top['(QS) international students/ total students'] = df_top['(QS) #students international']/df_top['(QS) #students total']\n",
    "df_top.head()"
   ]
  },
  {
   "cell_type": "code",
   "execution_count": null,
   "metadata": {
    "collapsed": true
   },
   "outputs": [],
   "source": [
    "#Plotting the ratio faculty members/students for the 10 first universities\n",
    "df_ratio1 = df_top.sort_values('(QS) faculty members/students', ascending =False) #sort by ratio\n",
    "df_ratio1.set_index(['name'],inplace=True) #set name of universities as index for the plot\n",
    "df_ratio1= df_ratio1['(QS) faculty members/students'] #extract only the column  needed\n",
    "\n",
    "ax = df_ratio1[0:10].plot.bar()\n",
    "ax.set_xlabel(\"Universities\", fontsize=12)\n",
    "plt.title(\"Ratio between faculty members and students\")\n",
    "plt.show()\n"
   ]
  },
  {
   "cell_type": "markdown",
   "metadata": {},
   "source": [
    "The best universities in term of ratio of faculty members and students are :\n",
    "* Caltech\n",
    "* Yale University\n",
    "* University of Oxford"
   ]
  },
  {
   "cell_type": "code",
   "execution_count": null,
   "metadata": {
    "collapsed": true
   },
   "outputs": [],
   "source": [
    "#Plotting the ratio of international students for the first 10 universities\n",
    "df_ratio2 = df_top.sort_values('(QS) international students/ total students', ascending =False)#sort by ratio\n",
    "df_ratio2.set_index(['name'],inplace=True) #set name of universities as index for the plot\n",
    "df_ratio2= df_ratio2['(QS) international students/ total students']#extract only the column  needed\n",
    "\n",
    "ax = df_ratio2[0:10].plot.bar()\n",
    "ax.set_xlabel(\"Universities\", fontsize=12)\n",
    "plt.title(\"Ratio of international students\")\n",
    "plt.show()"
   ]
  },
  {
   "cell_type": "markdown",
   "metadata": {},
   "source": [
    "The best universities in term of ratio of international students are :\n",
    "* LSE\n",
    "* EPFL\n",
    "* Imperial College London\n",
    "\n"
   ]
  },
  {
   "cell_type": "markdown",
   "metadata": {},
   "source": [
    "### Which are the best country in term of: (a) ratio between faculty members and students, (b) ratio of international students?"
   ]
  },
  {
   "cell_type": "code",
   "execution_count": null,
   "metadata": {
    "collapsed": true
   },
   "outputs": [],
   "source": [
    "#Create a new dataframe by aggregating values by country.\n",
    "df_country = df_top.groupby('country').mean()\n",
    "df_country.head()"
   ]
  },
  {
   "cell_type": "code",
   "execution_count": null,
   "metadata": {
    "collapsed": true,
    "scrolled": true
   },
   "outputs": [],
   "source": [
    "#sort by ratio and extract the columns needed\n",
    "df_country_ratio1 = df_country.sort_values('(QS) faculty members/students', ascending =False)\n",
    "df_country_ratio1= df_country_ratio1['(QS) faculty members/students']\n",
    "\n",
    "#Plot the sorted countries\n",
    "ax = df_country_ratio1[0:10].plot.bar()\n",
    "ax.set_xlabel(\"Country\", fontsize=12)\n",
    "plt.title(\"Ratio between faculty members and students\")\n",
    "plt.show()"
   ]
  },
  {
   "cell_type": "markdown",
   "metadata": {},
   "source": [
    "The best countries in term of ratio of faculty members and students are :\n",
    "* Russia\n",
    "* Denmark\n",
    "* Saudi Arabia"
   ]
  },
  {
   "cell_type": "code",
   "execution_count": null,
   "metadata": {
    "collapsed": true
   },
   "outputs": [],
   "source": [
    "#sort by ratio and extract the columns needed\n",
    "df_country_ratio2 = df_country.sort_values('(QS) international students/ total students', ascending =False)\n",
    "df_country_ratio2= df_country_ratio2['(QS) international students/ total students']\n",
    "\n",
    "#Plot the sorted countries\n",
    "ax = df_country_ratio2[0:10].plot.bar()\n",
    "ax.set_xlabel(\"Country\", fontsize=12)\n",
    "plt.title(\"Ratio of international students\")\n",
    "plt.show()"
   ]
  },
  {
   "cell_type": "markdown",
   "metadata": {},
   "source": [
    "The best countries in term of ratio of international students are :\n",
    "* UK\n",
    "* Australia\n",
    "* Switzerland"
   ]
  },
  {
   "cell_type": "markdown",
   "metadata": {},
   "source": [
    "### Which are the best region in term of: (a) ratio between faculty members and students, (b) ratio of international students?"
   ]
  },
  {
   "cell_type": "code",
   "execution_count": null,
   "metadata": {
    "collapsed": true
   },
   "outputs": [],
   "source": [
    "#Create a new dataframe by aggregating values by region.\n",
    "df_region = df_top.groupby('region').mean()\n",
    "df_region.head()"
   ]
  },
  {
   "cell_type": "code",
   "execution_count": null,
   "metadata": {
    "collapsed": true
   },
   "outputs": [],
   "source": [
    "#Sort by ratio and extract the columns needed\n",
    "df_region_ratio1 = df_region.sort_values('(QS) faculty members/students', ascending =False)\n",
    "df_region_ratio1= df_region_ratio1['(QS) faculty members/students']\n",
    "\n",
    "#Plot the sorted regions\n",
    "ax = df_region_ratio1.plot.bar()\n",
    "ax.set_xlabel(\"Region\", fontsize=12)\n",
    "plt.title(\"Ratio between faculty members and students\")\n",
    "plt.show()"
   ]
  },
  {
   "cell_type": "markdown",
   "metadata": {},
   "source": [
    "The best regions in term of ratio of faculty members and students are :\n",
    "* North America\n",
    "* Asia\n",
    "* Europe"
   ]
  },
  {
   "cell_type": "code",
   "execution_count": null,
   "metadata": {
    "collapsed": true
   },
   "outputs": [],
   "source": [
    "df_region_ratio2 = df_region.sort_values('(QS) international students/ total students', ascending =False)\n",
    "df_region_ratio2= df_region_ratio2['(QS) international students/ total students']\n",
    "\n",
    "ax = df_region_ratio2.plot.bar()\n",
    "ax.set_xlabel(\"Region\", fontsize=12)\n",
    "plt.title(\"Ratio of international students\")\n",
    "plt.show()"
   ]
  },
  {
   "cell_type": "markdown",
   "metadata": {},
   "source": [
    "The best regions in term of ratio of international students are :\n",
    "* Oceania\n",
    "* Europe\n",
    "* North America"
   ]
  },
  {
   "cell_type": "markdown",
   "metadata": {},
   "source": [
    "##  200 top-ranking universities in www.timeshighereducation.com ([ranking 2018](http://timeshighereducation.com/world-university-rankings/2018/world-ranking)).\n",
    "\n",
    "### Scrapping the web page "
   ]
  },
  {
   "cell_type": "markdown",
   "metadata": {},
   "source": [
    "On the page of the 2018 Times Higher Eduction ranking, we have found a direct link to a JSON page (given by the URL in the code below). This allowed us to directly load the JSON dataset with the tools provided by pandas, without using Requests or BeautifulSoup.\n",
    "\n",
    "We performed a preprocessing by selecting only the first 200 ranks of the dataset, removing the \"equal\" symbols in front of the rank numbers, renaming the columns and removing the commas in the numbers.\n",
    "\n",
    "Since international student and staff ratios are given, we need to multiply them with the overall number of students to get the total staff and international students count. The number of international staff is however not available in the dataset, nor the region of the university. \n",
    "\n",
    "We also added a command to save the dataset in a file to avoid loading the data from internet at every execution."
   ]
  },
  {
   "cell_type": "code",
   "execution_count": null,
   "metadata": {
    "collapsed": true
   },
   "outputs": [],
   "source": [
    "\n",
    "url='https://www.timeshighereducation.com/sites/default/files/the_data_rankings/world_university_rankings_2018_limit0_369a9045a203e176392b9fb8f8c1cb2a.json'\n",
    "\n",
    "json_dict= requests.get(url).json()\n",
    "raw_data = pd.DataFrame(json_dict['data'])\n",
    "raw_data.columns\n",
    "df_time=raw_data[['name','rank','location','stats_number_students','stats_pc_intl_students','stats_student_staff_ratio']]\n",
    "\n",
    "df_time['rank']=df_time['rank'].str.extract('(\\d+)').astype('int64')\n",
    "df_time = df_time.loc[df_time['rank']<201]\n",
    "df_time.rename(columns={'location':'country','stats_number_students':'students','stats_pc_intl_students':'international students','stats_student_staff_ratio':'staff'},inplace=True)\n",
    "\n",
    "df_time['students'] = df_time['students'].str.replace(',','').astype('int64')\n",
    "\n",
    "df_time['international students'] = df_time['international students'].str.extract('(\\d+)').astype('float64')\n",
    "df_time['international students'] = (df_time['international students']/100)*df_time['students'].astype('float64')\n",
    "df_time['international students'] = df_time['international students'].astype('int64')\n",
    "\n",
    "df_time['staff'] = df_time['staff'].astype('float64')\n",
    "df_time['staff'] = df_time['students'].astype('float64')/df_time['staff']\n",
    "df_time['staff'] = df_time['staff'].astype('int64')\n",
    "\n",
    "df_time.rename(columns={'rank': '(Times) rank', 'title': 'name','staff':'(Times) #faculty members total', 'students':'(Times) #students total','international students':'(Times) #students international' }, inplace=True)\n",
    "df_time.head()"
   ]
  },
  {
   "cell_type": "code",
   "execution_count": null,
   "metadata": {
    "collapsed": true
   },
   "outputs": [],
   "source": [
    "#USE PICKLE TO SAVE DF\n",
    "filename=\"./data/Times_ranking\"\n",
    "df_time.to_pickle(filename)"
   ]
  },
  {
   "cell_type": "code",
   "execution_count": 63,
   "metadata": {},
   "outputs": [
    {
     "data": {
      "text/html": [
       "<div>\n",
       "<style>\n",
       "    .dataframe thead tr:only-child th {\n",
       "        text-align: right;\n",
       "    }\n",
       "\n",
       "    .dataframe thead th {\n",
       "        text-align: left;\n",
       "    }\n",
       "\n",
       "    .dataframe tbody tr th {\n",
       "        vertical-align: top;\n",
       "    }\n",
       "</style>\n",
       "<table border=\"1\" class=\"dataframe\">\n",
       "  <thead>\n",
       "    <tr style=\"text-align: right;\">\n",
       "      <th></th>\n",
       "      <th>name</th>\n",
       "      <th>(Times) rank</th>\n",
       "      <th>country</th>\n",
       "      <th>(Times) #students total</th>\n",
       "      <th>(Times) #students international</th>\n",
       "      <th>(Times) #faculty members total</th>\n",
       "    </tr>\n",
       "  </thead>\n",
       "  <tbody>\n",
       "    <tr>\n",
       "      <th>0</th>\n",
       "      <td>University of Oxford</td>\n",
       "      <td>1</td>\n",
       "      <td>United Kingdom</td>\n",
       "      <td>20409</td>\n",
       "      <td>7755</td>\n",
       "      <td>1822</td>\n",
       "    </tr>\n",
       "    <tr>\n",
       "      <th>1</th>\n",
       "      <td>University of Cambridge</td>\n",
       "      <td>2</td>\n",
       "      <td>United Kingdom</td>\n",
       "      <td>18389</td>\n",
       "      <td>6436</td>\n",
       "      <td>1687</td>\n",
       "    </tr>\n",
       "    <tr>\n",
       "      <th>2</th>\n",
       "      <td>California Institute of Technology</td>\n",
       "      <td>3</td>\n",
       "      <td>United States</td>\n",
       "      <td>2209</td>\n",
       "      <td>596</td>\n",
       "      <td>339</td>\n",
       "    </tr>\n",
       "    <tr>\n",
       "      <th>3</th>\n",
       "      <td>Stanford University</td>\n",
       "      <td>3</td>\n",
       "      <td>United States</td>\n",
       "      <td>15845</td>\n",
       "      <td>3485</td>\n",
       "      <td>2112</td>\n",
       "    </tr>\n",
       "    <tr>\n",
       "      <th>4</th>\n",
       "      <td>Massachusetts Institute of Technology</td>\n",
       "      <td>5</td>\n",
       "      <td>United States</td>\n",
       "      <td>11177</td>\n",
       "      <td>3800</td>\n",
       "      <td>1284</td>\n",
       "    </tr>\n",
       "  </tbody>\n",
       "</table>\n",
       "</div>"
      ],
      "text/plain": [
       "                                    name  (Times) rank         country  \\\n",
       "0                   University of Oxford             1  United Kingdom   \n",
       "1                University of Cambridge             2  United Kingdom   \n",
       "2     California Institute of Technology             3   United States   \n",
       "3                    Stanford University             3   United States   \n",
       "4  Massachusetts Institute of Technology             5   United States   \n",
       "\n",
       "   (Times) #students total  (Times) #students international  \\\n",
       "0                    20409                             7755   \n",
       "1                    18389                             6436   \n",
       "2                     2209                              596   \n",
       "3                    15845                             3485   \n",
       "4                    11177                             3800   \n",
       "\n",
       "   (Times) #faculty members total  \n",
       "0                            1822  \n",
       "1                            1687  \n",
       "2                             339  \n",
       "3                            2112  \n",
       "4                            1284  "
      ]
     },
     "execution_count": 63,
     "metadata": {},
     "output_type": "execute_result"
    }
   ],
   "source": [
    "#USE PICKLE TO LOAD DF\n",
    "filename=\"./data/Times_ranking\"\n",
    "df_time =pd.read_pickle(filename)\n",
    "df_time.head()"
   ]
  },
  {
   "cell_type": "markdown",
   "metadata": {},
   "source": [
    "Similarly to the QS dataset, we removed the duplicated rank in the list, and verified that they are unique."
   ]
  },
  {
   "cell_type": "code",
   "execution_count": 65,
   "metadata": {},
   "outputs": [
    {
     "name": "stdout",
     "output_type": "stream",
     "text": [
      "True\n"
     ]
    }
   ],
   "source": [
    "bool_dup = df_time['(Times) rank'].duplicated()\n",
    "ind_dup = bool_dup[bool_dup == True].index\n",
    "\n",
    "#until no more duplicates\n",
    "for ind in ind_dup :\n",
    "    #add +1 the all the ranks below this duplicate\n",
    "    df_time['(Times) rank'][ind : len(df_time['(Times) rank'])] = df_time['(Times) rank'][ind : len(df_time['(Times) rank']) ] + 1;\n",
    "    \n",
    "print(df_time['(Times) rank'].is_unique)"
   ]
  },
  {
   "cell_type": "markdown",
   "metadata": {},
   "source": [
    "### Which are the best universities in term of: (a) ratio between faculty members and students, (b) ratio of international students?"
   ]
  },
  {
   "cell_type": "markdown",
   "metadata": {},
   "source": [
    "We displayed the ratios between the faculty members and students for the 10 first universities."
   ]
  },
  {
   "cell_type": "code",
   "execution_count": 66,
   "metadata": {
    "collapsed": true
   },
   "outputs": [],
   "source": [
    "df_time['(Times) faculty members/students']=df_time['(Times) #faculty members total'].astype('float64')/df_time['(Times) #students total']\n",
    "df_time['(Times) international students/ total students']=df_time['(Times) #students international'].astype('float64')/df_time['(Times) #students total']\n",
    "\n",
    "df_plot=df_time[['name','(Times) faculty members/students','(Times) international students/ total students']]\n",
    "df_plot.set_index(['name'],inplace=True) #set name of universities as index for the plot"
   ]
  },
  {
   "cell_type": "code",
   "execution_count": 67,
   "metadata": {},
   "outputs": [
    {
     "data": {
      "text/plain": [
       "<matplotlib.axes._subplots.AxesSubplot at 0x7f9feaf9b5f8>"
      ]
     },
     "execution_count": 67,
     "metadata": {},
     "output_type": "execute_result"
    },
    {
     "data": {
      "image/png": "[encoded data removed]",
      "text/plain": [
       "<matplotlib.figure.Figure at 0x7f9feb067240>"
      ]
     },
     "metadata": {},
     "output_type": "display_data"
    }
   ],
   "source": [
    "df_plot.sort_values('(Times) faculty members/students',ascending=False)['(Times) faculty members/students'].head(10).plot(kind='bar', title='Ratio between faculty members and students')"
   ]
  },
  {
   "cell_type": "code",
   "execution_count": 68,
   "metadata": {},
   "outputs": [
    {
     "data": {
      "text/plain": [
       "<matplotlib.axes._subplots.AxesSubplot at 0x7f9feaf27c50>"
      ]
     },
     "execution_count": 68,
     "metadata": {},
     "output_type": "execute_result"
    },
    {
     "data": {
      "image/png": "[encoded data removed]",
      "text/plain": [
       "<matplotlib.figure.Figure at 0x7f9feaf05ef0>"
      ]
     },
     "metadata": {},
     "output_type": "display_data"
    }
   ],
   "source": [
    "df_plot.sort_values('(Times) international students/ total students',ascending=False)['(Times) international students/ total students'].head(10).plot(kind='bar', title='Ratio of international students')"
   ]
  },
  {
   "cell_type": "markdown",
   "metadata": {},
   "source": [
    "According to the Times ranking, we can see that the three best universities concerning the staff ratio :\n",
    "* Vanderbuilt University\n",
    "* University of Copenhagen\n",
    "* Johns Hopkins University\n",
    "\n",
    "Similarly, the best universities concerning the international students ratio are\n",
    "* London School of Economics and Polotical Science\n",
    "* University of Luxembourg\n",
    "* Imperial College London\n",
    "\n",
    "We can see that it is different from the universities obtained with the QS ranking."
   ]
  },
  {
   "cell_type": "markdown",
   "metadata": {},
   "source": [
    "### Which are the best country in term of: (a) ratio between faculty members and students, (b) ratio of international students?"
   ]
  },
  {
   "cell_type": "markdown",
   "metadata": {},
   "source": [
    "We averaged the staff and international students ratios for every country present in the Times ranking and display them in a plot."
   ]
  },
  {
   "cell_type": "code",
   "execution_count": 69,
   "metadata": {},
   "outputs": [
    {
     "data": {
      "text/plain": [
       "<matplotlib.axes._subplots.AxesSubplot at 0x7f9feae974a8>"
      ]
     },
     "execution_count": 69,
     "metadata": {},
     "output_type": "execute_result"
    },
    {
     "data": {
      "image/png": "[encoded data removed]",
      "text/plain": [
       "<matplotlib.figure.Figure at 0x7f9feaf273c8>"
      ]
     },
     "metadata": {},
     "output_type": "display_data"
    }
   ],
   "source": [
    "df_time.groupby(['country'])['(Times) faculty members/students'].mean().sort_values(ascending=False).plot(kind='bar',title='Average ratio between faculty members and students')"
   ]
  },
  {
   "cell_type": "code",
   "execution_count": 70,
   "metadata": {},
   "outputs": [
    {
     "data": {
      "text/plain": [
       "<matplotlib.axes._subplots.AxesSubplot at 0x7f9feacda748>"
      ]
     },
     "execution_count": 70,
     "metadata": {},
     "output_type": "execute_result"
    },
    {
     "data": {
      "image/png": "[encoded data removed]",
      "text/plain": [
       "<matplotlib.figure.Figure at 0x7f9feacebe80>"
      ]
     },
     "metadata": {},
     "output_type": "display_data"
    }
   ],
   "source": [
    "df_time.groupby(['country'])['(Times) international students/ total students'].mean().sort_values(ascending=False).plot(kind='bar',title='Average ratio of international students')"
   ]
  },
  {
   "cell_type": "markdown",
   "metadata": {},
   "source": [
    "The three coutries were the staff ratio is the highest are:\n",
    "* Denmark\n",
    "* Italy\n",
    "* Russian Federation\n",
    "\n",
    "The countries were the international students ratio is the highest are:\n",
    "* Luxemburg\n",
    "* United Kingdom\n",
    "* Hong Kong\n",
    "\n",
    "In the same way than with the universities, the results are not completely coherents with the QS ranking, even if more or less the same countries are on the top of both lists."
   ]
  },
  {
   "cell_type": "markdown",
   "metadata": {},
   "source": [
    "### Which are the best region in term of: (a) ratio between faculty members and students, (b) ratio of international students?"
   ]
  },
  {
   "cell_type": "markdown",
   "metadata": {},
   "source": [
    "Since the region of each university are not given in the original dataset, we needed to manually define them by sorting the different countries. We averaged the ratios and displayed them, and we also displayed the total number of universities per region, to have a comparisson basis."
   ]
  },
  {
   "cell_type": "code",
   "execution_count": 77,
   "metadata": {},
   "outputs": [],
   "source": [
    "region = {'Asia':['China','Hong Kong','Japan','Singapore','South Korea','Taiwan']\n",
    "          ,'Europe':['Austria','Belgium','Denmark','Finland','France','Germany','Ireland','Italy','Luxembourg','Netherlands','Norway','Russian Federation','Spain','Sweden','Switzerland','United Kingdom']\n",
    "          ,'North America':['Canada','United States']\n",
    "          ,'Africa':['South Africa']\n",
    "          ,'Oceania':['Australia','New Zealand']}\n",
    "\n",
    "region = { f : i for i in region for f in region[i] }\n",
    "\n",
    "df_time['region'] = df_time['country'].map(region)"
   ]
  },
  {
   "cell_type": "code",
   "execution_count": 78,
   "metadata": {},
   "outputs": [
    {
     "data": {
      "text/plain": [
       "<matplotlib.axes._subplots.AxesSubplot at 0x7f9fea823160>"
      ]
     },
     "execution_count": 78,
     "metadata": {},
     "output_type": "execute_result"
    },
    {
     "data": {
      "image/png": "[encoded data removed]",
      "text/plain": [
       "<matplotlib.figure.Figure at 0x7f9fea87e860>"
      ]
     },
     "metadata": {},
     "output_type": "display_data"
    }
   ],
   "source": [
    "df_time.groupby(['region'])['(Times) faculty members/students'].mean().sort_values(ascending=False).plot(kind='bar',title='Average ratio between faculty members and students')"
   ]
  },
  {
   "cell_type": "code",
   "execution_count": 76,
   "metadata": {},
   "outputs": [
    {
     "data": {
      "text/plain": [
       "<matplotlib.axes._subplots.AxesSubplot at 0x7f9fea971f28>"
      ]
     },
     "execution_count": 76,
     "metadata": {},
     "output_type": "execute_result"
    },
    {
     "data": {
      "image/png": "[encoded data removed]",
      "text/plain": [
       "<matplotlib.figure.Figure at 0x7f9fea879fd0>"
      ]
     },
     "metadata": {},
     "output_type": "display_data"
    }
   ],
   "source": [
    "df_time.groupby(['region'])['(Times) international students/ total students'].mean().sort_values(ascending=False).plot(kind='bar',title='Average ratio of international students')"
   ]
  },
  {
   "cell_type": "code",
   "execution_count": 80,
   "metadata": {},
   "outputs": [
    {
     "data": {
      "text/plain": [
       "<matplotlib.axes._subplots.AxesSubplot at 0x7f9feae20be0>"
      ]
     },
     "execution_count": 80,
     "metadata": {},
     "output_type": "execute_result"
    },
    {
     "data": {
      "image/png": "[encoded data removed]",
      "text/plain": [
       "<matplotlib.figure.Figure at 0x7f9fea7ee710>"
      ]
     },
     "metadata": {},
     "output_type": "display_data"
    }
   ],
   "source": [
    "df_time.groupby(['region'])['(Times) rank'].count().sort_values(ascending=False).plot(kind='bar',title='Number of university per region')"
   ]
  },
  {
   "cell_type": "markdown",
   "metadata": {},
   "source": [
    "The three regions where the staff ratios are the highest are:\n",
    "* North America\n",
    "* Africa\n",
    "* Asia\n",
    "\n",
    "The three regions where the international student ratios are the highest are:\n",
    "* Oceania\n",
    "* Europe\n",
    "* North America\n",
    "\n",
    "We can see that the results are coherent with the ones given by the QS ranking. One important difference is the Africa's average staff ratio, but it can be due to the uncertainty due to the only one relevant university in Africa.\n"
   ]
  },
  {
   "cell_type": "markdown",
   "metadata": {},
   "source": [
    "## Merging of the two DataFrames using university names. \n",
    "Match universities' names as well as you can, and explain your strategy. Keep track of the original position in both rankings."
   ]
  },
  {
   "cell_type": "markdown",
   "metadata": {},
   "source": [
    "One of the main problems that was observed was the fact that the Times ranking uses the universties' names expressed in their native language unlike the Qs-Ranking which uses the English name. The first step was therefore to clean our data by translating certain key words and caracters to their English equivalents. A specific translation was made for LMU Munich because its name in the QS-ranking was too distinct from its Times counterpart to be matched. Furthermore, redundant stop words that do not carry any relevant information such as 'The' and 'Of' were removed in order to make the university names more distinct."
   ]
  },
  {
   "cell_type": "code",
   "execution_count": 12,
   "metadata": {
    "collapsed": true
   },
   "outputs": [],
   "source": [
    "replace_target = [\"É\",\"é\",\"&\",\"Ludwig-Maximilians-Universität\",\"-\",\"Universite\",\"Universität\",\"Universitaet\",\"Universitat\",\"Technische\",\"Autònoma\",\"München\"]\n",
    "replace_with = [\"E\",\"e\",\"and\",\"LMU\",\" \",\"University\",\"University\",\"University\",\"University\",\"Technical\",\"Autonomous\",\"Munich\"]\n",
    "remove = [\"The \",\"the \",\"Of \",\"of \"]\n",
    "\n",
    "for i in range(len(replace_target)):\n",
    "    df_top['name'] = df_top['name'].str.replace(replace_target[i], replace_with[i])\n",
    "    df_time['name'] = df_time['name'].str.replace(replace_target[i], replace_with[i])\n",
    "\n",
    "for word in remove:\n",
    "    df_top['name'] = df_top['name'].str.replace(word, \"\")\n",
    "    df_time['name'] = df_time['name'].str.replace(word, \"\")\n"
   ]
  },
  {
   "cell_type": "markdown",
   "metadata": {},
   "source": [
    "We can then define the functions that will be used to match the university names between each other. The first step in each function groups the universities by country. This operation considerably reduces the number of possible false positives during the matching phase. During this matching phase, for each country, we compare the similarity of the universities between themselves. If this similarity is above a predefined threshold, both universities are considered to be a match and their indexes are paired together. These universities are then removed from the symmetric difference datasets. The first function uses the SequenceMatcher similarity. This similarity is defined as 2.0\\*M/T, where T is the total number of elements in both sequences, and M is the number of matches. The second function defines the similarity as the sum of the ratios of the number of common words versus the length of the universities' names (this function was mainly defined in order to compare similar names with different word orders). Both these functions return the dataframes containing the universities that haven't been paired up as well as the list of the paired up indexes."
   ]
  },
  {
   "cell_type": "code",
   "execution_count": 13,
   "metadata": {
    "collapsed": true
   },
   "outputs": [],
   "source": [
    "# match universities according to name similarity\n",
    "def find_common_unmerged(df_top_out, df_time_out, threshold):\n",
    "    n_duplicates = 0\n",
    "    matched_top = []\n",
    "    matched_time = []\n",
    "    \n",
    "    top_grouped = df_top_out.groupby('country')\n",
    "    time_grouped = df_time_out.groupby('country')\n",
    "\n",
    "    countries = pd.Series(list(set(df_top_out['country']).intersection(set(df_time_out['country']))))\n",
    "    \n",
    "    for country in countries:        \n",
    "        unis_top = top_grouped.get_group(name=country)\n",
    "        unis_time = time_grouped.get_group(name=country)     \n",
    "        for name in unis_top['name']:\n",
    "            for compare in unis_time['name']:\n",
    "                score = SequenceMatcher(None, name, compare).ratio()\n",
    "                if score > threshold:\n",
    "                    n_duplicates = n_duplicates + 1\n",
    "                    print('Matched ', name, ' with ', compare, ' with score ',score)\n",
    "                    matched_top.extend(df_top_out.index[df_top_out['name'] == name])\n",
    "                    matched_time.extend(df_time_out.index[df_time_out['name'] == compare])\n",
    "                    \n",
    "    print('Number of duplicates found : ', n_duplicates, 'out of ', len(df_top_out['name']), ' unmerged universities.')\n",
    "    df_top_out = df_top_out.drop(matched_top, axis=0)\n",
    "    df_time_out = df_time_out.drop(matched_time, axis=0)\n",
    "    return df_top_out, df_time_out, matched_top, matched_time"
   ]
  },
  {
   "cell_type": "code",
   "execution_count": 14,
   "metadata": {
    "collapsed": true
   },
   "outputs": [],
   "source": [
    "# match universities according to common substring\n",
    "def find_common_unmerged_by_substrings(df_top_out, df_time_out, threshold):\n",
    "    n_duplicates = 0\n",
    "    matched_top = []\n",
    "    matched_time = []\n",
    "    \n",
    "    top_grouped = df_top_out.groupby('country')\n",
    "    time_grouped = df_time_out.groupby('country')\n",
    "\n",
    "    countries = pd.Series(list(set(df_top_out['country']).intersection(set(df_time_out['country']))))\n",
    "    \n",
    "    for country in countries:        \n",
    "        unis_top = top_grouped.get_group(name=country)\n",
    "        unis_time = time_grouped.get_group(name=country)     \n",
    "        for name in unis_top['name']:\n",
    "            for compare in unis_time['name']:\n",
    "                top_name_words = name.split()\n",
    "                time_name_words = compare.split()\n",
    "                common = set(top_name_words).intersection( set(time_name_words) )\n",
    "                score = len(common)/len(top_name_words) + len(common)/len(time_name_words)\n",
    "                if score > threshold:\n",
    "                    n_duplicates = n_duplicates + 1\n",
    "                    print('Matched ', name, ' with ', compare, ' with score ',score)\n",
    "                    matched_top.extend(df_top_out.index[df_top_out['name'] == name])\n",
    "                    matched_time.extend(df_time_out.index[df_time_out['name'] == compare])\n",
    "                    \n",
    "    print('Number of duplicates found : ', n_duplicates, 'out of ', len(df_top_out['name']), ' unmerged universities.')\n",
    "    df_top_out = df_top_out.drop(matched_top, axis=0)\n",
    "    df_time_out = df_time_out.drop(matched_time, axis=0)\n",
    "    return df_top_out, df_time_out, matched_top, matched_time\n"
   ]
  },
  {
   "cell_type": "markdown",
   "metadata": {},
   "source": [
    "We can now run these functions with different thresholds on the subdataframes that contain the symmetric differences of both datasets with respect to names."
   ]
  },
  {
   "cell_type": "code",
   "execution_count": 15,
   "metadata": {},
   "outputs": [
    {
     "name": "stdout",
     "output_type": "stream",
     "text": [
      "Matched  ETH Zurich   Swiss Federal Institute Technology  with  ETH Zurich – Swiss Federal Institute Technology Zurich  with score  0.9108910891089109\n",
      "Matched  Ecole Polytechnique Federale de Lausanne (EPFL)  with  Ecole Polytechnique Federale de Lausanne  with score  0.9195402298850575\n",
      "Matched  KIT, Karlsruhe Institute Technology  with  Karlsruhe Institute Technology  with score  0.9230769230769231\n",
      "Matched  Humboldt University zu Berlin  with  Humboldt University Berlin  with score  0.9454545454545454\n",
      "Matched  Freie University Berlin  with  Free University Berlin  with score  0.9777777777777777\n",
      "Matched  University de Montreal  with  University Montreal  with score  0.926829268292683\n",
      "Matched  Massachusetts Institute Technology (MIT)  with  Massachusetts Institute Technology  with score  0.918918918918919\n",
      "Matched  University California, Berkeley (UCB)  with  University California, Berkeley  with score  0.9117647058823529\n",
      "Matched  University California, Los Angeles (UCLA)  with  University California, Los Angeles  with score  0.9066666666666666\n",
      "Matched  University California, San Diego (UCSD)  with  University California, San Diego  with score  0.9014084507042254\n",
      "Matched  University North Carolina, Chapel Hill  with  University North Carolina at Chapel Hill  with score  0.9487179487179487\n",
      "Matched  Washington University in St. Louis  with  Washington University in St Louis  with score  0.9850746268656716\n",
      "Matched  University California, Santa Barbara (UCSB)  with  University California, Santa Barbara  with score  0.9113924050632911\n",
      "Matched  Nanyang Technological University, Singapore (NTU)  with  Nanyang Technological University, Singapore  with score  0.9347826086956522\n",
      "Matched  National University Singapore (NUS)  with  National University Singapore  with score  0.90625\n",
      "Matched  King's College London  with  King’s College London  with score  0.9523809523809523\n",
      "Matched  London School Economics and Political Science (LSE)  with  London School Economics and Political Science  with score  0.9375\n",
      "Number of duplicates found :  17 out of  75  unmerged universities.\n",
      "Matched  National Taiwan University (NTU)  with  National Taiwan University  with score  0.896551724137931\n",
      "Matched  University catholique de Louvain (UCL)  with  University Catholique de Louvain  with score  0.8857142857142857\n",
      "Matched  Chinese University Hong Kong (CUHK)  with  Chinese University Hong Kong  with score  0.8888888888888888\n",
      "Matched  California Institute Technology (Caltech)  with  California Institute Technology  with score  0.8611111111111112\n",
      "Matched  New York University (NYU)  with  New York University  with score  0.8636363636363636\n",
      "Matched  KAIST   Korea Advanced Institute Science and Technology  with  Korea Advanced Institute Science and Technology (KAIST)  with score  0.8545454545454545\n",
      "Matched  Pohang University Science And Technology (POSTECH)  with  Pohang University Science and Technology  with score  0.8666666666666667\n",
      "Matched  UCL (University College London)  with  University College London  with score  0.8928571428571429\n",
      "Number of duplicates found :  8 out of  58  unmerged universities.\n",
      "Matched  University New South Wales (UNSW Sydney)  with  University New South Wales  with score  1.6666666666666665\n",
      "Matched  Ruprecht Karls University Heidelberg  with  Heidelberg University  with score  1.5\n",
      "Matched  Technical University Berlin (TU Berlin)  with  Technical University Berlin  with score  1.6\n",
      "Matched  Eberhard Karls University Tübingen  with  University Tübingen  with score  1.5\n",
      "Matched  Albert Ludwigs University Freiburg  with  University Freiburg  with score  1.5\n",
      "Matched  Trinity College Dublin, University Dublin  with  Trinity College Dublin  with score  1.6\n",
      "Matched  Wageningen University  with  Wageningen University and Research  with score  1.5\n",
      "Matched  University Autonomous de Barcelona  with  Autonomous University Barcelona  with score  1.75\n",
      "Matched  University Pierre et Marie Curie (UPMC)  with  Pierre and Marie Curie University  with score  1.4666666666666668\n",
      "Number of duplicates found :  9 out of  50  unmerged universities.\n"
     ]
    }
   ],
   "source": [
    "# get universities that weren't merged\n",
    "df_top_out = df_top[~df_top['name'].isin(df_time['name'])]\n",
    "df_time_out = df_time[~df_time['name'].isin(df_top['name'])]\n",
    "\n",
    "total_matched_top = []\n",
    "total_matched_time = []\n",
    "m_top = []\n",
    "m_time = []\n",
    "\n",
    "# threshold : 0.9\n",
    "df_top_out, df_time_out, m_top, m_time = find_common_unmerged(df_top_out, df_time_out, 0.9)\n",
    "total_matched_top.extend(m_top)\n",
    "total_matched_time.extend(m_time)\n",
    "del m_top[:]\n",
    "del m_time[:]\n",
    "\n",
    "# threshold : 0.85\n",
    "df_top_out, df_time_out, m_top, m_time = find_common_unmerged(df_top_out, df_time_out, 0.85)\n",
    "total_matched_top.extend(m_top)\n",
    "total_matched_time.extend(m_time)\n",
    "del m_top[:]\n",
    "del m_time[:]\n",
    "\n",
    "# by substrings\n",
    "df_top_out, df_time_out, m_top, m_time = find_common_unmerged_by_substrings(df_top_out, df_time_out, 1.4)\n",
    "total_matched_top.extend(m_top)\n",
    "total_matched_time.extend(m_time)\n",
    "del m_top[:]\n",
    "del m_time[:]\n"
   ]
  },
  {
   "cell_type": "markdown",
   "metadata": {},
   "source": [
    "Now that we have detected the university pairs, we can change the Times ranking names to their QS ranking equivalents and merge both datasets."
   ]
  },
  {
   "cell_type": "code",
   "execution_count": 16,
   "metadata": {
    "collapsed": true
   },
   "outputs": [],
   "source": [
    "# replace time names with their top equivalent : \n",
    "for i in range(len(total_matched_time)):\n",
    "    df_time.loc[total_matched_time[i],'name'] = df_top.loc[total_matched_top[i],'name']\n"
   ]
  },
  {
   "cell_type": "code",
   "execution_count": 17,
   "metadata": {},
   "outputs": [
    {
     "data": {
      "text/html": [
       "<div>\n",
       "<style>\n",
       "    .dataframe thead tr:only-child th {\n",
       "        text-align: right;\n",
       "    }\n",
       "\n",
       "    .dataframe thead th {\n",
       "        text-align: left;\n",
       "    }\n",
       "\n",
       "    .dataframe tbody tr th {\n",
       "        vertical-align: top;\n",
       "    }\n",
       "</style>\n",
       "<table border=\"1\" class=\"dataframe\">\n",
       "  <thead>\n",
       "    <tr style=\"text-align: right;\">\n",
       "      <th></th>\n",
       "      <th>country</th>\n",
       "      <th>(QS) rank</th>\n",
       "      <th>region</th>\n",
       "      <th>name</th>\n",
       "      <th>(QS) #faculty members international</th>\n",
       "      <th>(QS) #faculty members total</th>\n",
       "      <th>(QS) #students international</th>\n",
       "      <th>(QS) #students total</th>\n",
       "      <th>(Times) rank</th>\n",
       "      <th>(Times) #students total</th>\n",
       "      <th>(Times) #students international</th>\n",
       "      <th>(Times) #faculty members total</th>\n",
       "      <th>(Times) faculty members/students</th>\n",
       "      <th>(Times) international students/ total students</th>\n",
       "    </tr>\n",
       "  </thead>\n",
       "  <tbody>\n",
       "    <tr>\n",
       "      <th>0</th>\n",
       "      <td>United States</td>\n",
       "      <td>1.0</td>\n",
       "      <td>North America</td>\n",
       "      <td>Massachusetts Institute Technology (MIT)</td>\n",
       "      <td>1679.0</td>\n",
       "      <td>2982.0</td>\n",
       "      <td>3717.0</td>\n",
       "      <td>11067.0</td>\n",
       "      <td>5.0</td>\n",
       "      <td>11177.0</td>\n",
       "      <td>3800.0</td>\n",
       "      <td>1284.0</td>\n",
       "      <td>0.114879</td>\n",
       "      <td>0.339984</td>\n",
       "    </tr>\n",
       "    <tr>\n",
       "      <th>1</th>\n",
       "      <td>United States</td>\n",
       "      <td>2.0</td>\n",
       "      <td>North America</td>\n",
       "      <td>Stanford University</td>\n",
       "      <td>2042.0</td>\n",
       "      <td>4285.0</td>\n",
       "      <td>3611.0</td>\n",
       "      <td>15878.0</td>\n",
       "      <td>3.0</td>\n",
       "      <td>15845.0</td>\n",
       "      <td>3485.0</td>\n",
       "      <td>2112.0</td>\n",
       "      <td>0.133291</td>\n",
       "      <td>0.219943</td>\n",
       "    </tr>\n",
       "    <tr>\n",
       "      <th>2</th>\n",
       "      <td>United States</td>\n",
       "      <td>3.0</td>\n",
       "      <td>North America</td>\n",
       "      <td>Harvard University</td>\n",
       "      <td>1311.0</td>\n",
       "      <td>4350.0</td>\n",
       "      <td>5266.0</td>\n",
       "      <td>22429.0</td>\n",
       "      <td>6.0</td>\n",
       "      <td>20326.0</td>\n",
       "      <td>5284.0</td>\n",
       "      <td>2283.0</td>\n",
       "      <td>0.112319</td>\n",
       "      <td>0.259963</td>\n",
       "    </tr>\n",
       "    <tr>\n",
       "      <th>3</th>\n",
       "      <td>United States</td>\n",
       "      <td>4.0</td>\n",
       "      <td>North America</td>\n",
       "      <td>California Institute Technology (Caltech)</td>\n",
       "      <td>350.0</td>\n",
       "      <td>953.0</td>\n",
       "      <td>647.0</td>\n",
       "      <td>2255.0</td>\n",
       "      <td>3.0</td>\n",
       "      <td>2209.0</td>\n",
       "      <td>596.0</td>\n",
       "      <td>339.0</td>\n",
       "      <td>0.153463</td>\n",
       "      <td>0.269805</td>\n",
       "    </tr>\n",
       "    <tr>\n",
       "      <th>4</th>\n",
       "      <td>United Kingdom</td>\n",
       "      <td>5.0</td>\n",
       "      <td>Europe</td>\n",
       "      <td>University Cambridge</td>\n",
       "      <td>2278.0</td>\n",
       "      <td>5490.0</td>\n",
       "      <td>6699.0</td>\n",
       "      <td>18770.0</td>\n",
       "      <td>2.0</td>\n",
       "      <td>18389.0</td>\n",
       "      <td>6436.0</td>\n",
       "      <td>1687.0</td>\n",
       "      <td>0.091740</td>\n",
       "      <td>0.349992</td>\n",
       "    </tr>\n",
       "  </tbody>\n",
       "</table>\n",
       "</div>"
      ],
      "text/plain": [
       "          country  (QS) rank         region  \\\n",
       "0   United States        1.0  North America   \n",
       "1   United States        2.0  North America   \n",
       "2   United States        3.0  North America   \n",
       "3   United States        4.0  North America   \n",
       "4  United Kingdom        5.0         Europe   \n",
       "\n",
       "                                        name  \\\n",
       "0   Massachusetts Institute Technology (MIT)   \n",
       "1                        Stanford University   \n",
       "2                         Harvard University   \n",
       "3  California Institute Technology (Caltech)   \n",
       "4                       University Cambridge   \n",
       "\n",
       "   (QS) #faculty members international  (QS) #faculty members total  \\\n",
       "0                               1679.0                       2982.0   \n",
       "1                               2042.0                       4285.0   \n",
       "2                               1311.0                       4350.0   \n",
       "3                                350.0                        953.0   \n",
       "4                               2278.0                       5490.0   \n",
       "\n",
       "   (QS) #students international  (QS) #students total  (Times) rank  \\\n",
       "0                        3717.0               11067.0           5.0   \n",
       "1                        3611.0               15878.0           3.0   \n",
       "2                        5266.0               22429.0           6.0   \n",
       "3                         647.0                2255.0           3.0   \n",
       "4                        6699.0               18770.0           2.0   \n",
       "\n",
       "   (Times) #students total  (Times) #students international  \\\n",
       "0                  11177.0                           3800.0   \n",
       "1                  15845.0                           3485.0   \n",
       "2                  20326.0                           5284.0   \n",
       "3                   2209.0                            596.0   \n",
       "4                  18389.0                           6436.0   \n",
       "\n",
       "   (Times) #faculty members total  (Times) faculty members/students  \\\n",
       "0                          1284.0                          0.114879   \n",
       "1                          2112.0                          0.133291   \n",
       "2                          2283.0                          0.112319   \n",
       "3                           339.0                          0.153463   \n",
       "4                          1687.0                          0.091740   \n",
       "\n",
       "   (Times) international students/ total students  \n",
       "0                                        0.339984  \n",
       "1                                        0.219943  \n",
       "2                                        0.259963  \n",
       "3                                        0.269805  \n",
       "4                                        0.349992  "
      ]
     },
     "execution_count": 17,
     "metadata": {},
     "output_type": "execute_result"
    }
   ],
   "source": [
    "df_merged = pd.merge(df_top, df_time, how='outer')\n",
    "df_merged.head()"
   ]
  },
  {
   "cell_type": "markdown",
   "metadata": {},
   "source": [
    "## Exploratory analysis\n",
    "* Find useful insights in the data by performing an exploratory analysis. Can you find a strong correlation between any pair of variables in the dataset you just created? Example: when a university is strong in its international dimension, can you observe a consistency both for students and faculty members?"
   ]
  },
  {
   "cell_type": "code",
   "execution_count": 18,
   "metadata": {},
   "outputs": [
    {
     "data": {
      "text/plain": [
       "<matplotlib.axes._subplots.AxesSubplot at 0x7fe205e6c438>"
      ]
     },
     "execution_count": 18,
     "metadata": {},
     "output_type": "execute_result"
    },
    {
     "data": {
      "image/png": "[encoded data removed]",
      "text/plain": [
       "<matplotlib.figure.Figure at 0x7fe205cea860>"
      ]
     },
     "metadata": {},
     "output_type": "display_data"
    }
   ],
   "source": [
    "import seaborn as sns\n",
    "#TO CHANGE LATER\n",
    "# merge 'in' universities with same string name\n",
    "\n",
    "df_merged = pd.merge(df_top, df_time, how='outer')\n",
    "corr_pearson= df_merged.corr('pearson')\n",
    "\n",
    "sns.heatmap(corr_pearson, \n",
    "            xticklabels=corr_pearson.columns.values,\n",
    "            yticklabels=corr_pearson.columns.values)"
   ]
  },
  {
   "cell_type": "markdown",
   "metadata": {},
   "source": [
    " correlation  between\n",
    " \n",
    "* faculty member international, faculty members total\n",
    "* faculty member international, student international\n",
    "* faculty member international, ratio fac/student\n",
    "* faculty member international, international students (time)\n",
    "* student international, ratio international students"
   ]
  },
  {
   "cell_type": "code",
   "execution_count": null,
   "metadata": {
    "collapsed": true
   },
   "outputs": [],
   "source": [
    "corr_spearman= df_merged.corr(method='spearman')\n",
    "\n",
    "sns.heatmap(corr_spearman, \n",
    "            xticklabels=corr_spearman.columns.values,\n",
    "            yticklabels=corr_spearman.columns.values)"
   ]
  },
  {
   "cell_type": "code",
   "execution_count": null,
   "metadata": {
    "collapsed": true
   },
   "outputs": [],
   "source": [
    "corr_kendall= df_merged.corr('kendall')\n",
    "\n",
    "sns.heatmap(corr_kendall, \n",
    "            xticklabels=corr_kendall.columns.values,\n",
    "            yticklabels=corr_kendall.columns.values)"
   ]
  },
  {
   "cell_type": "code",
   "execution_count": null,
   "metadata": {
    "collapsed": true
   },
   "outputs": [],
   "source": [
    "df_check= df_merged[[ '(QS) rank', '#faculty members total (QS)',\n",
    "        '#students total (QS)',\n",
    "       '#students international (QS)',\n",
    "       'rank','staff', 'students',\n",
    "       'international students']]\n",
    "df_check = df_check.rename(columns={'QS rank': '(QS) rank','#faculty members total (QS)': '(QS) #faculty members total','#students total (QS)':'(QS) #students total', '#students international (QS)': '(QS) #students international' })\n",
    "df_check = df_check.rename(columns={'rank': '(Times) rank ', 'staff': '(Times) #faculty members total','students':'(Times) #students total', 'international students':'(Times) #students international' });\n",
    "corr_diff = df_check.corr();\n",
    "\n",
    "test=corr_diff[['(QS) rank', '(QS) #faculty members total', '(QS) #students total',\n",
    "       '(QS) #students international']].loc[\n",
    "        '(Times) rank ':];\n",
    "sns.heatmap(test)\n",
    "            "
   ]
  },
  {
   "cell_type": "markdown",
   "metadata": {},
   "source": [
    "# Defining the best university"
   ]
  },
  {
   "cell_type": "markdown",
   "metadata": {},
   "source": [
    "* Can you find the best university taking in consideration both rankings? Explain your approach."
   ]
  },
  {
   "cell_type": "markdown",
   "metadata": {},
   "source": [
    "To determine the best university, we decided to use a Condorcet method (for futher informations: https://en.wikipedia.org/wiki/Condorcet_method) since it has interesting properties. Its basic principle is to elect a winner that beats every other concurrent (here, the universities) in a referundum at the majority of the voters (here, the rankings).\n",
    "\n",
    "We group the univeristies two by two and we perform a vote (each university has a vote from one of the ranking if its score is higher than the other one). The overall score of the university is the number of vote it wins.\n",
    "\n",
    "It has a drawback since many of the univerities are tied in ranking. So we tried to counter this effect by also considering the Shanghai ranking. Both results are shown below, firstly without the Shanghai ranking, and secondly with it."
   ]
  },
  {
   "cell_type": "code",
   "execution_count": null,
   "metadata": {
    "collapsed": true
   },
   "outputs": [],
   "source": [
    "#Parsing the dataset of the Shanghai ranking\n",
    "\n",
    "# get name, rank, country and region of the 200 first universities\n",
    "\n",
    "\n",
    "\n",
    "# function to get the rest of the needed information on each university page in a dictionnary\n",
    "'''\n",
    "universities= requests.get('http://www.shanghairanking.com/ARWU2017.html')\n",
    "soup= BeautifulSoup(universities.text,'html.parser')\n",
    "html_shanghai= soup.find_all('table', id=\"UniversityRanking\")\n",
    "rank_shanghai_even= html_shanghai[0].find_all('tr', class_=\"bgfd\")\n",
    "rank_shanghai_odd= html_shanghai[0].find_all('tr', class_=\"bgf5\")\n",
    "\n",
    "uni_list=[]\n",
    "for uni in rank_shanghai_even[0:50]:\n",
    "    uni_rank=int(uni.find('td').text);\n",
    "    uni_name=uni.find('a').text\n",
    "    uni_url='http://www.shanghairanking.com/' + uni.find('a')['href']; \n",
    "    uni_request= requests.get(uni_url)\n",
    "    uni_soup= BeautifulSoup(uni_request.text,'html.parser')\n",
    "    uni_country= uni_soup.find('div', class_=\"tab_content\").find_all('td')[5].text\n",
    "    uni_region= uni_soup.find('div', class_=\"tab_content\").find_all('td')[3].text\n",
    "    uni_list.append({'name' : uni_name, 'rank Shanghai' : uni_rank,\n",
    "          'country' : uni_country,\n",
    "          'region': uni_region})\n",
    "\n",
    "    \n",
    "for uni in rank_shanghai_odd[0:50]:\n",
    "    uni_rank=int(uni.find('td').text);\n",
    "    uni_name=uni.find('a').text\n",
    "    uni_url='http://www.shanghairanking.com/' + uni.find('a')['href']; \n",
    "    uni_request= requests.get(uni_url)\n",
    "    uni_soup= BeautifulSoup(uni_request.text,'html.parser')\n",
    "    uni_country= uni_soup.find('div', class_=\"tab_content\").find_all('td')[5].text\n",
    "    uni_region= uni_soup.find('div', class_=\"tab_content\").find_all('td')[3].text\n",
    "    uni_list.append({'name' : uni_name, 'rank Shanghai' : uni_rank,\n",
    "          'country' : uni_country,\n",
    "          'region': uni_region})\n",
    "\n",
    "df_shanghai=pd.DataFrame(uni_list)\n",
    "\n",
    "df_shanghai=df_shanghai.sort_values('rank Shanghai', ascending=True)\n",
    "df_shanghai.head()\n",
    "\n",
    "df_shanghai.index.is_unique\n",
    "df_shanghai.set_index('rank Shanghai')\n",
    "\n",
    "#USE PICKLE TO SAVE DF\n",
    "filename=\"./data/Shanghai_ranking\"\n",
    "df_shanghai.to_pickle(filename)\n",
    "'''"
   ]
  },
  {
   "cell_type": "code",
   "execution_count": 24,
   "metadata": {},
   "outputs": [
    {
     "data": {
      "text/html": [
       "<div>\n",
       "<style>\n",
       "    .dataframe thead tr:only-child th {\n",
       "        text-align: right;\n",
       "    }\n",
       "\n",
       "    .dataframe thead th {\n",
       "        text-align: left;\n",
       "    }\n",
       "\n",
       "    .dataframe tbody tr th {\n",
       "        vertical-align: top;\n",
       "    }\n",
       "</style>\n",
       "<table border=\"1\" class=\"dataframe\">\n",
       "  <thead>\n",
       "    <tr style=\"text-align: right;\">\n",
       "      <th></th>\n",
       "      <th>country</th>\n",
       "      <th>name</th>\n",
       "      <th>rank Shanghai</th>\n",
       "      <th>region</th>\n",
       "    </tr>\n",
       "  </thead>\n",
       "  <tbody>\n",
       "    <tr>\n",
       "      <th>0</th>\n",
       "      <td>USA</td>\n",
       "      <td>Harvard University</td>\n",
       "      <td>1</td>\n",
       "      <td>Northern America</td>\n",
       "    </tr>\n",
       "    <tr>\n",
       "      <th>50</th>\n",
       "      <td>USA</td>\n",
       "      <td>Stanford University</td>\n",
       "      <td>2</td>\n",
       "      <td>Northern America</td>\n",
       "    </tr>\n",
       "    <tr>\n",
       "      <th>1</th>\n",
       "      <td>UK</td>\n",
       "      <td>University of Cambridge</td>\n",
       "      <td>3</td>\n",
       "      <td>Northern Europe</td>\n",
       "    </tr>\n",
       "    <tr>\n",
       "      <th>51</th>\n",
       "      <td>USA</td>\n",
       "      <td>Massachusetts Institute of Technology (MIT)</td>\n",
       "      <td>4</td>\n",
       "      <td>Northern America</td>\n",
       "    </tr>\n",
       "    <tr>\n",
       "      <th>2</th>\n",
       "      <td>USA</td>\n",
       "      <td>University of California, Berkeley</td>\n",
       "      <td>5</td>\n",
       "      <td>Northern America</td>\n",
       "    </tr>\n",
       "  </tbody>\n",
       "</table>\n",
       "</div>"
      ],
      "text/plain": [
       "   country                                         name  rank Shanghai  \\\n",
       "0      USA                           Harvard University              1   \n",
       "50     USA                          Stanford University              2   \n",
       "1       UK                      University of Cambridge              3   \n",
       "51     USA  Massachusetts Institute of Technology (MIT)              4   \n",
       "2      USA           University of California, Berkeley              5   \n",
       "\n",
       "              region  \n",
       "0   Northern America  \n",
       "50  Northern America  \n",
       "1    Northern Europe  \n",
       "51  Northern America  \n",
       "2   Northern America  "
      ]
     },
     "execution_count": 24,
     "metadata": {},
     "output_type": "execute_result"
    }
   ],
   "source": [
    "#loading the dataset\n",
    "\n",
    "#USE PICKLE TO LOAD DF\n",
    "filename=\"./data/Shanghai_ranking\"\n",
    "df_shanghai =pd.read_pickle(filename)\n",
    "df_shanghai.head()"
   ]
  },
  {
   "cell_type": "markdown",
   "metadata": {},
   "source": [
    "Here we merge the Shanghai dataset with the overall dataset obtained above. It is exactly the same principle with firstly removing and replacing some specific words, then finding common words and strings with also considering the country. There is however an additional step since we need to replace some country name with the one given in the merged dataset."
   ]
  },
  {
   "cell_type": "code",
   "execution_count": 25,
   "metadata": {},
   "outputs": [
    {
     "name": "stdout",
     "output_type": "stream",
     "text": [
      "Matched  University Göttingen  with  University Goettingen  with score  0.926829268292683\n",
      "Matched  University California, Berkeley (UCB)  with  University California, Berkeley  with score  0.9117647058823529\n",
      "Matched  University California, Los Angeles (UCLA)  with  University California, Los Angeles  with score  0.9066666666666666\n",
      "Matched  University California, San Diego (UCSD)  with  University California, San Diego  with score  0.9014084507042254\n",
      "Matched  University Wisconsin Madison  with  University Wisconsin   Madison  with score  0.9655172413793104\n",
      "Matched  University North Carolina, Chapel Hill  with  University North Carolina at Chapel Hill  with score  0.9487179487179487\n",
      "Matched  University California, Santa Barbara (UCSB)  with  University California, Santa Barbara  with score  0.9113924050632911\n",
      "Matched  University Colorado Boulder  with  University Colorado at Boulder  with score  0.9473684210526315\n",
      "Matched  National University Singapore (NUS)  with  National University Singapore  with score  0.90625\n",
      "Number of duplicates found :  9 out of  175  unmerged universities.\n",
      "Matched  California Institute Technology (Caltech)  with  California Institute Technology  with score  0.8611111111111112\n",
      "Matched  New York University (NYU)  with  New York University  with score  0.8636363636363636\n",
      "Matched  Ecole normale superieure, Paris  with  Ecole Normale Superieure   Paris  with score  0.8888888888888888\n",
      "Matched  UCL (University College London)  with  University College London  with score  0.8928571428571429\n",
      "Number of duplicates found :  4 out of  166  unmerged universities.\n",
      "Matched  ETH Zurich   Swiss Federal Institute Technology  with  Swiss Federal Institute Technology Zurich  with score  1.8333333333333335\n",
      "Matched  Ruprecht Karls University Heidelberg  with  Heidelberg University  with score  1.5\n",
      "Matched  Lomonosov Moscow State University  with  Moscow State University  with score  1.75\n",
      "Matched  Erasmus University Rotterdam  with  Erasmus University  with score  1.6666666666666665\n",
      "Matched  University Michigan  with  University Michigan Ann Arbor  with score  1.5\n",
      "Matched  Ohio State University  with  Ohio State University   Columbus  with score  1.75\n",
      "Matched  Pennsylvania State University  with  Pennsylvania State University   University Park  with score  1.6\n",
      "Matched  Purdue University  with  Purdue University   West Lafayette  with score  1.5\n",
      "Matched  University Pittsburgh  with  University Pittsburgh, Pittsburgh Campus  with score  1.5\n",
      "Matched  Rutgers, State University New Jersey  with  Rutgers, State University New Jersey   New Brunswick  with score  1.7142857142857144\n",
      "Matched  Paris Sud University  with  University Paris Sud (Paris 11)  with score  1.6\n",
      "Number of duplicates found :  11 out of  162  unmerged universities.\n"
     ]
    }
   ],
   "source": [
    "\n",
    "\n",
    "\n",
    "country_target=['USA','UK']\n",
    "country_with=['United States','United Kingdom']\n",
    "\n",
    "for i in range(len(country_target)):\n",
    "    df_shanghai['country'] = df_shanghai['country'].str.replace(country_target[i], country_with[i])\n",
    "\n",
    "for i in range(len(replace_target)):\n",
    "    df_shanghai['name'] = df_shanghai['name'].str.replace(replace_target[i], replace_with[i])\n",
    "\n",
    "for word in remove:\n",
    "    df_shanghai['name'] = df_shanghai['name'].str.replace(word, \"\")\n",
    "    \n",
    "df_shanghai_out = df_shanghai[~df_shanghai['name'].isin(df_merged['name'])]\n",
    "df_merged_out = df_merged[~df_merged['name'].isin(df_shanghai['name'])]\n",
    "\n",
    "total_matched_merged = []\n",
    "total_matched_shanghai = []\n",
    "m_merged = []\n",
    "m_shanghai = []\n",
    "\n",
    "# threshold : 0.9\n",
    "df_merged_out, df_shanghai_out, m_merged, m_shanghai = find_common_unmerged(df_merged_out, df_shanghai_out, 0.9)\n",
    "total_matched_merged.extend(m_merged)\n",
    "total_matched_shanghai.extend(m_shanghai)\n",
    "del m_merged[:]\n",
    "del m_shanghai[:]\n",
    "\n",
    "# threshold : 0.85\n",
    "df_merged_out, df_shanghai_out, m_merged, m_shanghai = find_common_unmerged(df_merged_out, df_shanghai_out, 0.85)\n",
    "total_matched_merged.extend(m_merged)\n",
    "total_matched_shanghai.extend(m_shanghai)\n",
    "del m_merged[:]\n",
    "del m_time[:]\n",
    "\n",
    "# by substrings\n",
    "df_merged_out, df_shanghai_out, m_merged, m_shanghai = find_common_unmerged_by_substrings(df_merged_out, df_shanghai_out, 1.49)\n",
    "total_matched_merged.extend(m_merged)\n",
    "total_matched_shanghai.extend(m_shanghai)\n",
    "del m_merged[:]\n",
    "del m_shanghai[:]\n",
    "\n",
    "for i in range(len(total_matched_shanghai)):\n",
    "    df_shanghai.loc[total_matched_shanghai[i],'name'] = df_merged.loc[total_matched_merged[i],'name']\n",
    "\n",
    "df_shanghai=df_shanghai[['name','rank Shanghai']]\n",
    "    \n",
    "df_rank = pd.merge(df_merged, df_shanghai, how='outer')\n",
    "df_rank=df_rank[['name','(Times) rank','(QS) rank','rank Shanghai']]\n",
    "df_rank.columns=['name','TI rank','QS rank','SH rank']"
   ]
  },
  {
   "cell_type": "markdown",
   "metadata": {},
   "source": [
    "Here we create a function to compare the rank of each pair of university, outputing 1 if the first is higher, or 0."
   ]
  },
  {
   "cell_type": "code",
   "execution_count": 26,
   "metadata": {
    "collapsed": true
   },
   "outputs": [],
   "source": [
    "\n",
    "def compute_vote(rank_serie):\n",
    "    rank_array = np.array(rank_serie)\n",
    "    rank_array[np.isnan(rank_array)]=201\n",
    "    rank_mat=np.tile(rank_array,(len(rank_array),1))\n",
    "    rank_cmp=np.less_equal(rank_mat,np.transpose(rank_mat)).astype(int)\n",
    "    return rank_cmp"
   ]
  },
  {
   "cell_type": "code",
   "execution_count": 27,
   "metadata": {
    "collapsed": true
   },
   "outputs": [],
   "source": [
    "TI_cmp=compute_vote(df_rank['TI rank'])\n",
    "SH_cmp=compute_vote(df_rank['SH rank'])\n",
    "QS_cmp=compute_vote(df_rank['QS rank'])"
   ]
  },
  {
   "cell_type": "markdown",
   "metadata": {},
   "source": [
    "The vote is then performed."
   ]
  },
  {
   "cell_type": "code",
   "execution_count": 28,
   "metadata": {},
   "outputs": [
    {
     "data": {
      "text/html": [
       "<div>\n",
       "<style>\n",
       "    .dataframe thead tr:only-child th {\n",
       "        text-align: right;\n",
       "    }\n",
       "\n",
       "    .dataframe thead th {\n",
       "        text-align: left;\n",
       "    }\n",
       "\n",
       "    .dataframe tbody tr th {\n",
       "        vertical-align: top;\n",
       "    }\n",
       "</style>\n",
       "<table border=\"1\" class=\"dataframe\">\n",
       "  <thead>\n",
       "    <tr style=\"text-align: right;\">\n",
       "      <th></th>\n",
       "      <th>name</th>\n",
       "      <th>TI rank</th>\n",
       "      <th>QS rank</th>\n",
       "      <th>SH rank</th>\n",
       "      <th>cond_score</th>\n",
       "    </tr>\n",
       "  </thead>\n",
       "  <tbody>\n",
       "    <tr>\n",
       "      <th>1</th>\n",
       "      <td>Stanford University</td>\n",
       "      <td>3.0</td>\n",
       "      <td>2.0</td>\n",
       "      <td>2.0</td>\n",
       "      <td>250</td>\n",
       "    </tr>\n",
       "    <tr>\n",
       "      <th>0</th>\n",
       "      <td>Massachusetts Institute Technology (MIT)</td>\n",
       "      <td>5.0</td>\n",
       "      <td>1.0</td>\n",
       "      <td>4.0</td>\n",
       "      <td>249</td>\n",
       "    </tr>\n",
       "    <tr>\n",
       "      <th>2</th>\n",
       "      <td>Harvard University</td>\n",
       "      <td>6.0</td>\n",
       "      <td>3.0</td>\n",
       "      <td>1.0</td>\n",
       "      <td>248</td>\n",
       "    </tr>\n",
       "    <tr>\n",
       "      <th>4</th>\n",
       "      <td>University Cambridge</td>\n",
       "      <td>2.0</td>\n",
       "      <td>5.0</td>\n",
       "      <td>3.0</td>\n",
       "      <td>248</td>\n",
       "    </tr>\n",
       "    <tr>\n",
       "      <th>5</th>\n",
       "      <td>University Oxford</td>\n",
       "      <td>1.0</td>\n",
       "      <td>6.0</td>\n",
       "      <td>7.0</td>\n",
       "      <td>248</td>\n",
       "    </tr>\n",
       "    <tr>\n",
       "      <th>3</th>\n",
       "      <td>California Institute Technology (Caltech)</td>\n",
       "      <td>3.0</td>\n",
       "      <td>4.0</td>\n",
       "      <td>9.0</td>\n",
       "      <td>248</td>\n",
       "    </tr>\n",
       "    <tr>\n",
       "      <th>7</th>\n",
       "      <td>Imperial College London</td>\n",
       "      <td>8.0</td>\n",
       "      <td>8.0</td>\n",
       "      <td>27.0</td>\n",
       "      <td>245</td>\n",
       "    </tr>\n",
       "    <tr>\n",
       "      <th>8</th>\n",
       "      <td>University Chicago</td>\n",
       "      <td>9.0</td>\n",
       "      <td>9.0</td>\n",
       "      <td>10.0</td>\n",
       "      <td>244</td>\n",
       "    </tr>\n",
       "    <tr>\n",
       "      <th>9</th>\n",
       "      <td>ETH Zurich   Swiss Federal Institute Technology</td>\n",
       "      <td>10.0</td>\n",
       "      <td>10.0</td>\n",
       "      <td>19.0</td>\n",
       "      <td>243</td>\n",
       "    </tr>\n",
       "    <tr>\n",
       "      <th>12</th>\n",
       "      <td>Princeton University</td>\n",
       "      <td>7.0</td>\n",
       "      <td>13.0</td>\n",
       "      <td>6.0</td>\n",
       "      <td>241</td>\n",
       "    </tr>\n",
       "  </tbody>\n",
       "</table>\n",
       "</div>"
      ],
      "text/plain": [
       "                                               name  TI rank  QS rank  \\\n",
       "1                               Stanford University      3.0      2.0   \n",
       "0          Massachusetts Institute Technology (MIT)      5.0      1.0   \n",
       "2                                Harvard University      6.0      3.0   \n",
       "4                              University Cambridge      2.0      5.0   \n",
       "5                                 University Oxford      1.0      6.0   \n",
       "3         California Institute Technology (Caltech)      3.0      4.0   \n",
       "7                           Imperial College London      8.0      8.0   \n",
       "8                                University Chicago      9.0      9.0   \n",
       "9   ETH Zurich   Swiss Federal Institute Technology     10.0     10.0   \n",
       "12                             Princeton University      7.0     13.0   \n",
       "\n",
       "    SH rank  cond_score  \n",
       "1       2.0         250  \n",
       "0       4.0         249  \n",
       "2       1.0         248  \n",
       "4       3.0         248  \n",
       "5       7.0         248  \n",
       "3       9.0         248  \n",
       "7      27.0         245  \n",
       "8      10.0         244  \n",
       "9      19.0         243  \n",
       "12      6.0         241  "
      ]
     },
     "execution_count": 28,
     "metadata": {},
     "output_type": "execute_result"
    }
   ],
   "source": [
    "tot_mat=np.greater(QS_cmp+TI_cmp,1).astype(int)\n",
    "df_rank['cond_score']= tot_mat.sum(axis=0)\n",
    "df_rank.sort_values(['cond_score'],ascending=False).head(10)"
   ]
  },
  {
   "cell_type": "markdown",
   "metadata": {},
   "source": [
    "We can see here the results of the Condorcet method considering only the Times and QS rankings. We can see that we got a unique best and second universities (Stanford and MIT), but the four next have the exact same score, and they can't be differentiated. We can also see that the best university is not the best in the QS ranking nor in the Times ranking."
   ]
  },
  {
   "cell_type": "code",
   "execution_count": 29,
   "metadata": {},
   "outputs": [
    {
     "data": {
      "text/html": [
       "<div>\n",
       "<style>\n",
       "    .dataframe thead tr:only-child th {\n",
       "        text-align: right;\n",
       "    }\n",
       "\n",
       "    .dataframe thead th {\n",
       "        text-align: left;\n",
       "    }\n",
       "\n",
       "    .dataframe tbody tr th {\n",
       "        vertical-align: top;\n",
       "    }\n",
       "</style>\n",
       "<table border=\"1\" class=\"dataframe\">\n",
       "  <thead>\n",
       "    <tr style=\"text-align: right;\">\n",
       "      <th></th>\n",
       "      <th>name</th>\n",
       "      <th>TI rank</th>\n",
       "      <th>QS rank</th>\n",
       "      <th>SH rank</th>\n",
       "      <th>cond_score</th>\n",
       "    </tr>\n",
       "  </thead>\n",
       "  <tbody>\n",
       "    <tr>\n",
       "      <th>1</th>\n",
       "      <td>Stanford University</td>\n",
       "      <td>3.0</td>\n",
       "      <td>2.0</td>\n",
       "      <td>2.0</td>\n",
       "      <td>253</td>\n",
       "    </tr>\n",
       "    <tr>\n",
       "      <th>0</th>\n",
       "      <td>Massachusetts Institute Technology (MIT)</td>\n",
       "      <td>5.0</td>\n",
       "      <td>1.0</td>\n",
       "      <td>4.0</td>\n",
       "      <td>251</td>\n",
       "    </tr>\n",
       "    <tr>\n",
       "      <th>2</th>\n",
       "      <td>Harvard University</td>\n",
       "      <td>6.0</td>\n",
       "      <td>3.0</td>\n",
       "      <td>1.0</td>\n",
       "      <td>251</td>\n",
       "    </tr>\n",
       "    <tr>\n",
       "      <th>4</th>\n",
       "      <td>University Cambridge</td>\n",
       "      <td>2.0</td>\n",
       "      <td>5.0</td>\n",
       "      <td>3.0</td>\n",
       "      <td>251</td>\n",
       "    </tr>\n",
       "    <tr>\n",
       "      <th>5</th>\n",
       "      <td>University Oxford</td>\n",
       "      <td>1.0</td>\n",
       "      <td>6.0</td>\n",
       "      <td>7.0</td>\n",
       "      <td>249</td>\n",
       "    </tr>\n",
       "    <tr>\n",
       "      <th>3</th>\n",
       "      <td>California Institute Technology (Caltech)</td>\n",
       "      <td>3.0</td>\n",
       "      <td>4.0</td>\n",
       "      <td>9.0</td>\n",
       "      <td>248</td>\n",
       "    </tr>\n",
       "    <tr>\n",
       "      <th>12</th>\n",
       "      <td>Princeton University</td>\n",
       "      <td>7.0</td>\n",
       "      <td>13.0</td>\n",
       "      <td>6.0</td>\n",
       "      <td>247</td>\n",
       "    </tr>\n",
       "    <tr>\n",
       "      <th>7</th>\n",
       "      <td>Imperial College London</td>\n",
       "      <td>8.0</td>\n",
       "      <td>8.0</td>\n",
       "      <td>27.0</td>\n",
       "      <td>245</td>\n",
       "    </tr>\n",
       "    <tr>\n",
       "      <th>8</th>\n",
       "      <td>University Chicago</td>\n",
       "      <td>9.0</td>\n",
       "      <td>9.0</td>\n",
       "      <td>10.0</td>\n",
       "      <td>245</td>\n",
       "    </tr>\n",
       "    <tr>\n",
       "      <th>15</th>\n",
       "      <td>Yale University</td>\n",
       "      <td>12.0</td>\n",
       "      <td>16.0</td>\n",
       "      <td>11.0</td>\n",
       "      <td>243</td>\n",
       "    </tr>\n",
       "  </tbody>\n",
       "</table>\n",
       "</div>"
      ],
      "text/plain": [
       "                                         name  TI rank  QS rank  SH rank  \\\n",
       "1                         Stanford University      3.0      2.0      2.0   \n",
       "0    Massachusetts Institute Technology (MIT)      5.0      1.0      4.0   \n",
       "2                          Harvard University      6.0      3.0      1.0   \n",
       "4                        University Cambridge      2.0      5.0      3.0   \n",
       "5                           University Oxford      1.0      6.0      7.0   \n",
       "3   California Institute Technology (Caltech)      3.0      4.0      9.0   \n",
       "12                       Princeton University      7.0     13.0      6.0   \n",
       "7                     Imperial College London      8.0      8.0     27.0   \n",
       "8                          University Chicago      9.0      9.0     10.0   \n",
       "15                            Yale University     12.0     16.0     11.0   \n",
       "\n",
       "    cond_score  \n",
       "1          253  \n",
       "0          251  \n",
       "2          251  \n",
       "4          251  \n",
       "5          249  \n",
       "3          248  \n",
       "12         247  \n",
       "7          245  \n",
       "8          245  \n",
       "15         243  "
      ]
     },
     "execution_count": 29,
     "metadata": {},
     "output_type": "execute_result"
    }
   ],
   "source": [
    "tot_mat=np.greater(QS_cmp+TI_cmp+SH_cmp,1.5).astype(int)\n",
    "df_rank['cond_score']= tot_mat.sum(axis=0)\n",
    "df_rank.sort_values(['cond_score'],ascending=False).head(10)"
   ]
  },
  {
   "cell_type": "markdown",
   "metadata": {},
   "source": [
    "We can see that adding the Shanghai ranking does not change the best university (Stanford) but there are three universities that share the second rank. We can also see that there is another conflict between the eigth and ninth university, so there are not a significant improvement in terms of conflicts. Adding the Shanghai ranking add also lowered the ranked of some universities (such as ETH or Imerial College) which have a poor rank in the Shanghai ranking.\n",
    "\n",
    "We can however say that the world best university according to the three rankings is Stanford."
   ]
  }
 ],
 "metadata": {
  "kernelspec": {
   "display_name": "Python 3",
   "language": "python",
   "name": "python3"
  },
  "language_info": {
   "codemirror_mode": {
    "name": "ipython",
    "version": 3
   },
   "file_extension": ".py",
   "mimetype": "text/x-python",
   "name": "python",
   "nbconvert_exporter": "python",
   "pygments_lexer": "ipython3",
   "version": "3.6.1"
  }
 },
 "nbformat": 4,
 "nbformat_minor": 2
}
