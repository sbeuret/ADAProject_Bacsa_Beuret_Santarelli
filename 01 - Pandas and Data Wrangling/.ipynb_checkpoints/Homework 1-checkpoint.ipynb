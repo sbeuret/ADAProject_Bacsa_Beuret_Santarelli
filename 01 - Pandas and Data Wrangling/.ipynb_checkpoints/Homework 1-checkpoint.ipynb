{
 "cells": [
  {
   "cell_type": "markdown",
   "metadata": {},
   "source": [
    "# Table of Contents\n",
    " <p><div class=\"lev1\"><a href=\"#Task-1.-Compiling-Ebola-Data\"><span class=\"toc-item-num\">Task 1.&nbsp;&nbsp;</span>Compiling Ebola Data</a></div>\n",
    " <div class=\"lev1\"><a href=\"#Task-2.-RNA-Sequences\"><span class=\"toc-item-num\">Task 2.&nbsp;&nbsp;</span>RNA Sequences</a></div>\n",
    " <div class=\"lev1\"><a href=\"#Task-3.-Class-War-in-Titanic\"><span class=\"toc-item-num\">Task 3.&nbsp;&nbsp;</span>Class War in Titanic</a></div></p>"
   ]
  },
  {
   "cell_type": "markdown",
   "metadata": {},
   "source": [
    "## Task 1. Compiling Ebola Data\n",
    "\n",
    "The `DATA_FOLDER/ebola` folder contains summarized reports of Ebola cases from three countries (Guinea, Liberia and Sierra Leone) during the recent outbreak of the disease in West Africa. For each country, there are daily reports that contain various information about the outbreak in several cities in each country.\n",
    "\n",
    "Use pandas to import these data files into a single `Dataframe`.\n",
    "Using this `DataFrame`, calculate for *each country*, the *daily average* per year of *new cases* and *deaths*.\n",
    "Make sure you handle all the different expressions for *new cases* and *deaths* that are used in the reports."
   ]
  },
  {
   "cell_type": "code",
   "execution_count": 182,
   "metadata": {
    "collapsed": true
   },
   "outputs": [],
   "source": [
    "import os\n",
    "import pandas as pd\n",
    "import numpy as np\n",
    "from datetime import datetime\n",
    "import matplotlib.pyplot as plt\n",
    "\n",
    "%matplotlib inline\n",
    "\n",
    "DATA_FOLDER = os.path.join(os.path.dirname(os.getcwd()),'ADA2017-Tutorials-master','02 - Intro to Pandas','Data') # Use the data folder provided in Tutorial 02 - Intro to Pandas.\n",
    "EBOLA_FOLDER= os.path.join(DATA_FOLDER, 'ebola')\n",
    "\n",
    "#countries=['sl_data', 'guinea_data','liberia_data']"
   ]
  },
  {
   "cell_type": "markdown",
   "metadata": {},
   "source": [
    "# Sierra Leone"
   ]
  },
  {
   "cell_type": "code",
   "execution_count": 210,
   "metadata": {},
   "outputs": [],
   "source": [
    "#Sierra Leone\n",
    "sl='sl_data'\n",
    "files=os.listdir(os.path.join(EBOLA_FOLDER, sl))\n",
    "sl_df=pd.read_csv(os.path.join(EBOLA_FOLDER, sl,files[0]))        \n",
    "for file in files[1:-1]:   \n",
    "    sl_df = sl_df.append(pd.read_csv(os.path.join(EBOLA_FOLDER, sl, file)), ignore_index=True)\n",
    "\n",
    "# convert to datetime format\n",
    "sl_df['date'] = pd.to_datetime(sl_df['date'])\n",
    "    \n",
    "#change columns names data -> Date ,variable -> Variable\n",
    "sl_df.rename(columns={'date': 'Date', 'variable': 'Variable', 'National': 'Total Sierra Leone'}, inplace=True)\n",
    "\n",
    "#change order index Date, Variable, Country first\n",
    "sl_df = sl_df.reindex_axis(['Date','Variable','Total Sierra Leone'] + list([a for a in sl_df.columns if a != 'Date' and a!= 'Variable' and a!= 'Total Sierra Leone']), axis=1)\n",
    "sl_df = sl_df.set_index(['Date','Variable'])\n",
    "sl_df = pd.concat([sl_df], axis=1, keys=['Sierra Leone'])"
   ]
  },
  {
   "cell_type": "markdown",
   "metadata": {},
   "source": [
    "# Guinea"
   ]
  },
  {
   "cell_type": "code",
   "execution_count": 211,
   "metadata": {},
   "outputs": [],
   "source": [
    "#Guinea\n",
    "gn='guinea_data'\n",
    "files=os.listdir(os.path.join(EBOLA_FOLDER, gn))\n",
    "gn_df=pd.read_csv(os.path.join(EBOLA_FOLDER, gn,files[0]))           \n",
    "for file in files[1:-1]:   \n",
    "    gn_df = gn_df.append(pd.read_csv(os.path.join(EBOLA_FOLDER, gn, file)), ignore_index=True)\n",
    "\n",
    "# convert to datetime format\n",
    "gn_df['Date'] = pd.to_datetime(gn_df['Date'])\n",
    "\n",
    "#change columns names data -> Date ,variable -> Variable\n",
    "gn_df.rename(columns={'date': 'Date', 'Description': 'Variable', 'Totals':'Total Guinea'}, inplace=True)\n",
    "\n",
    "#change order index Date, Variable, Country first\n",
    "gn_df = gn_df.reindex_axis(['Date','Variable','Total Guinea'] + list([a for a in gn_df.columns if a != 'Date' and a!= 'Variable' and a!= 'Total Guinea']), axis=1)\n",
    "gn_df = gn_df.set_index(['Date','Variable'])\n",
    "gn_df = pd.concat([gn_df], axis=1, keys=['Guinea'])"
   ]
  },
  {
   "cell_type": "markdown",
   "metadata": {},
   "source": [
    "# Liberia"
   ]
  },
  {
   "cell_type": "code",
   "execution_count": 212,
   "metadata": {},
   "outputs": [],
   "source": [
    "#Liberia\n",
    "lb='liberia_data'\n",
    "files=os.listdir(os.path.join(EBOLA_FOLDER, lb))\n",
    "lb_df=pd.read_csv(os.path.join(EBOLA_FOLDER, lb,files[0]))           \n",
    "for file in files[1:-1]:   \n",
    "    lb_df = lb_df.append(pd.read_csv(os.path.join(EBOLA_FOLDER, lb, file)), ignore_index=True)\n",
    "\n",
    "# convert to datetime format\n",
    "lb_df['Date'] = pd.to_datetime(lb_df['Date'])\n",
    "\n",
    "#print(lb_df['Variable'])\n",
    "\n",
    "#change columns names data -> Date ,variable -> Variable\n",
    "lb_df.rename(columns={'date': 'Date', 'variable': 'Variable', 'National': 'Total Liberia'}, inplace=True)\n",
    "\n",
    "#change order index Date, Variable, Country first\n",
    "lb_df = lb_df.reindex_axis(['Date','Variable','Total Liberia'] + list([a for a in lb_df.columns if a != 'Date' and a!= 'Variable' and a!= 'Total Liberia']), axis=1)\n",
    "lb_df = lb_df.set_index(['Date','Variable'])\n",
    "lb_df = pd.concat([lb_df], axis=1, keys=['Liberia'])"
   ]
  },
  {
   "cell_type": "code",
   "execution_count": 214,
   "metadata": {
    "scrolled": true
   },
   "outputs": [
    {
     "data": {
      "text/html": [
       "<div>\n",
       "<style>\n",
       "    .dataframe thead tr:only-child th {\n",
       "        text-align: right;\n",
       "    }\n",
       "\n",
       "    .dataframe thead th {\n",
       "        text-align: left;\n",
       "    }\n",
       "\n",
       "    .dataframe tbody tr th {\n",
       "        vertical-align: top;\n",
       "    }\n",
       "</style>\n",
       "<table border=\"1\" class=\"dataframe\">\n",
       "  <thead>\n",
       "    <tr>\n",
       "      <th></th>\n",
       "      <th></th>\n",
       "      <th colspan=\"10\" halign=\"left\">Guinea</th>\n",
       "      <th>...</th>\n",
       "      <th colspan=\"10\" halign=\"left\">Sierra Leone</th>\n",
       "    </tr>\n",
       "    <tr>\n",
       "      <th></th>\n",
       "      <th></th>\n",
       "      <th>Beyla</th>\n",
       "      <th>Boffa</th>\n",
       "      <th>Conakry</th>\n",
       "      <th>Coyah</th>\n",
       "      <th>Dabola</th>\n",
       "      <th>Dalaba</th>\n",
       "      <th>Dinguiraye</th>\n",
       "      <th>Dubreka</th>\n",
       "      <th>Forecariah</th>\n",
       "      <th>Gueckedou</th>\n",
       "      <th>...</th>\n",
       "      <th>Police traning School</th>\n",
       "      <th>Port Loko</th>\n",
       "      <th>Pujehun</th>\n",
       "      <th>Tonkolili</th>\n",
       "      <th>Total Sierra Leone</th>\n",
       "      <th>Unnamed: 18</th>\n",
       "      <th>Western area</th>\n",
       "      <th>Western area combined</th>\n",
       "      <th>Western area rural</th>\n",
       "      <th>Western area urban</th>\n",
       "    </tr>\n",
       "    <tr>\n",
       "      <th>Date</th>\n",
       "      <th>Variable</th>\n",
       "      <th></th>\n",
       "      <th></th>\n",
       "      <th></th>\n",
       "      <th></th>\n",
       "      <th></th>\n",
       "      <th></th>\n",
       "      <th></th>\n",
       "      <th></th>\n",
       "      <th></th>\n",
       "      <th></th>\n",
       "      <th></th>\n",
       "      <th></th>\n",
       "      <th></th>\n",
       "      <th></th>\n",
       "      <th></th>\n",
       "      <th></th>\n",
       "      <th></th>\n",
       "      <th></th>\n",
       "      <th></th>\n",
       "      <th></th>\n",
       "      <th></th>\n",
       "    </tr>\n",
       "  </thead>\n",
       "  <tbody>\n",
       "    <tr>\n",
       "      <th rowspan=\"5\" valign=\"top\">2014-12-08</th>\n",
       "      <th>Total probable cases</th>\n",
       "      <td>NaN</td>\n",
       "      <td>NaN</td>\n",
       "      <td>NaN</td>\n",
       "      <td>NaN</td>\n",
       "      <td>NaN</td>\n",
       "      <td>NaN</td>\n",
       "      <td>NaN</td>\n",
       "      <td>NaN</td>\n",
       "      <td>NaN</td>\n",
       "      <td>NaN</td>\n",
       "      <td>...</td>\n",
       "      <td>NaN</td>\n",
       "      <td>NaN</td>\n",
       "      <td>NaN</td>\n",
       "      <td>NaN</td>\n",
       "      <td>NaN</td>\n",
       "      <td>NaN</td>\n",
       "      <td>NaN</td>\n",
       "      <td>NaN</td>\n",
       "      <td>NaN</td>\n",
       "      <td>NaN</td>\n",
       "    </tr>\n",
       "    <tr>\n",
       "      <th>Total confirmed cases</th>\n",
       "      <td>NaN</td>\n",
       "      <td>NaN</td>\n",
       "      <td>NaN</td>\n",
       "      <td>NaN</td>\n",
       "      <td>NaN</td>\n",
       "      <td>NaN</td>\n",
       "      <td>NaN</td>\n",
       "      <td>NaN</td>\n",
       "      <td>NaN</td>\n",
       "      <td>NaN</td>\n",
       "      <td>...</td>\n",
       "      <td>NaN</td>\n",
       "      <td>NaN</td>\n",
       "      <td>NaN</td>\n",
       "      <td>NaN</td>\n",
       "      <td>NaN</td>\n",
       "      <td>NaN</td>\n",
       "      <td>NaN</td>\n",
       "      <td>NaN</td>\n",
       "      <td>NaN</td>\n",
       "      <td>NaN</td>\n",
       "    </tr>\n",
       "    <tr>\n",
       "      <th>Total Number of Confirmed Cases \\n of Sierra Leonean Nationality</th>\n",
       "      <td>NaN</td>\n",
       "      <td>NaN</td>\n",
       "      <td>NaN</td>\n",
       "      <td>NaN</td>\n",
       "      <td>NaN</td>\n",
       "      <td>NaN</td>\n",
       "      <td>NaN</td>\n",
       "      <td>NaN</td>\n",
       "      <td>NaN</td>\n",
       "      <td>NaN</td>\n",
       "      <td>...</td>\n",
       "      <td>NaN</td>\n",
       "      <td>NaN</td>\n",
       "      <td>NaN</td>\n",
       "      <td>NaN</td>\n",
       "      <td>NaN</td>\n",
       "      <td>NaN</td>\n",
       "      <td>NaN</td>\n",
       "      <td>NaN</td>\n",
       "      <td>NaN</td>\n",
       "      <td>NaN</td>\n",
       "    </tr>\n",
       "    <tr>\n",
       "      <th>Total Number of Confirmed Cases \\n of Guinean Nationality</th>\n",
       "      <td>NaN</td>\n",
       "      <td>NaN</td>\n",
       "      <td>NaN</td>\n",
       "      <td>NaN</td>\n",
       "      <td>NaN</td>\n",
       "      <td>NaN</td>\n",
       "      <td>NaN</td>\n",
       "      <td>NaN</td>\n",
       "      <td>NaN</td>\n",
       "      <td>NaN</td>\n",
       "      <td>...</td>\n",
       "      <td>NaN</td>\n",
       "      <td>NaN</td>\n",
       "      <td>NaN</td>\n",
       "      <td>NaN</td>\n",
       "      <td>NaN</td>\n",
       "      <td>NaN</td>\n",
       "      <td>NaN</td>\n",
       "      <td>NaN</td>\n",
       "      <td>NaN</td>\n",
       "      <td>NaN</td>\n",
       "    </tr>\n",
       "    <tr>\n",
       "      <th>Cumulative confirmed, probable and suspected cases</th>\n",
       "      <td>NaN</td>\n",
       "      <td>NaN</td>\n",
       "      <td>NaN</td>\n",
       "      <td>NaN</td>\n",
       "      <td>NaN</td>\n",
       "      <td>NaN</td>\n",
       "      <td>NaN</td>\n",
       "      <td>NaN</td>\n",
       "      <td>NaN</td>\n",
       "      <td>NaN</td>\n",
       "      <td>...</td>\n",
       "      <td>NaN</td>\n",
       "      <td>NaN</td>\n",
       "      <td>NaN</td>\n",
       "      <td>NaN</td>\n",
       "      <td>NaN</td>\n",
       "      <td>NaN</td>\n",
       "      <td>NaN</td>\n",
       "      <td>NaN</td>\n",
       "      <td>NaN</td>\n",
       "      <td>NaN</td>\n",
       "    </tr>\n",
       "  </tbody>\n",
       "</table>\n",
       "<p>5 rows × 65 columns</p>\n",
       "</div>"
      ],
      "text/plain": [
       "                                                              Guinea        \\\n",
       "                                                               Beyla Boffa   \n",
       "Date       Variable                                                          \n",
       "2014-12-08 Total probable cases                                  NaN   NaN   \n",
       "           Total confirmed cases                                 NaN   NaN   \n",
       "           Total Number of Confirmed Cases \\n of Sierra Le...    NaN   NaN   \n",
       "           Total Number of Confirmed Cases \\n of Guinean N...    NaN   NaN   \n",
       "           Cumulative confirmed, probable and suspected cases    NaN   NaN   \n",
       "\n",
       "                                                                             \\\n",
       "                                                              Conakry Coyah   \n",
       "Date       Variable                                                           \n",
       "2014-12-08 Total probable cases                                   NaN   NaN   \n",
       "           Total confirmed cases                                  NaN   NaN   \n",
       "           Total Number of Confirmed Cases \\n of Sierra Le...     NaN   NaN   \n",
       "           Total Number of Confirmed Cases \\n of Guinean N...     NaN   NaN   \n",
       "           Cumulative confirmed, probable and suspected cases     NaN   NaN   \n",
       "\n",
       "                                                                             \\\n",
       "                                                              Dabola Dalaba   \n",
       "Date       Variable                                                           \n",
       "2014-12-08 Total probable cases                                  NaN    NaN   \n",
       "           Total confirmed cases                                 NaN    NaN   \n",
       "           Total Number of Confirmed Cases \\n of Sierra Le...    NaN    NaN   \n",
       "           Total Number of Confirmed Cases \\n of Guinean N...    NaN    NaN   \n",
       "           Cumulative confirmed, probable and suspected cases    NaN    NaN   \n",
       "\n",
       "                                                                          \\\n",
       "                                                              Dinguiraye   \n",
       "Date       Variable                                                        \n",
       "2014-12-08 Total probable cases                                      NaN   \n",
       "           Total confirmed cases                                     NaN   \n",
       "           Total Number of Confirmed Cases \\n of Sierra Le...        NaN   \n",
       "           Total Number of Confirmed Cases \\n of Guinean N...        NaN   \n",
       "           Cumulative confirmed, probable and suspected cases        NaN   \n",
       "\n",
       "                                                                       \\\n",
       "                                                              Dubreka   \n",
       "Date       Variable                                                     \n",
       "2014-12-08 Total probable cases                                   NaN   \n",
       "           Total confirmed cases                                  NaN   \n",
       "           Total Number of Confirmed Cases \\n of Sierra Le...     NaN   \n",
       "           Total Number of Confirmed Cases \\n of Guinean N...     NaN   \n",
       "           Cumulative confirmed, probable and suspected cases     NaN   \n",
       "\n",
       "                                                                          \\\n",
       "                                                              Forecariah   \n",
       "Date       Variable                                                        \n",
       "2014-12-08 Total probable cases                                      NaN   \n",
       "           Total confirmed cases                                     NaN   \n",
       "           Total Number of Confirmed Cases \\n of Sierra Le...        NaN   \n",
       "           Total Number of Confirmed Cases \\n of Guinean N...        NaN   \n",
       "           Cumulative confirmed, probable and suspected cases        NaN   \n",
       "\n",
       "                                                                         \\\n",
       "                                                              Gueckedou   \n",
       "Date       Variable                                                       \n",
       "2014-12-08 Total probable cases                                     NaN   \n",
       "           Total confirmed cases                                    NaN   \n",
       "           Total Number of Confirmed Cases \\n of Sierra Le...       NaN   \n",
       "           Total Number of Confirmed Cases \\n of Guinean N...       NaN   \n",
       "           Cumulative confirmed, probable and suspected cases       NaN   \n",
       "\n",
       "                                                                     ...          \\\n",
       "                                                                     ...           \n",
       "Date       Variable                                                  ...           \n",
       "2014-12-08 Total probable cases                                      ...           \n",
       "           Total confirmed cases                                     ...           \n",
       "           Total Number of Confirmed Cases \\n of Sierra Le...        ...           \n",
       "           Total Number of Confirmed Cases \\n of Guinean N...        ...           \n",
       "           Cumulative confirmed, probable and suspected cases        ...           \n",
       "\n",
       "                                                                       Sierra Leone  \\\n",
       "                                                              Police traning School   \n",
       "Date       Variable                                                                   \n",
       "2014-12-08 Total probable cases                                                 NaN   \n",
       "           Total confirmed cases                                                NaN   \n",
       "           Total Number of Confirmed Cases \\n of Sierra Le...                   NaN   \n",
       "           Total Number of Confirmed Cases \\n of Guinean N...                   NaN   \n",
       "           Cumulative confirmed, probable and suspected cases                   NaN   \n",
       "\n",
       "                                                                         \\\n",
       "                                                              Port Loko   \n",
       "Date       Variable                                                       \n",
       "2014-12-08 Total probable cases                                     NaN   \n",
       "           Total confirmed cases                                    NaN   \n",
       "           Total Number of Confirmed Cases \\n of Sierra Le...       NaN   \n",
       "           Total Number of Confirmed Cases \\n of Guinean N...       NaN   \n",
       "           Cumulative confirmed, probable and suspected cases       NaN   \n",
       "\n",
       "                                                                       \\\n",
       "                                                              Pujehun   \n",
       "Date       Variable                                                     \n",
       "2014-12-08 Total probable cases                                   NaN   \n",
       "           Total confirmed cases                                  NaN   \n",
       "           Total Number of Confirmed Cases \\n of Sierra Le...     NaN   \n",
       "           Total Number of Confirmed Cases \\n of Guinean N...     NaN   \n",
       "           Cumulative confirmed, probable and suspected cases     NaN   \n",
       "\n",
       "                                                                         \\\n",
       "                                                              Tonkolili   \n",
       "Date       Variable                                                       \n",
       "2014-12-08 Total probable cases                                     NaN   \n",
       "           Total confirmed cases                                    NaN   \n",
       "           Total Number of Confirmed Cases \\n of Sierra Le...       NaN   \n",
       "           Total Number of Confirmed Cases \\n of Guinean N...       NaN   \n",
       "           Cumulative confirmed, probable and suspected cases       NaN   \n",
       "\n",
       "                                                                                  \\\n",
       "                                                              Total Sierra Leone   \n",
       "Date       Variable                                                                \n",
       "2014-12-08 Total probable cases                                              NaN   \n",
       "           Total confirmed cases                                             NaN   \n",
       "           Total Number of Confirmed Cases \\n of Sierra Le...                NaN   \n",
       "           Total Number of Confirmed Cases \\n of Guinean N...                NaN   \n",
       "           Cumulative confirmed, probable and suspected cases                NaN   \n",
       "\n",
       "                                                                           \\\n",
       "                                                              Unnamed: 18   \n",
       "Date       Variable                                                         \n",
       "2014-12-08 Total probable cases                                       NaN   \n",
       "           Total confirmed cases                                      NaN   \n",
       "           Total Number of Confirmed Cases \\n of Sierra Le...         NaN   \n",
       "           Total Number of Confirmed Cases \\n of Guinean N...         NaN   \n",
       "           Cumulative confirmed, probable and suspected cases         NaN   \n",
       "\n",
       "                                                                            \\\n",
       "                                                              Western area   \n",
       "Date       Variable                                                          \n",
       "2014-12-08 Total probable cases                                        NaN   \n",
       "           Total confirmed cases                                       NaN   \n",
       "           Total Number of Confirmed Cases \\n of Sierra Le...          NaN   \n",
       "           Total Number of Confirmed Cases \\n of Guinean N...          NaN   \n",
       "           Cumulative confirmed, probable and suspected cases          NaN   \n",
       "\n",
       "                                                                                     \\\n",
       "                                                              Western area combined   \n",
       "Date       Variable                                                                   \n",
       "2014-12-08 Total probable cases                                                 NaN   \n",
       "           Total confirmed cases                                                NaN   \n",
       "           Total Number of Confirmed Cases \\n of Sierra Le...                   NaN   \n",
       "           Total Number of Confirmed Cases \\n of Guinean N...                   NaN   \n",
       "           Cumulative confirmed, probable and suspected cases                   NaN   \n",
       "\n",
       "                                                                                  \\\n",
       "                                                              Western area rural   \n",
       "Date       Variable                                                                \n",
       "2014-12-08 Total probable cases                                              NaN   \n",
       "           Total confirmed cases                                             NaN   \n",
       "           Total Number of Confirmed Cases \\n of Sierra Le...                NaN   \n",
       "           Total Number of Confirmed Cases \\n of Guinean N...                NaN   \n",
       "           Cumulative confirmed, probable and suspected cases                NaN   \n",
       "\n",
       "                                                                                  \n",
       "                                                              Western area urban  \n",
       "Date       Variable                                                               \n",
       "2014-12-08 Total probable cases                                              NaN  \n",
       "           Total confirmed cases                                             NaN  \n",
       "           Total Number of Confirmed Cases \\n of Sierra Le...                NaN  \n",
       "           Total Number of Confirmed Cases \\n of Guinean N...                NaN  \n",
       "           Cumulative confirmed, probable and suspected cases                NaN  \n",
       "\n",
       "[5 rows x 65 columns]"
      ]
     },
     "execution_count": 214,
     "metadata": {},
     "output_type": "execute_result"
    }
   ],
   "source": [
    "df = pd.concat([sl_df, gn_df, lb_df], axis=0)\n",
    "df.tail()"
   ]
  },
  {
   "cell_type": "markdown",
   "metadata": {},
   "source": [
    "For now only the rows with the following names are used to calculation : new_confirmed, death_confirmed, New cases of confirmed, New deaths registered today (confirmed), New case/s (confirmed), Newly reported deaths. Since the names of the variables sometimes change overtime, this is not an accurate measure."
   ]
  },
  {
   "cell_type": "code",
   "execution_count": 215,
   "metadata": {},
   "outputs": [
    {
     "name": "stdout",
     "output_type": "stream",
     "text": [
      "Daily average of new cases in Sierra Leone :  42.9215686275\n",
      "Daily average of deaths in Sierra Leone :  727.852941176\n",
      "Daily average of new cases in Guinea :  12.8571428571\n",
      "Daily average of deaths in Guinea :  2.0\n",
      "Daily average of new cases in Liberia :  148.626262626\n",
      "Daily average deaths in Liberia :  20.5858585859\n"
     ]
    }
   ],
   "source": [
    "# isolate dataframe variables\n",
    "index = df.index.values\n",
    "variables = np.array([row[1] for row in index])\n",
    "\n",
    "# get index for specific variable occurence\n",
    "idx_new_confirmed = np.where(variables == 'new_confirmed')[0].tolist()\n",
    "\n",
    "# get values corresponding to selected index\n",
    "sl_total_new = df[('Sierra Leone','Total Sierra Leone')][idx_new_confirmed].fillna(0).astype(int)\n",
    "\n",
    "# calculate and print mean\n",
    "print('Daily average of new cases in Sierra Leone : ', sl_total_new.mean())\n",
    "\n",
    "idx_death_confirmed = np.where(variables == 'death_confirmed')[0].tolist()\n",
    "sl_total_death = df[('Sierra Leone','Total Sierra Leone')][idx_death_confirmed].fillna(0).astype(int)\n",
    "print('Daily average of deaths in Sierra Leone : ', sl_total_death.mean())\n",
    "\n",
    "idx_nco_confirmed = np.where(variables == 'New cases of confirmed')[0].tolist()\n",
    "gn_total_new = df[('Guinea','Total Guinea')][idx_nco_confirmed].fillna(0).astype(int)\n",
    "print('Daily average of new cases in Guinea : ', gn_total_new.mean())\n",
    "\n",
    "idx_nco_death = np.where(variables == 'New deaths registered today (confirmed)')[0].tolist()\n",
    "gn_total_death = df[('Guinea','Total Guinea')][idx_nco_death].fillna(0).astype(int)\n",
    "print('Daily average of deaths in Guinea : ', gn_total_death.mean())\n",
    "\n",
    "idx_nc_confirmed = np.where(variables == 'New case/s (confirmed)')[0].tolist()\n",
    "lb_total_new = df[('Liberia','Total Liberia')][idx_nc_confirmed].fillna(0).astype(int)\n",
    "print('Daily average of new cases in Liberia : ', lb_total_new.mean())\n",
    "\n",
    "idx_nrd_confirmed = np.where(variables == 'Newly reported deaths')[0].tolist()\n",
    "lb_total_death = df[('Liberia','Total Liberia')][idx_nrd_confirmed].fillna(0).astype(int)\n",
    "print('Daily average deaths in Liberia : ', lb_total_death.mean())"
   ]
  },
  {
   "cell_type": "markdown",
   "metadata": {},
   "source": [
    "# Inconsistencies found in the data"
   ]
  },
  {
   "cell_type": "markdown",
   "metadata": {},
   "source": [
    "## Sierra Leone\n",
    "* Negative values in the variable ???."
   ]
  },
  {
   "cell_type": "markdown",
   "metadata": {},
   "source": [
    "## Guinea \n",
    "* Errors in the accumlative values of the variable **Total cases of confirmed**. The value decreases from 668 to 539 between 26.09.2014 and 30.09.2014 when it is supposed to be accumulative. "
   ]
  },
  {
   "cell_type": "code",
   "execution_count": 209,
   "metadata": {},
   "outputs": [
    {
     "data": {
      "text/plain": [
       "Date        Variable                 \n",
       "2014-09-14  Total deaths of confirmed    429\n",
       "2014-09-16  Total deaths of confirmed    442\n",
       "2014-09-17  Total deaths of confirmed    442\n",
       "2014-09-19  Total deaths of confirmed    463\n",
       "2014-09-21  Total deaths of confirmed    465\n",
       "2014-09-22  Total deaths of confirmed    468\n",
       "2014-09-23  Total deaths of confirmed    476\n",
       "2014-09-24  Total deaths of confirmed    481\n",
       "2014-09-26  Total deaths of confirmed    668\n",
       "2014-09-30  Total deaths of confirmed    539\n",
       "Name: (Guinea, Total Guinea), dtype: int64"
      ]
     },
     "execution_count": 209,
     "metadata": {},
     "output_type": "execute_result"
    }
   ],
   "source": [
    "idx_tot_confirmed = np.where(variables == 'Total deaths of confirmed')[0].tolist()\n",
    "gn_total_con = df[('Guinea','Total Guinea')][idx_tot_confirmed].fillna(0).astype(int)\n",
    "gn_total_con.tail(10)"
   ]
  },
  {
   "cell_type": "markdown",
   "metadata": {},
   "source": [
    "## Liberia \n",
    "* Values migth be inverted between the variable **New cases (confirmed)** and the variable **Total confirmed case** for the last seven days. But also between **New cases (suspected/probable)** with **Total suspected/probable cases**."
   ]
  },
  {
   "cell_type": "code",
   "execution_count": 199,
   "metadata": {
    "scrolled": true
   },
   "outputs": [
    {
     "data": {
      "text/plain": [
       "Date        Variable              \n",
       "2014-11-29  New case/s (confirmed)      10\n",
       "2014-11-30  New case/s (confirmed)      10\n",
       "2014-12-01  New case/s (confirmed)       1\n",
       "2014-12-02  New case/s (confirmed)       9\n",
       "2014-12-03  New case/s (confirmed)       0\n",
       "2014-12-04  New case/s (confirmed)    2867\n",
       "2014-12-05  New case/s (confirmed)    2867\n",
       "2014-12-06  New case/s (confirmed)    2869\n",
       "2014-12-07  New case/s (confirmed)    2869\n",
       "2014-12-08  New case/s (confirmed)    2927\n",
       "Name: (Liberia, Total Liberia), dtype: int64"
      ]
     },
     "execution_count": 199,
     "metadata": {},
     "output_type": "execute_result"
    }
   ],
   "source": [
    "lb_total_new.tail(10)"
   ]
  },
  {
   "cell_type": "code",
   "execution_count": 200,
   "metadata": {},
   "outputs": [
    {
     "data": {
      "text/plain": [
       "Date        Variable             \n",
       "2014-11-29  Total confirmed cases    2805\n",
       "2014-11-30  Total confirmed cases    2823\n",
       "2014-12-01  Total confirmed cases    2823\n",
       "2014-12-02  Total confirmed cases    2824\n",
       "2014-12-03  Total confirmed cases    2830\n",
       "2014-12-04  Total confirmed cases       0\n",
       "2014-12-05  Total confirmed cases       0\n",
       "2014-12-06  Total confirmed cases       0\n",
       "2014-12-07  Total confirmed cases       0\n",
       "2014-12-08  Total confirmed cases       0\n",
       "Name: (Liberia, Total Liberia), dtype: int64"
      ]
     },
     "execution_count": 200,
     "metadata": {},
     "output_type": "execute_result"
    }
   ],
   "source": [
    "idx_tot_confirmed = np.where(variables == 'Total confirmed cases')[0].tolist()\n",
    "lb_total_con = df[('Liberia','Total Liberia')][idx_tot_confirmed].fillna(0).astype(int)\n",
    "lb_total_con.tail(10)"
   ]
  },
  {
   "cell_type": "code",
   "execution_count": 276,
   "metadata": {},
   "outputs": [
    {
     "name": "stdout",
     "output_type": "stream",
     "text": [
      "[3759, 3791, 3823, 3855, 3887]\n",
      "3791\n",
      "[ 2867.  2867.  2869.  2869.  2927.]\n",
      "2867.0\n"
     ]
    },
    {
     "name": "stderr",
     "output_type": "stream",
     "text": [
      "/Users/valentine/anaconda/envs/ada/lib/python3.5/site-packages/ipykernel/ipkernel.py:196: PerformanceWarning: indexing past lexsort depth may impact performance.\n",
      "  res = shell.run_cell(code, store_history=store_history, silent=silent)\n"
     ]
    },
    {
     "ename": "TypeError",
     "evalue": "cannot insert DatetimeIndex with incompatible label",
     "output_type": "error",
     "traceback": [
      "\u001b[0;31m---------------------------------------------------------------------------\u001b[0m",
      "\u001b[0;31mTypeError\u001b[0m                                 Traceback (most recent call last)",
      "\u001b[0;32m~/anaconda/envs/ada/lib/python3.5/site-packages/pandas/core/frame.py\u001b[0m in \u001b[0;36mset_value\u001b[0;34m(self, index, col, value, takeable)\u001b[0m\n\u001b[1;32m   1853\u001b[0m \u001b[0;34m\u001b[0m\u001b[0m\n\u001b[0;32m-> 1854\u001b[0;31m             \u001b[0mseries\u001b[0m \u001b[0;34m=\u001b[0m \u001b[0mself\u001b[0m\u001b[0;34m.\u001b[0m\u001b[0m_get_item_cache\u001b[0m\u001b[0;34m(\u001b[0m\u001b[0mcol\u001b[0m\u001b[0;34m)\u001b[0m\u001b[0;34m\u001b[0m\u001b[0m\n\u001b[0m\u001b[1;32m   1855\u001b[0m             \u001b[0mengine\u001b[0m \u001b[0;34m=\u001b[0m \u001b[0mself\u001b[0m\u001b[0;34m.\u001b[0m\u001b[0mindex\u001b[0m\u001b[0;34m.\u001b[0m\u001b[0m_engine\u001b[0m\u001b[0;34m\u001b[0m\u001b[0m\n",
      "\u001b[0;32m~/anaconda/envs/ada/lib/python3.5/site-packages/pandas/core/generic.py\u001b[0m in \u001b[0;36m_get_item_cache\u001b[0;34m(self, item)\u001b[0m\n\u001b[1;32m   1642\u001b[0m         \u001b[0mcache\u001b[0m \u001b[0;34m=\u001b[0m \u001b[0mself\u001b[0m\u001b[0;34m.\u001b[0m\u001b[0m_item_cache\u001b[0m\u001b[0;34m\u001b[0m\u001b[0m\n\u001b[0;32m-> 1643\u001b[0;31m         \u001b[0mres\u001b[0m \u001b[0;34m=\u001b[0m \u001b[0mcache\u001b[0m\u001b[0;34m.\u001b[0m\u001b[0mget\u001b[0m\u001b[0;34m(\u001b[0m\u001b[0mitem\u001b[0m\u001b[0;34m)\u001b[0m\u001b[0;34m\u001b[0m\u001b[0m\n\u001b[0m\u001b[1;32m   1644\u001b[0m         \u001b[0;32mif\u001b[0m \u001b[0mres\u001b[0m \u001b[0;32mis\u001b[0m \u001b[0;32mNone\u001b[0m\u001b[0;34m:\u001b[0m\u001b[0;34m\u001b[0m\u001b[0m\n",
      "\u001b[0;31mTypeError\u001b[0m: unhashable type: 'list'",
      "\nDuring handling of the above exception, another exception occurred:\n",
      "\u001b[0;31mAttributeError\u001b[0m                            Traceback (most recent call last)",
      "\u001b[0;32m~/anaconda/envs/ada/lib/python3.5/site-packages/pandas/core/indexes/datetimes.py\u001b[0m in \u001b[0;36minsert\u001b[0;34m(self, loc, item)\u001b[0m\n\u001b[1;32m   1712\u001b[0m         \u001b[0;32mtry\u001b[0m\u001b[0;34m:\u001b[0m\u001b[0;34m\u001b[0m\u001b[0m\n\u001b[0;32m-> 1713\u001b[0;31m             new_dates = np.concatenate((self[:loc].asi8, [item.view(np.int64)],\n\u001b[0m\u001b[1;32m   1714\u001b[0m                                         self[loc:].asi8))\n",
      "\u001b[0;31mAttributeError\u001b[0m: 'int' object has no attribute 'view'",
      "\nDuring handling of the above exception, another exception occurred:\n",
      "\u001b[0;31mTypeError\u001b[0m                                 Traceback (most recent call last)",
      "\u001b[0;32m<ipython-input-276-c0495602980a>\u001b[0m in \u001b[0;36m<module>\u001b[0;34m()\u001b[0m\n\u001b[1;32m      8\u001b[0m \u001b[0;34m\u001b[0m\u001b[0m\n\u001b[1;32m      9\u001b[0m \u001b[0;32mfor\u001b[0m \u001b[0mi\u001b[0m \u001b[0;32min\u001b[0m \u001b[0mrange\u001b[0m\u001b[0;34m(\u001b[0m\u001b[0;36m0\u001b[0m\u001b[0;34m,\u001b[0m\u001b[0;36m4\u001b[0m\u001b[0;34m)\u001b[0m\u001b[0;34m:\u001b[0m\u001b[0;34m\u001b[0m\u001b[0m\n\u001b[0;32m---> 10\u001b[0;31m     \u001b[0mdf\u001b[0m\u001b[0;34m.\u001b[0m\u001b[0mset_value\u001b[0m\u001b[0;34m(\u001b[0m\u001b[0mindex\u001b[0m\u001b[0;34m[\u001b[0m\u001b[0mi\u001b[0m\u001b[0;34m]\u001b[0m\u001b[0;34m,\u001b[0m\u001b[0;34m[\u001b[0m\u001b[0;34m(\u001b[0m\u001b[0;34m'Liberia'\u001b[0m\u001b[0;34m,\u001b[0m\u001b[0;34m'Total Liberia'\u001b[0m\u001b[0;34m)\u001b[0m\u001b[0;34m]\u001b[0m\u001b[0;34m,\u001b[0m\u001b[0mvalues\u001b[0m\u001b[0;34m[\u001b[0m\u001b[0mi\u001b[0m\u001b[0;34m]\u001b[0m\u001b[0;34m)\u001b[0m\u001b[0;34m\u001b[0m\u001b[0m\n\u001b[0m\u001b[1;32m     11\u001b[0m \u001b[0;34m\u001b[0m\u001b[0m\n\u001b[1;32m     12\u001b[0m \u001b[0midx_tot_confirmed\u001b[0m \u001b[0;34m=\u001b[0m \u001b[0mnp\u001b[0m\u001b[0;34m.\u001b[0m\u001b[0mwhere\u001b[0m\u001b[0;34m(\u001b[0m\u001b[0mvariables\u001b[0m \u001b[0;34m==\u001b[0m \u001b[0;34m'Total confirmed cases'\u001b[0m\u001b[0;34m)\u001b[0m\u001b[0;34m[\u001b[0m\u001b[0;36m0\u001b[0m\u001b[0;34m]\u001b[0m\u001b[0;34m.\u001b[0m\u001b[0mtolist\u001b[0m\u001b[0;34m(\u001b[0m\u001b[0;34m)\u001b[0m\u001b[0;34m\u001b[0m\u001b[0m\n",
      "\u001b[0;32m~/anaconda/envs/ada/lib/python3.5/site-packages/pandas/core/frame.py\u001b[0m in \u001b[0;36mset_value\u001b[0;34m(self, index, col, value, takeable)\u001b[0m\n\u001b[1;32m   1859\u001b[0m \u001b[0;34m\u001b[0m\u001b[0m\n\u001b[1;32m   1860\u001b[0m             \u001b[0;31m# set using a non-recursive method & reset the cache\u001b[0m\u001b[0;34m\u001b[0m\u001b[0;34m\u001b[0m\u001b[0m\n\u001b[0;32m-> 1861\u001b[0;31m             \u001b[0mself\u001b[0m\u001b[0;34m.\u001b[0m\u001b[0mloc\u001b[0m\u001b[0;34m[\u001b[0m\u001b[0mindex\u001b[0m\u001b[0;34m,\u001b[0m \u001b[0mcol\u001b[0m\u001b[0;34m]\u001b[0m \u001b[0;34m=\u001b[0m \u001b[0mvalue\u001b[0m\u001b[0;34m\u001b[0m\u001b[0m\n\u001b[0m\u001b[1;32m   1862\u001b[0m             \u001b[0mself\u001b[0m\u001b[0;34m.\u001b[0m\u001b[0m_item_cache\u001b[0m\u001b[0;34m.\u001b[0m\u001b[0mpop\u001b[0m\u001b[0;34m(\u001b[0m\u001b[0mcol\u001b[0m\u001b[0;34m,\u001b[0m \u001b[0;32mNone\u001b[0m\u001b[0;34m)\u001b[0m\u001b[0;34m\u001b[0m\u001b[0m\n\u001b[1;32m   1863\u001b[0m \u001b[0;34m\u001b[0m\u001b[0m\n",
      "\u001b[0;32m~/anaconda/envs/ada/lib/python3.5/site-packages/pandas/core/indexing.py\u001b[0m in \u001b[0;36m__setitem__\u001b[0;34m(self, key, value)\u001b[0m\n\u001b[1;32m    177\u001b[0m             \u001b[0mkey\u001b[0m \u001b[0;34m=\u001b[0m \u001b[0mcom\u001b[0m\u001b[0;34m.\u001b[0m\u001b[0m_apply_if_callable\u001b[0m\u001b[0;34m(\u001b[0m\u001b[0mkey\u001b[0m\u001b[0;34m,\u001b[0m \u001b[0mself\u001b[0m\u001b[0;34m.\u001b[0m\u001b[0mobj\u001b[0m\u001b[0;34m)\u001b[0m\u001b[0;34m\u001b[0m\u001b[0m\n\u001b[1;32m    178\u001b[0m         \u001b[0mindexer\u001b[0m \u001b[0;34m=\u001b[0m \u001b[0mself\u001b[0m\u001b[0;34m.\u001b[0m\u001b[0m_get_setitem_indexer\u001b[0m\u001b[0;34m(\u001b[0m\u001b[0mkey\u001b[0m\u001b[0;34m)\u001b[0m\u001b[0;34m\u001b[0m\u001b[0m\n\u001b[0;32m--> 179\u001b[0;31m         \u001b[0mself\u001b[0m\u001b[0;34m.\u001b[0m\u001b[0m_setitem_with_indexer\u001b[0m\u001b[0;34m(\u001b[0m\u001b[0mindexer\u001b[0m\u001b[0;34m,\u001b[0m \u001b[0mvalue\u001b[0m\u001b[0;34m)\u001b[0m\u001b[0;34m\u001b[0m\u001b[0m\n\u001b[0m\u001b[1;32m    180\u001b[0m \u001b[0;34m\u001b[0m\u001b[0m\n\u001b[1;32m    181\u001b[0m     \u001b[0;32mdef\u001b[0m \u001b[0m_has_valid_type\u001b[0m\u001b[0;34m(\u001b[0m\u001b[0mself\u001b[0m\u001b[0;34m,\u001b[0m \u001b[0mk\u001b[0m\u001b[0;34m,\u001b[0m \u001b[0maxis\u001b[0m\u001b[0;34m)\u001b[0m\u001b[0;34m:\u001b[0m\u001b[0;34m\u001b[0m\u001b[0m\n",
      "\u001b[0;32m~/anaconda/envs/ada/lib/python3.5/site-packages/pandas/core/indexing.py\u001b[0m in \u001b[0;36m_setitem_with_indexer\u001b[0;34m(self, indexer, value)\u001b[0m\n\u001b[1;32m    348\u001b[0m                     \u001b[0;31m# so the object is the same\u001b[0m\u001b[0;34m\u001b[0m\u001b[0;34m\u001b[0m\u001b[0m\n\u001b[1;32m    349\u001b[0m                     \u001b[0mindex\u001b[0m \u001b[0;34m=\u001b[0m \u001b[0mself\u001b[0m\u001b[0;34m.\u001b[0m\u001b[0mobj\u001b[0m\u001b[0;34m.\u001b[0m\u001b[0m_get_axis\u001b[0m\u001b[0;34m(\u001b[0m\u001b[0mi\u001b[0m\u001b[0;34m)\u001b[0m\u001b[0;34m\u001b[0m\u001b[0m\n\u001b[0;32m--> 350\u001b[0;31m                     \u001b[0mlabels\u001b[0m \u001b[0;34m=\u001b[0m \u001b[0mindex\u001b[0m\u001b[0;34m.\u001b[0m\u001b[0minsert\u001b[0m\u001b[0;34m(\u001b[0m\u001b[0mlen\u001b[0m\u001b[0;34m(\u001b[0m\u001b[0mindex\u001b[0m\u001b[0;34m)\u001b[0m\u001b[0;34m,\u001b[0m \u001b[0mkey\u001b[0m\u001b[0;34m)\u001b[0m\u001b[0;34m\u001b[0m\u001b[0m\n\u001b[0m\u001b[1;32m    351\u001b[0m                     \u001b[0mself\u001b[0m\u001b[0;34m.\u001b[0m\u001b[0mobj\u001b[0m\u001b[0;34m.\u001b[0m\u001b[0m_data\u001b[0m \u001b[0;34m=\u001b[0m \u001b[0mself\u001b[0m\u001b[0;34m.\u001b[0m\u001b[0mobj\u001b[0m\u001b[0;34m.\u001b[0m\u001b[0mreindex_axis\u001b[0m\u001b[0;34m(\u001b[0m\u001b[0mlabels\u001b[0m\u001b[0;34m,\u001b[0m \u001b[0mi\u001b[0m\u001b[0;34m)\u001b[0m\u001b[0;34m.\u001b[0m\u001b[0m_data\u001b[0m\u001b[0;34m\u001b[0m\u001b[0m\n\u001b[1;32m    352\u001b[0m                     \u001b[0mself\u001b[0m\u001b[0;34m.\u001b[0m\u001b[0mobj\u001b[0m\u001b[0;34m.\u001b[0m\u001b[0m_maybe_update_cacher\u001b[0m\u001b[0;34m(\u001b[0m\u001b[0mclear\u001b[0m\u001b[0;34m=\u001b[0m\u001b[0;32mTrue\u001b[0m\u001b[0;34m)\u001b[0m\u001b[0;34m\u001b[0m\u001b[0m\n",
      "\u001b[0;32m~/anaconda/envs/ada/lib/python3.5/site-packages/pandas/core/indexes/multi.py\u001b[0m in \u001b[0;36minsert\u001b[0;34m(self, loc, item)\u001b[0m\n\u001b[1;32m   2583\u001b[0m                 \u001b[0;31m# other labels\u001b[0m\u001b[0;34m\u001b[0m\u001b[0;34m\u001b[0m\u001b[0m\n\u001b[1;32m   2584\u001b[0m                 \u001b[0mlev_loc\u001b[0m \u001b[0;34m=\u001b[0m \u001b[0mlen\u001b[0m\u001b[0;34m(\u001b[0m\u001b[0mlevel\u001b[0m\u001b[0;34m)\u001b[0m\u001b[0;34m\u001b[0m\u001b[0m\n\u001b[0;32m-> 2585\u001b[0;31m                 \u001b[0mlevel\u001b[0m \u001b[0;34m=\u001b[0m \u001b[0mlevel\u001b[0m\u001b[0;34m.\u001b[0m\u001b[0minsert\u001b[0m\u001b[0;34m(\u001b[0m\u001b[0mlev_loc\u001b[0m\u001b[0;34m,\u001b[0m \u001b[0mk\u001b[0m\u001b[0;34m)\u001b[0m\u001b[0;34m\u001b[0m\u001b[0m\n\u001b[0m\u001b[1;32m   2586\u001b[0m             \u001b[0;32melse\u001b[0m\u001b[0;34m:\u001b[0m\u001b[0;34m\u001b[0m\u001b[0m\n\u001b[1;32m   2587\u001b[0m                 \u001b[0mlev_loc\u001b[0m \u001b[0;34m=\u001b[0m \u001b[0mlevel\u001b[0m\u001b[0;34m.\u001b[0m\u001b[0mget_loc\u001b[0m\u001b[0;34m(\u001b[0m\u001b[0mk\u001b[0m\u001b[0;34m)\u001b[0m\u001b[0;34m\u001b[0m\u001b[0m\n",
      "\u001b[0;32m~/anaconda/envs/ada/lib/python3.5/site-packages/pandas/core/indexes/datetimes.py\u001b[0m in \u001b[0;36minsert\u001b[0;34m(self, loc, item)\u001b[0m\n\u001b[1;32m   1724\u001b[0m                 \u001b[0;32mreturn\u001b[0m \u001b[0mself\u001b[0m\u001b[0;34m.\u001b[0m\u001b[0masobject\u001b[0m\u001b[0;34m.\u001b[0m\u001b[0minsert\u001b[0m\u001b[0;34m(\u001b[0m\u001b[0mloc\u001b[0m\u001b[0;34m,\u001b[0m \u001b[0mitem\u001b[0m\u001b[0;34m)\u001b[0m\u001b[0;34m\u001b[0m\u001b[0m\n\u001b[1;32m   1725\u001b[0m             raise TypeError(\n\u001b[0;32m-> 1726\u001b[0;31m                 \"cannot insert DatetimeIndex with incompatible label\")\n\u001b[0m\u001b[1;32m   1727\u001b[0m \u001b[0;34m\u001b[0m\u001b[0m\n\u001b[1;32m   1728\u001b[0m     \u001b[0;32mdef\u001b[0m \u001b[0mdelete\u001b[0m\u001b[0;34m(\u001b[0m\u001b[0mself\u001b[0m\u001b[0;34m,\u001b[0m \u001b[0mloc\u001b[0m\u001b[0;34m)\u001b[0m\u001b[0;34m:\u001b[0m\u001b[0;34m\u001b[0m\u001b[0m\n",
      "\u001b[0;31mTypeError\u001b[0m: cannot insert DatetimeIndex with incompatible label"
     ]
    }
   ],
   "source": [
    "\n",
    "index=idx_tot_confirmed[len(idx_tot_confirmed)-5: len(idx_tot_confirmed)]\n",
    "print(index)\n",
    "print(index[1])\n",
    "values=df[('Liberia','Total Liberia')][idx_nc_confirmed][len(idx_nc_confirmed)-5: len(idx_nc_confirmed)].values\n",
    "print(values)\n",
    "print(values[1])\n",
    "\n",
    "for i in range(0,4):\n",
    "    df.set_value(index[i],('Liberia','Total Liberia'),values[i])\n",
    "\n",
    "idx_tot_confirmed = np.where(variables == 'Total confirmed cases')[0].tolist()\n",
    "lb_total_con = df[('Liberia','Total Liberia')][idx_tot_confirmed].fillna(0).astype(int)\n",
    "lb_total_con.tail(10)\n",
    "print()"
   ]
  },
  {
   "cell_type": "code",
   "execution_count": 201,
   "metadata": {},
   "outputs": [
    {
     "data": {
      "text/plain": [
       "Date        Variable              \n",
       "2014-11-29  New Case/s (Suspected)       7\n",
       "2014-11-30  New Case/s (Suspected)       0\n",
       "2014-12-01  New Case/s (Suspected)      25\n",
       "2014-12-02  New Case/s (Suspected)      18\n",
       "2014-12-03  New Case/s (Suspected)       0\n",
       "2014-12-04  New Case/s (Suspected)    3054\n",
       "2014-12-05  New Case/s (Suspected)    3056\n",
       "2014-12-06  New Case/s (Suspected)    3056\n",
       "2014-12-07  New Case/s (Suspected)    3067\n",
       "2014-12-08  New Case/s (Suspected)    3054\n",
       "Name: (Liberia, Total Liberia), dtype: int64"
      ]
     },
     "execution_count": 201,
     "metadata": {},
     "output_type": "execute_result"
    }
   ],
   "source": [
    "idx_new_suspected = np.where(variables == 'New Case/s (Suspected)')[0].tolist()\n",
    "lb_new_sus = df[('Liberia','Total Liberia')][idx_new_suspected].fillna(0).astype(int)\n",
    "lb_new_sus.tail(10)"
   ]
  },
  {
   "cell_type": "code",
   "execution_count": 202,
   "metadata": {},
   "outputs": [
    {
     "data": {
      "text/plain": [
       "Date        Variable             \n",
       "2014-11-29  Total suspected cases    3053\n",
       "2014-11-30  Total suspected cases    3051\n",
       "2014-12-01  Total suspected cases    3059\n",
       "2014-12-02  Total suspected cases    3057\n",
       "2014-12-03  Total suspected cases    3075\n",
       "2014-12-04  Total suspected cases       0\n",
       "2014-12-05  Total suspected cases       0\n",
       "2014-12-06  Total suspected cases       0\n",
       "2014-12-07  Total suspected cases       0\n",
       "2014-12-08  Total suspected cases       0\n",
       "Name: (Liberia, Total Liberia), dtype: int64"
      ]
     },
     "execution_count": 202,
     "metadata": {},
     "output_type": "execute_result"
    }
   ],
   "source": [
    "idx_tot_suspected = np.where(variables == 'Total suspected cases')[0].tolist()\n",
    "lb_total_sus = df[('Liberia','Total Liberia')][idx_tot_suspected].fillna(0).astype(int)\n",
    "lb_total_sus.tail(10)"
   ]
  },
  {
   "cell_type": "code",
   "execution_count": 203,
   "metadata": {},
   "outputs": [
    {
     "data": {
      "text/plain": [
       "Date        Variable             \n",
       "2014-11-29  New Case/s (Probable)       4\n",
       "2014-11-30  New Case/s (Probable)       0\n",
       "2014-12-01  New Case/s (Probable)       9\n",
       "2014-12-02  New Case/s (Probable)      10\n",
       "2014-12-03  New Case/s (Probable)       0\n",
       "2014-12-04  New Case/s (Probable)    1800\n",
       "2014-12-05  New Case/s (Probable)    1808\n",
       "2014-12-06  New Case/s (Probable)    1810\n",
       "2014-12-07  New Case/s (Probable)    1829\n",
       "2014-12-08  New Case/s (Probable)    1805\n",
       "Name: (Liberia, Total Liberia), dtype: int64"
      ]
     },
     "execution_count": 203,
     "metadata": {},
     "output_type": "execute_result"
    }
   ],
   "source": [
    "idx_new_probable = np.where(variables == 'New Case/s (Probable)')[0].tolist()\n",
    "lb_new_pro = df[('Liberia','Total Liberia')][idx_new_probable].fillna(0).astype(int)\n",
    "lb_new_pro.tail(10)"
   ]
  },
  {
   "cell_type": "code",
   "execution_count": 204,
   "metadata": {},
   "outputs": [
    {
     "data": {
      "text/plain": [
       "Date        Variable            \n",
       "2014-11-29  Total probable cases    1792\n",
       "2014-11-30  Total probable cases    1779\n",
       "2014-12-01  Total probable cases    1793\n",
       "2014-12-02  Total probable cases    1809\n",
       "2014-12-03  Total probable cases    1814\n",
       "2014-12-04  Total probable cases       0\n",
       "2014-12-05  Total probable cases       0\n",
       "2014-12-06  Total probable cases       0\n",
       "2014-12-07  Total probable cases       0\n",
       "2014-12-08  Total probable cases       0\n",
       "Name: (Liberia, Total Liberia), dtype: int64"
      ]
     },
     "execution_count": 204,
     "metadata": {},
     "output_type": "execute_result"
    }
   ],
   "source": [
    "idx_tot_probable = np.where(variables == 'Total probable cases')[0].tolist()\n",
    "lb_total_pro = df[('Liberia','Total Liberia')][idx_tot_probable].fillna(0).astype(int)\n",
    "lb_total_pro.tail(10)"
   ]
  },
  {
   "cell_type": "markdown",
   "metadata": {},
   "source": [
    "## Task 2. RNA Sequences\n",
    "\n",
    "In the `DATA_FOLDER/microbiome` subdirectory, there are 9 spreadsheets of microbiome data that was acquired from high-throughput RNA sequencing procedures, along with a 10<sup>th</sup> file that describes the content of each. \n",
    "\n",
    "Use pandas to import the first 9 spreadsheets into a single `DataFrame`.\n",
    "Then, add the metadata information from the 10<sup>th</sup> spreadsheet as columns in the combined `DataFrame`.\n",
    "Make sure that the final `DataFrame` has a unique index and all the `NaN` values have been replaced by the tag `unknown`."
   ]
  },
  {
   "cell_type": "code",
   "execution_count": 68,
   "metadata": {},
   "outputs": [
    {
     "data": {
      "text/html": [
       "<div>\n",
       "<style>\n",
       "    .dataframe thead tr:only-child th {\n",
       "        text-align: right;\n",
       "    }\n",
       "\n",
       "    .dataframe thead th {\n",
       "        text-align: left;\n",
       "    }\n",
       "\n",
       "    .dataframe tbody tr th {\n",
       "        vertical-align: top;\n",
       "    }\n",
       "</style>\n",
       "<table border=\"1\" class=\"dataframe\">\n",
       "  <thead>\n",
       "    <tr style=\"text-align: right;\">\n",
       "      <th></th>\n",
       "      <th>Specimen</th>\n",
       "      <th>#sequencing</th>\n",
       "      <th>BARCODE</th>\n",
       "    </tr>\n",
       "  </thead>\n",
       "  <tbody>\n",
       "    <tr>\n",
       "      <th>0</th>\n",
       "      <td>Archaea \"Crenarchaeota\" Thermoprotei Desulfuro...</td>\n",
       "      <td>7</td>\n",
       "      <td>MID1</td>\n",
       "    </tr>\n",
       "    <tr>\n",
       "      <th>1</th>\n",
       "      <td>Archaea \"Crenarchaeota\" Thermoprotei Desulfuro...</td>\n",
       "      <td>2</td>\n",
       "      <td>MID1</td>\n",
       "    </tr>\n",
       "    <tr>\n",
       "      <th>2</th>\n",
       "      <td>Archaea \"Crenarchaeota\" Thermoprotei Sulfoloba...</td>\n",
       "      <td>3</td>\n",
       "      <td>MID1</td>\n",
       "    </tr>\n",
       "    <tr>\n",
       "      <th>3</th>\n",
       "      <td>Archaea \"Crenarchaeota\" Thermoprotei Thermopro...</td>\n",
       "      <td>3</td>\n",
       "      <td>MID1</td>\n",
       "    </tr>\n",
       "    <tr>\n",
       "      <th>4</th>\n",
       "      <td>Archaea \"Euryarchaeota\" \"Methanomicrobia\" Meth...</td>\n",
       "      <td>7</td>\n",
       "      <td>MID1</td>\n",
       "    </tr>\n",
       "  </tbody>\n",
       "</table>\n",
       "</div>"
      ],
      "text/plain": [
       "                                            Specimen  #sequencing BARCODE\n",
       "0  Archaea \"Crenarchaeota\" Thermoprotei Desulfuro...            7    MID1\n",
       "1  Archaea \"Crenarchaeota\" Thermoprotei Desulfuro...            2    MID1\n",
       "2  Archaea \"Crenarchaeota\" Thermoprotei Sulfoloba...            3    MID1\n",
       "3  Archaea \"Crenarchaeota\" Thermoprotei Thermopro...            3    MID1\n",
       "4  Archaea \"Euryarchaeota\" \"Methanomicrobia\" Meth...            7    MID1"
      ]
     },
     "execution_count": 68,
     "metadata": {},
     "output_type": "execute_result"
    }
   ],
   "source": [
    "# Write your answer here\n",
    "\n",
    "MICRO_FOLDER=os.path.join(DATA_FOLDER, 'microbiome')\n",
    "files=os.listdir(MICRO_FOLDER)\n",
    "\n",
    "mb_df=pd.DataFrame()\n",
    "meta_df=pd.DataFrame()\n",
    "for file in files:\n",
    "    if file == 'metadata.xls':\n",
    "        meta_df = meta_df.append(pd.read_excel(os.path.join(MICRO_FOLDER, file),sheetname='Sheet1'), ignore_index=True)\n",
    "    else:\n",
    "        df=pd.read_excel(os.path.join(MICRO_FOLDER, file),sheetname='Sheet 1',header=None)\n",
    "        df.columns=['Specimen', '#sequencing']\n",
    "        df['BARCODE']=file.replace('.xls', '')\n",
    "        mb_df = mb_df.append(df, ignore_index=True)\n",
    "mb_df.head()"
   ]
  },
  {
   "cell_type": "code",
   "execution_count": 69,
   "metadata": {},
   "outputs": [
    {
     "data": {
      "text/html": [
       "<div>\n",
       "<style>\n",
       "    .dataframe thead tr:only-child th {\n",
       "        text-align: right;\n",
       "    }\n",
       "\n",
       "    .dataframe thead th {\n",
       "        text-align: left;\n",
       "    }\n",
       "\n",
       "    .dataframe tbody tr th {\n",
       "        vertical-align: top;\n",
       "    }\n",
       "</style>\n",
       "<table border=\"1\" class=\"dataframe\">\n",
       "  <thead>\n",
       "    <tr style=\"text-align: right;\">\n",
       "      <th></th>\n",
       "      <th>BARCODE</th>\n",
       "      <th>GROUP</th>\n",
       "      <th>SAMPLE</th>\n",
       "    </tr>\n",
       "  </thead>\n",
       "  <tbody>\n",
       "    <tr>\n",
       "      <th>4</th>\n",
       "      <td>MID5</td>\n",
       "      <td>Control 2</td>\n",
       "      <td>tissue</td>\n",
       "    </tr>\n",
       "    <tr>\n",
       "      <th>5</th>\n",
       "      <td>MID6</td>\n",
       "      <td>NEC 1</td>\n",
       "      <td>stool</td>\n",
       "    </tr>\n",
       "    <tr>\n",
       "      <th>6</th>\n",
       "      <td>MID7</td>\n",
       "      <td>Control 1</td>\n",
       "      <td>stool</td>\n",
       "    </tr>\n",
       "    <tr>\n",
       "      <th>7</th>\n",
       "      <td>MID8</td>\n",
       "      <td>NEC 2</td>\n",
       "      <td>stool</td>\n",
       "    </tr>\n",
       "    <tr>\n",
       "      <th>8</th>\n",
       "      <td>MID9</td>\n",
       "      <td>Control 2</td>\n",
       "      <td>stool</td>\n",
       "    </tr>\n",
       "  </tbody>\n",
       "</table>\n",
       "</div>"
      ],
      "text/plain": [
       "  BARCODE      GROUP  SAMPLE\n",
       "4    MID5  Control 2  tissue\n",
       "5    MID6      NEC 1   stool\n",
       "6    MID7  Control 1   stool\n",
       "7    MID8      NEC 2   stool\n",
       "8    MID9  Control 2   stool"
      ]
     },
     "execution_count": 69,
     "metadata": {},
     "output_type": "execute_result"
    }
   ],
   "source": [
    "meta_df.tail()"
   ]
  },
  {
   "cell_type": "code",
   "execution_count": 70,
   "metadata": {},
   "outputs": [
    {
     "data": {
      "text/html": [
       "<div>\n",
       "<style>\n",
       "    .dataframe thead tr:only-child th {\n",
       "        text-align: right;\n",
       "    }\n",
       "\n",
       "    .dataframe thead th {\n",
       "        text-align: left;\n",
       "    }\n",
       "\n",
       "    .dataframe tbody tr th {\n",
       "        vertical-align: top;\n",
       "    }\n",
       "</style>\n",
       "<table border=\"1\" class=\"dataframe\">\n",
       "  <thead>\n",
       "    <tr style=\"text-align: right;\">\n",
       "      <th></th>\n",
       "      <th>Specimen</th>\n",
       "      <th>#sequencing</th>\n",
       "      <th>BARCODE</th>\n",
       "      <th>GROUP</th>\n",
       "      <th>SAMPLE</th>\n",
       "    </tr>\n",
       "  </thead>\n",
       "  <tbody>\n",
       "    <tr>\n",
       "      <th>0</th>\n",
       "      <td>Archaea \"Crenarchaeota\" Thermoprotei Desulfuro...</td>\n",
       "      <td>7</td>\n",
       "      <td>MID1</td>\n",
       "      <td>EXTRACTION CONTROL</td>\n",
       "      <td>NaN</td>\n",
       "    </tr>\n",
       "    <tr>\n",
       "      <th>1</th>\n",
       "      <td>Archaea \"Crenarchaeota\" Thermoprotei Desulfuro...</td>\n",
       "      <td>2</td>\n",
       "      <td>MID1</td>\n",
       "      <td>EXTRACTION CONTROL</td>\n",
       "      <td>NaN</td>\n",
       "    </tr>\n",
       "    <tr>\n",
       "      <th>2</th>\n",
       "      <td>Archaea \"Crenarchaeota\" Thermoprotei Sulfoloba...</td>\n",
       "      <td>3</td>\n",
       "      <td>MID1</td>\n",
       "      <td>EXTRACTION CONTROL</td>\n",
       "      <td>NaN</td>\n",
       "    </tr>\n",
       "    <tr>\n",
       "      <th>3</th>\n",
       "      <td>Archaea \"Crenarchaeota\" Thermoprotei Thermopro...</td>\n",
       "      <td>3</td>\n",
       "      <td>MID1</td>\n",
       "      <td>EXTRACTION CONTROL</td>\n",
       "      <td>NaN</td>\n",
       "    </tr>\n",
       "    <tr>\n",
       "      <th>4</th>\n",
       "      <td>Archaea \"Euryarchaeota\" \"Methanomicrobia\" Meth...</td>\n",
       "      <td>7</td>\n",
       "      <td>MID1</td>\n",
       "      <td>EXTRACTION CONTROL</td>\n",
       "      <td>NaN</td>\n",
       "    </tr>\n",
       "  </tbody>\n",
       "</table>\n",
       "</div>"
      ],
      "text/plain": [
       "                                            Specimen  #sequencing BARCODE  \\\n",
       "0  Archaea \"Crenarchaeota\" Thermoprotei Desulfuro...            7    MID1   \n",
       "1  Archaea \"Crenarchaeota\" Thermoprotei Desulfuro...            2    MID1   \n",
       "2  Archaea \"Crenarchaeota\" Thermoprotei Sulfoloba...            3    MID1   \n",
       "3  Archaea \"Crenarchaeota\" Thermoprotei Thermopro...            3    MID1   \n",
       "4  Archaea \"Euryarchaeota\" \"Methanomicrobia\" Meth...            7    MID1   \n",
       "\n",
       "                GROUP SAMPLE  \n",
       "0  EXTRACTION CONTROL    NaN  \n",
       "1  EXTRACTION CONTROL    NaN  \n",
       "2  EXTRACTION CONTROL    NaN  \n",
       "3  EXTRACTION CONTROL    NaN  \n",
       "4  EXTRACTION CONTROL    NaN  "
      ]
     },
     "execution_count": 70,
     "metadata": {},
     "output_type": "execute_result"
    }
   ],
   "source": [
    "final_df=pd.merge(mb_df, meta_df, how='outer')\n",
    "final_df.head()"
   ]
  },
  {
   "cell_type": "code",
   "execution_count": 71,
   "metadata": {},
   "outputs": [
    {
     "name": "stdout",
     "output_type": "stream",
     "text": [
      "True\n"
     ]
    }
   ],
   "source": [
    "final_df.set_index(['Specimen', 'GROUP', 'SAMPLE'], inplace=True)\n",
    "print(final_df.index.is_unique)"
   ]
  },
  {
   "cell_type": "code",
   "execution_count": 72,
   "metadata": {},
   "outputs": [
    {
     "data": {
      "text/html": [
       "<div>\n",
       "<style>\n",
       "    .dataframe thead tr:only-child th {\n",
       "        text-align: right;\n",
       "    }\n",
       "\n",
       "    .dataframe thead th {\n",
       "        text-align: left;\n",
       "    }\n",
       "\n",
       "    .dataframe tbody tr th {\n",
       "        vertical-align: top;\n",
       "    }\n",
       "</style>\n",
       "<table border=\"1\" class=\"dataframe\">\n",
       "  <thead>\n",
       "    <tr style=\"text-align: right;\">\n",
       "      <th></th>\n",
       "      <th></th>\n",
       "      <th></th>\n",
       "      <th>#sequencing</th>\n",
       "      <th>BARCODE</th>\n",
       "    </tr>\n",
       "    <tr>\n",
       "      <th>Specimen</th>\n",
       "      <th>GROUP</th>\n",
       "      <th>SAMPLE</th>\n",
       "      <th></th>\n",
       "      <th></th>\n",
       "    </tr>\n",
       "  </thead>\n",
       "  <tbody>\n",
       "    <tr>\n",
       "      <th>Bacteria \"Thermotogae\" Thermotogae Thermotogales Thermotogaceae Geotoga</th>\n",
       "      <th>Control 2</th>\n",
       "      <th>stool</th>\n",
       "      <td>43</td>\n",
       "      <td>MID9</td>\n",
       "    </tr>\n",
       "    <tr>\n",
       "      <th>Bacteria \"Thermotogae\" Thermotogae Thermotogales Thermotogaceae Kosmotoga</th>\n",
       "      <th>Control 2</th>\n",
       "      <th>stool</th>\n",
       "      <td>16</td>\n",
       "      <td>MID9</td>\n",
       "    </tr>\n",
       "    <tr>\n",
       "      <th>Bacteria \"Verrucomicrobia\" Opitutae Opitutales Opitutaceae Opitutus</th>\n",
       "      <th>Control 2</th>\n",
       "      <th>stool</th>\n",
       "      <td>1</td>\n",
       "      <td>MID9</td>\n",
       "    </tr>\n",
       "    <tr>\n",
       "      <th>Bacteria Cyanobacteria Cyanobacteria  Chloroplast Chlorarachniophyceae</th>\n",
       "      <th>Control 2</th>\n",
       "      <th>stool</th>\n",
       "      <td>1</td>\n",
       "      <td>MID9</td>\n",
       "    </tr>\n",
       "    <tr>\n",
       "      <th>Bacteria Cyanobacteria Cyanobacteria  Chloroplast Streptophyta</th>\n",
       "      <th>Control 2</th>\n",
       "      <th>stool</th>\n",
       "      <td>10</td>\n",
       "      <td>MID9</td>\n",
       "    </tr>\n",
       "  </tbody>\n",
       "</table>\n",
       "</div>"
      ],
      "text/plain": [
       "                                                                     #sequencing  \\\n",
       "Specimen                                           GROUP     SAMPLE                \n",
       "Bacteria \"Thermotogae\" Thermotogae Thermotogale... Control 2 stool            43   \n",
       "Bacteria \"Thermotogae\" Thermotogae Thermotogale... Control 2 stool            16   \n",
       "Bacteria \"Verrucomicrobia\" Opitutae Opitutales ... Control 2 stool             1   \n",
       "Bacteria Cyanobacteria Cyanobacteria  Chloropla... Control 2 stool             1   \n",
       "Bacteria Cyanobacteria Cyanobacteria  Chloropla... Control 2 stool            10   \n",
       "\n",
       "                                                                    BARCODE  \n",
       "Specimen                                           GROUP     SAMPLE          \n",
       "Bacteria \"Thermotogae\" Thermotogae Thermotogale... Control 2 stool     MID9  \n",
       "Bacteria \"Thermotogae\" Thermotogae Thermotogale... Control 2 stool     MID9  \n",
       "Bacteria \"Verrucomicrobia\" Opitutae Opitutales ... Control 2 stool     MID9  \n",
       "Bacteria Cyanobacteria Cyanobacteria  Chloropla... Control 2 stool     MID9  \n",
       "Bacteria Cyanobacteria Cyanobacteria  Chloropla... Control 2 stool     MID9  "
      ]
     },
     "execution_count": 72,
     "metadata": {},
     "output_type": "execute_result"
    }
   ],
   "source": [
    "final_df.tail()"
   ]
  },
  {
   "cell_type": "code",
   "execution_count": 29,
   "metadata": {
    "collapsed": true
   },
   "outputs": [],
   "source": [
    "final_df=final_df.fillna('unknown')"
   ]
  },
  {
   "cell_type": "markdown",
   "metadata": {},
   "source": [
    "## Task 3. Class War in Titanic\n",
    "\n",
    "Use pandas to import the data file `Data/titanic.xls`. It contains data on all the passengers that travelled on the Titanic."
   ]
  },
  {
   "cell_type": "code",
   "execution_count": null,
   "metadata": {
    "collapsed": true,
    "scrolled": true
   },
   "outputs": [],
   "source": [
    "from IPython.core.display import HTML\n",
    "HTML(filename=DATA_FOLDER+'/titanic.html')\n",
    "\n",
    "titanic= pd.read_excel(os.path.join(DATA_FOLDER,'titanic.xls'),sheetname='titanic')\n",
    "\n",
    "titanic"
   ]
  },
  {
   "cell_type": "markdown",
   "metadata": {},
   "source": [
    "For each of the following questions state clearly your assumptions and discuss your findings:\n",
    "1. Describe the *type* and the *value range* of each attribute. Indicate and transform the attributes that can be `Categorical`. \n",
    "2. Plot histograms for the *travel class*, *embarkation port*, *sex* and *age* attributes. For the latter one, use *discrete decade intervals*. \n",
    "3. Calculate the proportion of passengers by *cabin floor*. Present your results in a *pie chart*.\n",
    "4. For each *travel class*, calculate the proportion of the passengers that survived. Present your results in *pie charts*.\n",
    "5. Calculate the proportion of the passengers that survived by *travel class* and *sex*. Present your results in *a single histogram*.\n",
    "6. Create 2 equally populated *age categories* and calculate survival proportions by *age category*, *travel class* and *sex*. Present your results in a `DataFrame` with unique index."
   ]
  },
  {
   "cell_type": "markdown",
   "metadata": {},
   "source": [
    "1. Describe the *type* and the *value range* of each attribute. Indicate and transform the attributes that can be `Categorical`. "
   ]
  },
  {
   "cell_type": "code",
   "execution_count": null,
   "metadata": {
    "collapsed": true
   },
   "outputs": [],
   "source": [
    "# Write your answer here\n",
    "titanic.columns\n",
    "[titanic[col_name].unique() for col_name in titanic.columns]\n",
    "\n",
    "\n"
   ]
  },
  {
   "cell_type": "code",
   "execution_count": null,
   "metadata": {
    "collapsed": true
   },
   "outputs": [],
   "source": [
    "[titanic[col_name].dtype for col_name in titanic.columns]\n"
   ]
  },
  {
   "cell_type": "code",
   "execution_count": null,
   "metadata": {
    "collapsed": true
   },
   "outputs": [],
   "source": [
    "pd.Categorical(titanic['sex'])\n",
    "titanic['sex'] = titanic['sex'].astype('category')\n",
    "titanic['embarked'] = titanic['embarked'].astype('category')\n",
    "titanic['pclass'] = titanic['pclass'].astype('category')\n",
    "titanic['pclass'] = titanic['pclass'].cat.rename_categories(['First class','Second class','Third class'])\n",
    "titanic['survived'] = titanic['survived'].astype('category')\n",
    "titanic['survived'] = titanic['survived'].cat.rename_categories(['Died','Survived'])\n"
   ]
  },
  {
   "cell_type": "code",
   "execution_count": null,
   "metadata": {
    "collapsed": true
   },
   "outputs": [],
   "source": [
    "titanic['embarked'].value_counts().plot.pie(figsize=(4,4))"
   ]
  },
  {
   "cell_type": "code",
   "execution_count": null,
   "metadata": {
    "collapsed": true
   },
   "outputs": [],
   "source": [
    "titanic['sex'].value_counts().plot.pie(figsize=(4,4))"
   ]
  },
  {
   "cell_type": "code",
   "execution_count": null,
   "metadata": {
    "collapsed": true
   },
   "outputs": [],
   "source": [
    "titanic['pclass'].value_counts().plot.pie(figsize=(4,4))"
   ]
  },
  {
   "cell_type": "code",
   "execution_count": null,
   "metadata": {
    "collapsed": true
   },
   "outputs": [],
   "source": [
    "titanic['age'].hist(bins=10,range=(0,100),figsize=(4,4))"
   ]
  },
  {
   "cell_type": "code",
   "execution_count": null,
   "metadata": {
    "collapsed": true
   },
   "outputs": [],
   "source": [
    "titanic['floor'] = titanic['cabin'].str[0]\n",
    "titanic['floor'] = titanic['floor'].astype('category')\n",
    "titanic['floor'].value_counts().plot.pie(figsize=(4,4))"
   ]
  },
  {
   "cell_type": "code",
   "execution_count": null,
   "metadata": {
    "collapsed": true
   },
   "outputs": [],
   "source": [
    "[titanic.groupby(['survived','pclass']).size().unstack().plot.pie(subplots=True,figsize=(12,4))]        "
   ]
  },
  {
   "cell_type": "code",
   "execution_count": null,
   "metadata": {
    "collapsed": true
   },
   "outputs": [],
   "source": [
    "titanic.groupby(['pclass','sex','survived']).size().unstack().plot.bar()"
   ]
  },
  {
   "cell_type": "code",
   "execution_count": null,
   "metadata": {
    "collapsed": true
   },
   "outputs": [],
   "source": [
    "titanic['age_category'] = titanic['age']>titanic['age'].median()\n",
    "titanic['age_category'] = titanic['age_category'].astype('category')\n",
    "titanic['age_category'] = titanic['age_category'].cat.rename_categories(['Young','Old'])\n",
    "\n",
    "(titanic[titanic['survived'] == 'Survived'].groupby(['pclass','sex','age_category']).size().unstack())/titanic.groupby(['pclass','sex','age_category']).size().unstack()"
   ]
  }
 ],
 "metadata": {
  "kernelspec": {
   "display_name": "Python [default]",
   "language": "python",
   "name": "python3"
  },
  "language_info": {
   "codemirror_mode": {
    "name": "ipython",
    "version": 3
   },
   "file_extension": ".py",
   "mimetype": "text/x-python",
   "name": "python",
   "nbconvert_exporter": "python",
   "pygments_lexer": "ipython3",
   "version": "3.5.4"
  }
 },
 "nbformat": 4,
 "nbformat_minor": 2
}
