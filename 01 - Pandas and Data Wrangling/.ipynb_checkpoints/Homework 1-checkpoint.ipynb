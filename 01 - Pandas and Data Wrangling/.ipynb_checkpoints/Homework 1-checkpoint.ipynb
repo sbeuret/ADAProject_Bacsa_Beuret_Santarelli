{
 "cells": [
  {
   "cell_type": "markdown",
   "metadata": {},
   "source": [
    "# Table of Contents\n",
    " <p><div class=\"lev1\"><a href=\"#Task-1.-Compiling-Ebola-Data\"><span class=\"toc-item-num\">Task 1.&nbsp;&nbsp;</span>Compiling Ebola Data</a></div>\n",
    " <div class=\"lev1\"><a href=\"#Task-2.-RNA-Sequences\"><span class=\"toc-item-num\">Task 2.&nbsp;&nbsp;</span>RNA Sequences</a></div>\n",
    " <div class=\"lev1\"><a href=\"#Task-3.-Class-War-in-Titanic\"><span class=\"toc-item-num\">Task 3.&nbsp;&nbsp;</span>Class War in Titanic</a></div></p>"
   ]
  },
  {
   "cell_type": "markdown",
   "metadata": {},
   "source": [
    "## Task 1. Compiling Ebola Data\n",
    "\n",
    "The `DATA_FOLDER/ebola` folder contains summarized reports of Ebola cases from three countries (Guinea, Liberia and Sierra Leone) during the recent outbreak of the disease in West Africa. For each country, there are daily reports that contain various information about the outbreak in several cities in each country.\n",
    "\n",
    "Use pandas to import these data files into a single `Dataframe`.\n",
    "Using this `DataFrame`, calculate for *each country*, the *daily average* per year of *new cases* and *deaths*.\n",
    "Make sure you handle all the different expressions for *new cases* and *deaths* that are used in the reports."
   ]
  },
  {
   "cell_type": "code",
   "execution_count": 1,
   "metadata": {
    "collapsed": true
   },
   "outputs": [],
   "source": [
    "import os\n",
    "import pandas as pd\n",
    "import numpy as np\n",
    "from datetime import datetime\n",
    "import matplotlib.pyplot as plt\n",
    "\n",
    "%matplotlib inline\n",
    "\n",
    "DATA_FOLDER = os.path.join(os.path.dirname(os.getcwd()),'Homework1','02 - Intro to Pandas','Data') # Use the data folder provided in Tutorial 02 - Intro to Pandas.\n",
    "EBOLA_FOLDER= os.path.join(DATA_FOLDER, 'ebola')\n",
    "\n",
    "countries=['sl_data', 'guinea_data','liberia_data']\n"
   ]
  },
  {
   "cell_type": "code",
   "execution_count": 2,
   "metadata": {},
   "outputs": [],
   "source": [
    "#Sierra Leone\n",
    "sl='sl_data'\n",
    "files=os.listdir(os.path.join(EBOLA_FOLDER, sl))\n",
    "sl_df=pd.read_csv(os.path.join(EBOLA_FOLDER, sl,files[0]))        \n",
    "for file in files[1:len(files)]:   \n",
    "    sl_df = sl_df.append(pd.read_csv(os.path.join(EBOLA_FOLDER, sl, file)), ignore_index=True)\n",
    "\n",
    "# convert to datetime format\n",
    "sl_df['date'] = pd.to_datetime(sl_df['date'])\n",
    "    \n",
    "#change columns names data -> Date ,variable -> Variable\n",
    "sl_df.rename(columns={'date': 'Date', 'variable': 'Variable', 'National': 'Total Sierra Leone'}, inplace=True)\n",
    "\n",
    "#change order index Date, Variable, Country first\n",
    "sl_df = sl_df.reindex_axis(['Date','Variable','Total Sierra Leone'] + list([a for a in sl_df.columns if a != 'Date' and a!= 'Variable' and a!= 'Total Sierra Leone']), axis=1)\n",
    "sl_df = sl_df.set_index(['Date','Variable'])\n",
    "sl_df = pd.concat([sl_df], axis=1, keys=['Sierra Leone'])"
   ]
  },
  {
   "cell_type": "code",
   "execution_count": 3,
   "metadata": {
    "collapsed": true
   },
   "outputs": [],
   "source": [
    "#Guinea\n",
    "gn='guinea_data'\n",
    "files=os.listdir(os.path.join(EBOLA_FOLDER, gn))\n",
    "gn_df=pd.read_csv(os.path.join(EBOLA_FOLDER, gn,files[0]))           \n",
    "for file in files[1:len(files)]:   \n",
    "    gn_df = gn_df.append(pd.read_csv(os.path.join(EBOLA_FOLDER, gn, file)), ignore_index=True)\n",
    "\n",
    "# convert to datetime format\n",
    "gn_df['Date'] = pd.to_datetime(gn_df['Date'])\n",
    "\n",
    "#change columns names data -> Date ,variable -> Variable\n",
    "gn_df.rename(columns={'date': 'Date', 'Description': 'Variable', 'Totals':'Total Guinea'}, inplace=True)\n",
    "\n",
    "#change order index Date, Variable, Country first\n",
    "gn_df = gn_df.reindex_axis(['Date','Variable','Total Guinea'] + list([a for a in gn_df.columns if a != 'Date' and a!= 'Variable' and a!= 'Total Guinea']), axis=1)\n",
    "gn_df = gn_df.set_index(['Date','Variable'])\n",
    "gn_df = pd.concat([gn_df], axis=1, keys=['Guinea'])"
   ]
  },
  {
   "cell_type": "code",
   "execution_count": 4,
   "metadata": {},
   "outputs": [],
   "source": [
    "#Liberia\n",
    "lb='liberia_data'\n",
    "files=os.listdir(os.path.join(EBOLA_FOLDER, lb))\n",
    "lb_df=pd.read_csv(os.path.join(EBOLA_FOLDER, lb,files[0]))           \n",
    "for file in files[1:len(files)]:   \n",
    "    lb_df = lb_df.append(pd.read_csv(os.path.join(EBOLA_FOLDER, lb, file)), ignore_index=True)\n",
    "\n",
    "# convert to datetime format\n",
    "lb_df['Date'] = pd.to_datetime(lb_df['Date'])\n",
    "\n",
    "#change columns names data -> Date ,variable -> Variable\n",
    "lb_df.rename(columns={'date': 'Date', 'variable': 'Variable', 'National': 'Total Liberia'}, inplace=True)\n",
    "\n",
    "#change order index Date, Variable, Country first\n",
    "lb_df = lb_df.reindex_axis(['Date','Variable','Total Liberia'] + list([a for a in lb_df.columns if a != 'Date' and a!= 'Variable' and a!= 'Total Liberia']), axis=1)\n",
    "lb_df = lb_df.set_index(['Date','Variable'])\n",
    "lb_df = pd.concat([lb_df], axis=1, keys=['Liberia'])"
   ]
  },
  {
   "cell_type": "code",
   "execution_count": 84,
   "metadata": {
    "scrolled": false
   },
   "outputs": [
    {
     "data": {
      "text/html": [
       "<div>\n",
       "<style>\n",
       "    .dataframe thead tr:only-child th {\n",
       "        text-align: right;\n",
       "    }\n",
       "\n",
       "    .dataframe thead th {\n",
       "        text-align: left;\n",
       "    }\n",
       "\n",
       "    .dataframe tbody tr th {\n",
       "        vertical-align: top;\n",
       "    }\n",
       "</style>\n",
       "<table border=\"1\" class=\"dataframe\">\n",
       "  <thead>\n",
       "    <tr>\n",
       "      <th></th>\n",
       "      <th></th>\n",
       "      <th colspan=\"10\" halign=\"left\">Guinea</th>\n",
       "      <th>...</th>\n",
       "      <th colspan=\"10\" halign=\"left\">Sierra Leone</th>\n",
       "    </tr>\n",
       "    <tr>\n",
       "      <th></th>\n",
       "      <th></th>\n",
       "      <th>Beyla</th>\n",
       "      <th>Boffa</th>\n",
       "      <th>Conakry</th>\n",
       "      <th>Coyah</th>\n",
       "      <th>Dabola</th>\n",
       "      <th>Dalaba</th>\n",
       "      <th>Dinguiraye</th>\n",
       "      <th>Dubreka</th>\n",
       "      <th>Forecariah</th>\n",
       "      <th>Gueckedou</th>\n",
       "      <th>...</th>\n",
       "      <th>Police traning School</th>\n",
       "      <th>Port Loko</th>\n",
       "      <th>Pujehun</th>\n",
       "      <th>Tonkolili</th>\n",
       "      <th>Total Sierra Leone</th>\n",
       "      <th>Unnamed: 18</th>\n",
       "      <th>Western area</th>\n",
       "      <th>Western area combined</th>\n",
       "      <th>Western area rural</th>\n",
       "      <th>Western area urban</th>\n",
       "    </tr>\n",
       "    <tr>\n",
       "      <th>Date</th>\n",
       "      <th>Variable</th>\n",
       "      <th></th>\n",
       "      <th></th>\n",
       "      <th></th>\n",
       "      <th></th>\n",
       "      <th></th>\n",
       "      <th></th>\n",
       "      <th></th>\n",
       "      <th></th>\n",
       "      <th></th>\n",
       "      <th></th>\n",
       "      <th></th>\n",
       "      <th></th>\n",
       "      <th></th>\n",
       "      <th></th>\n",
       "      <th></th>\n",
       "      <th></th>\n",
       "      <th></th>\n",
       "      <th></th>\n",
       "      <th></th>\n",
       "      <th></th>\n",
       "      <th></th>\n",
       "    </tr>\n",
       "  </thead>\n",
       "  <tbody>\n",
       "    <tr>\n",
       "      <th rowspan=\"5\" valign=\"top\">2014-08-12</th>\n",
       "      <th>population</th>\n",
       "      <td>NaN</td>\n",
       "      <td>NaN</td>\n",
       "      <td>NaN</td>\n",
       "      <td>NaN</td>\n",
       "      <td>NaN</td>\n",
       "      <td>NaN</td>\n",
       "      <td>NaN</td>\n",
       "      <td>NaN</td>\n",
       "      <td>NaN</td>\n",
       "      <td>NaN</td>\n",
       "      <td>...</td>\n",
       "      <td>NaN</td>\n",
       "      <td>557978</td>\n",
       "      <td>335574</td>\n",
       "      <td>434937</td>\n",
       "      <td>6348350</td>\n",
       "      <td>NaN</td>\n",
       "      <td>NaN</td>\n",
       "      <td>NaN</td>\n",
       "      <td>263619</td>\n",
       "      <td>1040888</td>\n",
       "    </tr>\n",
       "    <tr>\n",
       "      <th>new_noncase</th>\n",
       "      <td>NaN</td>\n",
       "      <td>NaN</td>\n",
       "      <td>NaN</td>\n",
       "      <td>NaN</td>\n",
       "      <td>NaN</td>\n",
       "      <td>NaN</td>\n",
       "      <td>NaN</td>\n",
       "      <td>NaN</td>\n",
       "      <td>NaN</td>\n",
       "      <td>NaN</td>\n",
       "      <td>...</td>\n",
       "      <td>NaN</td>\n",
       "      <td>1</td>\n",
       "      <td>0</td>\n",
       "      <td>0</td>\n",
       "      <td>4</td>\n",
       "      <td>NaN</td>\n",
       "      <td>NaN</td>\n",
       "      <td>NaN</td>\n",
       "      <td>0</td>\n",
       "      <td>0</td>\n",
       "    </tr>\n",
       "    <tr>\n",
       "      <th>new_suspected</th>\n",
       "      <td>NaN</td>\n",
       "      <td>NaN</td>\n",
       "      <td>NaN</td>\n",
       "      <td>NaN</td>\n",
       "      <td>NaN</td>\n",
       "      <td>NaN</td>\n",
       "      <td>NaN</td>\n",
       "      <td>NaN</td>\n",
       "      <td>NaN</td>\n",
       "      <td>NaN</td>\n",
       "      <td>...</td>\n",
       "      <td>NaN</td>\n",
       "      <td>0</td>\n",
       "      <td>0</td>\n",
       "      <td>0</td>\n",
       "      <td>10</td>\n",
       "      <td>NaN</td>\n",
       "      <td>NaN</td>\n",
       "      <td>NaN</td>\n",
       "      <td>0</td>\n",
       "      <td>0</td>\n",
       "    </tr>\n",
       "    <tr>\n",
       "      <th>new_probable</th>\n",
       "      <td>NaN</td>\n",
       "      <td>NaN</td>\n",
       "      <td>NaN</td>\n",
       "      <td>NaN</td>\n",
       "      <td>NaN</td>\n",
       "      <td>NaN</td>\n",
       "      <td>NaN</td>\n",
       "      <td>NaN</td>\n",
       "      <td>NaN</td>\n",
       "      <td>NaN</td>\n",
       "      <td>...</td>\n",
       "      <td>NaN</td>\n",
       "      <td>0</td>\n",
       "      <td>0</td>\n",
       "      <td>0</td>\n",
       "      <td>1</td>\n",
       "      <td>NaN</td>\n",
       "      <td>NaN</td>\n",
       "      <td>NaN</td>\n",
       "      <td>0</td>\n",
       "      <td>0</td>\n",
       "    </tr>\n",
       "    <tr>\n",
       "      <th>new_confirmed</th>\n",
       "      <td>NaN</td>\n",
       "      <td>NaN</td>\n",
       "      <td>NaN</td>\n",
       "      <td>NaN</td>\n",
       "      <td>NaN</td>\n",
       "      <td>NaN</td>\n",
       "      <td>NaN</td>\n",
       "      <td>NaN</td>\n",
       "      <td>NaN</td>\n",
       "      <td>NaN</td>\n",
       "      <td>...</td>\n",
       "      <td>NaN</td>\n",
       "      <td>2</td>\n",
       "      <td>0</td>\n",
       "      <td>0</td>\n",
       "      <td>11</td>\n",
       "      <td>NaN</td>\n",
       "      <td>NaN</td>\n",
       "      <td>NaN</td>\n",
       "      <td>0</td>\n",
       "      <td>0</td>\n",
       "    </tr>\n",
       "  </tbody>\n",
       "</table>\n",
       "<p>5 rows × 65 columns</p>\n",
       "</div>"
      ],
      "text/plain": [
       "                         Guinea                                               \\\n",
       "                          Beyla Boffa Conakry Coyah Dabola Dalaba Dinguiraye   \n",
       "Date       Variable                                                            \n",
       "2014-08-12 population       NaN   NaN     NaN   NaN    NaN    NaN        NaN   \n",
       "           new_noncase      NaN   NaN     NaN   NaN    NaN    NaN        NaN   \n",
       "           new_suspected    NaN   NaN     NaN   NaN    NaN    NaN        NaN   \n",
       "           new_probable     NaN   NaN     NaN   NaN    NaN    NaN        NaN   \n",
       "           new_confirmed    NaN   NaN     NaN   NaN    NaN    NaN        NaN   \n",
       "\n",
       "                                                             ...          \\\n",
       "                         Dubreka Forecariah Gueckedou        ...           \n",
       "Date       Variable                                          ...           \n",
       "2014-08-12 population        NaN        NaN       NaN        ...           \n",
       "           new_noncase       NaN        NaN       NaN        ...           \n",
       "           new_suspected     NaN        NaN       NaN        ...           \n",
       "           new_probable      NaN        NaN       NaN        ...           \n",
       "           new_confirmed     NaN        NaN       NaN        ...           \n",
       "\n",
       "                                  Sierra Leone                              \\\n",
       "                         Police traning School Port Loko Pujehun Tonkolili   \n",
       "Date       Variable                                                          \n",
       "2014-08-12 population                      NaN    557978  335574    434937   \n",
       "           new_noncase                     NaN         1       0         0   \n",
       "           new_suspected                   NaN         0       0         0   \n",
       "           new_probable                    NaN         0       0         0   \n",
       "           new_confirmed                   NaN         2       0         0   \n",
       "\n",
       "                                                                      \\\n",
       "                         Total Sierra Leone Unnamed: 18 Western area   \n",
       "Date       Variable                                                    \n",
       "2014-08-12 population               6348350         NaN          NaN   \n",
       "           new_noncase                    4         NaN          NaN   \n",
       "           new_suspected                 10         NaN          NaN   \n",
       "           new_probable                   1         NaN          NaN   \n",
       "           new_confirmed                 11         NaN          NaN   \n",
       "\n",
       "                                                                   \\\n",
       "                         Western area combined Western area rural   \n",
       "Date       Variable                                                 \n",
       "2014-08-12 population                      NaN             263619   \n",
       "           new_noncase                     NaN                  0   \n",
       "           new_suspected                   NaN                  0   \n",
       "           new_probable                    NaN                  0   \n",
       "           new_confirmed                   NaN                  0   \n",
       "\n",
       "                                             \n",
       "                         Western area urban  \n",
       "Date       Variable                          \n",
       "2014-08-12 population               1040888  \n",
       "           new_noncase                    0  \n",
       "           new_suspected                  0  \n",
       "           new_probable                   0  \n",
       "           new_confirmed                  0  \n",
       "\n",
       "[5 rows x 65 columns]"
      ]
     },
     "execution_count": 84,
     "metadata": {},
     "output_type": "execute_result"
    }
   ],
   "source": [
    "df = pd.concat([sl_df, gn_df, lb_df], axis=0)\n",
    "df.head(5)"
   ]
  },
  {
   "cell_type": "markdown",
   "metadata": {},
   "source": [
    "For now only the rows with the following names are used to calculation : new_confirmed, death_confirmed, New cases of confirmed, New deaths registered today (confirmed), New case/s (confirmed), Newly reported deaths. Since the names of the variables sometimes change overtime, this is not an accurate measure."
   ]
  },
  {
   "cell_type": "code",
   "execution_count": 43,
   "metadata": {
    "collapsed": true
   },
   "outputs": [],
   "source": [
    "def get_days(series):\n",
    "    if series.size == 1:\n",
    "        return 1\n",
    "    else:\n",
    "        # calculate time length\n",
    "        index_dates = series.index.values\n",
    "        dates = np.array([row[0] for row in index_dates])\n",
    "        time_length = dates[-1] - dates[0]\n",
    "        n_days = time_length.days\n",
    "        return n_days"
   ]
  },
  {
   "cell_type": "code",
   "execution_count": 44,
   "metadata": {},
   "outputs": [
    {
     "name": "stdout",
     "output_type": "stream",
     "text": [
      "Daily average of new cases in Sierra Leone in August of 2014 :  19.5263157895\n",
      "Daily average of new cases in Sierra Leone in September of 2014 :  34.4137931034\n",
      "Daily average of new cases in Sierra Leone in October of 2014 :  52.9333333333\n",
      "Daily average of new cases in Sierra Leone in November of 2014 :  44.9285714286\n",
      "Daily average of new cases in Sierra Leone in December of 2014 :  13.5833333333\n",
      "Daily average of deaths in Sierra Leone in August of 2014 :  202.655172414\n",
      "Daily average of deaths in Sierra Leone in September of 2014 :  443.310344828\n",
      "Daily average of deaths in Sierra Leone in October of 2014 :  845.1\n",
      "Daily average of deaths in Sierra Leone in November of 2014 :  842.178571429\n",
      "Daily average of deaths in Sierra Leone : December of 2014 547.833333333\n"
     ]
    }
   ],
   "source": [
    "# isolate dataframe variables\n",
    "index = df.index.values\n",
    "variables = np.array([row[1] for row in index])\n",
    "\n",
    "# get index for specific variable occurence\n",
    "idx_new_confirmed = np.where(variables == 'new_confirmed')[0].tolist()\n",
    "\n",
    "# get values corresponding to selected index\n",
    "sl_total_new = df[('Sierra Leone','Total Sierra Leone')][idx_new_confirmed].fillna(0).astype(int)\n",
    "\n",
    "aug = sl_total_new.loc['2014-08-12':'2014-08-31']\n",
    "n_days_aug = get_days(aug)\n",
    "sep = sl_total_new.loc['2014-09-01':'2014-09-30']\n",
    "n_days_sep = get_days(sep)\n",
    "octo = sl_total_new.loc['2014-10-01':'2014-10-31']\n",
    "n_days_octo = get_days(octo)\n",
    "nov = sl_total_new.loc['2014-11-01':'2014-11-30']\n",
    "n_days_nov = get_days(nov)\n",
    "dec = sl_total_new.loc['2014-12-01':'2014-12-13']\n",
    "n_days_dec = get_days(dec)\n",
    "\n",
    "# calculate and print mean\n",
    "print('Daily average of new cases in Sierra Leone in August of 2014 : ', aug.sum()/n_days_aug)\n",
    "print('Daily average of new cases in Sierra Leone in September of 2014 : ', sep.sum()/n_days_sep)\n",
    "print('Daily average of new cases in Sierra Leone in October of 2014 : ', octo.sum()/n_days_octo)\n",
    "print('Daily average of new cases in Sierra Leone in November of 2014 : ', nov.sum()/n_days_nov)\n",
    "print('Daily average of new cases in Sierra Leone in December of 2014 : ', dec.sum()/n_days_dec)\n",
    "\n",
    "idx_death_confirmed = np.where(variables == 'death_confirmed')[0].tolist()\n",
    "sl_total_death = df[('Sierra Leone','Total Sierra Leone')][idx_death_confirmed].fillna(0).astype(int)\n",
    "\n",
    "aug = sl_total_death.loc['2014-08-12':'2014-08-31']\n",
    "n_days_aug = get_days(aug)\n",
    "sep = sl_total_death.loc['2014-09-01':'2014-09-30']\n",
    "n_days_sep = get_days(sep)\n",
    "octo = sl_total_death.loc['2014-10-01':'2014-10-31']\n",
    "n_days_octo = get_days(octo)\n",
    "nov = sl_total_death.loc['2014-11-01':'2014-11-30']\n",
    "n_days_nov = get_days(nov)\n",
    "dec = sl_total_death.loc['2014-12-01':'2014-12-13']\n",
    "n_days_dec = get_days(dec)\n",
    "\n",
    "print('Daily average of deaths in Sierra Leone in August of 2014 : ', aug.sum()/n_days_sep)\n",
    "print('Daily average of deaths in Sierra Leone in September of 2014 : ', sep.sum()/n_days_sep)\n",
    "print('Daily average of deaths in Sierra Leone in October of 2014 : ', octo.sum()/n_days_octo)\n",
    "print('Daily average of deaths in Sierra Leone in November of 2014 : ', nov.sum()/n_days_nov)\n",
    "print('Daily average of deaths in Sierra Leone : December of 2014', dec.sum()/n_days_dec)"
   ]
  },
  {
   "cell_type": "code",
   "execution_count": 71,
   "metadata": {},
   "outputs": [],
   "source": [
    "def get_diff_death(series):\n",
    "    cum_death = series.values \n",
    "    diff_death = cum_death[1:len(cum_death)] - cum_death[0:len(cum_death)-1]\n",
    "    neg_index = np.where(diff_death < 0)[0]\n",
    "    if not neg_index:\n",
    "        return diff_death\n",
    "    else:    \n",
    "        diff_death[neg_index[0]-1:len(diff_death)] = 0\n",
    "        return diff_death"
   ]
  },
  {
   "cell_type": "code",
   "execution_count": 74,
   "metadata": {},
   "outputs": [
    {
     "name": "stdout",
     "output_type": "stream",
     "text": [
      "Daily average of new cases in Guinea in August of 2014 :  90.2222222222\n",
      "Daily average of new cases in Guinea in September of 2014 :  438.678571429\n",
      "Daily average of new cases in Guinea in October of 2014 :  977.0\n",
      "Daily average of deaths in Guinea in August of 2014 :  4.03703703704\n",
      "Daily average of deaths in Guinea in September of 2014 :  4.71428571429\n",
      "Daily average of deaths in Guinea in October of 2014 :  0.0\n"
     ]
    }
   ],
   "source": [
    "# calculate time length\n",
    "index_dates = gn_df.index.values\n",
    "dates = np.array([row[0] for row in index_dates])\n",
    "time_length = dates[-1] - dates[0]\n",
    "n_days = time_length.days\n",
    "\n",
    "idx_nco_confirmed = np.where(variables == 'Total cases of confirmed')[0].tolist()\n",
    "gn_total_new = df[('Guinea','Total Guinea')][idx_nco_confirmed].fillna(0).astype(int)\n",
    "\n",
    "aug = gn_total_new.loc['2014-08-04':'2014-08-31']\n",
    "n_days_aug = get_days(aug)\n",
    "sep = gn_total_new.loc['2014-09-01':'2014-09-30']\n",
    "n_days_sep = get_days(sep)\n",
    "octo = gn_total_new.tail(1)\n",
    "n_days_octo = get_days(octo)\n",
    "\n",
    "print('Daily average of new cases in Guinea in August of 2014 : ', aug.sum()/n_days_aug)\n",
    "print('Daily average of new cases in Guinea in September of 2014 : ', sep.sum()/n_days_sep)\n",
    "print('Daily average of new cases in Guinea in October of 2014 : ', octo.sum()/n_days_octo)\n",
    "\n",
    "idx_nco_death = np.where(variables == 'Total deaths of confirmed')[0].tolist()\n",
    "gn_total_death = df[('Guinea','Total Guinea')][idx_nco_death].fillna(0).astype(int)\n",
    "\n",
    "diff_death = get_diff_death(gn_total_death)\n",
    "\n",
    "aug = gn_total_death.loc['2014-08-04':'2014-08-31']\n",
    "n_days_aug = get_days(aug)\n",
    "sep = gn_total_death.loc['2014-09-01':'2014-09-30']\n",
    "n_days_sep = get_days(sep)\n",
    "octo = gn_total_death.tail(1)\n",
    "n_days_octo = get_days(octo)\n",
    "\n",
    "diff_death_aug = get_diff_death(aug)\n",
    "diff_death_sep = get_diff_death(sep)\n",
    "diff_death_octo = get_diff_death(octo)\n",
    "\n",
    "print('Daily average of deaths in Guinea in August of 2014 : ', diff_death_aug.sum()/n_days_aug)\n",
    "print('Daily average of deaths in Guinea in September of 2014 : ', diff_death_sep.sum()/n_days_sep)\n",
    "print('Daily average of deaths in Guinea in October of 2014 : ', diff_death_octo.sum()/n_days_octo)"
   ]
  },
  {
   "cell_type": "code",
   "execution_count": 83,
   "metadata": {},
   "outputs": [
    {
     "name": "stdout",
     "output_type": "stream",
     "text": [
      "Daily average of new cases in Liberia in June of 2014 :  1.15384615385\n",
      "Daily average of new cases in Liberia in July of 2014 :  1.53846153846\n",
      "Daily average of new cases in Liberia in August of 2014 :  3.0\n",
      "Daily average of new cases in Liberia in September of 2014 :  5.10344827586\n",
      "Daily average of new cases in Liberia in October of 2014 :  1.13333333333\n",
      "Daily average of new cases in Liberia in November of 2014 :  1.39285714286\n",
      "Daily average of death in Liberia in June of 2014 :  1.07692307692\n",
      "Daily average of death in Liberia in July of 2014 :  3.61538461538\n",
      "Daily average of death in Liberia in August of 2014 :  11.8125\n",
      "Daily average of death in Liberia in September of 2014 :  29.8275862069\n",
      "Daily average of death in Liberia in October of 2014 :  23.3666666667\n",
      "Daily average of death in Liberia in November of 2014 :  7.21428571429\n"
     ]
    }
   ],
   "source": [
    "idx_nc_confirmed = np.where(variables == 'New case/s (confirmed)')[0].tolist()\n",
    "lb_total_new = df[('Liberia','Total Liberia')][idx_nc_confirmed].fillna(0).astype(int)\n",
    "\n",
    "jun = lb_total_new.loc['2014-06-16':'2014-06-29']\n",
    "n_days_jun = get_days(jun)\n",
    "jul = lb_total_new.loc['2014-07-01':'2014-07-26']\n",
    "n_days_jul = get_days(jun)\n",
    "aug = lb_total_new.loc['2014-08-12':'2014-08-31']\n",
    "n_days_aug = get_days(aug)\n",
    "sep = lb_total_new.loc['2014-09-01':'2014-09-30']\n",
    "n_days_sep = get_days(sep)\n",
    "octo = lb_total_new.loc['2014-10-01':'2014-10-31']\n",
    "n_days_octo = get_days(octo)\n",
    "nov = lb_total_new.loc['2014-11-01':'2014-11-30']\n",
    "n_days_nov = get_days(nov)\n",
    "dec = lb_total_new.loc['2014-12-01':'2014-12-09']\n",
    "n_days_dec = get_days(dec)\n",
    "\n",
    "# calculate and print mean\n",
    "print('Daily average of new cases in Liberia in June of 2014 : ', jun.sum()/n_days_jun)\n",
    "print('Daily average of new cases in Liberia in July of 2014 : ', jul.sum()/n_days_jul)\n",
    "print('Daily average of new cases in Liberia in August of 2014 : ', aug.sum()/n_days_aug)\n",
    "print('Daily average of new cases in Liberia in September of 2014 : ', sep.sum()/n_days_sep)\n",
    "print('Daily average of new cases in Liberia in October of 2014 : ', octo.sum()/n_days_octo)\n",
    "print('Daily average of new cases in Liberia in November of 2014 : ', nov.sum()/n_days_nov)\n",
    "\n",
    "idx_nrd_confirmed = np.where(variables == 'Newly reported deaths')[0].tolist()\n",
    "lb_total_death = df[('Liberia','Total Liberia')][idx_nrd_confirmed].fillna(0).astype(int)\n",
    "\n",
    "jun = lb_total_death.loc['2014-06-16':'2014-06-29']\n",
    "n_days_jun = get_days(jun)\n",
    "jul = lb_total_death.loc['2014-07-01':'2014-07-26']\n",
    "n_days_jul = get_days(jun)\n",
    "aug = lb_total_death.loc['2014-08-12':'2014-08-31']\n",
    "n_days_aug = get_days(aug)\n",
    "sep = lb_total_death.loc['2014-09-01':'2014-09-30']\n",
    "n_days_sep = get_days(sep)\n",
    "octo = lb_total_death.loc['2014-10-01':'2014-10-31']\n",
    "n_days_octo = get_days(octo)\n",
    "nov = lb_total_death.loc['2014-11-01':'2014-11-30']\n",
    "n_days_nov = get_days(nov)\n",
    "dec = lb_total_death.loc['2014-12-01':'2014-12-09']\n",
    "n_days_dec = get_days(dec)\n",
    "\n",
    "# calculate and print mean\n",
    "print('Daily average of death in Liberia in June of 2014 : ', jun.sum()/n_days_jun)\n",
    "print('Daily average of death in Liberia in July of 2014 : ', jul.sum()/n_days_jul)\n",
    "print('Daily average of death in Liberia in August of 2014 : ', aug.sum()/n_days_aug)\n",
    "print('Daily average of death in Liberia in September of 2014 : ', sep.sum()/n_days_sep)\n",
    "print('Daily average of death in Liberia in October of 2014 : ', octo.sum()/n_days_octo)\n",
    "print('Daily average of death in Liberia in November of 2014 : ', nov.sum()/n_days_nov)"
   ]
  },
  {
   "cell_type": "markdown",
   "metadata": {},
   "source": [
    "## Task 2. RNA Sequences\n",
    "\n",
    "In the `DATA_FOLDER/microbiome` subdirectory, there are 9 spreadsheets of microbiome data that was acquired from high-throughput RNA sequencing procedures, along with a 10<sup>th</sup> file that describes the content of each. \n",
    "\n",
    "Use pandas to import the first 9 spreadsheets into a single `DataFrame`.\n",
    "Then, add the metadata information from the 10<sup>th</sup> spreadsheet as columns in the combined `DataFrame`.\n",
    "Make sure that the final `DataFrame` has a unique index and all the `NaN` values have been replaced by the tag `unknown`."
   ]
  },
  {
   "cell_type": "code",
   "execution_count": null,
   "metadata": {
    "collapsed": true
   },
   "outputs": [],
   "source": [
    "# Write your answer here\n",
    "\n",
    "MICRO_FOLDER=os.path.join(DATA_FOLDER, 'microbiome')\n",
    "files=os.listdir(MICRO_FOLDER)\n",
    "\n",
    "mb_df=pd.DataFrame()\n",
    "meta_df=pd.DataFrame()\n",
    "for file in files:\n",
    "    if file == 'metadata.xls':\n",
    "        meta_df = meta_df.append(pd.read_excel(os.path.join(MICRO_FOLDER, file),sheetname='Sheet1'), ignore_index=True)\n",
    "    else:\n",
    "        df=pd.read_excel(os.path.join(MICRO_FOLDER, file),sheetname='Sheet 1',header=None)\n",
    "        df.columns=['Specimen', '#sequencing']\n",
    "        df['BARCODE']=file.replace('.xls', '')\n",
    "        mb_df = mb_df.append(df, ignore_index=True)\n",
    "mb_df.head()"
   ]
  },
  {
   "cell_type": "code",
   "execution_count": null,
   "metadata": {
    "collapsed": true
   },
   "outputs": [],
   "source": [
    "meta_df.tail()"
   ]
  },
  {
   "cell_type": "code",
   "execution_count": null,
   "metadata": {
    "collapsed": true
   },
   "outputs": [],
   "source": [
    "final_df=pd.merge(mb_df, meta_df, how='outer')\n",
    "final_df.head()"
   ]
  },
  {
   "cell_type": "code",
   "execution_count": null,
   "metadata": {
    "collapsed": true
   },
   "outputs": [],
   "source": [
    "final_df.tail()"
   ]
  },
  {
   "cell_type": "code",
   "execution_count": null,
   "metadata": {
    "collapsed": true
   },
   "outputs": [],
   "source": [
    "final_df.index.is_unique"
   ]
  },
  {
   "cell_type": "code",
   "execution_count": null,
   "metadata": {
    "collapsed": true
   },
   "outputs": [],
   "source": [
    "final_df=final_df.fillna('unknown')"
   ]
  },
  {
   "cell_type": "markdown",
   "metadata": {},
   "source": [
    "## Task 3. Class War in Titanic\n",
    "\n",
    "Use pandas to import the data file `Data/titanic.xls`. It contains data on all the passengers that travelled on the Titanic."
   ]
  },
  {
   "cell_type": "code",
   "execution_count": null,
   "metadata": {
    "collapsed": true,
    "scrolled": true
   },
   "outputs": [],
   "source": [
    "from IPython.core.display import HTML\n",
    "HTML(filename=DATA_FOLDER+'/titanic.html')\n",
    "\n",
    "titanic= pd.read_excel(os.path.join(DATA_FOLDER,'titanic.xls'),sheetname='titanic')\n",
    "\n",
    "titanic"
   ]
  },
  {
   "cell_type": "markdown",
   "metadata": {},
   "source": [
    "For each of the following questions state clearly your assumptions and discuss your findings:\n",
    "1. Describe the *type* and the *value range* of each attribute. Indicate and transform the attributes that can be `Categorical`. \n",
    "2. Plot histograms for the *travel class*, *embarkation port*, *sex* and *age* attributes. For the latter one, use *discrete decade intervals*. \n",
    "3. Calculate the proportion of passengers by *cabin floor*. Present your results in a *pie chart*.\n",
    "4. For each *travel class*, calculate the proportion of the passengers that survived. Present your results in *pie charts*.\n",
    "5. Calculate the proportion of the passengers that survived by *travel class* and *sex*. Present your results in *a single histogram*.\n",
    "6. Create 2 equally populated *age categories* and calculate survival proportions by *age category*, *travel class* and *sex*. Present your results in a `DataFrame` with unique index."
   ]
  },
  {
   "cell_type": "markdown",
   "metadata": {},
   "source": [
    "1. Describe the *type* and the *value range* of each attribute. Indicate and transform the attributes that can be `Categorical`. "
   ]
  },
  {
   "cell_type": "code",
   "execution_count": null,
   "metadata": {
    "collapsed": true
   },
   "outputs": [],
   "source": [
    "# Write your answer here\n",
    "titanic.columns\n",
    "[titanic[col_name].unique() for col_name in titanic.columns]\n",
    "\n",
    "\n"
   ]
  },
  {
   "cell_type": "code",
   "execution_count": null,
   "metadata": {
    "collapsed": true
   },
   "outputs": [],
   "source": [
    "[titanic[col_name].dtype for col_name in titanic.columns]\n"
   ]
  },
  {
   "cell_type": "code",
   "execution_count": null,
   "metadata": {
    "collapsed": true
   },
   "outputs": [],
   "source": [
    "pd.Categorical(titanic['sex'])\n",
    "titanic['sex'] = titanic['sex'].astype('category')\n",
    "titanic['embarked'] = titanic['embarked'].astype('category')\n",
    "titanic['pclass'] = titanic['pclass'].astype('category')\n",
    "titanic['pclass'] = titanic['pclass'].cat.rename_categories(['First class','Second class','Third class'])\n",
    "titanic['survived'] = titanic['survived'].astype('category')\n",
    "titanic['survived'] = titanic['survived'].cat.rename_categories(['Died','Survived'])\n"
   ]
  },
  {
   "cell_type": "code",
   "execution_count": null,
   "metadata": {
    "collapsed": true
   },
   "outputs": [],
   "source": [
    "titanic['embarked'].value_counts().plot.pie(figsize=(4,4))"
   ]
  },
  {
   "cell_type": "code",
   "execution_count": null,
   "metadata": {
    "collapsed": true
   },
   "outputs": [],
   "source": [
    "titanic['sex'].value_counts().plot.pie(figsize=(4,4))"
   ]
  },
  {
   "cell_type": "code",
   "execution_count": null,
   "metadata": {
    "collapsed": true
   },
   "outputs": [],
   "source": [
    "titanic['pclass'].value_counts().plot.pie(figsize=(4,4))"
   ]
  },
  {
   "cell_type": "code",
   "execution_count": null,
   "metadata": {
    "collapsed": true
   },
   "outputs": [],
   "source": [
    "titanic['age'].hist(bins=10,range=(0,100),figsize=(4,4))"
   ]
  },
  {
   "cell_type": "code",
   "execution_count": null,
   "metadata": {
    "collapsed": true
   },
   "outputs": [],
   "source": [
    "titanic['floor'] = titanic['cabin'].str[0]\n",
    "titanic['floor'] = titanic['floor'].astype('category')\n",
    "titanic['floor'].value_counts().plot.pie(figsize=(4,4))"
   ]
  },
  {
   "cell_type": "code",
   "execution_count": null,
   "metadata": {
    "collapsed": true
   },
   "outputs": [],
   "source": [
    "[titanic.groupby(['survived','pclass']).size().unstack().plot.pie(subplots=True,figsize=(12,4))]        "
   ]
  },
  {
   "cell_type": "code",
   "execution_count": null,
   "metadata": {
    "collapsed": true
   },
   "outputs": [],
   "source": [
    "titanic.groupby(['pclass','sex','survived']).size().unstack().plot.bar()"
   ]
  },
  {
   "cell_type": "code",
   "execution_count": null,
   "metadata": {
    "collapsed": true
   },
   "outputs": [],
   "source": [
    "titanic['age_category'] = titanic['age']>titanic['age'].median()\n",
    "titanic['age_category'] = titanic['age_category'].astype('category')\n",
    "titanic['age_category'] = titanic['age_category'].cat.rename_categories(['Young','Old'])\n",
    "\n",
    "(titanic[titanic['survived'] == 'Survived'].groupby(['pclass','sex','age_category']).size().unstack())/titanic.groupby(['pclass','sex','age_category']).size().unstack()"
   ]
  }
 ],
 "metadata": {
  "kernelspec": {
   "display_name": "Python [default]",
   "language": "python",
   "name": "python3"
  },
  "language_info": {
   "codemirror_mode": {
    "name": "ipython",
    "version": 3
   },
   "file_extension": ".py",
   "mimetype": "text/x-python",
   "name": "python",
   "nbconvert_exporter": "python",
   "pygments_lexer": "ipython3",
   "version": "3.5.0"
  }
 },
 "nbformat": 4,
 "nbformat_minor": 2
}
