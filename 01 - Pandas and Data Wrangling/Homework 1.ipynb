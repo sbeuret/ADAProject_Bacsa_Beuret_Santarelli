{
 "cells": [
  {
   "cell_type": "markdown",
   "metadata": {},
   "source": [
    "# Table of Contents\n",
    " <p><div class=\"lev1\"><a href=\"#Task-1.-Compiling-Ebola-Data\"><span class=\"toc-item-num\">Task 1.&nbsp;&nbsp;</span>Compiling Ebola Data</a></div>\n",
    " <div class=\"lev1\"><a href=\"#Task-2.-RNA-Sequences\"><span class=\"toc-item-num\">Task 2.&nbsp;&nbsp;</span>RNA Sequences</a></div>\n",
    " <div class=\"lev1\"><a href=\"#Task-3.-Class-War-in-Titanic\"><span class=\"toc-item-num\">Task 3.&nbsp;&nbsp;</span>Class War in Titanic</a></div></p>"
   ]
  },
  {
   "cell_type": "markdown",
   "metadata": {},
   "source": [
    "## Task 1. Compiling Ebola Data\n",
    "\n",
    "The `DATA_FOLDER/ebola` folder contains summarized reports of Ebola cases from three countries (Guinea, Liberia and Sierra Leone) during the recent outbreak of the disease in West Africa. For each country, there are daily reports that contain various information about the outbreak in several cities in each country.\n",
    "\n",
    "Use pandas to import these data files into a single `Dataframe`.\n",
    "Using this `DataFrame`, calculate for *each country*, the *daily average* per year of *new cases* and *deaths*.\n",
    "Make sure you handle all the different expressions for *new cases* and *deaths* that are used in the reports."
   ]
  },
  {
   "cell_type": "code",
   "execution_count": null,
   "metadata": {
    "collapsed": true
   },
   "outputs": [],
   "source": [
    "import os\n",
    "import pandas as pd\n",
    "import numpy as np\n",
    "from datetime import datetime\n",
    "import matplotlib.pyplot as plt\n",
    "\n",
    "%matplotlib inline\n",
    "\n",
    "DATA_FOLDER = os.path.join(os.path.dirname(os.getcwd()),'ADA2017-Tutorials-master','02 - Intro to Pandas','Data') # Use the data folder provided in Tutorial 02 - Intro to Pandas.\n",
    "EBOLA_FOLDER= os.path.join(DATA_FOLDER, 'ebola')\n",
    "\n",
    "countries=['sl_data', 'guinea_data','liberia_data']\n"
   ]
  },
  {
   "cell_type": "code",
   "execution_count": null,
   "metadata": {},
   "outputs": [],
   "source": [
    "#Sierra Leone\n",
    "sl='sl_data'\n",
    "files=os.listdir(os.path.join(EBOLA_FOLDER, sl))\n",
    "sl_df=pd.read_csv(os.path.join(EBOLA_FOLDER, sl,files[0]))        \n",
    "for file in files[1:len(files)]:   \n",
    "    sl_df = sl_df.append(pd.read_csv(os.path.join(EBOLA_FOLDER, sl, file)), ignore_index=True)\n",
    "\n",
    "# convert to datetime format\n",
    "sl_df['date'] = pd.to_datetime(sl_df['date'])\n",
    "    \n",
    "#change columns names data -> Date ,variable -> Variable\n",
    "sl_df.rename(columns={'date': 'Date', 'variable': 'Variable', 'National': 'Total Sierra Leone'}, inplace=True)\n",
    "\n",
    "#change order index Date, Variable, Country first\n",
    "sl_df = sl_df.reindex_axis(['Date','Variable','Total Sierra Leone'] + list([a for a in sl_df.columns if a != 'Date' and a!= 'Variable' and a!= 'Total Sierra Leone']), axis=1)\n",
    "sl_df = sl_df.set_index(['Date','Variable'])\n",
    "sl_df = pd.concat([sl_df], axis=1, keys=['Sierra Leone'])"
   ]
  },
  {
   "cell_type": "code",
   "execution_count": null,
   "metadata": {
    "collapsed": true
   },
   "outputs": [],
   "source": [
    "#Guinea\n",
    "gn='guinea_data'\n",
    "files=os.listdir(os.path.join(EBOLA_FOLDER, gn))\n",
    "gn_df=pd.read_csv(os.path.join(EBOLA_FOLDER, gn,files[0]))           \n",
    "for file in files[1:len(files)]:   \n",
    "    gn_df = gn_df.append(pd.read_csv(os.path.join(EBOLA_FOLDER, gn, file)), ignore_index=True)\n",
    "\n",
    "# convert to datetime format\n",
    "gn_df['Date'] = pd.to_datetime(gn_df['Date'])\n",
    "\n",
    "#change columns names data -> Date ,variable -> Variable\n",
    "gn_df.rename(columns={'date': 'Date', 'Description': 'Variable', 'Totals':'Total Guinea'}, inplace=True)\n",
    "\n",
    "#change order index Date, Variable, Country first\n",
    "gn_df = gn_df.reindex_axis(['Date','Variable','Total Guinea'] + list([a for a in gn_df.columns if a != 'Date' and a!= 'Variable' and a!= 'Total Guinea']), axis=1)\n",
    "gn_df = gn_df.set_index(['Date','Variable'])\n",
    "gn_df = pd.concat([gn_df], axis=1, keys=['Guinea'])"
   ]
  },
  {
   "cell_type": "code",
   "execution_count": null,
   "metadata": {
    "collapsed": true
   },
   "outputs": [],
   "source": [
    "#Liberia\n",
    "lb='liberia_data'\n",
    "files=os.listdir(os.path.join(EBOLA_FOLDER, lb))\n",
    "lb_df=pd.read_csv(os.path.join(EBOLA_FOLDER, lb,files[0]))           \n",
    "for file in files[1:len(files)]:   \n",
    "    lb_df = lb_df.append(pd.read_csv(os.path.join(EBOLA_FOLDER, lb, file)), ignore_index=True)\n",
    "\n",
    "# convert to datetime format\n",
    "lb_df['Date'] = pd.to_datetime(lb_df['Date'])\n",
    "\n",
    "#change columns names data -> Date ,variable -> Variable\n",
    "lb_df.rename(columns={'date': 'Date', 'variable': 'Variable', 'National': 'Total Liberia'}, inplace=True)\n",
    "\n",
    "#change order index Date, Variable, Country first\n",
    "lb_df = lb_df.reindex_axis(['Date','Variable','Total Liberia'] + list([a for a in lb_df.columns if a != 'Date' and a!= 'Variable' and a!= 'Total Liberia']), axis=1)\n",
    "lb_df = lb_df.set_index(['Date','Variable'])\n",
    "lb_df = pd.concat([lb_df], axis=1, keys=['Liberia'])"
   ]
  },
  {
   "cell_type": "code",
   "execution_count": null,
   "metadata": {
    "collapsed": true,
    "scrolled": false
   },
   "outputs": [],
   "source": [
    "df = pd.concat([sl_df, gn_df, lb_df], axis=0)\n",
    "df.head(5)"
   ]
  },
  {
   "cell_type": "markdown",
   "metadata": {},
   "source": [
    "For now only the rows with the following names are used to calculation : new_confirmed, death_confirmed, New cases of confirmed, New deaths registered today (confirmed), New case/s (confirmed), Newly reported deaths. Since the names of the variables sometimes change overtime, this is not an accurate measure."
   ]
  },
  {
   "cell_type": "code",
   "execution_count": null,
   "metadata": {
    "collapsed": true
   },

   "outputs": [],
   "source": [
    "def get_days(series):\n",
    "    if series.size == 1:\n",
    "        return 1\n",
    "    else:\n",
    "        # calculate time length\n",
    "        index_dates = series.index.values\n",
    "        dates = np.array([row[0] for row in index_dates])\n",
    "        time_length = dates[-1] - dates[0]\n",
    "        n_days = time_length.days\n",
    "        return n_days"
   ]
  },
  {
   "cell_type": "code",
   "execution_count": null,
   "metadata": {},

   "outputs": [],
   "source": [
    "# isolate dataframe variables\n",
    "index = df.index.values\n",
    "variables = np.array([row[1] for row in index])\n",
    "\n",
    "# get index for specific variable occurence\n",
    "idx_new_confirmed = np.where(variables == 'new_confirmed')[0].tolist()\n",
    "\n",
    "# get values corresponding to selected index\n",
    "sl_total_new = df[('Sierra Leone','Total Sierra Leone')][idx_new_confirmed].fillna(0).astype(int)\n",
    "\n",
    "aug = sl_total_new.loc['2014-08-12':'2014-08-31']\n",
    "n_days_aug = get_days(aug)\n",
    "sep = sl_total_new.loc['2014-09-01':'2014-09-30']\n",
    "n_days_sep = get_days(sep)\n",
    "octo = sl_total_new.loc['2014-10-01':'2014-10-31']\n",
    "n_days_octo = get_days(octo)\n",
    "nov = sl_total_new.loc['2014-11-01':'2014-11-30']\n",
    "n_days_nov = get_days(nov)\n",
    "dec = sl_total_new.loc['2014-12-01':'2014-12-13']\n",
    "n_days_dec = get_days(dec)\n",
    "\n",
    "# calculate and print mean\n",
    "print('Daily average of new cases in Sierra Leone in August of 2014 : ', aug.sum()/n_days_aug)\n",
    "print('Daily average of new cases in Sierra Leone in September of 2014 : ', sep.sum()/n_days_sep)\n",
    "print('Daily average of new cases in Sierra Leone in October of 2014 : ', octo.sum()/n_days_octo)\n",
    "print('Daily average of new cases in Sierra Leone in November of 2014 : ', nov.sum()/n_days_nov)\n",
    "print('Daily average of new cases in Sierra Leone in December of 2014 : ', dec.sum()/n_days_dec)\n",
    "\n",
    "idx_death_confirmed = np.where(variables == 'death_confirmed')[0].tolist()\n",
    "sl_total_death = df[('Sierra Leone','Total Sierra Leone')][idx_death_confirmed].fillna(0).astype(int)\n",
    "\n",
    "aug = sl_total_death.loc['2014-08-12':'2014-08-31']\n",
    "n_days_aug = get_days(aug)\n",
    "sep = sl_total_death.loc['2014-09-01':'2014-09-30']\n",
    "n_days_sep = get_days(sep)\n",
    "octo = sl_total_death.loc['2014-10-01':'2014-10-31']\n",
    "n_days_octo = get_days(octo)\n",
    "nov = sl_total_death.loc['2014-11-01':'2014-11-30']\n",
    "n_days_nov = get_days(nov)\n",
    "dec = sl_total_death.loc['2014-12-01':'2014-12-13']\n",
    "n_days_dec = get_days(dec)\n",
    "\n",
    "print('Daily average of deaths in Sierra Leone in August of 2014 : ', aug.sum()/n_days_sep)\n",
    "print('Daily average of deaths in Sierra Leone in September of 2014 : ', sep.sum()/n_days_sep)\n",
    "print('Daily average of deaths in Sierra Leone in October of 2014 : ', octo.sum()/n_days_octo)\n",
    "print('Daily average of deaths in Sierra Leone in November of 2014 : ', nov.sum()/n_days_nov)\n",
    "print('Daily average of deaths in Sierra Leone : December of 2014', dec.sum()/n_days_dec)"
   ]
  },
  {
   "cell_type": "code",
   "execution_count": null,
   "metadata": {
    "collapsed": true
   },
   "outputs": [],
   "source": [
    "def get_diff_death(series):\n",
    "    cum_death = series.values \n",
    "    diff_death = cum_death[1:len(cum_death)] - cum_death[0:len(cum_death)-1]\n",
    "    neg_index = np.where(diff_death < 0)[0]\n",
    "    if not neg_index:\n",
    "        return diff_death\n",
    "    else:    \n",
    "        diff_death[neg_index[0]-1:len(diff_death)] = 0\n",
    "        return diff_death"
   ]
  },
  {
   "cell_type": "code",
   "execution_count": null,
   "metadata": {},
   "outputs": [],
   "source": [
    "# calculate time length\n",
    "index_dates = gn_df.index.values\n",
    "dates = np.array([row[0] for row in index_dates])\n",
    "time_length = dates[-1] - dates[0]\n",
    "n_days = time_length.days\n",
    "\n",
    "idx_nco_confirmed = np.where(variables == 'Total cases of confirmed')[0].tolist()\n",
    "gn_total_new = df[('Guinea','Total Guinea')][idx_nco_confirmed].fillna(0).astype(int)\n",
    "\n",
    "aug = gn_total_new.loc['2014-08-04':'2014-08-31']\n",
    "n_days_aug = get_days(aug)\n",
    "sep = gn_total_new.loc['2014-09-01':'2014-09-30']\n",
    "n_days_sep = get_days(sep)\n",
    "octo = gn_total_new.tail(1)\n",
    "n_days_octo = get_days(octo)\n",
    "\n",
    "print('Daily average of new cases in Guinea in August of 2014 : ', aug.sum()/n_days_aug)\n",
    "print('Daily average of new cases in Guinea in September of 2014 : ', sep.sum()/n_days_sep)\n",
    "print('Daily average of new cases in Guinea in October of 2014 : ', octo.sum()/n_days_octo)\n",
    "\n",
    "idx_nco_death = np.where(variables == 'Total deaths of confirmed')[0].tolist()\n",
    "gn_total_death = df[('Guinea','Total Guinea')][idx_nco_death].fillna(0).astype(int)\n",
    "\n",
    "diff_death = get_diff_death(gn_total_death)\n",
    "\n",
    "aug = gn_total_death.loc['2014-08-04':'2014-08-31']\n",
    "n_days_aug = get_days(aug)\n",
    "sep = gn_total_death.loc['2014-09-01':'2014-09-30']\n",
    "n_days_sep = get_days(sep)\n",
    "octo = gn_total_death.tail(1)\n",
    "n_days_octo = get_days(octo)\n",
    "\n",
    "diff_death_aug = get_diff_death(aug)\n",
    "diff_death_sep = get_diff_death(sep)\n",
    "diff_death_octo = get_diff_death(octo)\n",
    "\n",
    "print('Daily average of deaths in Guinea in August of 2014 : ', diff_death_aug.sum()/n_days_aug)\n",
    "print('Daily average of deaths in Guinea in September of 2014 : ', diff_death_sep.sum()/n_days_sep)\n",
    "print('Daily average of deaths in Guinea in October of 2014 : ', diff_death_octo.sum()/n_days_octo)"
   ]
  },
  {
   "cell_type": "code",
   "execution_count": null,
   "metadata": {},
   "outputs": [],
   "source": [
    "idx_nc_confirmed = np.where(variables == 'New case/s (confirmed)')[0].tolist()\n",
    "lb_total_new = df[('Liberia','Total Liberia')][idx_nc_confirmed].fillna(0).astype(int)\n",
    "\n",
    "jun = lb_total_new.loc['2014-06-16':'2014-06-29']\n",
    "n_days_jun = get_days(jun)\n",
    "jul = lb_total_new.loc['2014-07-01':'2014-07-26']\n",
    "n_days_jul = get_days(jun)\n",
    "aug = lb_total_new.loc['2014-08-12':'2014-08-31']\n",
    "n_days_aug = get_days(aug)\n",
    "sep = lb_total_new.loc['2014-09-01':'2014-09-30']\n",
    "n_days_sep = get_days(sep)\n",
    "octo = lb_total_new.loc['2014-10-01':'2014-10-31']\n",
    "n_days_octo = get_days(octo)\n",
    "nov = lb_total_new.loc['2014-11-01':'2014-11-30']\n",
    "n_days_nov = get_days(nov)\n",
    "dec = lb_total_new.loc['2014-12-01':'2014-12-09']\n",
    "n_days_dec = get_days(dec)\n",
    "\n",
    "# calculate and print mean\n",
    "print('Daily average of new cases in Liberia in June of 2014 : ', jun.sum()/n_days_jun)\n",
    "print('Daily average of new cases in Liberia in July of 2014 : ', jul.sum()/n_days_jul)\n",
    "print('Daily average of new cases in Liberia in August of 2014 : ', aug.sum()/n_days_aug)\n",
    "print('Daily average of new cases in Liberia in September of 2014 : ', sep.sum()/n_days_sep)\n",
    "print('Daily average of new cases in Liberia in October of 2014 : ', octo.sum()/n_days_octo)\n",
    "print('Daily average of new cases in Liberia in November of 2014 : ', nov.sum()/n_days_nov)\n",
    "\n",
    "idx_nrd_confirmed = np.where(variables == 'Newly reported deaths')[0].tolist()\n",
    "lb_total_death = df[('Liberia','Total Liberia')][idx_nrd_confirmed].fillna(0).astype(int)\n",
    "\n",
    "jun = lb_total_death.loc['2014-06-16':'2014-06-29']\n",
    "n_days_jun = get_days(jun)\n",
    "jul = lb_total_death.loc['2014-07-01':'2014-07-26']\n",
    "n_days_jul = get_days(jun)\n",
    "aug = lb_total_death.loc['2014-08-12':'2014-08-31']\n",
    "n_days_aug = get_days(aug)\n",
    "sep = lb_total_death.loc['2014-09-01':'2014-09-30']\n",
    "n_days_sep = get_days(sep)\n",
    "octo = lb_total_death.loc['2014-10-01':'2014-10-31']\n",
    "n_days_octo = get_days(octo)\n",
    "nov = lb_total_death.loc['2014-11-01':'2014-11-30']\n",
    "n_days_nov = get_days(nov)\n",
    "dec = lb_total_death.loc['2014-12-01':'2014-12-09']\n",
    "n_days_dec = get_days(dec)\n",
    "\n",
    "# calculate and print mean\n",
    "print('Daily average of death in Liberia in June of 2014 : ', jun.sum()/n_days_jun)\n",
    "print('Daily average of death in Liberia in July of 2014 : ', jul.sum()/n_days_jul)\n",
    "print('Daily average of death in Liberia in August of 2014 : ', aug.sum()/n_days_aug)\n",
    "print('Daily average of death in Liberia in September of 2014 : ', sep.sum()/n_days_sep)\n",
    "print('Daily average of death in Liberia in October of 2014 : ', octo.sum()/n_days_octo)\n",
    "print('Daily average of death in Liberia in November of 2014 : ', nov.sum()/n_days_nov)"
   ]
  },
  {
   "cell_type": "code",
   "execution_count": null,
   "metadata": {
    "collapsed": true
   },
   "outputs": [],
   "source": [
    "sl_values = sl_total_death.values\n",
    "np.where(sl_values < 0)"
   ]
  },
  {
   "cell_type": "code",
   "execution_count": null,
   "metadata": {
    "collapsed": true
   },
   "outputs": [],
   "source": [
    "cum_death = gn_total_death.values \n",
    "diff_death = cum_death[1:len(cum_death)] - cum_death[0:len(cum_death)-1]\n",
    "diff_death[len(diff_death)-2:len(diff_death)] = 0\n"
   ]
  },
  {
   "cell_type": "markdown",
   "metadata": {},
   "source": [
    "## Task 2. RNA Sequences\n",
    "\n",
    "In the `DATA_FOLDER/microbiome` subdirectory, there are 9 spreadsheets of microbiome data that was acquired from high-throughput RNA sequencing procedures, along with a 10<sup>th</sup> file that describes the content of each. \n",
    "\n",
    "Use pandas to import the first 9 spreadsheets into a single `DataFrame`.\n",
    "Then, add the metadata information from the 10<sup>th</sup> spreadsheet as columns in the combined `DataFrame`.\n",
    "Make sure that the final `DataFrame` has a unique index and all the `NaN` values have been replaced by the tag `unknown`."
   ]
  },
  {
   "cell_type": "code",
   "execution_count": null,
   "metadata": {
    "collapsed": true
   },
   "outputs": [],
   "source": [
    "# Write your answer here\n",
    "\n",
    "MICRO_FOLDER=os.path.join(DATA_FOLDER, 'microbiome')\n",
    "files=os.listdir(MICRO_FOLDER)\n",
    "\n",
    "mb_df=pd.DataFrame()\n",
    "meta_df=pd.DataFrame()\n",
    "for file in files:\n",
    "    if file == 'metadata.xls':\n",
    "        meta_df = meta_df.append(pd.read_excel(os.path.join(MICRO_FOLDER, file),sheetname='Sheet1'), ignore_index=True)\n",
    "    else:\n",
    "        df=pd.read_excel(os.path.join(MICRO_FOLDER, file),sheetname='Sheet 1',header=None)\n",
    "        df.columns=['Specimen', '#sequencing']\n",
    "        df['BARCODE']=file.replace('.xls', '')\n",
    "        mb_df = mb_df.append(df, ignore_index=True)\n",
    "mb_df.head()"
   ]
  },
  {
   "cell_type": "code",
   "execution_count": null,
   "metadata": {
    "collapsed": true
   },
   "outputs": [],
   "source": [
    "meta_df.tail()"
   ]
  },
  {
   "cell_type": "code",
   "execution_count": null,
   "metadata": {
    "collapsed": true
   },
   "outputs": [],
   "source": [
    "final_df=pd.merge(mb_df, meta_df, how='outer')\n",
    "final_df.head()"
   ]
  },
  {
   "cell_type": "code",
   "execution_count": null,
   "metadata": {
    "collapsed": true
   },
   "outputs": [],
   "source": [
    "final_df.tail()"
   ]
  },
  {
   "cell_type": "code",
   "execution_count": null,
   "metadata": {
    "collapsed": true
   },
   "outputs": [],
   "source": [
    "final_df.index.is_unique"
   ]
  },
  {
   "cell_type": "code",
   "execution_count": null,
   "metadata": {
    "collapsed": true
   },
   "outputs": [],
   "source": [
    "final_df=final_df.fillna('unknown')"
   ]
  },
  {
   "cell_type": "markdown",
   "metadata": {},
   "source": [
    "## Task 3. Class War in Titanic\n",
    "\n",
    "Use pandas to import the data file `Data/titanic.xls`. It contains data on all the passengers that travelled on the Titanic."
   ]
  },
  {
   "cell_type": "code",
   "execution_count": null,
   "metadata": {
    "scrolled": true
   },
   "outputs": [],
   "source": [
    "from IPython.core.display import HTML\n",
    "HTML(filename=DATA_FOLDER+'/titanic.html')\n",
    "from IPython.display import display\n",
    "\n",
    "titanic= pd.read_excel(os.path.join(DATA_FOLDER,'titanic.xls'),sheetname='titanic')\n",
    "\n",
    "titanic"
   ]
  },
  {
   "cell_type": "markdown",
   "metadata": {},
   "source": [
    "For each of the following questions state clearly your assumptions and discuss your findings:\n",
    "1. Describe the *type* and the *value range* of each attribute. Indicate and transform the attributes that can be `Categorical`. \n",
    "2. Plot histograms for the *travel class*, *embarkation port*, *sex* and *age* attributes. For the latter one, use *discrete decade intervals*. \n",
    "3. Calculate the proportion of passengers by *cabin floor*. Present your results in a *pie chart*.\n",
    "4. For each *travel class*, calculate the proportion of the passengers that survived. Present your results in *pie charts*.\n",
    "5. Calculate the proportion of the passengers that survived by *travel class* and *sex*. Present your results in *a single histogram*.\n",
    "6. Create 2 equally populated *age categories* and calculate survival proportions by *age category*, *travel class* and *sex*. Present your results in a `DataFrame` with unique index."
   ]
  },
  {
   "cell_type": "markdown",
   "metadata": {},
   "source": [
    "1. Describe the *type* and the *value range* of each attribute. Indicate and transform the attributes that can be `Categorical`. "
   ]
  },
  {
   "cell_type": "markdown",
   "metadata": {},
   "source": [
    "The first attribute is an integer that describe the class where the passenger belonged, it can be transformed into a category object since there is a limited number of possibilities.\n"
   ]
  },
  {
   "cell_type": "code",
   "execution_count": null,
   "metadata": {},
   "outputs": [],
   "source": [
    "display(titanic['pclass'].dtype)\n",
    "titanic['pclass'] = titanic['pclass'].astype('category')\n",
    "titanic['pclass'] = titanic['pclass'].cat.rename_categories(['First class','Second class','Third class'])\n",
    "display(titanic['pclass'].value_counts())"
   ]
  },
  {
   "cell_type": "markdown",
   "metadata": {},
   "source": [
    "The second attribute is an integer that describe if the passenger has survived or not. It can also be turned into a categorical object."
   ]
  },
  {
   "cell_type": "code",
   "execution_count": null,
   "metadata": {},
   "outputs": [],
   "source": [
    "display(titanic['survived'].dtype)\n",
    "titanic['survived'] = titanic['survived'].astype('category')\n",
    "titanic['survived'] = titanic['survived'].cat.rename_categories(['Died','Survived'])\n",
    "display(titanic['survived'].value_counts())"
   ]
  },
  {
   "cell_type": "markdown",
   "metadata": {},
   "source": [
    "The third argument is the name of the passenger. It can't be described as a category and we can't calculate its range since it is a series of string."
   ]
  },
  {
   "cell_type": "markdown",
   "metadata": {},
   "source": [
    "The fourth argument is the sex of the passenger, it is a string but it can be described as a categry since there are only two different possibilities."
   ]
  },
  {
   "cell_type": "code",
   "execution_count": null,
   "metadata": {},
   "outputs": [],
   "source": [
    "titanic['sex'] = titanic['sex'].astype('category')\n",
    "display(titanic['sex'].value_counts())"
   ]
  },
  {
   "cell_type": "markdown",
   "metadata": {},
   "source": [
    "The fifth argument is a float that describe the age of the passenger (in full years for adults and in year fraction corresponding to the number of month for children). The minimum is two month and the maximum is 80 years."
   ]
  },
  {
   "cell_type": "code",
   "execution_count": null,
   "metadata": {},
   "outputs": [],
   "source": [
    "display(titanic['age'].dtype)\n",
    "display( [titanic['age'].min(),titanic['age'].max()])"
   ]
  },
  {
   "cell_type": "markdown",
   "metadata": {},
   "source": [
    "The sixth and seventh arguments are integer decribing the number of siblings (or spouse) and the number of parents (or children) on the boat. The range is 0 to 8 for the first argument, and 0 to 9 for the second.\n"
   ]
  },
  {
   "cell_type": "code",
   "execution_count": null,
   "metadata": {},
   "outputs": [],
   "source": [
    "display(titanic['sibsp'].dtype)\n",
    "display(titanic['parch'].dtype)\n",
    "\n",
    "display( [titanic['sibsp'].min(),titanic['sibsp'].max()])\n",
    "display( [titanic['parch'].min(),titanic['parch'].max()])"
   ]
  },
  {
   "cell_type": "markdown",
   "metadata": {},
   "source": [
    "The eighth argument is the ticket number of the passengers, it is a series of string, with a mix between letters and digits, therefore we can't define any range, and there is too much different arguments to define it as a category."
   ]
  },
  {
   "cell_type": "markdown",
   "metadata": {},
   "source": [
    "The ninth aregument is the fare of ech passenger, it is a float number between 0 and 512.33."
   ]
  },
  {
   "cell_type": "code",
   "execution_count": null,
   "metadata": {},
   "outputs": [],
   "source": [
    "display(titanic['fare'].dtype)\n",
    "display( [titanic['fare'].min(),titanic['fare'].max()])"
   ]
  },
  {
   "cell_type": "markdown",
   "metadata": {},
   "source": [
    "The tenth argument is the cabin of the passenger, ita string that mix the name of the floor label, with a cabin number, therefore we can't define any range nor any category, since there are too many different possibilities."
   ]
  },
  {
   "cell_type": "markdown",
   "metadata": {},
   "source": [
    "The eleventh argument is a character describing the harbour where the passenger embarked into the ship ( S for Southhampton, C for Cherbourg and Q for Queenstown), It can be described as a category, since there are only three possibilities."
   ]
  },
  {
   "cell_type": "code",
   "execution_count": null,
   "metadata": {},
   "outputs": [],
   "source": [
    "titanic['embarked'] = titanic['embarked'].astype('category')\n",
    "titanic['embarked'] = titanic['embarked'].cat.rename_categories(['Cherbourg','Queenstown','Southampton'])\n",
    "display(titanic['embarked'].value_counts())"
   ]
  },
  {
   "cell_type": "markdown",
   "metadata": {},
   "source": [
    "The twelfth argument is a string describing the boat where the surviving passengers were found. Some are described with a number, some with a letter, some with a mix of multiple number or letter, therefore we can't define any ranger nor transform it into categries."
   ]
  },
  {
   "cell_type": "markdown",
   "metadata": {},
   "source": [
    "The thirteenth argument is a float number describing the weight of the passenger's body (for the dead persons whose bodies has been found). It varies from 1 to 328."
   ]
  },
  {
   "cell_type": "code",
   "execution_count": null,
   "metadata": {},
   "outputs": [],
   "source": [
    "display(titanic['body'].dtype)\n",
    "\n",
    "display( [titanic['body'].min(),titanic['body'].max()])"
   ]
  },
  {
   "cell_type": "markdown",
   "metadata": {},
   "source": [
    "The last argument is a string describing the home and/or the destination of the passenger. IT can't be described as category since there are too many possibilies."
   ]
  },
  {
   "cell_type": "code",
   "execution_count": null,
   "metadata": {},
   "outputs": [],
   "source": [
    "titanic['embarked'].value_counts().plot.bar(figsize=(4,4),title='Boarding harbour')"
   ]
  },
  {
   "cell_type": "code",
   "execution_count": null,
   "metadata": {},
   "outputs": [],
   "source": [
    "titanic['sex'].value_counts().plot.bar(figsize=(4,4),title='Sex of the passengers')"
   ]
  },
  {
   "cell_type": "code",
   "execution_count": null,
   "metadata": {},
   "outputs": [],
   "source": [
    "titanic['pclass'].value_counts().plot.bar(figsize=(4,4),title='Class of the passengers')"
   ]
  },
  {
   "cell_type": "code",
   "execution_count": null,
   "metadata": {},
   "outputs": [],
   "source": [
    "titanic['age'].plot(kind='hist',bins=10,range=(0,100),figsize=(4,4),title='Age distribution')"
   ]
  },
  {
   "cell_type": "markdown",
   "metadata": {},
   "source": [
    "For the cabin floor, we considered the first character of the string describing the cabin. Sometimes two floor letters where defined for a single cabin, so we only considered the first one."
   ]
  },
  {
   "cell_type": "code",
   "execution_count": null,
   "metadata": {},
   "outputs": [],
   "source": [
    "titanic['floor'] = titanic['cabin'].str[0]\n",
    "titanic['floor'] = titanic['floor'].astype('category')\n",
    "titanic['floor'].value_counts().plot.pie(figsize=(4,4),title='Number of passenger per floor')"
   ]
  },
  {
   "cell_type": "code",
   "execution_count": null,
   "metadata": {},
   "outputs": [],
   "source": [
    "[titanic.groupby(['survived','pclass']).size().unstack().plot.pie(subplots=True,figsize=(12,4),title='Proportion of dead people per class')]        "
   ]
  },
  {
   "cell_type": "code",
   "execution_count": null,
   "metadata": {},
   "outputs": [],
   "source": [
    "titanic.groupby(['pclass','sex','survived']).size().unstack().plot.bar(title='Proportion of dead people per class and sex')"
   ]
  },
  {
   "cell_type": "markdown",
   "metadata": {},
   "source": [
    "For the distinction between old and young, we checked if the passenger's age were superior to the median age (28 years)"
   ]
  },
  {
   "cell_type": "code",
   "execution_count": null,
   "metadata": {},
   "outputs": [],
   "source": [
    "titanic['age_category'] = titanic['age']>titanic['age'].median()\n",
    "titanic['age_category'] = titanic['age_category'].astype('category')\n",
    "titanic['age_category'] = titanic['age_category'].cat.rename_categories(['Young','Old'])\n",
    "\n",
    "(titanic[titanic['survived'] == 'Survived'].groupby(['pclass','sex','age_category']).size().unstack())/titanic.groupby(['pclass','sex','age_category']).size().unstack()"
   ]
  }
 ],
 "metadata": {
  "kernelspec": {
   "display_name": "Python 3",
   "language": "python",
   "name": "python3"
  },
  "language_info": {
   "codemirror_mode": {
    "name": "ipython",
    "version": 3
   },
   "file_extension": ".py",
   "mimetype": "text/x-python",
   "name": "python",
   "nbconvert_exporter": "python",
   "pygments_lexer": "ipython3",
   "version": "3.6.1"
  }
 },
 "nbformat": 4,
 "nbformat_minor": 2
}
