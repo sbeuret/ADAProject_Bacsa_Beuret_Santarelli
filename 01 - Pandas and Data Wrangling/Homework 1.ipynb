{
 "cells": [
  {
   "cell_type": "markdown",
   "metadata": {},
   "source": [
    "# Table of Contents\n",
    " <p><div class=\"lev1\"><a href=\"#Task-1.-Compiling-Ebola-Data\"><span class=\"toc-item-num\">Task 1.&nbsp;&nbsp;</span>Compiling Ebola Data</a></div>\n",
    " <div class=\"lev1\"><a href=\"#Task-2.-RNA-Sequences\"><span class=\"toc-item-num\">Task 2.&nbsp;&nbsp;</span>RNA Sequences</a></div>\n",
    " <div class=\"lev1\"><a href=\"#Task-3.-Class-War-in-Titanic\"><span class=\"toc-item-num\">Task 3.&nbsp;&nbsp;</span>Class War in Titanic</a></div></p>"
   ]
  },
  {
   "cell_type": "markdown",
   "metadata": {},
   "source": [
    "## Task 1. Compiling Ebola Data\n",
    "\n",
    "The `DATA_FOLDER/ebola` folder contains summarized reports of Ebola cases from three countries (Guinea, Liberia and Sierra Leone) during the recent outbreak of the disease in West Africa. For each country, there are daily reports that contain various information about the outbreak in several cities in each country.\n",
    "\n",
    "Use pandas to import these data files into a single `Dataframe`.\n",
    "Using this `DataFrame`, calculate for *each country*, the *daily average* per year of *new cases* and *deaths*.\n",
    "Make sure you handle all the different expressions for *new cases* and *deaths* that are used in the reports."
   ]
  },
  {
   "cell_type": "code",
   "execution_count": null,
   "metadata": {
    "collapsed": true
   },
   "outputs": [],
   "source": [
    "import os\n",
    "import pandas as pd\n",
    "import numpy as np\n",
    "from datetime import datetime\n",
    "import matplotlib.pyplot as plt\n",
    "\n",
    "%matplotlib inline\n",
    "\n",
    "DATA_FOLDER = os.path.join(os.path.dirname(os.getcwd()),'Homework1','02 - Intro to Pandas','Data') # Use the data folder provided in Tutorial 02 - Intro to Pandas.\n",
    "EBOLA_FOLDER= os.path.join(DATA_FOLDER, 'ebola')\n",
    "\n",
    "countries=['sl_data', 'guinea_data','liberia_data']\n",
    "\n",
    "\n"
   ]
  },
  {
   "cell_type": "code",
   "execution_count": null,
   "metadata": {},
   "outputs": [],
   "source": [
    "#Sierra Leone\n",
    "sl='sl_data'\n",
    "files=os.listdir(os.path.join(EBOLA_FOLDER, sl))\n",
    "sl_df=pd.read_csv(os.path.join(EBOLA_FOLDER, sl,files[0]))        \n",
    "for file in files[1:-1]:   \n",
    "    sl_df = sl_df.append(pd.read_csv(os.path.join(EBOLA_FOLDER, sl, file)), ignore_index=True)\n",
    "\n",
    "# convert to datetime format\n",
    "sl_df['date'] = pd.to_datetime(sl_df['date'])\n",
    "    \n",
    "#change columns names data -> Date ,variable -> Variable\n",
    "sl_df.rename(columns={'date': 'Date', 'variable': 'Variable', 'National': 'Total Sierra Leone'}, inplace=True)\n",
    "\n",
    "#change order index Date, Variable, Country first\n",
    "sl_df = sl_df.reindex_axis(['Date','Variable','Total Sierra Leone'] + list([a for a in sl_df.columns if a != 'Date' and a!= 'Variable' and a!= 'Total Sierra Leone']), axis=1)\n",
    "sl_df = sl_df.set_index(['Date','Variable'])\n",
    "sl_df = pd.concat([sl_df], axis=1, keys=['Sierra Leone'])"
   ]
  },
  {
   "cell_type": "code",
   "execution_count": null,
   "metadata": {
    "collapsed": true
   },
   "outputs": [],
   "source": [
    "#Guinea\n",
    "gn='guinea_data'\n",
    "files=os.listdir(os.path.join(EBOLA_FOLDER, gn))\n",
    "gn_df=pd.read_csv(os.path.join(EBOLA_FOLDER, gn,files[0]))           \n",
    "for file in files[1:-1]:   \n",
    "    gn_df = gn_df.append(pd.read_csv(os.path.join(EBOLA_FOLDER, gn, file)), ignore_index=True)\n",
    "\n",
    "# convert to datetime format\n",
    "gn_df['Date'] = pd.to_datetime(gn_df['Date'])\n",
    "\n",
    "#change columns names data -> Date ,variable -> Variable\n",
    "gn_df.rename(columns={'date': 'Date', 'Description': 'Variable', 'Totals':'Total Guinea'}, inplace=True)\n",
    "\n",
    "#change order index Date, Variable, Country first\n",
    "gn_df = gn_df.reindex_axis(['Date','Variable','Total Guinea'] + list([a for a in gn_df.columns if a != 'Date' and a!= 'Variable' and a!= 'Total Guinea']), axis=1)\n",
    "gn_df = gn_df.set_index(['Date','Variable'])\n",
    "gn_df = pd.concat([gn_df], axis=1, keys=['Guinea'])"
   ]
  },
  {
   "cell_type": "code",
   "execution_count": null,
   "metadata": {
    "collapsed": true
   },
   "outputs": [],
   "source": [
    "#Liberia\n",
    "lb='liberia_data'\n",
    "files=os.listdir(os.path.join(EBOLA_FOLDER, lb))\n",
    "lb_df=pd.read_csv(os.path.join(EBOLA_FOLDER, lb,files[0]))           \n",
    "for file in files[1:-1]:   \n",
    "    lb_df = lb_df.append(pd.read_csv(os.path.join(EBOLA_FOLDER, lb, file)), ignore_index=True)\n",
    "\n",
    "# convert to datetime format\n",
    "lb_df['Date'] = pd.to_datetime(lb_df['Date'])\n",
    "\n",
    "print(lb_df['Variable'])\n",
    "\n",
    "#change columns names data -> Date ,variable -> Variable\n",
    "lb_df.rename(columns={'date': 'Date', 'variable': 'Variable', 'National': 'Total Liberia'}, inplace=True)\n",
    "\n",
    "#change order index Date, Variable, Country first\n",
    "lb_df = lb_df.reindex_axis(['Date','Variable','Total Liberia'] + list([a for a in lb_df.columns if a != 'Date' and a!= 'Variable' and a!= 'Total Liberia']), axis=1)\n",
    "lb_df = lb_df.set_index(['Date','Variable'])\n",
    "lb_df = pd.concat([lb_df], axis=1, keys=['Liberia'])"
   ]
  },
  {
   "cell_type": "code",
   "execution_count": null,
   "metadata": {
    "collapsed": true,
    "scrolled": true
   },
   "outputs": [],
   "source": [
    "df = pd.concat([sl_df, gn_df, lb_df], axis=0)\n",
    "df.head(50)"
   ]
  },
  {
   "cell_type": "markdown",
   "metadata": {},
   "source": [
    "For now only the rows with the following names are used to calculation : new_confirmed, death_confirmed, New cases of confirmed, New deaths registered today (confirmed), New case/s (confirmed), Newly reported deaths. Since the names of the variables sometimes change overtime, this is not an accurate measure."
   ]
  },
  {
   "cell_type": "code",
   "execution_count": null,
   "metadata": {
    "collapsed": true
   },
   "outputs": [],
   "source": [
    "# isolate dataframe variables\n",
    "index = df.index.values\n",
    "variables = np.array([row[1] for row in index])\n",
    "\n",
    "# get index for specific variable occurence\n",
    "idx_new_confirmed = np.where(variables == 'new_confirmed')[0].tolist()\n",
    "\n",
    "# get values corresponding to selected index\n",
    "sl_total_new = df[('Sierra Leone','Total Sierra Leone')][idx_new_confirmed].fillna(0).astype(int)\n",
    "\n",
    "# calculate and print mean\n",
    "print('Daily average of new cases in Sierra Leone : ', sl_total_new.mean())\n",
    "\n",
    "idx_death_confirmed = np.where(variables == 'death_confirmed')[0].tolist()\n",
    "sl_total_death = df[('Sierra Leone','Total Sierra Leone')][idx_death_confirmed].fillna(0).astype(int)\n",
    "print('Daily average of deaths in Sierra Leone : ', sl_total_death.mean())\n",
    "\n",
    "idx_nco_confirmed = np.where(variables == 'New cases of confirmed')[0].tolist()\n",
    "gn_total_new = df[('Guinea','Total Guinea')][idx_nco_confirmed].fillna(0).astype(int)\n",
    "print('Daily average of new cases in Guinea : ', gn_total_new.mean())\n",
    "\n",
    "idx_nco_death = np.where(variables == 'New deaths registered today (confirmed)')[0].tolist()\n",
    "gn_total_death = df[('Guinea','Total Guinea')][idx_nco_death].fillna(0).astype(int)\n",
    "print('Daily average of deaths in Guinea : ', gn_total_death.mean())\n",
    "\n",
    "idx_nc_confirmed = np.where(variables == 'New case/s (confirmed)')[0].tolist()\n",
    "lb_total_new = df[('Liberia','Total Liberia')][idx_nc_confirmed].fillna(0).astype(int)\n",
    "print('Daily average of new cases in Liberia : ', lb_total_new.mean())\n",
    "\n",
    "idx_nrd_confirmed = np.where(variables == 'Newly reported deaths')[0].tolist()\n",
    "lb_total_death = df[('Liberia','Total Liberia')][idx_nrd_confirmed].fillna(0).astype(int)\n",
    "print('Daily average deaths in Liberia : ', lb_total_death.mean())"
   ]
  },
  {
   "cell_type": "code",
   "execution_count": null,
   "metadata": {
    "collapsed": true,
    "scrolled": false
   },
   "outputs": [],
   "source": [
    "lb_value_list = lb_df.Variable.values\n",
    "set(lb_value_list)"
   ]
  },
  {
   "cell_type": "code",
   "execution_count": null,
   "metadata": {
    "collapsed": true
   },
   "outputs": [],
   "source": [
    "sl_value_list = sl_df.Variable.values\n",
    "set(sl_value_list)"
   ]
  },
  {
   "cell_type": "code",
   "execution_count": null,
   "metadata": {
    "collapsed": true
   },
   "outputs": [],
   "source": [
    "gn_value_list = gn_df.Variable.values\n",
    "set(gn_value_list)"
   ]
  },
  {
   "cell_type": "markdown",
   "metadata": {},
   "source": [
    "## Task 2. RNA Sequences\n",
    "\n",
    "In the `DATA_FOLDER/microbiome` subdirectory, there are 9 spreadsheets of microbiome data that was acquired from high-throughput RNA sequencing procedures, along with a 10<sup>th</sup> file that describes the content of each. \n",
    "\n",
    "Use pandas to import the first 9 spreadsheets into a single `DataFrame`.\n",
    "Then, add the metadata information from the 10<sup>th</sup> spreadsheet as columns in the combined `DataFrame`.\n",
    "Make sure that the final `DataFrame` has a unique index and all the `NaN` values have been replaced by the tag `unknown`."
   ]
  },
  {
   "cell_type": "code",
   "execution_count": null,
   "metadata": {
    "collapsed": true
   },
   "outputs": [],
   "source": [
    "# Write your answer here\n",
    "\n",
    "MICRO_FOLDER=os.path.join(DATA_FOLDER, 'microbiome')\n",
    "files=os.listdir(MICRO_FOLDER)\n",
    "\n",
    "mb_df=pd.DataFrame()\n",
    "meta_df=pd.DataFrame()\n",
    "for file in files:\n",
    "    if file == 'metadata.xls':\n",
    "        meta_df = meta_df.append(pd.read_excel(os.path.join(MICRO_FOLDER, file),sheetname='Sheet1'), ignore_index=True)\n",
    "    else:\n",
    "        df=pd.read_excel(os.path.join(MICRO_FOLDER, file),sheetname='Sheet 1',header=None)\n",
    "        df.columns=['Specimen', '#sequencing']\n",
    "        df['BARCODE']=file.replace('.xls', '')\n",
    "        mb_df = mb_df.append(df, ignore_index=True)\n",
    "mb_df.head()"
   ]
  },
  {
   "cell_type": "code",
   "execution_count": null,
   "metadata": {
    "collapsed": true
   },
   "outputs": [],
   "source": [
    "meta_df.tail()"
   ]
  },
  {
   "cell_type": "code",
   "execution_count": null,
   "metadata": {
    "collapsed": true
   },
   "outputs": [],
   "source": [
    "final_df=pd.merge(mb_df, meta_df, how='outer')\n",
    "final_df.head()"
   ]
  },
  {
   "cell_type": "code",
   "execution_count": null,
   "metadata": {
    "collapsed": true
   },
   "outputs": [],
   "source": [
    "final_df.tail()"
   ]
  },
  {
   "cell_type": "code",
   "execution_count": null,
   "metadata": {
    "collapsed": true
   },
   "outputs": [],
   "source": [
    "final_df.index.is_unique"
   ]
  },
  {
   "cell_type": "code",
   "execution_count": null,
   "metadata": {
    "collapsed": true
   },
   "outputs": [],
   "source": [
    "final_df=final_df.fillna('unknown')"
   ]
  },
  {
   "cell_type": "markdown",
   "metadata": {},
   "source": [
    "## Task 3. Class War in Titanic\n",
    "\n",
    "Use pandas to import the data file `Data/titanic.xls`. It contains data on all the passengers that travelled on the Titanic."
   ]
  },
  {
   "cell_type": "code",
   "execution_count": null,
   "metadata": {
    "collapsed": true,
    "scrolled": true
   },
   "outputs": [],
   "source": [
    "from IPython.core.display import HTML\n",
    "HTML(filename=DATA_FOLDER+'/titanic.html')\n",
    "\n",
    "titanic= pd.read_excel(os.path.join(DATA_FOLDER,'titanic.xls'),sheetname='titanic')\n",
    "\n",
    "titanic"
   ]
  },
  {
   "cell_type": "markdown",
   "metadata": {},
   "source": [
    "For each of the following questions state clearly your assumptions and discuss your findings:\n",
    "1. Describe the *type* and the *value range* of each attribute. Indicate and transform the attributes that can be `Categorical`. \n",
    "2. Plot histograms for the *travel class*, *embarkation port*, *sex* and *age* attributes. For the latter one, use *discrete decade intervals*. \n",
    "3. Calculate the proportion of passengers by *cabin floor*. Present your results in a *pie chart*.\n",
    "4. For each *travel class*, calculate the proportion of the passengers that survived. Present your results in *pie charts*.\n",
    "5. Calculate the proportion of the passengers that survived by *travel class* and *sex*. Present your results in *a single histogram*.\n",
    "6. Create 2 equally populated *age categories* and calculate survival proportions by *age category*, *travel class* and *sex*. Present your results in a `DataFrame` with unique index."
   ]
  },
  {
   "cell_type": "markdown",
   "metadata": {},
   "source": [
    "1. Describe the *type* and the *value range* of each attribute. Indicate and transform the attributes that can be `Categorical`. "
   ]
  },
  {
   "cell_type": "code",
   "execution_count": null,
   "metadata": {
    "collapsed": true
   },
   "outputs": [],
   "source": [
    "# Write your answer here\n",
    "titanic.columns\n",
    "[titanic[col_name].unique() for col_name in titanic.columns]\n",
    "\n",
    "\n"
   ]
  },
  {
   "cell_type": "code",
   "execution_count": null,
   "metadata": {
    "collapsed": true
   },
   "outputs": [],
   "source": [
    "[titanic[col_name].dtype for col_name in titanic.columns]\n"
   ]
  },
  {
   "cell_type": "code",
   "execution_count": null,
   "metadata": {
    "collapsed": true
   },
   "outputs": [],
   "source": [
    "pd.Categorical(titanic['sex'])\n",
    "titanic['sex'] = titanic['sex'].astype('category')\n",
    "titanic['embarked'] = titanic['embarked'].astype('category')\n",
    "titanic['pclass'] = titanic['pclass'].astype('category')\n",
    "titanic['pclass'] = titanic['pclass'].cat.rename_categories(['First class','Second class','Third class'])\n",
    "titanic['survived'] = titanic['survived'].astype('category')\n",
    "titanic['survived'] = titanic['survived'].cat.rename_categories(['Died','Survived'])\n"
   ]
  },
  {
   "cell_type": "code",
   "execution_count": null,
   "metadata": {
    "collapsed": true
   },
   "outputs": [],
   "source": [
    "titanic['embarked'].value_counts().plot.pie(figsize=(4,4))"
   ]
  },
  {
   "cell_type": "code",
   "execution_count": null,
   "metadata": {
    "collapsed": true
   },
   "outputs": [],
   "source": [
    "titanic['sex'].value_counts().plot.pie(figsize=(4,4))"
   ]
  },
  {
   "cell_type": "code",
   "execution_count": null,
   "metadata": {
    "collapsed": true
   },
   "outputs": [],
   "source": [
    "titanic['pclass'].value_counts().plot.pie(figsize=(4,4))"
   ]
  },
  {
   "cell_type": "code",
   "execution_count": null,
   "metadata": {
    "collapsed": true
   },
   "outputs": [],
   "source": [
    "titanic['age'].hist(bins=10,range=(0,100),figsize=(4,4))"
   ]
  },
  {
   "cell_type": "code",
   "execution_count": null,
   "metadata": {
    "collapsed": true
   },
   "outputs": [],
   "source": [
    "titanic['floor'] = titanic['cabin'].str[0]\n",
    "titanic['floor'] = titanic['floor'].astype('category')\n",
    "titanic['floor'].value_counts().plot.pie(figsize=(4,4))"
   ]
  },
  {
   "cell_type": "code",
   "execution_count": null,
   "metadata": {
    "collapsed": true
   },
   "outputs": [],
   "source": [
    "[titanic.groupby(['survived','pclass']).size().unstack().plot.pie(subplots=True,figsize=(12,4))]        "
   ]
  },
  {
   "cell_type": "code",
   "execution_count": null,
   "metadata": {
    "collapsed": true
   },
   "outputs": [],
   "source": [
    "titanic.groupby(['pclass','sex','survived']).size().unstack().plot.bar()"
   ]
  },
  {
   "cell_type": "code",
   "execution_count": null,
   "metadata": {
    "collapsed": true
   },
   "outputs": [],
   "source": [
    "titanic['age_category'] = titanic['age']>titanic['age'].median()\n",
    "titanic['age_category'] = titanic['age_category'].astype('category')\n",
    "titanic['age_category'] = titanic['age_category'].cat.rename_categories(['Young','Old'])\n",
    "\n",
    "(titanic[titanic['survived'] == 'Survived'].groupby(['pclass','sex','age_category']).size().unstack())/titanic.groupby(['pclass','sex','age_category']).size().unstack()"
   ]
  }
 ],
 "metadata": {
  "kernelspec": {
   "display_name": "Python [default]",
   "language": "python",
   "name": "python3"
  },
  "language_info": {
   "codemirror_mode": {
    "name": "ipython",
    "version": 3
   },
   "file_extension": ".py",
   "mimetype": "text/x-python",
   "name": "python",
   "nbconvert_exporter": "python",
   "pygments_lexer": "ipython3",
   "version": "3.5.4"
  }
 },
 "nbformat": 4,
 "nbformat_minor": 2
}
