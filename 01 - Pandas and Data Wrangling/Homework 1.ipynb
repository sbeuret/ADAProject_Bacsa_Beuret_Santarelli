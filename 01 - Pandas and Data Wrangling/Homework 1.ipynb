{
 "cells": [
  {
   "cell_type": "markdown",
   "metadata": {},
   "source": [
    "# Table of Contents\n",
    " <p><div class=\"lev1\"><a href=\"#Task-1.-Compiling-Ebola-Data\"><span class=\"toc-item-num\">Task 1.&nbsp;&nbsp;</span>Compiling Ebola Data</a></div>\n",
    " <div class=\"lev1\"><a href=\"#Task-2.-RNA-Sequences\"><span class=\"toc-item-num\">Task 2.&nbsp;&nbsp;</span>RNA Sequences</a></div>\n",
    " <div class=\"lev1\"><a href=\"#Task-3.-Class-War-in-Titanic\"><span class=\"toc-item-num\">Task 3.&nbsp;&nbsp;</span>Class War in Titanic</a></div></p>"
   ]
  },
  {
   "cell_type": "markdown",
   "metadata": {},
   "source": [
    "## Task 1. Compiling Ebola Data\n",
    "\n",
    "The `DATA_FOLDER/ebola` folder contains summarized reports of Ebola cases from three countries (Guinea, Liberia and Sierra Leone) during the recent outbreak of the disease in West Africa. For each country, there are daily reports that contain various information about the outbreak in several cities in each country.\n",
    "\n",
    "Use pandas to import these data files into a single `Dataframe`.\n",
    "Using this `DataFrame`, calculate for *each country*, the *daily average* per year of *new cases* and *deaths*.\n",
    "Make sure you handle all the different expressions for *new cases* and *deaths* that are used in the reports."
   ]
  },
  {
   "cell_type": "code",
   "execution_count": null,
   "metadata": {
    "collapsed": true
   },
   "outputs": [],
   "source": [
    "import os\n",
    "import pandas as pd\n",
    "import numpy as np\n",
    "\n",
    "DATA_FOLDER = os.path.join(os.path.dirname(os.getcwd()),'Homework1','02 - Intro to Pandas','Data') # Use the data folder provided in Tutorial 02 - Intro to Pandas.\n",
    "EBOLA_FOLDER= os.path.join(DATA_FOLDER, 'ebola')\n",
    "\n",
    "countries=['sl_data', 'guinea_data','liberia_data']"
   ]
  },
  {
   "cell_type": "code",
   "execution_count": null,
   "metadata": {},
   "outputs": [],
   "source": [
    "#Sierra Leone\n",
    "sl='sl_data'\n",
    "files=os.listdir(os.path.join(EBOLA_FOLDER, sl))\n",
    "sl_df=pd.read_csv(os.path.join(EBOLA_FOLDER, sl,files[0]))        \n",
    "for file in files[1:-1]:   \n",
    "    sl_df = sl_df.append(pd.read_csv(os.path.join(EBOLA_FOLDER, sl, file)), ignore_index=True)\n",
    "\n",
    "#change columns names data -> Date ,variable -> Variable\n",
    "sl_df.rename(columns={'date': 'Date', 'variable': 'Variable', 'National': 'Total Sierra Leone'}, inplace=True)\n",
    "\n",
    "#change order index Date, Variable, Country first\n",
    "sl_df = sl_df.reindex_axis(['Date','Variable','Total Sierra Leone'] + list([a for a in sl_df.columns if a != 'Date' and a!= 'Variable' and a!= 'Total Sierra Leone']), axis=1)\n",
    "sl_df = sl_df.set_index(['Date','Variable'])\n",
    "sl_df = pd.concat([sl_df], axis=1, keys=['Sierra Leone'])"
   ]
  },
  {
   "cell_type": "code",
   "execution_count": null,
   "metadata": {},
   "outputs": [],
   "source": [
    "#Guinea\n",
    "gn='guinea_data'\n",
    "files=os.listdir(os.path.join(EBOLA_FOLDER, gn))\n",
    "gn_df=pd.read_csv(os.path.join(EBOLA_FOLDER, gn,files[0]))           \n",
    "for file in files[1:-1]:   \n",
    "    gn_df = gn_df.append(pd.read_csv(os.path.join(EBOLA_FOLDER, gn, file)), ignore_index=True)\n",
    "\n",
    "#change columns names data -> Date ,variable -> Variable\n",
    "gn_df.rename(columns={'date': 'Date', 'Description': 'Variable', 'Totals':'Total Guinea'}, inplace=True)\n",
    "\n",
    "#change order index Date, Variable, Country first\n",
    "gn_df = gn_df.reindex_axis(['Date','Variable','Total Guinea'] + list([a for a in gn_df.columns if a != 'Date' and a!= 'Variable' and a!= 'Total Guinea']), axis=1)\n",
    "gn_df = gn_df.set_index(['Date','Variable'])\n",
    "gn_df = pd.concat([gn_df], axis=1, keys=['Guinea'])"
   ]
  },
  {
   "cell_type": "code",
   "execution_count": null,
   "metadata": {},
   "outputs": [],
   "source": [
    "#Liberia\n",
    "lb='liberia_data'\n",
    "files=os.listdir(os.path.join(EBOLA_FOLDER, lb))\n",
    "lb_df=pd.read_csv(os.path.join(EBOLA_FOLDER, lb,files[0]))           \n",
    "for file in files[1:-1]:   \n",
    "    lb_df = lb_df.append(pd.read_csv(os.path.join(EBOLA_FOLDER, lb, file)), ignore_index=True)\n",
    "\n",
    "#change columns names data -> Date ,variable -> Variable\n",
    "lb_df.rename(columns={'date': 'Date', 'variable': 'Variable', 'National': 'Total Liberia'}, inplace=True)\n",
    "\n",
    "#change order index Date, Variable, Country first\n",
    "lb_df = lb_df.reindex_axis(['Date','Variable','Total Liberia'] + list([a for a in lb_df.columns if a != 'Date' and a!= 'Variable' and a!= 'Total Liberia']), axis=1)\n",
    "lb_df = lb_df.set_index(['Date','Variable'])\n",
    "lb_df = pd.concat([lb_df], axis=1, keys=['Liberia'])"
   ]
  },
  {
   "cell_type": "code",
   "execution_count": null,
   "metadata": {
    "scrolled": true
   },
   "outputs": [],
   "source": [
    "df = pd.concat([sl_df, gn_df, lb_df], axis=0)\n",
    "df.head(60)"
   ]
  },
  {
   "cell_type": "markdown",
   "metadata": {},
   "source": [
    "## Task 2. RNA Sequences\n",
    "\n",
    "In the `DATA_FOLDER/microbiome` subdirectory, there are 9 spreadsheets of microbiome data that was acquired from high-throughput RNA sequencing procedures, along with a 10<sup>th</sup> file that describes the content of each. \n",
    "\n",
    "Use pandas to import the first 9 spreadsheets into a single `DataFrame`.\n",
    "Then, add the metadata information from the 10<sup>th</sup> spreadsheet as columns in the combined `DataFrame`.\n",
    "Make sure that the final `DataFrame` has a unique index and all the `NaN` values have been replaced by the tag `unknown`."
   ]
  },
  {
   "cell_type": "code",
   "execution_count": null,
   "metadata": {
    "collapsed": true
   },
   "outputs": [],
   "source": [
    "# Write your answer here\n",
    "\n",
    "MICRO_FOLDER=os.path.join(DATA_FOLDER, 'microbiome')\n",
    "files=os.listdir(MICRO_FOLDER)\n",
    "\n",
    "mb_df=pd.DataFrame()\n",
    "meta_df=pd.DataFrame()\n",
    "for file in files:\n",
    "    if file == 'metadata.xls':\n",
    "        meta_df = meta_df.append(pd.read_excel(os.path.join(MICRO_FOLDER, file),sheetname='Sheet1'), ignore_index=True)\n",
    "    else:\n",
    "        df=pd.read_excel(os.path.join(MICRO_FOLDER, file),sheetname='Sheet 1',header=None)\n",
    "        df.columns=['Specimen', '#sequencing']\n",
    "        df['BARCODE']=file.replace('.xls', '')\n",
    "        mb_df = mb_df.append(df, ignore_index=True)\n",
    "mb_df.head()"
   ]
  },
  {
   "cell_type": "code",
   "execution_count": null,
   "metadata": {
    "collapsed": true
   },
   "outputs": [],
   "source": [
    "meta_df.tail()"
   ]
  },
  {
   "cell_type": "code",
   "execution_count": null,
   "metadata": {
    "collapsed": true
   },
   "outputs": [],
   "source": [
    "final_df=pd.merge(mb_df, meta_df, how='outer')\n",
    "final_df.head()"
   ]
  },
  {
   "cell_type": "code",
   "execution_count": null,
   "metadata": {
    "collapsed": true
   },
   "outputs": [],
   "source": [
    "final_df.tail()"
   ]
  },
  {
   "cell_type": "code",
   "execution_count": null,
   "metadata": {
    "collapsed": true
   },
   "outputs": [],
   "source": [
    "final_df.index.is_unique"
   ]
  },
  {
   "cell_type": "code",
   "execution_count": null,
   "metadata": {
    "collapsed": true
   },
   "outputs": [],
   "source": [
    "final_df=final_df.fillna('unknown')"
   ]
  },
  {
   "cell_type": "markdown",
   "metadata": {},
   "source": [
    "## Task 3. Class War in Titanic\n",
    "\n",
    "Use pandas to import the data file `Data/titanic.xls`. It contains data on all the passengers that travelled on the Titanic."
   ]
  },
  {
   "cell_type": "code",
   "execution_count": null,
   "metadata": {
    "collapsed": true
   },
   "outputs": [],
   "source": [
    "from IPython.core.display import HTML\n",
    "HTML(filename=DATA_FOLDER+'/titanic.html')\n",
    "\n",
    "titanic= pd.read_excel(os.path.join(DATA_FOLDER,'titanic.xls'),sheetname='titanic')\n",
    "\n",
    "titanic.head()"
   ]
  },
  {
   "cell_type": "markdown",
   "metadata": {},
   "source": [
    "For each of the following questions state clearly your assumptions and discuss your findings:\n",
    "1. Describe the *type* and the *value range* of each attribute. Indicate and transform the attributes that can be `Categorical`. \n",
    "2. Plot histograms for the *travel class*, *embarkation port*, *sex* and *age* attributes. For the latter one, use *discrete decade intervals*. \n",
    "3. Calculate the proportion of passengers by *cabin floor*. Present your results in a *pie chart*.\n",
    "4. For each *travel class*, calculate the proportion of the passengers that survived. Present your results in *pie charts*.\n",
    "5. Calculate the proportion of the passengers that survived by *travel class* and *sex*. Present your results in *a single histogram*.\n",
    "6. Create 2 equally populated *age categories* and calculate survival proportions by *age category*, *travel class* and *sex*. Present your results in a `DataFrame` with unique index."
   ]
  },
  {
   "cell_type": "markdown",
   "metadata": {},
   "source": [
    "1. Describe the *type* and the *value range* of each attribute. Indicate and transform the attributes that can be `Categorical`. "
   ]
  },
  {
   "cell_type": "code",
   "execution_count": null,
   "metadata": {
    "collapsed": true
   },
   "outputs": [],
   "source": [
    "# Write your answer here\n"
   ]
  }
 ],
 "metadata": {
  "kernelspec": {
   "display_name": "Python [conda root]",
   "language": "python",
   "name": "conda-root-py"
  },
  "language_info": {
   "codemirror_mode": {
    "name": "ipython",
    "version": 3
   },
   "file_extension": ".py",
   "mimetype": "text/x-python",
   "name": "python",
   "nbconvert_exporter": "python",
   "pygments_lexer": "ipython3",
   "version": "3.5.0"
  }
 },
 "nbformat": 4,
 "nbformat_minor": 2
}
